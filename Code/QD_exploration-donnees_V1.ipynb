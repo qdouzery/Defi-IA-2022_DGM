{
 "cells": [
  {
   "cell_type": "markdown",
   "metadata": {},
   "source": [
    "# Defi-IA 2022 <a href=\"https://www.kaggle.com/c/defi-ia-2022/overview\"><img src=\"https://upload.wikimedia.org/wikipedia/commons/7/7c/Kaggle_logo.png\" style=\"max-width: 70px; display: inline\" alt=\"Python\"/></a>\n",
    "-------------------------------------------------------------\n",
    "\n",
    "**Predict the accumulated daily rainfall on ground stations**  \n",
    "*Quentin Douzery, Alexia Ghozland, Dario Moed*"
   ]
  },
  {
   "cell_type": "markdown",
   "metadata": {},
   "source": [
    "## <font color = 'royalblue'>1 Imports</font>"
   ]
  },
  {
   "cell_type": "code",
   "execution_count": 1,
   "metadata": {
    "execution": {
     "iopub.execute_input": "2021-09-28T10:01:28.778855Z",
     "iopub.status.busy": "2021-09-28T10:01:28.777024Z",
     "iopub.status.idle": "2021-09-28T10:01:28.789729Z",
     "shell.execute_reply": "2021-09-28T10:01:28.788952Z"
    },
    "papermill": {
     "duration": 0.029116,
     "end_time": "2021-09-28T10:01:28.789893",
     "exception": false,
     "start_time": "2021-09-28T10:01:28.760777",
     "status": "completed"
    },
    "tags": []
   },
   "outputs": [],
   "source": [
    "##Packages\n",
    "import pandas as pd\n",
    "import numpy as np\n",
    "import matplotlib.pyplot as plt"
   ]
  },
  {
   "cell_type": "code",
   "execution_count": 2,
   "metadata": {},
   "outputs": [],
   "source": [
    "##Données\n",
    "coords_path = '/Users/qdouzery/Desktop/INSAT_Defi-IA-2022/Data/Other/stations_coordinates.csv' #Perso\n",
    "#coords_path = '/home/douzery/Bureau/Defi-IA-2022_Data/Other/stations_coordinates.csv' #INSA\n",
    "#coords_fname  = '/kaggle/input/defi-ia-2022-test/Other/Other/stations_coordinates.csv'\n",
    "\n",
    "xtrainS_path = '/Users/qdouzery/Desktop/INSAT_Defi-IA-2022/Data/Train/X_station_train.csv' #Perso\n",
    "#xtrainS_path = '/home/douzery/Bureau/Defi-IA-2022_Data/Train/X_station_train.csv' #INSA\n",
    "#fname = '/kaggle/input/defi-ia-2022-test/Train/Train/X_station_train.csv'\n",
    "\n",
    "ytrain_path = '/Users/qdouzery/Desktop/INSAT_Defi-IA-2022/Data/Train/Y_train.csv' #Perso\n",
    "#ytrain_path = '/home/douzery/Bureau/Defi-IA-2022_Data/Train/Y_train.csv' #INSA\n",
    "#fname = '/kaggle/input/defi-ia-2022-test/Train/Train/Y_train.csv'"
   ]
  },
  {
   "cell_type": "markdown",
   "metadata": {},
   "source": [
    "## <font color = 'royalblue'>2 Présentation</font>"
   ]
  },
  {
   "cell_type": "markdown",
   "metadata": {},
   "source": [
    "### Metadata parameters\n",
    "\n",
    "* **number_sta** : ground station number\n",
    "\n",
    "The date parameter is a datetime object with the format 'YYYY-MM-DD HH:mm:ss'.\n",
    "\n",
    "### Meteorological parameters\n",
    "\n",
    "* **dd** : wind direction in degrees\n",
    "\n",
    "* **ff** : wind speed in m.s<sup>-1</sup>\n",
    "\n",
    "* **precip** : precipitation during the reporting period in kg.m<sup>2</sup>\n",
    "\n",
    "* **hu** : humidity in %\n",
    "\n",
    "* **td** : dew point temperature** in Kelvin\n",
    "\n",
    "* **t** : temperature in Kelvin\n",
    "\n",
    "** : temperature for which it is needed to refresh an air volume at constant pressure and humidity to become it saturated (i.e. condensation temperature)"
   ]
  },
  {
   "cell_type": "markdown",
   "metadata": {},
   "source": [
    "## <font color = 'royalblue'>3 Récupération des données</font>"
   ]
  },
  {
   "cell_type": "code",
   "execution_count": 3,
   "metadata": {
    "execution": {
     "iopub.execute_input": "2021-09-28T10:01:28.818213Z",
     "iopub.status.busy": "2021-09-28T10:01:28.817521Z",
     "iopub.status.idle": "2021-09-28T10:01:28.856562Z",
     "shell.execute_reply": "2021-09-28T10:01:28.857058Z"
    },
    "papermill": {
     "duration": 0.055014,
     "end_time": "2021-09-28T10:01:28.857253",
     "exception": false,
     "start_time": "2021-09-28T10:01:28.802239",
     "status": "completed"
    },
    "tags": []
   },
   "outputs": [
    {
     "data": {
      "text/html": [
       "<div>\n",
       "<style scoped>\n",
       "    .dataframe tbody tr th:only-of-type {\n",
       "        vertical-align: middle;\n",
       "    }\n",
       "\n",
       "    .dataframe tbody tr th {\n",
       "        vertical-align: top;\n",
       "    }\n",
       "\n",
       "    .dataframe thead th {\n",
       "        text-align: right;\n",
       "    }\n",
       "</style>\n",
       "<table border=\"1\" class=\"dataframe\">\n",
       "  <thead>\n",
       "    <tr style=\"text-align: right;\">\n",
       "      <th></th>\n",
       "      <th>number_sta</th>\n",
       "      <th>lat</th>\n",
       "      <th>lon</th>\n",
       "      <th>height_sta</th>\n",
       "    </tr>\n",
       "  </thead>\n",
       "  <tbody>\n",
       "    <tr>\n",
       "      <th>0</th>\n",
       "      <td>86118001</td>\n",
       "      <td>46.477</td>\n",
       "      <td>0.985</td>\n",
       "      <td>120.0</td>\n",
       "    </tr>\n",
       "    <tr>\n",
       "      <th>1</th>\n",
       "      <td>86149001</td>\n",
       "      <td>46.917</td>\n",
       "      <td>0.025</td>\n",
       "      <td>60.0</td>\n",
       "    </tr>\n",
       "    <tr>\n",
       "      <th>2</th>\n",
       "      <td>56081003</td>\n",
       "      <td>48.050</td>\n",
       "      <td>-3.660</td>\n",
       "      <td>165.0</td>\n",
       "    </tr>\n",
       "    <tr>\n",
       "      <th>3</th>\n",
       "      <td>53215001</td>\n",
       "      <td>47.790</td>\n",
       "      <td>-0.710</td>\n",
       "      <td>63.0</td>\n",
       "    </tr>\n",
       "    <tr>\n",
       "      <th>4</th>\n",
       "      <td>22135001</td>\n",
       "      <td>48.550</td>\n",
       "      <td>-3.380</td>\n",
       "      <td>148.0</td>\n",
       "    </tr>\n",
       "  </tbody>\n",
       "</table>\n",
       "</div>"
      ],
      "text/plain": [
       "  number_sta     lat    lon  height_sta\n",
       "0   86118001  46.477  0.985       120.0\n",
       "1   86149001  46.917  0.025        60.0\n",
       "2   56081003  48.050 -3.660       165.0\n",
       "3   53215001  47.790 -0.710        63.0\n",
       "4   22135001  48.550 -3.380       148.0"
      ]
     },
     "metadata": {},
     "output_type": "display_data"
    },
    {
     "name": "stdout",
     "output_type": "stream",
     "text": [
      "Missing Data : 0 \n",
      " Shape is : (325, 4)\n"
     ]
    }
   ],
   "source": [
    "##Open the file with station coordinates (latitude/longitude)\n",
    "coords = pd.read_csv(coords_path)\n",
    "coords['number_sta'] = coords['number_sta'].astype('category')  \n",
    "display(coords.head())\n",
    "print('Missing Data :', coords.isna().sum().sum(), '\\n', 'Shape is :', coords.shape)"
   ]
  },
  {
   "cell_type": "code",
   "execution_count": 4,
   "metadata": {},
   "outputs": [
    {
     "data": {
      "text/html": [
       "<div>\n",
       "<style scoped>\n",
       "    .dataframe tbody tr th:only-of-type {\n",
       "        vertical-align: middle;\n",
       "    }\n",
       "\n",
       "    .dataframe tbody tr th {\n",
       "        vertical-align: top;\n",
       "    }\n",
       "\n",
       "    .dataframe thead th {\n",
       "        text-align: right;\n",
       "    }\n",
       "</style>\n",
       "<table border=\"1\" class=\"dataframe\">\n",
       "  <thead>\n",
       "    <tr style=\"text-align: right;\">\n",
       "      <th></th>\n",
       "      <th>number_sta</th>\n",
       "      <th>date</th>\n",
       "      <th>ff</th>\n",
       "      <th>t</th>\n",
       "      <th>td</th>\n",
       "      <th>hu</th>\n",
       "      <th>dd</th>\n",
       "      <th>precip</th>\n",
       "      <th>Id</th>\n",
       "    </tr>\n",
       "  </thead>\n",
       "  <tbody>\n",
       "    <tr>\n",
       "      <th>0</th>\n",
       "      <td>14066001</td>\n",
       "      <td>2016-01-01 00:00:00</td>\n",
       "      <td>3.05</td>\n",
       "      <td>279.28</td>\n",
       "      <td>277.97</td>\n",
       "      <td>91.4</td>\n",
       "      <td>200.0</td>\n",
       "      <td>0.0</td>\n",
       "      <td>14066001_0_0</td>\n",
       "    </tr>\n",
       "    <tr>\n",
       "      <th>1</th>\n",
       "      <td>14066001</td>\n",
       "      <td>2016-01-01 01:00:00</td>\n",
       "      <td>2.57</td>\n",
       "      <td>278.76</td>\n",
       "      <td>277.45</td>\n",
       "      <td>91.4</td>\n",
       "      <td>190.0</td>\n",
       "      <td>0.0</td>\n",
       "      <td>14066001_0_1</td>\n",
       "    </tr>\n",
       "    <tr>\n",
       "      <th>2</th>\n",
       "      <td>14066001</td>\n",
       "      <td>2016-01-01 02:00:00</td>\n",
       "      <td>2.26</td>\n",
       "      <td>278.27</td>\n",
       "      <td>277.02</td>\n",
       "      <td>91.7</td>\n",
       "      <td>181.0</td>\n",
       "      <td>0.0</td>\n",
       "      <td>14066001_0_2</td>\n",
       "    </tr>\n",
       "    <tr>\n",
       "      <th>3</th>\n",
       "      <td>14066001</td>\n",
       "      <td>2016-01-01 03:00:00</td>\n",
       "      <td>2.62</td>\n",
       "      <td>277.98</td>\n",
       "      <td>276.95</td>\n",
       "      <td>93.0</td>\n",
       "      <td>159.0</td>\n",
       "      <td>0.0</td>\n",
       "      <td>14066001_0_3</td>\n",
       "    </tr>\n",
       "    <tr>\n",
       "      <th>4</th>\n",
       "      <td>14066001</td>\n",
       "      <td>2016-01-01 04:00:00</td>\n",
       "      <td>2.99</td>\n",
       "      <td>277.32</td>\n",
       "      <td>276.72</td>\n",
       "      <td>95.9</td>\n",
       "      <td>171.0</td>\n",
       "      <td>0.0</td>\n",
       "      <td>14066001_0_4</td>\n",
       "    </tr>\n",
       "  </tbody>\n",
       "</table>\n",
       "</div>"
      ],
      "text/plain": [
       "  number_sta                date    ff       t      td    hu     dd  precip  \\\n",
       "0   14066001 2016-01-01 00:00:00  3.05  279.28  277.97  91.4  200.0     0.0   \n",
       "1   14066001 2016-01-01 01:00:00  2.57  278.76  277.45  91.4  190.0     0.0   \n",
       "2   14066001 2016-01-01 02:00:00  2.26  278.27  277.02  91.7  181.0     0.0   \n",
       "3   14066001 2016-01-01 03:00:00  2.62  277.98  276.95  93.0  159.0     0.0   \n",
       "4   14066001 2016-01-01 04:00:00  2.99  277.32  276.72  95.9  171.0     0.0   \n",
       "\n",
       "             Id  \n",
       "0  14066001_0_0  \n",
       "1  14066001_0_1  \n",
       "2  14066001_0_2  \n",
       "3  14066001_0_3  \n",
       "4  14066001_0_4  "
      ]
     },
     "metadata": {},
     "output_type": "display_data"
    },
    {
     "name": "stdout",
     "output_type": "stream",
     "text": [
      "Missing Data : 6899007 \n",
      " Shape is : (4409474, 9)\n"
     ]
    }
   ],
   "source": [
    "##Open the file with station meteorological parameters\n",
    "xtrainS = pd.read_csv(xtrainS_path,parse_dates=['date'],infer_datetime_format=True)\n",
    "xtrainS['number_sta'] = xtrainS['number_sta'].astype('category')  \n",
    "display(xtrainS.head())\n",
    "print('Missing Data :', xtrainS.isna().sum().sum(), '\\n', 'Shape is :', xtrainS.shape)"
   ]
  },
  {
   "cell_type": "code",
   "execution_count": 5,
   "metadata": {},
   "outputs": [
    {
     "data": {
      "text/html": [
       "<div>\n",
       "<style scoped>\n",
       "    .dataframe tbody tr th:only-of-type {\n",
       "        vertical-align: middle;\n",
       "    }\n",
       "\n",
       "    .dataframe tbody tr th {\n",
       "        vertical-align: top;\n",
       "    }\n",
       "\n",
       "    .dataframe thead th {\n",
       "        text-align: right;\n",
       "    }\n",
       "</style>\n",
       "<table border=\"1\" class=\"dataframe\">\n",
       "  <thead>\n",
       "    <tr style=\"text-align: right;\">\n",
       "      <th></th>\n",
       "      <th>date</th>\n",
       "      <th>number_sta</th>\n",
       "      <th>Ground_truth</th>\n",
       "      <th>Id</th>\n",
       "    </tr>\n",
       "  </thead>\n",
       "  <tbody>\n",
       "    <tr>\n",
       "      <th>0</th>\n",
       "      <td>2016-01-02</td>\n",
       "      <td>14066001</td>\n",
       "      <td>3.4</td>\n",
       "      <td>14066001_0</td>\n",
       "    </tr>\n",
       "    <tr>\n",
       "      <th>1</th>\n",
       "      <td>2016-01-02</td>\n",
       "      <td>14126001</td>\n",
       "      <td>0.5</td>\n",
       "      <td>14126001_0</td>\n",
       "    </tr>\n",
       "    <tr>\n",
       "      <th>2</th>\n",
       "      <td>2016-01-02</td>\n",
       "      <td>14137001</td>\n",
       "      <td>3.4</td>\n",
       "      <td>14137001_0</td>\n",
       "    </tr>\n",
       "    <tr>\n",
       "      <th>3</th>\n",
       "      <td>2016-01-02</td>\n",
       "      <td>14216001</td>\n",
       "      <td>4.0</td>\n",
       "      <td>14216001_0</td>\n",
       "    </tr>\n",
       "    <tr>\n",
       "      <th>4</th>\n",
       "      <td>2016-01-02</td>\n",
       "      <td>14296001</td>\n",
       "      <td>13.3</td>\n",
       "      <td>14296001_0</td>\n",
       "    </tr>\n",
       "  </tbody>\n",
       "</table>\n",
       "</div>"
      ],
      "text/plain": [
       "        date number_sta  Ground_truth          Id\n",
       "0 2016-01-02   14066001           3.4  14066001_0\n",
       "1 2016-01-02   14126001           0.5  14126001_0\n",
       "2 2016-01-02   14137001           3.4  14137001_0\n",
       "3 2016-01-02   14216001           4.0  14216001_0\n",
       "4 2016-01-02   14296001          13.3  14296001_0"
      ]
     },
     "metadata": {},
     "output_type": "display_data"
    },
    {
     "name": "stdout",
     "output_type": "stream",
     "text": [
      "Missing Data : 21640 \n",
      " Shape is : (183747, 4)\n"
     ]
    }
   ],
   "source": [
    "#Open the file with station ground thruth\n",
    "param = 'Ground_truth'  #weather parameter name in the file ('Ground_truth' about Y and 'Prediction' about baseline)\n",
    "ytrain = pd.read_csv(ytrain_path, parse_dates=['date'], infer_datetime_format=True)\n",
    "ytrain['number_sta'] = ytrain['number_sta'].astype('category')\n",
    "display(ytrain.head())\n",
    "print('Missing Data :', ytrain.isna().sum().sum(), '\\n', 'Shape is :', ytrain.shape)"
   ]
  },
  {
   "cell_type": "markdown",
   "metadata": {},
   "source": [
    "## <font color = 'royalblue'>4 Préparation des données</font>"
   ]
  },
  {
   "cell_type": "code",
   "execution_count": 26,
   "metadata": {},
   "outputs": [
    {
     "name": "stdout",
     "output_type": "stream",
     "text": [
      "Missing Data :  0   Shape is :  (2264105, 9)\n"
     ]
    }
   ],
   "source": [
    "xtrainS2 = xtrainS.copy()\n",
    "xtrainS2.dropna(inplace=True)\n",
    "print('Missing Data : ',xtrainS2.isna().sum().sum(), '  Shape is : ', xtrainS2.shape)"
   ]
  },
  {
   "cell_type": "code",
   "execution_count": 27,
   "metadata": {},
   "outputs": [
    {
     "name": "stdout",
     "output_type": "stream",
     "text": [
      "Missing Data :  0   Shape is :  (162107, 4)\n"
     ]
    }
   ],
   "source": [
    "ytrain2 = ytrain.copy()\n",
    "ytrain2.dropna(inplace=True)\n",
    "print('Missing Data : ',ytrain2.isna().sum().sum(), '  Shape is : ', ytrain2.shape)"
   ]
  },
  {
   "cell_type": "markdown",
   "metadata": {
    "papermill": {
     "duration": 0.019948,
     "end_time": "2021-09-28T10:01:46.203880",
     "exception": false,
     "start_time": "2021-09-28T10:01:46.183932",
     "status": "completed"
    },
    "tags": []
   },
   "source": [
    "## <font color = 'royalblue'>5 Exploration statistique</font>"
   ]
  },
  {
   "cell_type": "markdown",
   "metadata": {},
   "source": [
    "## 5.1 Histogrammes"
   ]
  },
  {
   "cell_type": "code",
   "execution_count": 28,
   "metadata": {},
   "outputs": [],
   "source": [
    "Variables = {\"ff\":\"Wind speed (m/s)\", \"dd\":\"Wind direction (°)\",\n",
    "             \"precip\":\"Precipitation during the reporting period (km.m^2)\", \"hu\":\"Humidity (%)\",\n",
    "             \"td\":\"Dew point temperature (K)\", \"t\":\"Temperature (K)\"}\n",
    "\n",
    "Aux_Var = {0:\"ff\", 1:\"dd\", 2:\"precip\", 3:\"hu\", 4:\"td\", 5:\"t\"}\n",
    "\n",
    "Describe_Var = {}"
   ]
  },
  {
   "cell_type": "markdown",
   "metadata": {},
   "source": [
    "**Données brutes**"
   ]
  },
  {
   "cell_type": "code",
   "execution_count": 29,
   "metadata": {},
   "outputs": [
    {
     "data": {
      "image/png": "[encoded data removed]",
      "text/plain": [
       "<Figure size 864x864 with 6 Axes>"
      ]
     },
     "metadata": {
      "needs_background": "light"
     },
     "output_type": "display_data"
    }
   ],
   "source": [
    "fig, axs = plt.subplots(3,2)\n",
    "fig.set_figheight(12)\n",
    "fig.set_figwidth(12)\n",
    "\n",
    "c = 0\n",
    "for i in range(3):\n",
    "    for j in range(2):\n",
    "        axs[i,j].hist(xtrainS[Aux_Var[c]], bins=100, density=True, color='lightblue')\n",
    "        axs[i,j].set(xlabel=Variables[Aux_Var[c]], ylabel='Density')\n",
    "        c+=1"
   ]
  },
  {
   "cell_type": "markdown",
   "metadata": {},
   "source": [
    "**Données nettoyées**"
   ]
  },
  {
   "cell_type": "code",
   "execution_count": 30,
   "metadata": {},
   "outputs": [
    {
     "data": {
      "image/png": "[encoded data removed]",
      "text/plain": [
       "<Figure size 864x864 with 6 Axes>"
      ]
     },
     "metadata": {
      "needs_background": "light"
     },
     "output_type": "display_data"
    }
   ],
   "source": [
    "fig, axs = plt.subplots(3,2)\n",
    "fig.set_figheight(12)\n",
    "fig.set_figwidth(12)\n",
    "\n",
    "c = 0\n",
    "for i in range(3):\n",
    "    for j in range(2):\n",
    "        axs[i,j].hist(xtrainS2[Aux_Var[c]], bins=100, density=True, color='lightcoral')\n",
    "        axs[i,j].set(xlabel=Variables[Aux_Var[c]], ylabel='Density')\n",
    "        c+=1"
   ]
  },
  {
   "cell_type": "code",
   "execution_count": 31,
   "metadata": {},
   "outputs": [
    {
     "data": {
      "image/png": "[encoded data removed]",
      "text/plain": [
       "<Figure size 432x288 with 1 Axes>"
      ]
     },
     "metadata": {
      "needs_background": "light"
     },
     "output_type": "display_data"
    }
   ],
   "source": [
    "plt.hist(ytrain[param], bins=100, density=True, color='lightcoral')\n",
    "plt.xlabel(\"Ground truth (mm)\")\n",
    "plt.ylabel(\"Densité\")\n",
    "plt.show()"
   ]
  },
  {
   "cell_type": "markdown",
   "metadata": {},
   "source": [
    "## 5.2 Boxplots"
   ]
  },
  {
   "cell_type": "markdown",
   "metadata": {},
   "source": [
    "**Données nettoyées**"
   ]
  },
  {
   "cell_type": "code",
   "execution_count": 32,
   "metadata": {},
   "outputs": [
    {
     "data": {
      "image/png": "[encoded data removed]",
      "text/plain": [
       "<Figure size 864x864 with 6 Axes>"
      ]
     },
     "metadata": {
      "needs_background": "light"
     },
     "output_type": "display_data"
    }
   ],
   "source": [
    "fig, axs = plt.subplots(3,2)\n",
    "fig.set_figheight(12)\n",
    "fig.set_figwidth(12)\n",
    "\n",
    "c = 0\n",
    "for i in range(3):\n",
    "    for j in range(2):\n",
    "        axs[i,j].boxplot(xtrainS2[Aux_Var[c]], vert=False)\n",
    "        axs[i,j].set(xlabel=Variables[Aux_Var[c]])\n",
    "        c+=1"
   ]
  },
  {
   "cell_type": "code",
   "execution_count": 33,
   "metadata": {},
   "outputs": [
    {
     "data": {
      "image/png": "[encoded data removed]",
      "text/plain": [
       "<Figure size 432x288 with 1 Axes>"
      ]
     },
     "metadata": {
      "needs_background": "light"
     },
     "output_type": "display_data"
    }
   ],
   "source": [
    "plt.boxplot(ytrain2[param], vert=False)\n",
    "plt.xlabel(\"Ground truth (mm)\")\n",
    "plt.show()"
   ]
  },
  {
   "cell_type": "markdown",
   "metadata": {},
   "source": [
    "## 5.3 Données chiffrées"
   ]
  },
  {
   "cell_type": "code",
   "execution_count": 34,
   "metadata": {},
   "outputs": [
    {
     "data": {
      "text/html": [
       "<div>\n",
       "<style scoped>\n",
       "    .dataframe tbody tr th:only-of-type {\n",
       "        vertical-align: middle;\n",
       "    }\n",
       "\n",
       "    .dataframe tbody tr th {\n",
       "        vertical-align: top;\n",
       "    }\n",
       "\n",
       "    .dataframe thead th {\n",
       "        text-align: right;\n",
       "    }\n",
       "</style>\n",
       "<table border=\"1\" class=\"dataframe\">\n",
       "  <thead>\n",
       "    <tr style=\"text-align: right;\">\n",
       "      <th></th>\n",
       "      <th>ff</th>\n",
       "      <th>dd</th>\n",
       "      <th>precip</th>\n",
       "      <th>hu</th>\n",
       "      <th>td</th>\n",
       "      <th>t</th>\n",
       "    </tr>\n",
       "  </thead>\n",
       "  <tbody>\n",
       "    <tr>\n",
       "      <th>count</th>\n",
       "      <td>2.264105e+06</td>\n",
       "      <td>2.264105e+06</td>\n",
       "      <td>2.264105e+06</td>\n",
       "      <td>2.264105e+06</td>\n",
       "      <td>2.264105e+06</td>\n",
       "      <td>2.264105e+06</td>\n",
       "    </tr>\n",
       "    <tr>\n",
       "      <th>mean</th>\n",
       "      <td>3.562683e+00</td>\n",
       "      <td>1.909744e+02</td>\n",
       "      <td>8.196117e-02</td>\n",
       "      <td>8.085707e+01</td>\n",
       "      <td>2.813762e+02</td>\n",
       "      <td>2.849216e+02</td>\n",
       "    </tr>\n",
       "    <tr>\n",
       "      <th>std</th>\n",
       "      <td>2.378883e+00</td>\n",
       "      <td>9.456719e+01</td>\n",
       "      <td>4.505564e-01</td>\n",
       "      <td>1.509475e+01</td>\n",
       "      <td>5.243936e+00</td>\n",
       "      <td>6.399077e+00</td>\n",
       "    </tr>\n",
       "    <tr>\n",
       "      <th>min</th>\n",
       "      <td>0.000000e+00</td>\n",
       "      <td>0.000000e+00</td>\n",
       "      <td>0.000000e+00</td>\n",
       "      <td>1.000000e+00</td>\n",
       "      <td>2.223500e+02</td>\n",
       "      <td>2.621300e+02</td>\n",
       "    </tr>\n",
       "    <tr>\n",
       "      <th>25%</th>\n",
       "      <td>1.890000e+00</td>\n",
       "      <td>1.090000e+02</td>\n",
       "      <td>0.000000e+00</td>\n",
       "      <td>7.180000e+01</td>\n",
       "      <td>2.776200e+02</td>\n",
       "      <td>2.805600e+02</td>\n",
       "    </tr>\n",
       "    <tr>\n",
       "      <th>50%</th>\n",
       "      <td>3.120000e+00</td>\n",
       "      <td>2.100000e+02</td>\n",
       "      <td>0.000000e+00</td>\n",
       "      <td>8.460000e+01</td>\n",
       "      <td>2.816900e+02</td>\n",
       "      <td>2.845500e+02</td>\n",
       "    </tr>\n",
       "    <tr>\n",
       "      <th>75%</th>\n",
       "      <td>4.730000e+00</td>\n",
       "      <td>2.640000e+02</td>\n",
       "      <td>0.000000e+00</td>\n",
       "      <td>9.310000e+01</td>\n",
       "      <td>2.854800e+02</td>\n",
       "      <td>2.891700e+02</td>\n",
       "    </tr>\n",
       "    <tr>\n",
       "      <th>max</th>\n",
       "      <td>3.222000e+01</td>\n",
       "      <td>3.600000e+02</td>\n",
       "      <td>4.800000e+01</td>\n",
       "      <td>1.000000e+02</td>\n",
       "      <td>3.246700e+02</td>\n",
       "      <td>3.250700e+02</td>\n",
       "    </tr>\n",
       "  </tbody>\n",
       "</table>\n",
       "</div>"
      ],
      "text/plain": [
       "                 ff            dd        precip            hu            td  \\\n",
       "count  2.264105e+06  2.264105e+06  2.264105e+06  2.264105e+06  2.264105e+06   \n",
       "mean   3.562683e+00  1.909744e+02  8.196117e-02  8.085707e+01  2.813762e+02   \n",
       "std    2.378883e+00  9.456719e+01  4.505564e-01  1.509475e+01  5.243936e+00   \n",
       "min    0.000000e+00  0.000000e+00  0.000000e+00  1.000000e+00  2.223500e+02   \n",
       "25%    1.890000e+00  1.090000e+02  0.000000e+00  7.180000e+01  2.776200e+02   \n",
       "50%    3.120000e+00  2.100000e+02  0.000000e+00  8.460000e+01  2.816900e+02   \n",
       "75%    4.730000e+00  2.640000e+02  0.000000e+00  9.310000e+01  2.854800e+02   \n",
       "max    3.222000e+01  3.600000e+02  4.800000e+01  1.000000e+02  3.246700e+02   \n",
       "\n",
       "                  t  \n",
       "count  2.264105e+06  \n",
       "mean   2.849216e+02  \n",
       "std    6.399077e+00  \n",
       "min    2.621300e+02  \n",
       "25%    2.805600e+02  \n",
       "50%    2.845500e+02  \n",
       "75%    2.891700e+02  \n",
       "max    3.250700e+02  "
      ]
     },
     "execution_count": 34,
     "metadata": {},
     "output_type": "execute_result"
    }
   ],
   "source": [
    "for key in Variables:\n",
    "    Describe_Var[key] = xtrainS2[key].describe()\n",
    "Describe_xtrainS2 = pd.DataFrame(Describe_Var)\n",
    "Describe_xtrainS2"
   ]
  },
  {
   "cell_type": "code",
   "execution_count": 35,
   "metadata": {},
   "outputs": [
    {
     "data": {
      "text/plain": [
       "count    162107.000000\n",
       "mean          1.948453\n",
       "std           4.190966\n",
       "min           0.000000\n",
       "25%           0.000000\n",
       "50%           0.200000\n",
       "75%           1.800000\n",
       "max          93.500000\n",
       "Name: Ground_truth, dtype: float64"
      ]
     },
     "execution_count": 35,
     "metadata": {},
     "output_type": "execute_result"
    }
   ],
   "source": [
    "ytrain2[param].describe()"
   ]
  },
  {
   "cell_type": "code",
   "execution_count": 39,
   "metadata": {},
   "outputs": [
    {
     "name": "stdout",
     "output_type": "stream",
     "text": [
      "Le quantile d'ordre 1% de la variable Wind speed (m/s) est égal à : 0.05\n",
      "Le quantile d'ordre 1% de la variable Wind direction (°) est égal à : 3.0\n",
      "Le quantile d'ordre 1% de la variable Precipitation during last 24hrs (km.m^2) est égal à : 0.0\n",
      "Le quantile d'ordre 1% de la variable Humidity (%) est égal à : 38.1\n",
      "Le quantile d'ordre 1% de la variable Dew point temperature (K) est égal à : 268.62\n",
      "Le quantile d'ordre 1% de la variable Temperature (K) est égal à : 271.11\n",
      "\n",
      "\n",
      "Le quantile d'ordre 99% de la variable Wind speed (m/s) est égal à : 11.44\n",
      "Le quantile d'ordre 99% de la variable Wind direction (°) est égal à : 350.0\n",
      "Le quantile d'ordre 99% de la variable Precipitation during last 24hrs (km.m^2) est égal à : 1.9\n",
      "Le quantile d'ordre 99% de la variable Humidity (%) est égal à : 100.0\n",
      "Le quantile d'ordre 99% de la variable Dew point temperature (K) est égal à : 291.05\n",
      "Le quantile d'ordre 99% de la variable Temperature (K) est égal à : 301.61\n"
     ]
    }
   ],
   "source": [
    "for key in Variables:\n",
    "    print(\"Le quantile d'ordre 1% de la variable\", Variables[key], \"est égal à :\", np.percentile(xtrainS2[key],1))\n",
    "print(\"\\n\")\n",
    "for key in Variables:\n",
    "    print(\"Le quantile d'ordre 99% de la variable\", Variables[key], \"est égal à :\", np.percentile(xtrainS2[key],99))"
   ]
  },
  {
   "cell_type": "markdown",
   "metadata": {},
   "source": [
    "## <font color = 'royalblue'>6 Analyse multidimensionnelle</font>"
   ]
  },
  {
   "cell_type": "markdown",
   "metadata": {},
   "source": [
    "## 6.1 Corrélations"
   ]
  },
  {
   "cell_type": "code",
   "execution_count": 40,
   "metadata": {},
   "outputs": [
    {
     "data": {
      "text/html": [
       "<div>\n",
       "<style scoped>\n",
       "    .dataframe tbody tr th:only-of-type {\n",
       "        vertical-align: middle;\n",
       "    }\n",
       "\n",
       "    .dataframe tbody tr th {\n",
       "        vertical-align: top;\n",
       "    }\n",
       "\n",
       "    .dataframe thead th {\n",
       "        text-align: right;\n",
       "    }\n",
       "</style>\n",
       "<table border=\"1\" class=\"dataframe\">\n",
       "  <thead>\n",
       "    <tr style=\"text-align: right;\">\n",
       "      <th></th>\n",
       "      <th>number_sta</th>\n",
       "      <th>date</th>\n",
       "      <th>ff</th>\n",
       "      <th>t</th>\n",
       "      <th>td</th>\n",
       "      <th>hu</th>\n",
       "      <th>dd</th>\n",
       "      <th>precip</th>\n",
       "      <th>Id</th>\n",
       "    </tr>\n",
       "  </thead>\n",
       "  <tbody>\n",
       "    <tr>\n",
       "      <th>0</th>\n",
       "      <td>14066001</td>\n",
       "      <td>2016-01-01 00:00:00</td>\n",
       "      <td>3.05</td>\n",
       "      <td>279.28</td>\n",
       "      <td>277.97</td>\n",
       "      <td>91.4</td>\n",
       "      <td>200.0</td>\n",
       "      <td>0.0</td>\n",
       "      <td>14066001_0_0</td>\n",
       "    </tr>\n",
       "    <tr>\n",
       "      <th>1</th>\n",
       "      <td>14066001</td>\n",
       "      <td>2016-01-01 01:00:00</td>\n",
       "      <td>2.57</td>\n",
       "      <td>278.76</td>\n",
       "      <td>277.45</td>\n",
       "      <td>91.4</td>\n",
       "      <td>190.0</td>\n",
       "      <td>0.0</td>\n",
       "      <td>14066001_0_1</td>\n",
       "    </tr>\n",
       "    <tr>\n",
       "      <th>2</th>\n",
       "      <td>14066001</td>\n",
       "      <td>2016-01-01 02:00:00</td>\n",
       "      <td>2.26</td>\n",
       "      <td>278.27</td>\n",
       "      <td>277.02</td>\n",
       "      <td>91.7</td>\n",
       "      <td>181.0</td>\n",
       "      <td>0.0</td>\n",
       "      <td>14066001_0_2</td>\n",
       "    </tr>\n",
       "    <tr>\n",
       "      <th>3</th>\n",
       "      <td>14066001</td>\n",
       "      <td>2016-01-01 03:00:00</td>\n",
       "      <td>2.62</td>\n",
       "      <td>277.98</td>\n",
       "      <td>276.95</td>\n",
       "      <td>93.0</td>\n",
       "      <td>159.0</td>\n",
       "      <td>0.0</td>\n",
       "      <td>14066001_0_3</td>\n",
       "    </tr>\n",
       "    <tr>\n",
       "      <th>4</th>\n",
       "      <td>14066001</td>\n",
       "      <td>2016-01-01 04:00:00</td>\n",
       "      <td>2.99</td>\n",
       "      <td>277.32</td>\n",
       "      <td>276.72</td>\n",
       "      <td>95.9</td>\n",
       "      <td>171.0</td>\n",
       "      <td>0.0</td>\n",
       "      <td>14066001_0_4</td>\n",
       "    </tr>\n",
       "    <tr>\n",
       "      <th>...</th>\n",
       "      <td>...</td>\n",
       "      <td>...</td>\n",
       "      <td>...</td>\n",
       "      <td>...</td>\n",
       "      <td>...</td>\n",
       "      <td>...</td>\n",
       "      <td>...</td>\n",
       "      <td>...</td>\n",
       "      <td>...</td>\n",
       "    </tr>\n",
       "    <tr>\n",
       "      <th>4409469</th>\n",
       "      <td>95690001</td>\n",
       "      <td>2017-12-30 19:00:00</td>\n",
       "      <td>9.10</td>\n",
       "      <td>286.68</td>\n",
       "      <td>283.44</td>\n",
       "      <td>80.8</td>\n",
       "      <td>239.0</td>\n",
       "      <td>0.0</td>\n",
       "      <td>95690001_729_19</td>\n",
       "    </tr>\n",
       "    <tr>\n",
       "      <th>4409470</th>\n",
       "      <td>95690001</td>\n",
       "      <td>2017-12-30 20:00:00</td>\n",
       "      <td>8.58</td>\n",
       "      <td>286.39</td>\n",
       "      <td>283.21</td>\n",
       "      <td>81.1</td>\n",
       "      <td>231.0</td>\n",
       "      <td>0.0</td>\n",
       "      <td>95690001_729_20</td>\n",
       "    </tr>\n",
       "    <tr>\n",
       "      <th>4409471</th>\n",
       "      <td>95690001</td>\n",
       "      <td>2017-12-30 21:00:00</td>\n",
       "      <td>8.74</td>\n",
       "      <td>286.28</td>\n",
       "      <td>283.40</td>\n",
       "      <td>82.6</td>\n",
       "      <td>226.0</td>\n",
       "      <td>0.0</td>\n",
       "      <td>95690001_729_21</td>\n",
       "    </tr>\n",
       "    <tr>\n",
       "      <th>4409472</th>\n",
       "      <td>95690001</td>\n",
       "      <td>2017-12-30 22:00:00</td>\n",
       "      <td>9.04</td>\n",
       "      <td>286.21</td>\n",
       "      <td>283.29</td>\n",
       "      <td>82.4</td>\n",
       "      <td>224.0</td>\n",
       "      <td>0.0</td>\n",
       "      <td>95690001_729_22</td>\n",
       "    </tr>\n",
       "    <tr>\n",
       "      <th>4409473</th>\n",
       "      <td>95690001</td>\n",
       "      <td>2017-12-30 23:00:00</td>\n",
       "      <td>9.11</td>\n",
       "      <td>285.92</td>\n",
       "      <td>282.42</td>\n",
       "      <td>79.4</td>\n",
       "      <td>221.0</td>\n",
       "      <td>0.0</td>\n",
       "      <td>95690001_729_23</td>\n",
       "    </tr>\n",
       "  </tbody>\n",
       "</table>\n",
       "<p>2264105 rows × 9 columns</p>\n",
       "</div>"
      ],
      "text/plain": [
       "        number_sta                date    ff       t      td    hu     dd  \\\n",
       "0         14066001 2016-01-01 00:00:00  3.05  279.28  277.97  91.4  200.0   \n",
       "1         14066001 2016-01-01 01:00:00  2.57  278.76  277.45  91.4  190.0   \n",
       "2         14066001 2016-01-01 02:00:00  2.26  278.27  277.02  91.7  181.0   \n",
       "3         14066001 2016-01-01 03:00:00  2.62  277.98  276.95  93.0  159.0   \n",
       "4         14066001 2016-01-01 04:00:00  2.99  277.32  276.72  95.9  171.0   \n",
       "...            ...                 ...   ...     ...     ...   ...    ...   \n",
       "4409469   95690001 2017-12-30 19:00:00  9.10  286.68  283.44  80.8  239.0   \n",
       "4409470   95690001 2017-12-30 20:00:00  8.58  286.39  283.21  81.1  231.0   \n",
       "4409471   95690001 2017-12-30 21:00:00  8.74  286.28  283.40  82.6  226.0   \n",
       "4409472   95690001 2017-12-30 22:00:00  9.04  286.21  283.29  82.4  224.0   \n",
       "4409473   95690001 2017-12-30 23:00:00  9.11  285.92  282.42  79.4  221.0   \n",
       "\n",
       "         precip               Id  \n",
       "0           0.0     14066001_0_0  \n",
       "1           0.0     14066001_0_1  \n",
       "2           0.0     14066001_0_2  \n",
       "3           0.0     14066001_0_3  \n",
       "4           0.0     14066001_0_4  \n",
       "...         ...              ...  \n",
       "4409469     0.0  95690001_729_19  \n",
       "4409470     0.0  95690001_729_20  \n",
       "4409471     0.0  95690001_729_21  \n",
       "4409472     0.0  95690001_729_22  \n",
       "4409473     0.0  95690001_729_23  \n",
       "\n",
       "[2264105 rows x 9 columns]"
      ]
     },
     "execution_count": 40,
     "metadata": {},
     "output_type": "execute_result"
    }
   ],
   "source": [
    "xtrainS2"
   ]
  },
  {
   "cell_type": "code",
   "execution_count": 42,
   "metadata": {},
   "outputs": [
    {
     "data": {
      "text/html": [
       "<div>\n",
       "<style scoped>\n",
       "    .dataframe tbody tr th:only-of-type {\n",
       "        vertical-align: middle;\n",
       "    }\n",
       "\n",
       "    .dataframe tbody tr th {\n",
       "        vertical-align: top;\n",
       "    }\n",
       "\n",
       "    .dataframe thead th {\n",
       "        text-align: right;\n",
       "    }\n",
       "</style>\n",
       "<table border=\"1\" class=\"dataframe\">\n",
       "  <thead>\n",
       "    <tr style=\"text-align: right;\">\n",
       "      <th></th>\n",
       "      <th>date</th>\n",
       "      <th>number_sta</th>\n",
       "      <th>Ground_truth</th>\n",
       "      <th>Id</th>\n",
       "    </tr>\n",
       "  </thead>\n",
       "  <tbody>\n",
       "    <tr>\n",
       "      <th>0</th>\n",
       "      <td>2016-01-02</td>\n",
       "      <td>14066001</td>\n",
       "      <td>3.4</td>\n",
       "      <td>14066001_0</td>\n",
       "    </tr>\n",
       "    <tr>\n",
       "      <th>1</th>\n",
       "      <td>2016-01-02</td>\n",
       "      <td>14126001</td>\n",
       "      <td>0.5</td>\n",
       "      <td>14126001_0</td>\n",
       "    </tr>\n",
       "    <tr>\n",
       "      <th>2</th>\n",
       "      <td>2016-01-02</td>\n",
       "      <td>14137001</td>\n",
       "      <td>3.4</td>\n",
       "      <td>14137001_0</td>\n",
       "    </tr>\n",
       "    <tr>\n",
       "      <th>3</th>\n",
       "      <td>2016-01-02</td>\n",
       "      <td>14216001</td>\n",
       "      <td>4.0</td>\n",
       "      <td>14216001_0</td>\n",
       "    </tr>\n",
       "    <tr>\n",
       "      <th>4</th>\n",
       "      <td>2016-01-02</td>\n",
       "      <td>14296001</td>\n",
       "      <td>13.3</td>\n",
       "      <td>14296001_0</td>\n",
       "    </tr>\n",
       "    <tr>\n",
       "      <th>...</th>\n",
       "      <td>...</td>\n",
       "      <td>...</td>\n",
       "      <td>...</td>\n",
       "      <td>...</td>\n",
       "    </tr>\n",
       "    <tr>\n",
       "      <th>183742</th>\n",
       "      <td>2017-12-31</td>\n",
       "      <td>86137003</td>\n",
       "      <td>5.0</td>\n",
       "      <td>86137003_729</td>\n",
       "    </tr>\n",
       "    <tr>\n",
       "      <th>183743</th>\n",
       "      <td>2017-12-31</td>\n",
       "      <td>86165005</td>\n",
       "      <td>3.2</td>\n",
       "      <td>86165005_729</td>\n",
       "    </tr>\n",
       "    <tr>\n",
       "      <th>183744</th>\n",
       "      <td>2017-12-31</td>\n",
       "      <td>86272002</td>\n",
       "      <td>1.8</td>\n",
       "      <td>86272002_729</td>\n",
       "    </tr>\n",
       "    <tr>\n",
       "      <th>183745</th>\n",
       "      <td>2017-12-31</td>\n",
       "      <td>91200002</td>\n",
       "      <td>1.6</td>\n",
       "      <td>91200002_729</td>\n",
       "    </tr>\n",
       "    <tr>\n",
       "      <th>183746</th>\n",
       "      <td>2017-12-31</td>\n",
       "      <td>95690001</td>\n",
       "      <td>1.2</td>\n",
       "      <td>95690001_729</td>\n",
       "    </tr>\n",
       "  </tbody>\n",
       "</table>\n",
       "<p>162107 rows × 4 columns</p>\n",
       "</div>"
      ],
      "text/plain": [
       "             date number_sta  Ground_truth            Id\n",
       "0      2016-01-02   14066001           3.4    14066001_0\n",
       "1      2016-01-02   14126001           0.5    14126001_0\n",
       "2      2016-01-02   14137001           3.4    14137001_0\n",
       "3      2016-01-02   14216001           4.0    14216001_0\n",
       "4      2016-01-02   14296001          13.3    14296001_0\n",
       "...           ...        ...           ...           ...\n",
       "183742 2017-12-31   86137003           5.0  86137003_729\n",
       "183743 2017-12-31   86165005           3.2  86165005_729\n",
       "183744 2017-12-31   86272002           1.8  86272002_729\n",
       "183745 2017-12-31   91200002           1.6  91200002_729\n",
       "183746 2017-12-31   95690001           1.2  95690001_729\n",
       "\n",
       "[162107 rows x 4 columns]"
      ]
     },
     "execution_count": 42,
     "metadata": {},
     "output_type": "execute_result"
    }
   ],
   "source": [
    "ytrain2"
   ]
  },
  {
   "cell_type": "code",
   "execution_count": null,
   "metadata": {},
   "outputs": [],
   "source": [
    "#train2 = xtrainS2.copy()\n",
    "#train2 = train2.merge(ytrain2[['number_sta',param]], on=['number_sta'], how='left')"
   ]
  },
  {
   "cell_type": "code",
   "execution_count": 38,
   "metadata": {},
   "outputs": [
    {
     "ename": "NameError",
     "evalue": "name 'train2' is not defined",
     "output_type": "error",
     "traceback": [
      "\u001b[0;31m---------------------------------------------------------------------------\u001b[0m",
      "\u001b[0;31mNameError\u001b[0m                                 Traceback (most recent call last)",
      "\u001b[0;32m<ipython-input-38-62dfd19305fd>\u001b[0m in \u001b[0;36m<module>\u001b[0;34m\u001b[0m\n\u001b[0;32m----> 1\u001b[0;31m \u001b[0mdisplay\u001b[0m\u001b[0;34m(\u001b[0m\u001b[0mtrain2\u001b[0m\u001b[0;34m.\u001b[0m\u001b[0mhead\u001b[0m\u001b[0;34m(\u001b[0m\u001b[0;34m)\u001b[0m\u001b[0;34m)\u001b[0m\u001b[0;34m\u001b[0m\u001b[0;34m\u001b[0m\u001b[0m\n\u001b[0m",
      "\u001b[0;31mNameError\u001b[0m: name 'train2' is not defined"
     ]
    }
   ],
   "source": [
    "display(train2.head())"
   ]
  },
  {
   "cell_type": "code",
   "execution_count": 41,
   "metadata": {},
   "outputs": [
    {
     "data": {
      "text/html": [
       "<style type=\"text/css\">\n",
       "#T_07a60_row0_col0, #T_07a60_row1_col1, #T_07a60_row2_col2, #T_07a60_row3_col3, #T_07a60_row4_col4, #T_07a60_row5_col5 {\n",
       "  background-color: #b40426;\n",
       "  color: #f1f1f1;\n",
       "}\n",
       "#T_07a60_row0_col1 {\n",
       "  background-color: #bad0f8;\n",
       "  color: #000000;\n",
       "}\n",
       "#T_07a60_row0_col2, #T_07a60_row1_col3, #T_07a60_row1_col5, #T_07a60_row3_col0, #T_07a60_row3_col1, #T_07a60_row3_col4 {\n",
       "  background-color: #3b4cc0;\n",
       "  color: #f1f1f1;\n",
       "}\n",
       "#T_07a60_row0_col3 {\n",
       "  background-color: #86a9fc;\n",
       "  color: #f1f1f1;\n",
       "}\n",
       "#T_07a60_row0_col4 {\n",
       "  background-color: #81a4fb;\n",
       "  color: #f1f1f1;\n",
       "}\n",
       "#T_07a60_row0_col5 {\n",
       "  background-color: #6687ed;\n",
       "  color: #f1f1f1;\n",
       "}\n",
       "#T_07a60_row1_col0 {\n",
       "  background-color: #7a9df8;\n",
       "  color: #f1f1f1;\n",
       "}\n",
       "#T_07a60_row1_col2 {\n",
       "  background-color: #e36c55;\n",
       "  color: #f1f1f1;\n",
       "}\n",
       "#T_07a60_row1_col4, #T_07a60_row3_col5 {\n",
       "  background-color: #688aef;\n",
       "  color: #f1f1f1;\n",
       "}\n",
       "#T_07a60_row2_col0 {\n",
       "  background-color: #6384eb;\n",
       "  color: #f1f1f1;\n",
       "}\n",
       "#T_07a60_row2_col1 {\n",
       "  background-color: #d65244;\n",
       "  color: #f1f1f1;\n",
       "}\n",
       "#T_07a60_row2_col3, #T_07a60_row4_col3 {\n",
       "  background-color: #adc9fd;\n",
       "  color: #000000;\n",
       "}\n",
       "#T_07a60_row2_col4 {\n",
       "  background-color: #7396f5;\n",
       "  color: #f1f1f1;\n",
       "}\n",
       "#T_07a60_row2_col5 {\n",
       "  background-color: #4e68d8;\n",
       "  color: #f1f1f1;\n",
       "}\n",
       "#T_07a60_row3_col2 {\n",
       "  background-color: #3d50c3;\n",
       "  color: #f1f1f1;\n",
       "}\n",
       "#T_07a60_row4_col0, #T_07a60_row5_col1 {\n",
       "  background-color: #a9c6fd;\n",
       "  color: #000000;\n",
       "}\n",
       "#T_07a60_row4_col1 {\n",
       "  background-color: #ccd9ed;\n",
       "  color: #000000;\n",
       "}\n",
       "#T_07a60_row4_col2 {\n",
       "  background-color: #779af7;\n",
       "  color: #f1f1f1;\n",
       "}\n",
       "#T_07a60_row4_col5 {\n",
       "  background-color: #4f69d9;\n",
       "  color: #f1f1f1;\n",
       "}\n",
       "#T_07a60_row5_col0 {\n",
       "  background-color: #8caffe;\n",
       "  color: #000000;\n",
       "}\n",
       "#T_07a60_row5_col2 {\n",
       "  background-color: #4c66d6;\n",
       "  color: #f1f1f1;\n",
       "}\n",
       "#T_07a60_row5_col3 {\n",
       "  background-color: #c9d7f0;\n",
       "  color: #000000;\n",
       "}\n",
       "#T_07a60_row5_col4 {\n",
       "  background-color: #4961d2;\n",
       "  color: #f1f1f1;\n",
       "}\n",
       "</style>\n",
       "<table id=\"T_07a60_\">\n",
       "  <thead>\n",
       "    <tr>\n",
       "      <th class=\"blank level0\" >&nbsp;</th>\n",
       "      <th class=\"col_heading level0 col0\" >ff</th>\n",
       "      <th class=\"col_heading level0 col1\" >t</th>\n",
       "      <th class=\"col_heading level0 col2\" >td</th>\n",
       "      <th class=\"col_heading level0 col3\" >hu</th>\n",
       "      <th class=\"col_heading level0 col4\" >dd</th>\n",
       "      <th class=\"col_heading level0 col5\" >precip</th>\n",
       "    </tr>\n",
       "  </thead>\n",
       "  <tbody>\n",
       "    <tr>\n",
       "      <th id=\"T_07a60_level0_row0\" class=\"row_heading level0 row0\" >ff</th>\n",
       "      <td id=\"T_07a60_row0_col0\" class=\"data row0 col0\" >1.000000</td>\n",
       "      <td id=\"T_07a60_row0_col1\" class=\"data row0 col1\" >0.056942</td>\n",
       "      <td id=\"T_07a60_row0_col2\" class=\"data row0 col2\" >-0.018000</td>\n",
       "      <td id=\"T_07a60_row0_col3\" class=\"data row0 col3\" >-0.173523</td>\n",
       "      <td id=\"T_07a60_row0_col4\" class=\"data row0 col4\" >0.211997</td>\n",
       "      <td id=\"T_07a60_row0_col5\" class=\"data row0 col5\" >0.118578</td>\n",
       "    </tr>\n",
       "    <tr>\n",
       "      <th id=\"T_07a60_level0_row1\" class=\"row_heading level0 row1\" >t</th>\n",
       "      <td id=\"T_07a60_row1_col0\" class=\"data row1 col0\" >0.056942</td>\n",
       "      <td id=\"T_07a60_row1_col1\" class=\"data row1 col1\" >1.000000</td>\n",
       "      <td id=\"T_07a60_row1_col2\" class=\"data row1 col2\" >0.848542</td>\n",
       "      <td id=\"T_07a60_row1_col3\" class=\"data row1 col3\" >-0.525953</td>\n",
       "      <td id=\"T_07a60_row1_col4\" class=\"data row1 col4\" >0.141747</td>\n",
       "      <td id=\"T_07a60_row1_col5\" class=\"data row1 col5\" >-0.024208</td>\n",
       "    </tr>\n",
       "    <tr>\n",
       "      <th id=\"T_07a60_level0_row2\" class=\"row_heading level0 row2\" >td</th>\n",
       "      <td id=\"T_07a60_row2_col0\" class=\"data row2 col0\" >-0.018000</td>\n",
       "      <td id=\"T_07a60_row2_col1\" class=\"data row2 col1\" >0.848542</td>\n",
       "      <td id=\"T_07a60_row2_col2\" class=\"data row2 col2\" >1.000000</td>\n",
       "      <td id=\"T_07a60_row2_col3\" class=\"data row2 col3\" >-0.007093</td>\n",
       "      <td id=\"T_07a60_row2_col4\" class=\"data row2 col4\" >0.174399</td>\n",
       "      <td id=\"T_07a60_row2_col5\" class=\"data row2 col5\" >0.043245</td>\n",
       "    </tr>\n",
       "    <tr>\n",
       "      <th id=\"T_07a60_level0_row3\" class=\"row_heading level0 row3\" >hu</th>\n",
       "      <td id=\"T_07a60_row3_col0\" class=\"data row3 col0\" >-0.173523</td>\n",
       "      <td id=\"T_07a60_row3_col1\" class=\"data row3 col1\" >-0.525953</td>\n",
       "      <td id=\"T_07a60_row3_col2\" class=\"data row3 col2\" >-0.007093</td>\n",
       "      <td id=\"T_07a60_row3_col3\" class=\"data row3 col3\" >1.000000</td>\n",
       "      <td id=\"T_07a60_row3_col4\" class=\"data row3 col4\" >-0.005283</td>\n",
       "      <td id=\"T_07a60_row3_col5\" class=\"data row3 col5\" >0.123967</td>\n",
       "    </tr>\n",
       "    <tr>\n",
       "      <th id=\"T_07a60_level0_row4\" class=\"row_heading level0 row4\" >dd</th>\n",
       "      <td id=\"T_07a60_row4_col0\" class=\"data row4 col0\" >0.211997</td>\n",
       "      <td id=\"T_07a60_row4_col1\" class=\"data row4 col1\" >0.141747</td>\n",
       "      <td id=\"T_07a60_row4_col2\" class=\"data row4 col2\" >0.174399</td>\n",
       "      <td id=\"T_07a60_row4_col3\" class=\"data row4 col3\" >-0.005283</td>\n",
       "      <td id=\"T_07a60_row4_col4\" class=\"data row4 col4\" >1.000000</td>\n",
       "      <td id=\"T_07a60_row4_col5\" class=\"data row4 col5\" >0.045163</td>\n",
       "    </tr>\n",
       "    <tr>\n",
       "      <th id=\"T_07a60_level0_row5\" class=\"row_heading level0 row5\" >precip</th>\n",
       "      <td id=\"T_07a60_row5_col0\" class=\"data row5 col0\" >0.118578</td>\n",
       "      <td id=\"T_07a60_row5_col1\" class=\"data row5 col1\" >-0.024208</td>\n",
       "      <td id=\"T_07a60_row5_col2\" class=\"data row5 col2\" >0.043245</td>\n",
       "      <td id=\"T_07a60_row5_col3\" class=\"data row5 col3\" >0.123967</td>\n",
       "      <td id=\"T_07a60_row5_col4\" class=\"data row5 col4\" >0.045163</td>\n",
       "      <td id=\"T_07a60_row5_col5\" class=\"data row5 col5\" >1.000000</td>\n",
       "    </tr>\n",
       "  </tbody>\n",
       "</table>\n"
      ],
      "text/plain": [
       "<pandas.io.formats.style.Styler at 0x7fc70875a1f0>"
      ]
     },
     "execution_count": 41,
     "metadata": {},
     "output_type": "execute_result"
    }
   ],
   "source": [
    "xtrainS2.corr().style.background_gradient(cmap = 'coolwarm' )"
   ]
  },
  {
   "cell_type": "markdown",
   "metadata": {},
   "source": [
    "## Analyse multidimensionnelle\n",
    "\n",
    "Cf. Projet Spotify"
   ]
  },
  {
   "cell_type": "markdown",
   "metadata": {},
   "source": [
    "## ACP"
   ]
  },
  {
   "cell_type": "markdown",
   "metadata": {},
   "source": [
    "## Machine Learning"
   ]
  },
  {
   "cell_type": "markdown",
   "metadata": {},
   "source": [
    "### Random Forest"
   ]
  },
  {
   "cell_type": "code",
   "execution_count": null,
   "metadata": {},
   "outputs": [],
   "source": [
    "param=[{\"max_features\":list(range(2,10,1))}]\n",
    "rf= GridSearchCV(RandomForestClassifier(n_estimators=100),param,cv=5,n_jobs=-1)\n",
    "\n",
    "ts = time.time()\n",
    "\n",
    "rfOpt=rf.fit(Xtr, Ypclass_train)\n",
    "score = rfOpt.score(Xte, Ypclass_test)\n",
    "ypred = rfOpt.predict(Xte)\n",
    "\n",
    "te = time.time()\n",
    "\n",
    "# paramètre optimal\n",
    "print(\"Meilleur score = %f, Meilleur paramètre = %s\" % (rfOpt.best_score_,rfOpt.best_params_))\n",
    "\n",
    "# Score\n",
    "print(\"Score : %f, time running : %f secondes\" %(score, te-ts))\n",
    "pd.DataFrame(confusion_matrix(Ypclass_test, ypred), index = keys, columns=keys)"
   ]
  },
  {
   "cell_type": "markdown",
   "metadata": {},
   "source": [
    "### LSTM\n",
    "\n",
    "Cf. Projet Hydrologie"
   ]
  },
  {
   "cell_type": "markdown",
   "metadata": {
    "papermill": {
     "duration": 0.013909,
     "end_time": "2021-09-28T10:01:41.224303",
     "exception": false,
     "start_time": "2021-09-28T10:01:41.210394",
     "status": "completed"
    },
    "tags": []
   },
   "source": [
    "## Plot a parameter for a given date \n",
    "\n",
    "Let's start by selecting a date and time and displaying a subpart of the dataframe."
   ]
  },
  {
   "cell_type": "code",
   "execution_count": 19,
   "metadata": {
    "execution": {
     "iopub.execute_input": "2021-09-28T10:01:41.261916Z",
     "iopub.status.busy": "2021-09-28T10:01:41.261273Z",
     "iopub.status.idle": "2021-09-28T10:01:41.320531Z",
     "shell.execute_reply": "2021-09-28T10:01:41.319860Z",
     "shell.execute_reply.started": "2021-09-28T09:51:04.377857Z"
    },
    "papermill": {
     "duration": 0.082157,
     "end_time": "2021-09-28T10:01:41.320670",
     "exception": false,
     "start_time": "2021-09-28T10:01:41.238513",
     "status": "completed"
    },
    "tags": []
   },
   "outputs": [
    {
     "data": {
      "text/html": [
       "<div>\n",
       "<style scoped>\n",
       "    .dataframe tbody tr th:only-of-type {\n",
       "        vertical-align: middle;\n",
       "    }\n",
       "\n",
       "    .dataframe tbody tr th {\n",
       "        vertical-align: top;\n",
       "    }\n",
       "\n",
       "    .dataframe thead th {\n",
       "        text-align: right;\n",
       "    }\n",
       "</style>\n",
       "<table border=\"1\" class=\"dataframe\">\n",
       "  <thead>\n",
       "    <tr style=\"text-align: right;\">\n",
       "      <th></th>\n",
       "      <th>number_sta</th>\n",
       "      <th>date</th>\n",
       "      <th>ff</th>\n",
       "      <th>t</th>\n",
       "      <th>td</th>\n",
       "      <th>hu</th>\n",
       "      <th>dd</th>\n",
       "      <th>precip</th>\n",
       "      <th>Id</th>\n",
       "    </tr>\n",
       "  </thead>\n",
       "  <tbody>\n",
       "    <tr>\n",
       "      <th>2212790</th>\n",
       "      <td>14066001</td>\n",
       "      <td>2017-01-01 06:00:00</td>\n",
       "      <td>4.85</td>\n",
       "      <td>274.27</td>\n",
       "      <td>273.75</td>\n",
       "      <td>96.4</td>\n",
       "      <td>193.0</td>\n",
       "      <td>0.0</td>\n",
       "      <td>14066001_366_6</td>\n",
       "    </tr>\n",
       "    <tr>\n",
       "      <th>2212814</th>\n",
       "      <td>14126001</td>\n",
       "      <td>2017-01-01 06:00:00</td>\n",
       "      <td>NaN</td>\n",
       "      <td>271.45</td>\n",
       "      <td>271.35</td>\n",
       "      <td>99.0</td>\n",
       "      <td>NaN</td>\n",
       "      <td>0.0</td>\n",
       "      <td>14126001_366_6</td>\n",
       "    </tr>\n",
       "    <tr>\n",
       "      <th>2212838</th>\n",
       "      <td>14137001</td>\n",
       "      <td>2017-01-01 06:00:00</td>\n",
       "      <td>4.10</td>\n",
       "      <td>273.68</td>\n",
       "      <td>273.45</td>\n",
       "      <td>98.4</td>\n",
       "      <td>195.0</td>\n",
       "      <td>0.0</td>\n",
       "      <td>14137001_366_6</td>\n",
       "    </tr>\n",
       "    <tr>\n",
       "      <th>2212862</th>\n",
       "      <td>14216001</td>\n",
       "      <td>2017-01-01 06:00:00</td>\n",
       "      <td>2.84</td>\n",
       "      <td>271.41</td>\n",
       "      <td>271.01</td>\n",
       "      <td>97.0</td>\n",
       "      <td>207.0</td>\n",
       "      <td>0.0</td>\n",
       "      <td>14216001_366_6</td>\n",
       "    </tr>\n",
       "    <tr>\n",
       "      <th>2212886</th>\n",
       "      <td>14296001</td>\n",
       "      <td>2017-01-01 06:00:00</td>\n",
       "      <td>NaN</td>\n",
       "      <td>272.00</td>\n",
       "      <td>NaN</td>\n",
       "      <td>NaN</td>\n",
       "      <td>NaN</td>\n",
       "      <td>0.0</td>\n",
       "      <td>14296001_366_6</td>\n",
       "    </tr>\n",
       "  </tbody>\n",
       "</table>\n",
       "</div>"
      ],
      "text/plain": [
       "         number_sta                date    ff       t      td    hu     dd  \\\n",
       "2212790    14066001 2017-01-01 06:00:00  4.85  274.27  273.75  96.4  193.0   \n",
       "2212814    14126001 2017-01-01 06:00:00   NaN  271.45  271.35  99.0    NaN   \n",
       "2212838    14137001 2017-01-01 06:00:00  4.10  273.68  273.45  98.4  195.0   \n",
       "2212862    14216001 2017-01-01 06:00:00  2.84  271.41  271.01  97.0  207.0   \n",
       "2212886    14296001 2017-01-01 06:00:00   NaN  272.00     NaN   NaN    NaN   \n",
       "\n",
       "         precip              Id  \n",
       "2212790     0.0  14066001_366_6  \n",
       "2212814     0.0  14126001_366_6  \n",
       "2212838     0.0  14137001_366_6  \n",
       "2212862     0.0  14216001_366_6  \n",
       "2212886     0.0  14296001_366_6  "
      ]
     },
     "metadata": {},
     "output_type": "display_data"
    },
    {
     "data": {
      "text/html": [
       "<div>\n",
       "<style scoped>\n",
       "    .dataframe tbody tr th:only-of-type {\n",
       "        vertical-align: middle;\n",
       "    }\n",
       "\n",
       "    .dataframe tbody tr th {\n",
       "        vertical-align: top;\n",
       "    }\n",
       "\n",
       "    .dataframe thead th {\n",
       "        text-align: right;\n",
       "    }\n",
       "</style>\n",
       "<table border=\"1\" class=\"dataframe\">\n",
       "  <thead>\n",
       "    <tr style=\"text-align: right;\">\n",
       "      <th></th>\n",
       "      <th>number_sta</th>\n",
       "      <th>date</th>\n",
       "      <th>ff</th>\n",
       "      <th>t</th>\n",
       "      <th>td</th>\n",
       "      <th>hu</th>\n",
       "      <th>dd</th>\n",
       "      <th>precip</th>\n",
       "      <th>Id</th>\n",
       "    </tr>\n",
       "  </thead>\n",
       "  <tbody>\n",
       "    <tr>\n",
       "      <th>2218814</th>\n",
       "      <td>86137003</td>\n",
       "      <td>2017-01-01 06:00:00</td>\n",
       "      <td>0.0</td>\n",
       "      <td>270.94</td>\n",
       "      <td>270.66</td>\n",
       "      <td>98.1</td>\n",
       "      <td>0.0</td>\n",
       "      <td>0.0</td>\n",
       "      <td>86137003_366_6</td>\n",
       "    </tr>\n",
       "    <tr>\n",
       "      <th>2218838</th>\n",
       "      <td>86165005</td>\n",
       "      <td>2017-01-01 06:00:00</td>\n",
       "      <td>NaN</td>\n",
       "      <td>273.62</td>\n",
       "      <td>273.62</td>\n",
       "      <td>100.0</td>\n",
       "      <td>NaN</td>\n",
       "      <td>0.0</td>\n",
       "      <td>86165005_366_6</td>\n",
       "    </tr>\n",
       "    <tr>\n",
       "      <th>2218862</th>\n",
       "      <td>86272002</td>\n",
       "      <td>2017-01-01 06:00:00</td>\n",
       "      <td>NaN</td>\n",
       "      <td>271.90</td>\n",
       "      <td>NaN</td>\n",
       "      <td>NaN</td>\n",
       "      <td>NaN</td>\n",
       "      <td>0.0</td>\n",
       "      <td>86272002_366_6</td>\n",
       "    </tr>\n",
       "    <tr>\n",
       "      <th>2218886</th>\n",
       "      <td>91200002</td>\n",
       "      <td>2017-01-01 06:00:00</td>\n",
       "      <td>NaN</td>\n",
       "      <td>268.61</td>\n",
       "      <td>268.21</td>\n",
       "      <td>97.0</td>\n",
       "      <td>NaN</td>\n",
       "      <td>0.0</td>\n",
       "      <td>91200002_366_6</td>\n",
       "    </tr>\n",
       "    <tr>\n",
       "      <th>2218910</th>\n",
       "      <td>95690001</td>\n",
       "      <td>2017-01-01 06:00:00</td>\n",
       "      <td>NaN</td>\n",
       "      <td>268.65</td>\n",
       "      <td>267.95</td>\n",
       "      <td>95.0</td>\n",
       "      <td>NaN</td>\n",
       "      <td>0.0</td>\n",
       "      <td>95690001_366_6</td>\n",
       "    </tr>\n",
       "  </tbody>\n",
       "</table>\n",
       "</div>"
      ],
      "text/plain": [
       "         number_sta                date   ff       t      td     hu   dd  \\\n",
       "2218814    86137003 2017-01-01 06:00:00  0.0  270.94  270.66   98.1  0.0   \n",
       "2218838    86165005 2017-01-01 06:00:00  NaN  273.62  273.62  100.0  NaN   \n",
       "2218862    86272002 2017-01-01 06:00:00  NaN  271.90     NaN    NaN  NaN   \n",
       "2218886    91200002 2017-01-01 06:00:00  NaN  268.61  268.21   97.0  NaN   \n",
       "2218910    95690001 2017-01-01 06:00:00  NaN  268.65  267.95   95.0  NaN   \n",
       "\n",
       "         precip              Id  \n",
       "2218814     0.0  86137003_366_6  \n",
       "2218838     0.0  86165005_366_6  \n",
       "2218862     0.0  86272002_366_6  \n",
       "2218886     0.0  91200002_366_6  \n",
       "2218910     0.0  95690001_366_6  "
      ]
     },
     "metadata": {},
     "output_type": "display_data"
    }
   ],
   "source": [
    "date = '2017-01-01T06:00:00' #1er janvier 2017, 06h00\n",
    "d_sub = df[df['date'] == date]\n",
    "\n",
    "display(d_sub.head())\n",
    "display(d_sub.tail())"
   ]
  },
  {
   "cell_type": "code",
   "execution_count": 20,
   "metadata": {},
   "outputs": [
    {
     "name": "stdout",
     "output_type": "stream",
     "text": [
      "Nombre de variables : 9\n",
      "Nombre d'observations pour la date du 2017-01-01T06:00:00 : 256\n"
     ]
    }
   ],
   "source": [
    "print(\"Nombre de variables :\", d_sub.shape[1])\n",
    "print(\"Nombre d'observations pour la date du\", date, \":\", d_sub.shape[0])"
   ]
  },
  {
   "cell_type": "code",
   "execution_count": 21,
   "metadata": {
    "execution": {
     "iopub.execute_input": "2021-09-28T10:01:41.368295Z",
     "iopub.status.busy": "2021-09-28T10:01:41.355502Z",
     "iopub.status.idle": "2021-09-28T10:01:41.395915Z",
     "shell.execute_reply": "2021-09-28T10:01:41.395254Z",
     "shell.execute_reply.started": "2021-09-28T09:51:13.137291Z"
    },
    "papermill": {
     "duration": 0.059727,
     "end_time": "2021-09-28T10:01:41.396076",
     "exception": false,
     "start_time": "2021-09-28T10:01:41.336349",
     "status": "completed"
    },
    "tags": []
   },
   "outputs": [
    {
     "data": {
      "text/html": [
       "<div>\n",
       "<style scoped>\n",
       "    .dataframe tbody tr th:only-of-type {\n",
       "        vertical-align: middle;\n",
       "    }\n",
       "\n",
       "    .dataframe tbody tr th {\n",
       "        vertical-align: top;\n",
       "    }\n",
       "\n",
       "    .dataframe thead th {\n",
       "        text-align: right;\n",
       "    }\n",
       "</style>\n",
       "<table border=\"1\" class=\"dataframe\">\n",
       "  <thead>\n",
       "    <tr style=\"text-align: right;\">\n",
       "      <th></th>\n",
       "      <th>number_sta</th>\n",
       "      <th>date</th>\n",
       "      <th>ff</th>\n",
       "      <th>t</th>\n",
       "      <th>td</th>\n",
       "      <th>hu</th>\n",
       "      <th>dd</th>\n",
       "      <th>precip</th>\n",
       "      <th>Id</th>\n",
       "      <th>lat</th>\n",
       "      <th>lon</th>\n",
       "      <th>height_sta</th>\n",
       "    </tr>\n",
       "  </thead>\n",
       "  <tbody>\n",
       "    <tr>\n",
       "      <th>0</th>\n",
       "      <td>14066001</td>\n",
       "      <td>2017-01-01 06:00:00</td>\n",
       "      <td>4.85</td>\n",
       "      <td>274.27</td>\n",
       "      <td>273.75</td>\n",
       "      <td>96.4</td>\n",
       "      <td>193.0</td>\n",
       "      <td>0.0</td>\n",
       "      <td>14066001_366_6</td>\n",
       "      <td>49.334</td>\n",
       "      <td>-0.431</td>\n",
       "      <td>2.0</td>\n",
       "    </tr>\n",
       "    <tr>\n",
       "      <th>1</th>\n",
       "      <td>14126001</td>\n",
       "      <td>2017-01-01 06:00:00</td>\n",
       "      <td>NaN</td>\n",
       "      <td>271.45</td>\n",
       "      <td>271.35</td>\n",
       "      <td>99.0</td>\n",
       "      <td>NaN</td>\n",
       "      <td>0.0</td>\n",
       "      <td>14126001_366_6</td>\n",
       "      <td>49.145</td>\n",
       "      <td>0.042</td>\n",
       "      <td>125.0</td>\n",
       "    </tr>\n",
       "    <tr>\n",
       "      <th>2</th>\n",
       "      <td>14137001</td>\n",
       "      <td>2017-01-01 06:00:00</td>\n",
       "      <td>4.10</td>\n",
       "      <td>273.68</td>\n",
       "      <td>273.45</td>\n",
       "      <td>98.4</td>\n",
       "      <td>195.0</td>\n",
       "      <td>0.0</td>\n",
       "      <td>14137001_366_6</td>\n",
       "      <td>49.180</td>\n",
       "      <td>-0.456</td>\n",
       "      <td>67.0</td>\n",
       "    </tr>\n",
       "    <tr>\n",
       "      <th>3</th>\n",
       "      <td>14216001</td>\n",
       "      <td>2017-01-01 06:00:00</td>\n",
       "      <td>2.84</td>\n",
       "      <td>271.41</td>\n",
       "      <td>271.01</td>\n",
       "      <td>97.0</td>\n",
       "      <td>207.0</td>\n",
       "      <td>0.0</td>\n",
       "      <td>14216001_366_6</td>\n",
       "      <td>48.928</td>\n",
       "      <td>-0.149</td>\n",
       "      <td>155.0</td>\n",
       "    </tr>\n",
       "    <tr>\n",
       "      <th>4</th>\n",
       "      <td>14296001</td>\n",
       "      <td>2017-01-01 06:00:00</td>\n",
       "      <td>NaN</td>\n",
       "      <td>272.00</td>\n",
       "      <td>NaN</td>\n",
       "      <td>NaN</td>\n",
       "      <td>NaN</td>\n",
       "      <td>0.0</td>\n",
       "      <td>14296001_366_6</td>\n",
       "      <td>48.795</td>\n",
       "      <td>-1.037</td>\n",
       "      <td>336.0</td>\n",
       "    </tr>\n",
       "    <tr>\n",
       "      <th>...</th>\n",
       "      <td>...</td>\n",
       "      <td>...</td>\n",
       "      <td>...</td>\n",
       "      <td>...</td>\n",
       "      <td>...</td>\n",
       "      <td>...</td>\n",
       "      <td>...</td>\n",
       "      <td>...</td>\n",
       "      <td>...</td>\n",
       "      <td>...</td>\n",
       "      <td>...</td>\n",
       "      <td>...</td>\n",
       "    </tr>\n",
       "    <tr>\n",
       "      <th>251</th>\n",
       "      <td>86137003</td>\n",
       "      <td>2017-01-01 06:00:00</td>\n",
       "      <td>0.00</td>\n",
       "      <td>270.94</td>\n",
       "      <td>270.66</td>\n",
       "      <td>98.1</td>\n",
       "      <td>0.0</td>\n",
       "      <td>0.0</td>\n",
       "      <td>86137003_366_6</td>\n",
       "      <td>47.035</td>\n",
       "      <td>0.098</td>\n",
       "      <td>96.0</td>\n",
       "    </tr>\n",
       "    <tr>\n",
       "      <th>252</th>\n",
       "      <td>86165005</td>\n",
       "      <td>2017-01-01 06:00:00</td>\n",
       "      <td>NaN</td>\n",
       "      <td>273.62</td>\n",
       "      <td>273.62</td>\n",
       "      <td>100.0</td>\n",
       "      <td>NaN</td>\n",
       "      <td>0.0</td>\n",
       "      <td>86165005_366_6</td>\n",
       "      <td>46.412</td>\n",
       "      <td>0.841</td>\n",
       "      <td>153.0</td>\n",
       "    </tr>\n",
       "    <tr>\n",
       "      <th>253</th>\n",
       "      <td>86272002</td>\n",
       "      <td>2017-01-01 06:00:00</td>\n",
       "      <td>NaN</td>\n",
       "      <td>271.90</td>\n",
       "      <td>NaN</td>\n",
       "      <td>NaN</td>\n",
       "      <td>NaN</td>\n",
       "      <td>0.0</td>\n",
       "      <td>86272002_366_6</td>\n",
       "      <td>46.839</td>\n",
       "      <td>0.457</td>\n",
       "      <td>120.0</td>\n",
       "    </tr>\n",
       "    <tr>\n",
       "      <th>254</th>\n",
       "      <td>91200002</td>\n",
       "      <td>2017-01-01 06:00:00</td>\n",
       "      <td>NaN</td>\n",
       "      <td>268.61</td>\n",
       "      <td>268.21</td>\n",
       "      <td>97.0</td>\n",
       "      <td>NaN</td>\n",
       "      <td>0.0</td>\n",
       "      <td>91200002_366_6</td>\n",
       "      <td>48.526</td>\n",
       "      <td>1.993</td>\n",
       "      <td>116.0</td>\n",
       "    </tr>\n",
       "    <tr>\n",
       "      <th>255</th>\n",
       "      <td>95690001</td>\n",
       "      <td>2017-01-01 06:00:00</td>\n",
       "      <td>NaN</td>\n",
       "      <td>268.65</td>\n",
       "      <td>267.95</td>\n",
       "      <td>95.0</td>\n",
       "      <td>NaN</td>\n",
       "      <td>0.0</td>\n",
       "      <td>95690001_366_6</td>\n",
       "      <td>49.108</td>\n",
       "      <td>1.831</td>\n",
       "      <td>126.0</td>\n",
       "    </tr>\n",
       "  </tbody>\n",
       "</table>\n",
       "<p>256 rows × 12 columns</p>\n",
       "</div>"
      ],
      "text/plain": [
       "     number_sta                date    ff       t      td     hu     dd  \\\n",
       "0      14066001 2017-01-01 06:00:00  4.85  274.27  273.75   96.4  193.0   \n",
       "1      14126001 2017-01-01 06:00:00   NaN  271.45  271.35   99.0    NaN   \n",
       "2      14137001 2017-01-01 06:00:00  4.10  273.68  273.45   98.4  195.0   \n",
       "3      14216001 2017-01-01 06:00:00  2.84  271.41  271.01   97.0  207.0   \n",
       "4      14296001 2017-01-01 06:00:00   NaN  272.00     NaN    NaN    NaN   \n",
       "..          ...                 ...   ...     ...     ...    ...    ...   \n",
       "251    86137003 2017-01-01 06:00:00  0.00  270.94  270.66   98.1    0.0   \n",
       "252    86165005 2017-01-01 06:00:00   NaN  273.62  273.62  100.0    NaN   \n",
       "253    86272002 2017-01-01 06:00:00   NaN  271.90     NaN    NaN    NaN   \n",
       "254    91200002 2017-01-01 06:00:00   NaN  268.61  268.21   97.0    NaN   \n",
       "255    95690001 2017-01-01 06:00:00   NaN  268.65  267.95   95.0    NaN   \n",
       "\n",
       "     precip              Id     lat    lon  height_sta  \n",
       "0       0.0  14066001_366_6  49.334 -0.431         2.0  \n",
       "1       0.0  14126001_366_6  49.145  0.042       125.0  \n",
       "2       0.0  14137001_366_6  49.180 -0.456        67.0  \n",
       "3       0.0  14216001_366_6  48.928 -0.149       155.0  \n",
       "4       0.0  14296001_366_6  48.795 -1.037       336.0  \n",
       "..      ...             ...     ...    ...         ...  \n",
       "251     0.0  86137003_366_6  47.035  0.098        96.0  \n",
       "252     0.0  86165005_366_6  46.412  0.841       153.0  \n",
       "253     0.0  86272002_366_6  46.839  0.457       120.0  \n",
       "254     0.0  91200002_366_6  48.526  1.993       116.0  \n",
       "255     0.0  95690001_366_6  49.108  1.831       126.0  \n",
       "\n",
       "[256 rows x 12 columns]"
      ]
     },
     "execution_count": 21,
     "metadata": {},
     "output_type": "execute_result"
    }
   ],
   "source": [
    "#get the station coordinates for the selected date\n",
    "d_sub = d_sub.merge(coords, on=['number_sta'], how='left')\n",
    "d_sub"
   ]
  },
  {
   "cell_type": "markdown",
   "metadata": {
    "papermill": {
     "duration": 0.015808,
     "end_time": "2021-09-28T10:01:41.429348",
     "exception": false,
     "start_time": "2021-09-28T10:01:41.413540",
     "status": "completed"
    },
    "tags": []
   },
   "source": [
    "Now, let's plot the data !"
   ]
  },
  {
   "cell_type": "markdown",
   "metadata": {
    "papermill": {
     "duration": 0.015788,
     "end_time": "2021-09-28T10:01:41.461260",
     "exception": false,
     "start_time": "2021-09-28T10:01:41.445472",
     "status": "completed"
    },
    "tags": []
   },
   "source": [
    "### Simple scatter plot"
   ]
  },
  {
   "cell_type": "code",
   "execution_count": 22,
   "metadata": {
    "execution": {
     "iopub.execute_input": "2021-09-28T10:01:41.515413Z",
     "iopub.status.busy": "2021-09-28T10:01:41.514331Z",
     "iopub.status.idle": "2021-09-28T10:01:41.731660Z",
     "shell.execute_reply": "2021-09-28T10:01:41.731095Z",
     "shell.execute_reply.started": "2021-09-28T09:51:21.38973Z"
    },
    "papermill": {
     "duration": 0.254496,
     "end_time": "2021-09-28T10:01:41.731819",
     "exception": false,
     "start_time": "2021-09-28T10:01:41.477323",
     "status": "completed"
    },
    "tags": []
   },
   "outputs": [
    {
     "data": {
      "image/png": "[encoded data removed]",
      "text/plain": [
       "<Figure size 432x288 with 1 Axes>"
      ]
     },
     "metadata": {
      "needs_background": "light"
     },
     "output_type": "display_data"
    }
   ],
   "source": [
    "plt.scatter(d_sub['lon'], d_sub['lat'], c=d_sub[param], cmap='jet')\n",
    "plt.show()"
   ]
  },
  {
   "cell_type": "markdown",
   "metadata": {
    "papermill": {
     "duration": 0.017691,
     "end_time": "2021-09-28T10:01:41.768123",
     "exception": false,
     "start_time": "2021-09-28T10:01:41.750432",
     "status": "completed"
    },
    "tags": []
   },
   "source": [
    "### Plot with Cartopy"
   ]
  },
  {
   "cell_type": "code",
   "execution_count": 23,
   "metadata": {
    "execution": {
     "iopub.execute_input": "2021-09-28T10:01:41.808868Z",
     "iopub.status.busy": "2021-09-28T10:01:41.807953Z",
     "iopub.status.idle": "2021-09-28T10:01:42.295497Z",
     "shell.execute_reply": "2021-09-28T10:01:42.294904Z",
     "shell.execute_reply.started": "2021-09-28T09:51:23.921958Z"
    },
    "papermill": {
     "duration": 0.509707,
     "end_time": "2021-09-28T10:01:42.295652",
     "exception": false,
     "start_time": "2021-09-28T10:01:41.785945",
     "status": "completed"
    },
    "tags": []
   },
   "outputs": [
    {
     "ename": "ModuleNotFoundError",
     "evalue": "No module named 'cartopy'",
     "output_type": "error",
     "traceback": [
      "\u001b[0;31m---------------------------------------------------------------------------\u001b[0m",
      "\u001b[0;31mModuleNotFoundError\u001b[0m                       Traceback (most recent call last)",
      "\u001b[0;32m<ipython-input-23-c07c0fa39ed9>\u001b[0m in \u001b[0;36m<module>\u001b[0;34m\u001b[0m\n\u001b[0;32m----> 1\u001b[0;31m \u001b[0;32mimport\u001b[0m \u001b[0mcartopy\u001b[0m\u001b[0;34m.\u001b[0m\u001b[0mcrs\u001b[0m \u001b[0;32mas\u001b[0m \u001b[0mccrs\u001b[0m\u001b[0;34m\u001b[0m\u001b[0;34m\u001b[0m\u001b[0m\n\u001b[0m\u001b[1;32m      2\u001b[0m \u001b[0;32mimport\u001b[0m \u001b[0mcartopy\u001b[0m\u001b[0;34m.\u001b[0m\u001b[0mfeature\u001b[0m \u001b[0;32mas\u001b[0m \u001b[0mcfeature\u001b[0m\u001b[0;34m\u001b[0m\u001b[0;34m\u001b[0m\u001b[0m\n",
      "\u001b[0;31mModuleNotFoundError\u001b[0m: No module named 'cartopy'"
     ]
    }
   ],
   "source": [
    "import cartopy.crs as ccrs\n",
    "import cartopy.feature as cfeature"
   ]
  },
  {
   "cell_type": "code",
   "execution_count": null,
   "metadata": {
    "execution": {
     "iopub.execute_input": "2021-09-28T10:01:42.342029Z",
     "iopub.status.busy": "2021-09-28T10:01:42.341248Z",
     "iopub.status.idle": "2021-09-28T10:01:46.163261Z",
     "shell.execute_reply": "2021-09-28T10:01:46.162727Z",
     "shell.execute_reply.started": "2021-09-28T09:51:25.868869Z"
    },
    "papermill": {
     "duration": 3.849785,
     "end_time": "2021-09-28T10:01:46.163419",
     "exception": false,
     "start_time": "2021-09-28T10:01:42.313634",
     "status": "completed"
    },
    "tags": []
   },
   "outputs": [],
   "source": [
    "# Coordinates of studied area boundaries (in °N and °E)\n",
    "lllat = 46.25  #lower left latitude\n",
    "urlat = 51.896  #upper right latitude\n",
    "lllon = -5.842  #lower left longitude\n",
    "urlon = 2  #upper right longitude\n",
    "extent = [lllon, urlon, lllat, urlat]\n",
    "\n",
    "fig = plt.figure(figsize=(9,5))\n",
    "\n",
    "# Select projection\n",
    "ax = plt.axes(projection=ccrs.PlateCarree())\n",
    "\n",
    "# Plot the data\n",
    "plt.scatter(d_sub['lon'], d_sub['lat'], c=d_sub[param], cmap='jet')  # Plot\n",
    "\n",
    "# Add coastlines and borders\n",
    "ax.coastlines(resolution='50m', linewidth=1)\n",
    "ax.add_feature(cfeature.BORDERS.with_scale('50m'))\n",
    "\n",
    "# Adjust the plot to the area we defined \n",
    "#/!\\# this line causes a bug of the kaggle notebook and clears all the memory. That is why this line is commented and so\n",
    "# the plot is not completely adjusted to the data\n",
    "# Show only the area we defined\n",
    "#ax.set_extent(extent)\n",
    "\n",
    "plt.show()"
   ]
  }
 ],
 "metadata": {
  "kernelspec": {
   "display_name": "Python 3",
   "language": "python",
   "name": "python3"
  },
  "language_info": {
   "codemirror_mode": {
    "name": "ipython",
    "version": 3
   },
   "file_extension": ".py",
   "mimetype": "text/x-python",
   "name": "python",
   "nbconvert_exporter": "python",
   "pygments_lexer": "ipython3",
   "version": "3.8.5"
  },
  "papermill": {
   "default_parameters": {},
   "duration": 27.785826,
   "end_time": "2021-09-28T10:01:47.983643",
   "environment_variables": {},
   "exception": null,
   "input_path": "__notebook__.ipynb",
   "output_path": "__notebook__.ipynb",
   "parameters": {},
   "start_time": "2021-09-28T10:01:20.197817",
   "version": "2.3.3"
  }
 },
 "nbformat": 4,
 "nbformat_minor": 5
}
