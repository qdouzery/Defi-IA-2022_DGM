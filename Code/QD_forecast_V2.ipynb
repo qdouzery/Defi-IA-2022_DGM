{
 "cells": [
  {
   "cell_type": "markdown",
   "metadata": {},
   "source": [
    "# Defi-IA 2022 <a href=\"https://www.kaggle.com/c/defi-ia-2022/overview\"><img src=\"https://upload.wikimedia.org/wikipedia/commons/7/7c/Kaggle_logo.png\" style=\"max-width: 70px; display: inline\" alt=\"Python\"/></a>\n",
    "-------------------------------------------------------------\n",
    "\n",
    "**Predict the accumulated daily rainfall on ground stations**  \n",
    "*Quentin Douzery, Alexia Ghozland, Dario Moed*"
   ]
  },
  {
   "cell_type": "markdown",
   "metadata": {},
   "source": [
    "## <font color = 'royalblue'>1 Imports</font>"
   ]
  },
  {
   "cell_type": "markdown",
   "metadata": {},
   "source": [
    "### 1.1 Packages"
   ]
  },
  {
   "cell_type": "code",
   "execution_count": 1,
   "metadata": {},
   "outputs": [],
   "source": [
    "##Packages\n",
    "import time\n",
    "import pandas as pd\n",
    "import numpy as np\n",
    "import datetime\n",
    "import matplotlib.pyplot as plt\n",
    "\n",
    "from sklearn import linear_model\n",
    "from sklearn.model_selection import GridSearchCV,train_test_split \n",
    "from sklearn.tree import DecisionTreeClassifier,DecisionTreeRegressor\n",
    "from sklearn.neural_network import MLPRegressor,MLPClassifier\n",
    "from sklearn.ensemble import RandomForestClassifier ,RandomForestRegressor\n",
    "from sklearn.preprocessing import scale , StandardScaler\n",
    "\n",
    "import tensorflow as tf\n",
    "from tensorflow import keras\n",
    "from tensorflow.keras import layers\n",
    "#from keras.models import Sequential\n",
    "\n",
    "from tqdm import tqdm"
   ]
  },
  {
   "cell_type": "code",
   "execution_count": 2,
   "metadata": {},
   "outputs": [],
   "source": [
    "pd.options.mode.chained_assignment = None  # default='warn'"
   ]
  },
  {
   "cell_type": "markdown",
   "metadata": {},
   "source": [
    "### 1.2 Data"
   ]
  },
  {
   "cell_type": "markdown",
   "metadata": {},
   "source": [
    "**Quentin**"
   ]
  },
  {
   "cell_type": "code",
   "execution_count": 4,
   "metadata": {},
   "outputs": [],
   "source": [
    "coords_path = '/Users/qdouzery/Desktop/Defi-IA_Data/Other/stations_coordinates.csv' #Perso\n",
    "\n",
    "xtrain_obs_path = '/Users/qdouzery/Desktop/Defi-IA_Data/Train/X_station_train.csv' #Perso\n",
    "xtest_obs_path = '/Users/qdouzery/Desktop/Defi-IA_Data/Test/X_station_test.csv' #Perso\n",
    "\n",
    "bltest_obs_path = '/Users/qdouzery/Desktop/Defi-IA_Data/Test/Baselines/Baseline_observation_test.csv' #Perso\n",
    "bltrain_for_path = '/Users/qdouzery/Desktop/Defi-IA_Data/Train/Baselines/Baseline_forecast_train.csv' #Perso\n",
    "bltest_for_path = '/Users/qdouzery/Desktop/Defi-IA_Data/Test/Baselines/Baseline_forecast_test.csv' #Perso\n",
    "\n",
    "ytrain_path = '/Users/qdouzery/Desktop/Defi-IA_Data/Train/Y_train.csv' #Perso"
   ]
  },
  {
   "cell_type": "code",
   "execution_count": 4,
   "metadata": {},
   "outputs": [],
   "source": [
    "coords_path = '/home/douzery/Bureau/Defi-IA_Data/Other/stations_coordinates.csv' #INSA\n",
    "xtrainS_path = '/home/douzery/Bureau/Defi-IA_Data/Train/X_station_train.csv' #INSA\n",
    "ytrain_path = '/home/douzery/Bureau/Defi-IA_Data/Train/Y_train.csv' #INSA\n",
    "xtestS_path = '/home/douzery/Bureau/Defi-IA_Data/Test/X_station_test.csv' #INSA\n",
    "bl_obsT_path = '/home/douzery/Bureau/Defi-IA_Data/Test/Baselines/Baseline_observation_test.csv' #INSA"
   ]
  },
  {
   "cell_type": "markdown",
   "metadata": {},
   "source": [
    "**Alexia**"
   ]
  },
  {
   "cell_type": "code",
   "execution_count": 3,
   "metadata": {},
   "outputs": [],
   "source": [
    "##Données\n",
    "#coords_path = 'C:/Users/Alexia/Desktop/Other/stations_coordinates.csv' #Perso\n",
    "#coords_fname  = '/kaggle/input/defi-ia-2022-test/Other/Other/stations_coordinates.csv'\n",
    "\n",
    "#xtrainS_path = 'C:/Users/Alexia/Desktop/Data/Train/X_station_train.csv' #Perso\n",
    "#fname = '/kaggle/input/defi-ia-2022-test/Train/Train/X_station_train.csv'\n",
    "\n",
    "#ytrain_path = 'C:/Users/Alexia/Desktop/Data/Train/Y_train.csv' #Perso\n",
    "#fname = '/kaggle/input/defi-ia-2022-test/Train/Train/Y_train.csv'\n",
    "\n",
    "#xtestS_path = 'C:/Users/Alexia/Desktop/Data/Test/X_station_test.csv' #Perso\n",
    "\n",
    "#bl_obsT_path = 'C:/Users/Alexia/Desktop/Data/Test/Baselines/Baseline_observation_test.csv' #Perso"
   ]
  },
  {
   "cell_type": "markdown",
   "metadata": {},
   "source": [
    "## <font color = 'royalblue'>2 Get data</font>"
   ]
  },
  {
   "cell_type": "markdown",
   "metadata": {},
   "source": [
    "### 2.1 Stations coordinates"
   ]
  },
  {
   "cell_type": "code",
   "execution_count": 5,
   "metadata": {},
   "outputs": [
    {
     "data": {
      "text/html": [
       "<div>\n",
       "<style scoped>\n",
       "    .dataframe tbody tr th:only-of-type {\n",
       "        vertical-align: middle;\n",
       "    }\n",
       "\n",
       "    .dataframe tbody tr th {\n",
       "        vertical-align: top;\n",
       "    }\n",
       "\n",
       "    .dataframe thead th {\n",
       "        text-align: right;\n",
       "    }\n",
       "</style>\n",
       "<table border=\"1\" class=\"dataframe\">\n",
       "  <thead>\n",
       "    <tr style=\"text-align: right;\">\n",
       "      <th></th>\n",
       "      <th>number_sta</th>\n",
       "      <th>lat</th>\n",
       "      <th>lon</th>\n",
       "      <th>height_sta</th>\n",
       "    </tr>\n",
       "  </thead>\n",
       "  <tbody>\n",
       "    <tr>\n",
       "      <th>0</th>\n",
       "      <td>86118001</td>\n",
       "      <td>46.477</td>\n",
       "      <td>0.985</td>\n",
       "      <td>120.0</td>\n",
       "    </tr>\n",
       "    <tr>\n",
       "      <th>1</th>\n",
       "      <td>86149001</td>\n",
       "      <td>46.917</td>\n",
       "      <td>0.025</td>\n",
       "      <td>60.0</td>\n",
       "    </tr>\n",
       "    <tr>\n",
       "      <th>2</th>\n",
       "      <td>56081003</td>\n",
       "      <td>48.050</td>\n",
       "      <td>-3.660</td>\n",
       "      <td>165.0</td>\n",
       "    </tr>\n",
       "    <tr>\n",
       "      <th>3</th>\n",
       "      <td>53215001</td>\n",
       "      <td>47.790</td>\n",
       "      <td>-0.710</td>\n",
       "      <td>63.0</td>\n",
       "    </tr>\n",
       "    <tr>\n",
       "      <th>4</th>\n",
       "      <td>22135001</td>\n",
       "      <td>48.550</td>\n",
       "      <td>-3.380</td>\n",
       "      <td>148.0</td>\n",
       "    </tr>\n",
       "    <tr>\n",
       "      <th>...</th>\n",
       "      <td>...</td>\n",
       "      <td>...</td>\n",
       "      <td>...</td>\n",
       "      <td>...</td>\n",
       "    </tr>\n",
       "    <tr>\n",
       "      <th>320</th>\n",
       "      <td>86137003</td>\n",
       "      <td>47.035</td>\n",
       "      <td>0.098</td>\n",
       "      <td>96.0</td>\n",
       "    </tr>\n",
       "    <tr>\n",
       "      <th>321</th>\n",
       "      <td>86165005</td>\n",
       "      <td>46.412</td>\n",
       "      <td>0.841</td>\n",
       "      <td>153.0</td>\n",
       "    </tr>\n",
       "    <tr>\n",
       "      <th>322</th>\n",
       "      <td>86273001</td>\n",
       "      <td>46.464</td>\n",
       "      <td>1.042</td>\n",
       "      <td>121.0</td>\n",
       "    </tr>\n",
       "    <tr>\n",
       "      <th>323</th>\n",
       "      <td>91200002</td>\n",
       "      <td>48.526</td>\n",
       "      <td>1.993</td>\n",
       "      <td>116.0</td>\n",
       "    </tr>\n",
       "    <tr>\n",
       "      <th>324</th>\n",
       "      <td>95690001</td>\n",
       "      <td>49.108</td>\n",
       "      <td>1.831</td>\n",
       "      <td>126.0</td>\n",
       "    </tr>\n",
       "  </tbody>\n",
       "</table>\n",
       "<p>325 rows × 4 columns</p>\n",
       "</div>"
      ],
      "text/plain": [
       "     number_sta     lat    lon  height_sta\n",
       "0      86118001  46.477  0.985       120.0\n",
       "1      86149001  46.917  0.025        60.0\n",
       "2      56081003  48.050 -3.660       165.0\n",
       "3      53215001  47.790 -0.710        63.0\n",
       "4      22135001  48.550 -3.380       148.0\n",
       "..          ...     ...    ...         ...\n",
       "320    86137003  47.035  0.098        96.0\n",
       "321    86165005  46.412  0.841       153.0\n",
       "322    86273001  46.464  1.042       121.0\n",
       "323    91200002  48.526  1.993       116.0\n",
       "324    95690001  49.108  1.831       126.0\n",
       "\n",
       "[325 rows x 4 columns]"
      ]
     },
     "metadata": {},
     "output_type": "display_data"
    },
    {
     "name": "stdout",
     "output_type": "stream",
     "text": [
      "Missing Data : 0 \n",
      " Shape is : (325, 4)\n"
     ]
    }
   ],
   "source": [
    "##Coords\n",
    "coords = pd.read_csv(coords_path)\n",
    "display(coords)\n",
    "print('Missing Data :', coords.isna().sum().sum(), '\\n', 'Shape is :', coords.shape)"
   ]
  },
  {
   "cell_type": "markdown",
   "metadata": {},
   "source": [
    "### 2.2 X_train"
   ]
  },
  {
   "cell_type": "code",
   "execution_count": 6,
   "metadata": {},
   "outputs": [
    {
     "data": {
      "text/html": [
       "<div>\n",
       "<style scoped>\n",
       "    .dataframe tbody tr th:only-of-type {\n",
       "        vertical-align: middle;\n",
       "    }\n",
       "\n",
       "    .dataframe tbody tr th {\n",
       "        vertical-align: top;\n",
       "    }\n",
       "\n",
       "    .dataframe thead th {\n",
       "        text-align: right;\n",
       "    }\n",
       "</style>\n",
       "<table border=\"1\" class=\"dataframe\">\n",
       "  <thead>\n",
       "    <tr style=\"text-align: right;\">\n",
       "      <th></th>\n",
       "      <th>number_sta</th>\n",
       "      <th>date</th>\n",
       "      <th>ff</th>\n",
       "      <th>t</th>\n",
       "      <th>td</th>\n",
       "      <th>hu</th>\n",
       "      <th>dd</th>\n",
       "      <th>precip</th>\n",
       "      <th>Id</th>\n",
       "    </tr>\n",
       "  </thead>\n",
       "  <tbody>\n",
       "    <tr>\n",
       "      <th>0</th>\n",
       "      <td>14066001</td>\n",
       "      <td>2016-01-01 00:00:00</td>\n",
       "      <td>3.05</td>\n",
       "      <td>279.28</td>\n",
       "      <td>277.97</td>\n",
       "      <td>91.4</td>\n",
       "      <td>200.0</td>\n",
       "      <td>0.0</td>\n",
       "      <td>14066001_0_0</td>\n",
       "    </tr>\n",
       "    <tr>\n",
       "      <th>1</th>\n",
       "      <td>14066001</td>\n",
       "      <td>2016-01-01 01:00:00</td>\n",
       "      <td>2.57</td>\n",
       "      <td>278.76</td>\n",
       "      <td>277.45</td>\n",
       "      <td>91.4</td>\n",
       "      <td>190.0</td>\n",
       "      <td>0.0</td>\n",
       "      <td>14066001_0_1</td>\n",
       "    </tr>\n",
       "    <tr>\n",
       "      <th>2</th>\n",
       "      <td>14066001</td>\n",
       "      <td>2016-01-01 02:00:00</td>\n",
       "      <td>2.26</td>\n",
       "      <td>278.27</td>\n",
       "      <td>277.02</td>\n",
       "      <td>91.7</td>\n",
       "      <td>181.0</td>\n",
       "      <td>0.0</td>\n",
       "      <td>14066001_0_2</td>\n",
       "    </tr>\n",
       "    <tr>\n",
       "      <th>3</th>\n",
       "      <td>14066001</td>\n",
       "      <td>2016-01-01 03:00:00</td>\n",
       "      <td>2.62</td>\n",
       "      <td>277.98</td>\n",
       "      <td>276.95</td>\n",
       "      <td>93.0</td>\n",
       "      <td>159.0</td>\n",
       "      <td>0.0</td>\n",
       "      <td>14066001_0_3</td>\n",
       "    </tr>\n",
       "    <tr>\n",
       "      <th>4</th>\n",
       "      <td>14066001</td>\n",
       "      <td>2016-01-01 04:00:00</td>\n",
       "      <td>2.99</td>\n",
       "      <td>277.32</td>\n",
       "      <td>276.72</td>\n",
       "      <td>95.9</td>\n",
       "      <td>171.0</td>\n",
       "      <td>0.0</td>\n",
       "      <td>14066001_0_4</td>\n",
       "    </tr>\n",
       "    <tr>\n",
       "      <th>...</th>\n",
       "      <td>...</td>\n",
       "      <td>...</td>\n",
       "      <td>...</td>\n",
       "      <td>...</td>\n",
       "      <td>...</td>\n",
       "      <td>...</td>\n",
       "      <td>...</td>\n",
       "      <td>...</td>\n",
       "      <td>...</td>\n",
       "    </tr>\n",
       "    <tr>\n",
       "      <th>4409469</th>\n",
       "      <td>95690001</td>\n",
       "      <td>2017-12-30 19:00:00</td>\n",
       "      <td>9.10</td>\n",
       "      <td>286.68</td>\n",
       "      <td>283.44</td>\n",
       "      <td>80.8</td>\n",
       "      <td>239.0</td>\n",
       "      <td>0.0</td>\n",
       "      <td>95690001_729_19</td>\n",
       "    </tr>\n",
       "    <tr>\n",
       "      <th>4409470</th>\n",
       "      <td>95690001</td>\n",
       "      <td>2017-12-30 20:00:00</td>\n",
       "      <td>8.58</td>\n",
       "      <td>286.39</td>\n",
       "      <td>283.21</td>\n",
       "      <td>81.1</td>\n",
       "      <td>231.0</td>\n",
       "      <td>0.0</td>\n",
       "      <td>95690001_729_20</td>\n",
       "    </tr>\n",
       "    <tr>\n",
       "      <th>4409471</th>\n",
       "      <td>95690001</td>\n",
       "      <td>2017-12-30 21:00:00</td>\n",
       "      <td>8.74</td>\n",
       "      <td>286.28</td>\n",
       "      <td>283.40</td>\n",
       "      <td>82.6</td>\n",
       "      <td>226.0</td>\n",
       "      <td>0.0</td>\n",
       "      <td>95690001_729_21</td>\n",
       "    </tr>\n",
       "    <tr>\n",
       "      <th>4409472</th>\n",
       "      <td>95690001</td>\n",
       "      <td>2017-12-30 22:00:00</td>\n",
       "      <td>9.04</td>\n",
       "      <td>286.21</td>\n",
       "      <td>283.29</td>\n",
       "      <td>82.4</td>\n",
       "      <td>224.0</td>\n",
       "      <td>0.0</td>\n",
       "      <td>95690001_729_22</td>\n",
       "    </tr>\n",
       "    <tr>\n",
       "      <th>4409473</th>\n",
       "      <td>95690001</td>\n",
       "      <td>2017-12-30 23:00:00</td>\n",
       "      <td>9.11</td>\n",
       "      <td>285.92</td>\n",
       "      <td>282.42</td>\n",
       "      <td>79.4</td>\n",
       "      <td>221.0</td>\n",
       "      <td>0.0</td>\n",
       "      <td>95690001_729_23</td>\n",
       "    </tr>\n",
       "  </tbody>\n",
       "</table>\n",
       "<p>4409474 rows × 9 columns</p>\n",
       "</div>"
      ],
      "text/plain": [
       "        number_sta                date    ff       t      td    hu     dd  \\\n",
       "0         14066001 2016-01-01 00:00:00  3.05  279.28  277.97  91.4  200.0   \n",
       "1         14066001 2016-01-01 01:00:00  2.57  278.76  277.45  91.4  190.0   \n",
       "2         14066001 2016-01-01 02:00:00  2.26  278.27  277.02  91.7  181.0   \n",
       "3         14066001 2016-01-01 03:00:00  2.62  277.98  276.95  93.0  159.0   \n",
       "4         14066001 2016-01-01 04:00:00  2.99  277.32  276.72  95.9  171.0   \n",
       "...            ...                 ...   ...     ...     ...   ...    ...   \n",
       "4409469   95690001 2017-12-30 19:00:00  9.10  286.68  283.44  80.8  239.0   \n",
       "4409470   95690001 2017-12-30 20:00:00  8.58  286.39  283.21  81.1  231.0   \n",
       "4409471   95690001 2017-12-30 21:00:00  8.74  286.28  283.40  82.6  226.0   \n",
       "4409472   95690001 2017-12-30 22:00:00  9.04  286.21  283.29  82.4  224.0   \n",
       "4409473   95690001 2017-12-30 23:00:00  9.11  285.92  282.42  79.4  221.0   \n",
       "\n",
       "         precip               Id  \n",
       "0           0.0     14066001_0_0  \n",
       "1           0.0     14066001_0_1  \n",
       "2           0.0     14066001_0_2  \n",
       "3           0.0     14066001_0_3  \n",
       "4           0.0     14066001_0_4  \n",
       "...         ...              ...  \n",
       "4409469     0.0  95690001_729_19  \n",
       "4409470     0.0  95690001_729_20  \n",
       "4409471     0.0  95690001_729_21  \n",
       "4409472     0.0  95690001_729_22  \n",
       "4409473     0.0  95690001_729_23  \n",
       "\n",
       "[4409474 rows x 9 columns]"
      ]
     },
     "metadata": {},
     "output_type": "display_data"
    },
    {
     "name": "stdout",
     "output_type": "stream",
     "text": [
      "Missing Data : 6899007 \n",
      " Shape is : (4409474, 9)\n"
     ]
    }
   ],
   "source": [
    "xtrain_obs = pd.read_csv(xtrain_obs_path,parse_dates=['date'],infer_datetime_format=True)\n",
    "xtrain_obs['number_sta'] = xtrain_obs['number_sta'].astype('category')  \n",
    "display(xtrain_obs)\n",
    "print('Missing Data :', xtrain_obs.isna().sum().sum(), '\\n', 'Shape is :', xtrain_obs.shape)"
   ]
  },
  {
   "cell_type": "markdown",
   "metadata": {},
   "source": [
    "### 2.3 Y_train"
   ]
  },
  {
   "cell_type": "code",
   "execution_count": 7,
   "metadata": {},
   "outputs": [
    {
     "data": {
      "text/html": [
       "<div>\n",
       "<style scoped>\n",
       "    .dataframe tbody tr th:only-of-type {\n",
       "        vertical-align: middle;\n",
       "    }\n",
       "\n",
       "    .dataframe tbody tr th {\n",
       "        vertical-align: top;\n",
       "    }\n",
       "\n",
       "    .dataframe thead th {\n",
       "        text-align: right;\n",
       "    }\n",
       "</style>\n",
       "<table border=\"1\" class=\"dataframe\">\n",
       "  <thead>\n",
       "    <tr style=\"text-align: right;\">\n",
       "      <th></th>\n",
       "      <th>date</th>\n",
       "      <th>number_sta</th>\n",
       "      <th>Ground_truth</th>\n",
       "      <th>Id</th>\n",
       "    </tr>\n",
       "  </thead>\n",
       "  <tbody>\n",
       "    <tr>\n",
       "      <th>0</th>\n",
       "      <td>2016-01-02</td>\n",
       "      <td>14066001</td>\n",
       "      <td>3.4</td>\n",
       "      <td>14066001_0</td>\n",
       "    </tr>\n",
       "    <tr>\n",
       "      <th>1</th>\n",
       "      <td>2016-01-02</td>\n",
       "      <td>14126001</td>\n",
       "      <td>0.5</td>\n",
       "      <td>14126001_0</td>\n",
       "    </tr>\n",
       "    <tr>\n",
       "      <th>2</th>\n",
       "      <td>2016-01-02</td>\n",
       "      <td>14137001</td>\n",
       "      <td>3.4</td>\n",
       "      <td>14137001_0</td>\n",
       "    </tr>\n",
       "    <tr>\n",
       "      <th>3</th>\n",
       "      <td>2016-01-02</td>\n",
       "      <td>14216001</td>\n",
       "      <td>4.0</td>\n",
       "      <td>14216001_0</td>\n",
       "    </tr>\n",
       "    <tr>\n",
       "      <th>4</th>\n",
       "      <td>2016-01-02</td>\n",
       "      <td>14296001</td>\n",
       "      <td>13.3</td>\n",
       "      <td>14296001_0</td>\n",
       "    </tr>\n",
       "    <tr>\n",
       "      <th>...</th>\n",
       "      <td>...</td>\n",
       "      <td>...</td>\n",
       "      <td>...</td>\n",
       "      <td>...</td>\n",
       "    </tr>\n",
       "    <tr>\n",
       "      <th>183742</th>\n",
       "      <td>2017-12-31</td>\n",
       "      <td>86137003</td>\n",
       "      <td>5.0</td>\n",
       "      <td>86137003_729</td>\n",
       "    </tr>\n",
       "    <tr>\n",
       "      <th>183743</th>\n",
       "      <td>2017-12-31</td>\n",
       "      <td>86165005</td>\n",
       "      <td>3.2</td>\n",
       "      <td>86165005_729</td>\n",
       "    </tr>\n",
       "    <tr>\n",
       "      <th>183744</th>\n",
       "      <td>2017-12-31</td>\n",
       "      <td>86272002</td>\n",
       "      <td>1.8</td>\n",
       "      <td>86272002_729</td>\n",
       "    </tr>\n",
       "    <tr>\n",
       "      <th>183745</th>\n",
       "      <td>2017-12-31</td>\n",
       "      <td>91200002</td>\n",
       "      <td>1.6</td>\n",
       "      <td>91200002_729</td>\n",
       "    </tr>\n",
       "    <tr>\n",
       "      <th>183746</th>\n",
       "      <td>2017-12-31</td>\n",
       "      <td>95690001</td>\n",
       "      <td>1.2</td>\n",
       "      <td>95690001_729</td>\n",
       "    </tr>\n",
       "  </tbody>\n",
       "</table>\n",
       "<p>183747 rows × 4 columns</p>\n",
       "</div>"
      ],
      "text/plain": [
       "             date number_sta  Ground_truth            Id\n",
       "0      2016-01-02   14066001           3.4    14066001_0\n",
       "1      2016-01-02   14126001           0.5    14126001_0\n",
       "2      2016-01-02   14137001           3.4    14137001_0\n",
       "3      2016-01-02   14216001           4.0    14216001_0\n",
       "4      2016-01-02   14296001          13.3    14296001_0\n",
       "...           ...        ...           ...           ...\n",
       "183742 2017-12-31   86137003           5.0  86137003_729\n",
       "183743 2017-12-31   86165005           3.2  86165005_729\n",
       "183744 2017-12-31   86272002           1.8  86272002_729\n",
       "183745 2017-12-31   91200002           1.6  91200002_729\n",
       "183746 2017-12-31   95690001           1.2  95690001_729\n",
       "\n",
       "[183747 rows x 4 columns]"
      ]
     },
     "metadata": {},
     "output_type": "display_data"
    },
    {
     "name": "stdout",
     "output_type": "stream",
     "text": [
      "Missing Data : 21640 \n",
      " Shape is : (183747, 4)\n"
     ]
    }
   ],
   "source": [
    "ytrain = pd.read_csv(ytrain_path, parse_dates=['date'], infer_datetime_format=True)\n",
    "ytrain['number_sta'] = ytrain['number_sta'].astype('category')\n",
    "display(ytrain)\n",
    "print('Missing Data :', ytrain.isna().sum().sum(), '\\n', 'Shape is :', ytrain.shape)"
   ]
  },
  {
   "cell_type": "markdown",
   "metadata": {},
   "source": [
    "### 2.4 X_test"
   ]
  },
  {
   "cell_type": "code",
   "execution_count": 8,
   "metadata": {},
   "outputs": [
    {
     "data": {
      "text/html": [
       "<div>\n",
       "<style scoped>\n",
       "    .dataframe tbody tr th:only-of-type {\n",
       "        vertical-align: middle;\n",
       "    }\n",
       "\n",
       "    .dataframe tbody tr th {\n",
       "        vertical-align: top;\n",
       "    }\n",
       "\n",
       "    .dataframe thead th {\n",
       "        text-align: right;\n",
       "    }\n",
       "</style>\n",
       "<table border=\"1\" class=\"dataframe\">\n",
       "  <thead>\n",
       "    <tr style=\"text-align: right;\">\n",
       "      <th></th>\n",
       "      <th>dd</th>\n",
       "      <th>hu</th>\n",
       "      <th>td</th>\n",
       "      <th>t</th>\n",
       "      <th>ff</th>\n",
       "      <th>precip</th>\n",
       "      <th>month</th>\n",
       "      <th>Id</th>\n",
       "    </tr>\n",
       "  </thead>\n",
       "  <tbody>\n",
       "    <tr>\n",
       "      <th>0</th>\n",
       "      <td>NaN</td>\n",
       "      <td>NaN</td>\n",
       "      <td>NaN</td>\n",
       "      <td>278.35</td>\n",
       "      <td>NaN</td>\n",
       "      <td>NaN</td>\n",
       "      <td>12</td>\n",
       "      <td>14047002_277_4</td>\n",
       "    </tr>\n",
       "    <tr>\n",
       "      <th>1</th>\n",
       "      <td>NaN</td>\n",
       "      <td>NaN</td>\n",
       "      <td>NaN</td>\n",
       "      <td>278.40</td>\n",
       "      <td>NaN</td>\n",
       "      <td>0.0</td>\n",
       "      <td>12</td>\n",
       "      <td>14047002_277_5</td>\n",
       "    </tr>\n",
       "    <tr>\n",
       "      <th>2</th>\n",
       "      <td>NaN</td>\n",
       "      <td>NaN</td>\n",
       "      <td>NaN</td>\n",
       "      <td>279.01</td>\n",
       "      <td>NaN</td>\n",
       "      <td>0.0</td>\n",
       "      <td>12</td>\n",
       "      <td>14047002_277_6</td>\n",
       "    </tr>\n",
       "    <tr>\n",
       "      <th>3</th>\n",
       "      <td>NaN</td>\n",
       "      <td>NaN</td>\n",
       "      <td>NaN</td>\n",
       "      <td>279.66</td>\n",
       "      <td>NaN</td>\n",
       "      <td>0.0</td>\n",
       "      <td>12</td>\n",
       "      <td>14047002_277_7</td>\n",
       "    </tr>\n",
       "    <tr>\n",
       "      <th>4</th>\n",
       "      <td>NaN</td>\n",
       "      <td>NaN</td>\n",
       "      <td>NaN</td>\n",
       "      <td>279.99</td>\n",
       "      <td>NaN</td>\n",
       "      <td>0.0</td>\n",
       "      <td>12</td>\n",
       "      <td>14047002_277_8</td>\n",
       "    </tr>\n",
       "    <tr>\n",
       "      <th>...</th>\n",
       "      <td>...</td>\n",
       "      <td>...</td>\n",
       "      <td>...</td>\n",
       "      <td>...</td>\n",
       "      <td>...</td>\n",
       "      <td>...</td>\n",
       "      <td>...</td>\n",
       "      <td>...</td>\n",
       "    </tr>\n",
       "    <tr>\n",
       "      <th>2304797</th>\n",
       "      <td>190.0</td>\n",
       "      <td>82.8</td>\n",
       "      <td>277.00</td>\n",
       "      <td>279.74</td>\n",
       "      <td>10.62</td>\n",
       "      <td>0.0</td>\n",
       "      <td>12</td>\n",
       "      <td>95690001_176_19</td>\n",
       "    </tr>\n",
       "    <tr>\n",
       "      <th>2304798</th>\n",
       "      <td>195.0</td>\n",
       "      <td>84.2</td>\n",
       "      <td>277.44</td>\n",
       "      <td>279.93</td>\n",
       "      <td>11.86</td>\n",
       "      <td>0.0</td>\n",
       "      <td>12</td>\n",
       "      <td>95690001_176_20</td>\n",
       "    </tr>\n",
       "    <tr>\n",
       "      <th>2304799</th>\n",
       "      <td>199.0</td>\n",
       "      <td>85.7</td>\n",
       "      <td>277.95</td>\n",
       "      <td>280.21</td>\n",
       "      <td>11.77</td>\n",
       "      <td>0.0</td>\n",
       "      <td>12</td>\n",
       "      <td>95690001_176_21</td>\n",
       "    </tr>\n",
       "    <tr>\n",
       "      <th>2304800</th>\n",
       "      <td>198.0</td>\n",
       "      <td>85.3</td>\n",
       "      <td>278.25</td>\n",
       "      <td>280.58</td>\n",
       "      <td>10.16</td>\n",
       "      <td>0.0</td>\n",
       "      <td>12</td>\n",
       "      <td>95690001_176_22</td>\n",
       "    </tr>\n",
       "    <tr>\n",
       "      <th>2304801</th>\n",
       "      <td>190.0</td>\n",
       "      <td>86.0</td>\n",
       "      <td>278.60</td>\n",
       "      <td>280.80</td>\n",
       "      <td>9.50</td>\n",
       "      <td>0.0</td>\n",
       "      <td>12</td>\n",
       "      <td>95690001_176_23</td>\n",
       "    </tr>\n",
       "  </tbody>\n",
       "</table>\n",
       "<p>2304802 rows × 8 columns</p>\n",
       "</div>"
      ],
      "text/plain": [
       "            dd    hu      td       t     ff  precip  month               Id\n",
       "0          NaN   NaN     NaN  278.35    NaN     NaN     12   14047002_277_4\n",
       "1          NaN   NaN     NaN  278.40    NaN     0.0     12   14047002_277_5\n",
       "2          NaN   NaN     NaN  279.01    NaN     0.0     12   14047002_277_6\n",
       "3          NaN   NaN     NaN  279.66    NaN     0.0     12   14047002_277_7\n",
       "4          NaN   NaN     NaN  279.99    NaN     0.0     12   14047002_277_8\n",
       "...        ...   ...     ...     ...    ...     ...    ...              ...\n",
       "2304797  190.0  82.8  277.00  279.74  10.62     0.0     12  95690001_176_19\n",
       "2304798  195.0  84.2  277.44  279.93  11.86     0.0     12  95690001_176_20\n",
       "2304799  199.0  85.7  277.95  280.21  11.77     0.0     12  95690001_176_21\n",
       "2304800  198.0  85.3  278.25  280.58  10.16     0.0     12  95690001_176_22\n",
       "2304801  190.0  86.0  278.60  280.80   9.50     0.0     12  95690001_176_23\n",
       "\n",
       "[2304802 rows x 8 columns]"
      ]
     },
     "metadata": {},
     "output_type": "display_data"
    },
    {
     "name": "stdout",
     "output_type": "stream",
     "text": [
      "Missing Data : 3914287 \n",
      " Shape is : (2304802, 8)\n"
     ]
    }
   ],
   "source": [
    "xtest_obs = pd.read_csv(xtest_obs_path,infer_datetime_format=True)\n",
    "display(xtest_obs)\n",
    "print('Missing Data :', xtest_obs.isna().sum().sum(), '\\n', 'Shape is :', xtest_obs.shape)"
   ]
  },
  {
   "cell_type": "markdown",
   "metadata": {},
   "source": [
    "### 2.5 Baseline observations"
   ]
  },
  {
   "cell_type": "code",
   "execution_count": 11,
   "metadata": {},
   "outputs": [],
   "source": [
    "bltest_obs = pd.read_csv(bltest_obs_path,infer_datetime_format=True)"
   ]
  },
  {
   "cell_type": "markdown",
   "metadata": {},
   "source": [
    "### 2.6 Baseline forecast"
   ]
  },
  {
   "cell_type": "code",
   "execution_count": 12,
   "metadata": {},
   "outputs": [],
   "source": [
    "bltrain_for = pd.read_csv(bltrain_for_path, infer_datetime_format=True)\n",
    "bltest_for = pd.read_csv(bltest_for_path, infer_datetime_format=True)"
   ]
  },
  {
   "cell_type": "markdown",
   "metadata": {},
   "source": [
    "## <font color = 'royalblue'>3 Pre-processing</font>"
   ]
  },
  {
   "cell_type": "markdown",
   "metadata": {},
   "source": [
    "### 3.0 Usefull functions"
   ]
  },
  {
   "cell_type": "code",
   "execution_count": 15,
   "metadata": {},
   "outputs": [],
   "source": [
    "def Get_NumberSta(id):\n",
    "    return int(id.split('_')[0])"
   ]
  },
  {
   "cell_type": "code",
   "execution_count": 16,
   "metadata": {},
   "outputs": [],
   "source": [
    "def Get_StationDay(id):\n",
    "    return id.split('_')[0] + \"_\" + id.split('_')[1]"
   ]
  },
  {
   "cell_type": "code",
   "execution_count": 17,
   "metadata": {},
   "outputs": [],
   "source": [
    "def Id_to_int(id):\n",
    "    return int(id.split('_')[0] + id.split('_')[1] + id.split('_')[2])"
   ]
  },
  {
   "cell_type": "code",
   "execution_count": 18,
   "metadata": {},
   "outputs": [],
   "source": [
    "def Variable_to_CoSin(df, variable):\n",
    "    df2 = df.copy()\n",
    "    \n",
    "    ##Create features names\n",
    "    norm_var = \"norm_\" + variable\n",
    "    cos_var = \"cos_\" + variable\n",
    "    sin_var = \"sin_\" + variable\n",
    "    \n",
    "    ##Normalize values to match with the 0-2π cycle\n",
    "    df2[norm_var] = (2*np.pi*df2[variable])/df2[variable].max()\n",
    "    \n",
    "    ##Create cos and sin features\n",
    "    df2[cos_var] = np.cos(df2[norm_var])\n",
    "    df2[sin_var] = np.sin(df2[norm_var])\n",
    "    \n",
    "    ##Drop normalized variable\n",
    "    df2.drop([variable, norm_var], axis=1, inplace=True)\n",
    "    \n",
    "    return df2"
   ]
  },
  {
   "cell_type": "code",
   "execution_count": 19,
   "metadata": {},
   "outputs": [],
   "source": [
    "def Get_Season(month):\n",
    "    if (month in [1,2,3]):\n",
    "        season = \"Hiver\"\n",
    "    elif (month in [4,5,6]):\n",
    "        season = \"Printemps\"\n",
    "    elif (month in [7,8,9]):\n",
    "        season = \"Ete\"\n",
    "    else:\n",
    "        season = \"Automne\"\n",
    "    \n",
    "    return season"
   ]
  },
  {
   "cell_type": "code",
   "execution_count": 20,
   "metadata": {},
   "outputs": [],
   "source": [
    "def calc_smooth_mean(df, by, on, m):\n",
    "    # Compute the global mean\n",
    "    mean = df[on].mean()\n",
    "\n",
    "    # Compute the number of values and the mean of each group\n",
    "    agg = df.groupby(by)[on].agg(['count', 'mean'])\n",
    "    counts = agg['count']\n",
    "    means = agg['mean']\n",
    "\n",
    "    # Compute the \"smoothed\" means\n",
    "    smooth = (counts * means + m * mean) / (counts + m)\n",
    "\n",
    "    # Replace each value by the according smoothed mean\n",
    "    return df[by].map(smooth)"
   ]
  },
  {
   "cell_type": "markdown",
   "metadata": {},
   "source": [
    "### 3.1 Train data"
   ]
  },
  {
   "cell_type": "code",
   "execution_count": 51,
   "metadata": {},
   "outputs": [],
   "source": [
    "def Preprocess_train (xtrain, ytrain, nan, mean, smooth_means):\n",
    "    ##Copy original df\n",
    "    xtrain_p = xtrain.copy()\n",
    "    ytrain_p = ytrain.copy()\n",
    "    \n",
    "    ##Add stations coordinates\n",
    "    xtrain_p = xtrain_p.merge(coords, how='left', on='number_sta')\n",
    "    \n",
    "    ##Add 'month' variable\n",
    "    xtrain_p['month'] = xtrain_p['date'].dt.month\n",
    "\n",
    "    ##Handle NaNs\n",
    "    if (nan == \"drop\"): #Drop all NaNs\n",
    "        xtrain_p.dropna(inplace=True)\n",
    "        ytrain_p.dropna(inplace=True)\n",
    "    elif (nan == \"fill\"): #Fill NaNs\n",
    "        xtrain_p = xtrain_p.fillna(method=\"backfill\")\n",
    "    \n",
    "    ##Create 'StationDay' variable\n",
    "    xtrain_p = xtrain_p.assign(StationDay=pd.Series(np.zeros(xtrain_p.shape[0])).values)\n",
    "    xtrain_p.loc[:,\"StationDay\"] = xtrain_p.loc[:,\"Id\"].apply(Get_StationDay)\n",
    "    \n",
    "    ##Drop useless variables\n",
    "    xtrain_p.drop(['number_sta', 'date', 'Id'], axis=1, inplace=True)\n",
    "    ytrain_p.drop(['date', 'number_sta'], axis=1, inplace=True)\n",
    "    \n",
    "    ##Mean on 24 hours for ['dd', 'hu', 'td', 't', 'ff']\n",
    "    if (mean == \"all\"): #Mean on all the value sof a day\n",
    "        aux_precip = xtrain_p[['StationDay', 'precip']]\n",
    "        sum_precip = aux_precip.groupby(['StationDay'], as_index=False).sum()\n",
    "        xtrain_p = xtrain_p.groupby(['StationDay'], as_index=False).mean()\n",
    "        xtrain_p.loc[:,'precip'] = sum_precip.loc[:,'precip']\n",
    "    elif (mean == \"just24\"): #Mean just if there are 24 hours in a day\n",
    "        xtrain_p = xtrain_p.groupby(\"StationDay\", as_index=False).agg(pd.Series.sum, min_count = 24)\n",
    "        xtrain_p[['dd', 'hu', 'td', 't', 'ff', 'month',\n",
    "                  'lat', 'lon', 'height_sta']] = xtrain_p[['dd', 'hu', 'td', 't', 'ff', 'month',\n",
    "                                                           'lat', 'lon', 'height_sta']].divide(24)\n",
    "    \n",
    "    ##Drop NaNs\n",
    "    xtrain_p.dropna(inplace=True)\n",
    "    \n",
    "    ##Keep the same rows in xtrain and ytrain\n",
    "    xtrain_p = xtrain_p.loc[xtrain_p['StationDay'].isin(ytrain_p[\"Id\"])]\n",
    "    ytrain_p = ytrain_p.loc[ytrain_p['Id'].isin(xtrain_p[\"StationDay\"])]\n",
    "    \n",
    "    ##Reset index\n",
    "    xtrain_p.reset_index(drop=True, inplace=True)\n",
    "    ytrain_p.reset_index(drop=True, inplace=True)\n",
    "    \n",
    "    ##Sort xtrain (based on ytrain 'Id')\n",
    "    xtrain_p = xtrain_p.set_index('StationDay')\n",
    "    xtrain_p = xtrain_p.reindex(index=ytrain_p['Id'])\n",
    "    xtrain_p = xtrain_p.reset_index()\n",
    "    \n",
    "    ##Add 'season' variable\n",
    "    xtrain_p = xtrain_p.assign(season=pd.Series(np.zeros(xtrain_p.shape[0])).values)\n",
    "    xtrain_p.loc[:,\"season\"] = xtrain_p.loc[:,'month'].apply(Get_Season)\n",
    "    \n",
    "    ##Get smooth mean for wanted variable\n",
    "    for variable in smooth_means:\n",
    "        xtrain_p[variable] = calc_smooth_mean(xtrain_p, by=variable, on='precip', m=300)\n",
    "        \n",
    "    ##Add 'forecast' variable (based on the baseline forecast)\n",
    "    xtrain_p = xtrain_p.merge(bltrain_for, how='left', on='Id')\n",
    "    xtrain_p = xtrain_p.rename(columns = {'Prediction':'forecast'})\n",
    "    xtrain_p.drop(['number_sta', 'date'], axis=1, inplace=True)\n",
    "        \n",
    "    return xtrain_p, ytrain_p"
   ]
  },
  {
   "cell_type": "code",
   "execution_count": 28,
   "metadata": {},
   "outputs": [],
   "source": [
    "xtrain_p, ytrain_p = Preprocess_train(xtrain_obs, ytrain, \"drop\", \"just24\", ['season'])"
   ]
  },
  {
   "cell_type": "markdown",
   "metadata": {},
   "source": [
    "### 3.3 Test data"
   ]
  },
  {
   "cell_type": "code",
   "execution_count": 48,
   "metadata": {},
   "outputs": [],
   "source": [
    "def Preprocess_test (xtest, smooth_means):\n",
    "    ##Copy original df\n",
    "    xtest_p = xtest.copy()\n",
    "    \n",
    "    ##Create 'number_sta' variable\n",
    "    xtest_p = xtest_p.assign(number_sta=pd.Series(np.zeros(xtest_p.shape[0])).values)\n",
    "    xtest_p.loc[:,\"number_sta\"] = xtest_p.loc[:,\"Id\"].apply(Get_NumberSta)\n",
    "    \n",
    "    ##Add stations coordinates\n",
    "    xtest_p = xtest_p.merge(coords, how='left', on='number_sta')\n",
    "    \n",
    "    ##Create 'IntId' variable\n",
    "    xtest_p = xtest_p.assign(IntId=pd.Series(np.zeros(xtest_p.shape[0])).values)\n",
    "    xtest_p.loc[:,\"IntId\"] = xtest_p.loc[:,\"Id\"].apply(Id_to_int)\n",
    "    \n",
    "    ##Sort xtest (based on 'IntId')\n",
    "    xtest_p = xtest_p.sort_values('IntId', ignore_index=True)\n",
    "    \n",
    "    ##Fill NaNs\n",
    "    xtest_p = xtest_p.fillna(method=\"backfill\")\n",
    "    \n",
    "    ##Create 'StationDay' variable\n",
    "    xtest_p = xtest_p.assign(StationDay=pd.Series(np.zeros(xtest_p.shape[0])).values)\n",
    "    xtest_p.loc[:,\"StationDay\"] = xtest_p.loc[:,\"Id\"].apply(Get_StationDay)\n",
    "    \n",
    "    ##Drop useless variables\n",
    "    xtest_p.drop(['Id', 'IntId', 'number_sta'], axis=1, inplace=True)\n",
    "\n",
    "    ##Mean on 24 hours for ['dd', 'hu', 'td', 't', 'ff']\n",
    "    aux_precip = xtest_p[['StationDay', 'precip']]\n",
    "    sum_precip = aux_precip.groupby(['StationDay'], as_index=False).sum()\n",
    "    xtest_p = xtest_p.groupby(['StationDay'], as_index=False).mean()\n",
    "    xtest_p.loc[:,'precip'] = sum_precip.loc[:,'precip']\n",
    "    \n",
    "    ##Drop NaNs\n",
    "    xtest_p.dropna(inplace=True)\n",
    "    \n",
    "    ##Keep the same rows in xtest and ytest\n",
    "    xtest_p = xtest_p.loc[xtest_p['StationDay'].isin(bltest_obs[\"Id\"])]\n",
    "\n",
    "    ##Reset index\n",
    "    xtest_p.reset_index(drop=True, inplace=True)\n",
    "    \n",
    "    ##Sort xtest (based on baseline_obs 'Id')\n",
    "    xtest_p = xtest_p.set_index('StationDay')\n",
    "    xtest_p = xtest_p.reindex(index=bltest_obs['Id'])\n",
    "    xtest_p = xtest_p.reset_index()\n",
    "    \n",
    "    ##Rearrange columns order (same as in xtrain)\n",
    "    xtest_p = xtest_p[['Id', 'ff', 't', 'td', 'hu', 'dd', 'precip', 'lat', 'lon', 'height_sta', 'month']]\n",
    "    \n",
    "    ##Add 'season' variable\n",
    "    xtest_p = xtest_p.assign(season=pd.Series(np.zeros(xtest_p.shape[0])).values)\n",
    "    xtest_p.loc[:,\"season\"] = xtest_p.loc[:,'month'].apply(Get_Season)\n",
    "    \n",
    "    ##Get smooth mean for wanted variable\n",
    "    for variable in smooth_means:\n",
    "        xtest_p[variable] = calc_smooth_mean(xtest_p, by=variable, on='precip', m=300)\n",
    "        \n",
    "    ##Add 'forecast' variable (based on the baseline forecast)\n",
    "    xtest_p = xtest_p.merge(bltest_for, how='left', on='Id')\n",
    "    xtest_p = xtest_p.rename(columns = {'Prediction':'forecast'})\n",
    "    xtest_p = xtest_p.fillna(method=\"backfill\")\n",
    "    \n",
    "    return xtest_p"
   ]
  },
  {
   "cell_type": "code",
   "execution_count": 49,
   "metadata": {},
   "outputs": [],
   "source": [
    "xtest_p = Preprocess_test(xtest_obs, ['season'])"
   ]
  },
  {
   "cell_type": "markdown",
   "metadata": {},
   "source": [
    "**Create Y_train for classification**"
   ]
  },
  {
   "cell_type": "code",
   "execution_count": 23,
   "metadata": {},
   "outputs": [
    {
     "data": {
      "text/html": [
       "<div>\n",
       "<style scoped>\n",
       "    .dataframe tbody tr th:only-of-type {\n",
       "        vertical-align: middle;\n",
       "    }\n",
       "\n",
       "    .dataframe tbody tr th {\n",
       "        vertical-align: top;\n",
       "    }\n",
       "\n",
       "    .dataframe thead th {\n",
       "        text-align: right;\n",
       "    }\n",
       "</style>\n",
       "<table border=\"1\" class=\"dataframe\">\n",
       "  <thead>\n",
       "    <tr style=\"text-align: right;\">\n",
       "      <th></th>\n",
       "      <th>Ground_truth</th>\n",
       "      <th>Id</th>\n",
       "    </tr>\n",
       "  </thead>\n",
       "  <tbody>\n",
       "    <tr>\n",
       "      <th>0</th>\n",
       "      <td>1.0</td>\n",
       "      <td>14066001_0</td>\n",
       "    </tr>\n",
       "    <tr>\n",
       "      <th>1</th>\n",
       "      <td>1.0</td>\n",
       "      <td>14216001_0</td>\n",
       "    </tr>\n",
       "    <tr>\n",
       "      <th>2</th>\n",
       "      <td>1.0</td>\n",
       "      <td>14372001_0</td>\n",
       "    </tr>\n",
       "    <tr>\n",
       "      <th>3</th>\n",
       "      <td>1.0</td>\n",
       "      <td>14578001_0</td>\n",
       "    </tr>\n",
       "    <tr>\n",
       "      <th>4</th>\n",
       "      <td>1.0</td>\n",
       "      <td>14762004_0</td>\n",
       "    </tr>\n",
       "    <tr>\n",
       "      <th>...</th>\n",
       "      <td>...</td>\n",
       "      <td>...</td>\n",
       "    </tr>\n",
       "    <tr>\n",
       "      <th>82115</th>\n",
       "      <td>1.0</td>\n",
       "      <td>86027001_729</td>\n",
       "    </tr>\n",
       "    <tr>\n",
       "      <th>82116</th>\n",
       "      <td>1.0</td>\n",
       "      <td>86137003_729</td>\n",
       "    </tr>\n",
       "    <tr>\n",
       "      <th>82117</th>\n",
       "      <td>1.0</td>\n",
       "      <td>86165005_729</td>\n",
       "    </tr>\n",
       "    <tr>\n",
       "      <th>82118</th>\n",
       "      <td>1.0</td>\n",
       "      <td>91200002_729</td>\n",
       "    </tr>\n",
       "    <tr>\n",
       "      <th>82119</th>\n",
       "      <td>1.0</td>\n",
       "      <td>95690001_729</td>\n",
       "    </tr>\n",
       "  </tbody>\n",
       "</table>\n",
       "<p>82120 rows × 2 columns</p>\n",
       "</div>"
      ],
      "text/plain": [
       "       Ground_truth            Id\n",
       "0               1.0    14066001_0\n",
       "1               1.0    14216001_0\n",
       "2               1.0    14372001_0\n",
       "3               1.0    14578001_0\n",
       "4               1.0    14762004_0\n",
       "...             ...           ...\n",
       "82115           1.0  86027001_729\n",
       "82116           1.0  86137003_729\n",
       "82117           1.0  86165005_729\n",
       "82118           1.0  91200002_729\n",
       "82119           1.0  95690001_729\n",
       "\n",
       "[82120 rows x 2 columns]"
      ]
     },
     "metadata": {},
     "output_type": "display_data"
    },
    {
     "name": "stdout",
     "output_type": "stream",
     "text": [
      "Missing Data : 0 \n",
      " Shape is : (82120, 2)\n"
     ]
    }
   ],
   "source": [
    "ytrain_c = ytrain_p.copy()\n",
    "ytrain_c['Ground_truth'][ytrain_c['Ground_truth'] != 0] = 1\n",
    "display(ytrain_c)\n",
    "print('Missing Data :', ytrain_c.isna().sum().sum(), '\\n', 'Shape is :', ytrain_c.shape)"
   ]
  },
  {
   "cell_type": "code",
   "execution_count": 24,
   "metadata": {},
   "outputs": [
    {
     "name": "stdout",
     "output_type": "stream",
     "text": [
      "1.0    48536\n",
      "0.0    33584\n",
      "Name: Ground_truth, dtype: int64\n"
     ]
    }
   ],
   "source": [
    "print(ytrain_c['Ground_truth'].value_counts())"
   ]
  },
  {
   "cell_type": "markdown",
   "metadata": {},
   "source": [
    "## <font color = 'royalblue'>4 Validation</font>"
   ]
  },
  {
   "cell_type": "markdown",
   "metadata": {},
   "source": [
    "### 4.1 Metrics"
   ]
  },
  {
   "cell_type": "code",
   "execution_count": 28,
   "metadata": {},
   "outputs": [],
   "source": [
    "def MAPE(ypred, ytrue):\n",
    "    aux = abs((ytrue-ypred)/ytrue)\n",
    "    return 100*aux.mean(axis=0)"
   ]
  },
  {
   "cell_type": "code",
   "execution_count": 29,
   "metadata": {},
   "outputs": [],
   "source": [
    "def Score_classif(ypred, ytrue):\n",
    "    aux = abs(ytrue-ypred)\n",
    "    return 100*(1-aux.mean(axis=0))"
   ]
  },
  {
   "cell_type": "markdown",
   "metadata": {},
   "source": [
    "### 4.2 Get dummies for 'month'"
   ]
  },
  {
   "cell_type": "code",
   "execution_count": 30,
   "metadata": {},
   "outputs": [],
   "source": [
    "def Month_dummies(x):\n",
    "    x_dum = pd.get_dummies(x['month'])\n",
    "    del x_dum[1]\n",
    "    x_dum.columns = ['M02', 'M03', 'M04', 'M05', 'M06', 'M07', 'M08', 'M09', 'M10', 'M11', 'M12']\n",
    "    \n",
    "    return x_dum"
   ]
  },
  {
   "cell_type": "markdown",
   "metadata": {},
   "source": [
    "### 4.3 Normalization"
   ]
  },
  {
   "cell_type": "code",
   "execution_count": 31,
   "metadata": {},
   "outputs": [],
   "source": [
    "def Normalization(x_train, x_test):\n",
    "    #Copy of the original df\n",
    "    x_train_c = x_train.copy()\n",
    "    x_test_c = x_test.copy()\n",
    "    \n",
    "    #Calcul de la moyenne et de la variance de l'échantillon train\n",
    "    mean = x_train_c.mean()\n",
    "    std  = x_train_c.std()\n",
    "    \n",
    "    #Normalisation\n",
    "    x_train_c = (x_train_c - mean) / std\n",
    "    x_test_c  = (x_test_c  - mean) / std\n",
    "\n",
    "    return x_train_c, x_test_c"
   ]
  },
  {
   "cell_type": "markdown",
   "metadata": {},
   "source": [
    "### 4.4 Build models"
   ]
  },
  {
   "cell_type": "code",
   "execution_count": 32,
   "metadata": {},
   "outputs": [],
   "source": [
    "def Classifier_0(shape, n_layers, n_neurons):\n",
    "    ##Initialiser modèle\n",
    "    classifier = keras.models.Sequential(name='Classifier_0')\n",
    "    \n",
    "    ##Input layer\n",
    "    classifier.add(keras.layers.Input(shape))\n",
    "    \n",
    "    ##Hidden layers\n",
    "    for i in range(n_layers):\n",
    "        classifier.add(keras.layers.Dense(n_neurons, kernel_initializer='uniform', activation='relu'))\n",
    "        \n",
    "    ##Output layer\n",
    "    classifier.add(keras.layers.Dense(1, kernel_initializer='uniform', activation='sigmoid', name='Output'))\n",
    "    \n",
    "    ##Compile model\n",
    "    classifier.compile(optimizer = 'adam',\n",
    "                       loss = 'binary_crossentropy',\n",
    "                       metrics = ['accuracy'])\n",
    "    \n",
    "    return classifier"
   ]
  },
  {
   "cell_type": "code",
   "execution_count": 33,
   "metadata": {},
   "outputs": [],
   "source": [
    "def Regressor_1(shape, n_layers, n_neurons): \n",
    "    ##Initialize model\n",
    "    regressor = keras.models.Sequential(name='Regressor_1')\n",
    "   \n",
    "    ##Input layer\n",
    "    regressor.add(keras.layers.Input(shape))\n",
    "    \n",
    "    ##Hidden layers\n",
    "    for i in range(n_layers): \n",
    "        regressor.add(keras.layers.Dense(n_neurons, activation='relu'))\n",
    "   \n",
    "    ##Output layer\n",
    "    regressor.add(keras.layers.Dense(1, name='Output'))\n",
    "    \n",
    "    ##Compile model\n",
    "    regressor.compile(optimizer = 'adam',\n",
    "                      loss      = 'mae',\n",
    "                      metrics = ['accuracy'])\n",
    "    \n",
    "    return regressor"
   ]
  },
  {
   "cell_type": "code",
   "execution_count": 34,
   "metadata": {},
   "outputs": [],
   "source": [
    "def Classifier_Regressor(xtrain, ytrain, xtest, ytest,\n",
    "                         n_layers_c, n_neurons_c, n_layers_r, n_neurons_r,\n",
    "                         epochs_c, batch_size_c, epochs_r, batch_size_r):\n",
    "    \n",
    "    ##Create ytrain for classif\n",
    "    ytrain_c = ytrain.copy()\n",
    "    ytrain_c['Ground_truth'][ytrain_c['Ground_truth'] != 0] = 1\n",
    "    \n",
    "    ##Create ytrain for regression\n",
    "    ytrain_r = ytrain.copy()\n",
    "    ytrain_r = ytrain_r[ytrain_r['Ground_truth'] > 0]\n",
    "    \n",
    "    ##Get 'month' dummies\n",
    "    #xtrain_Dum = Month_dummies(xtrain)\n",
    "    #xtest_Dum = Month_dummies(xtest)\n",
    "    \n",
    "    ##Get 'CoSin month'\n",
    "    xtrain_CoSinMonth = Variable_to_CoSin(pd.DataFrame(xtrain['month']), \"month\")\n",
    "    xtest_CoSinMonth = Variable_to_CoSin(pd.DataFrame(xtest['month']), \"month\")\n",
    "    \n",
    "    ##Normalization\n",
    "    xtrain_N, xtest_N = Normalization(xtrain, xtest)\n",
    "    \n",
    "    ##Drop 'month' variable\n",
    "    xtrain_N.drop(['month'], axis=1, inplace=True)\n",
    "    xtest_N.drop(['month'], axis=1, inplace=True)\n",
    "    \n",
    "    ##Add 'month' dummies\n",
    "    #xtrain_N = pd.concat([xtrain_N, xtrain_Dum], axis=1)\n",
    "    #xtest_N = pd.concat([xtest_N, xtest_Dum], axis=1)\n",
    "    \n",
    "    ##Add 'CoSin month'\n",
    "    xtrain_N = pd.concat([xtrain_N, xtrain_CoSinMonth], axis=1)\n",
    "    xtest_N = pd.concat([xtest_N, xtest_CoSinMonth], axis=1)\n",
    "    \n",
    "    ##Train Classifier\n",
    "    n_variables_c = xtrain_N.shape[1]\n",
    "    classifier = Classifier_0(n_variables_c, n_layers_c, n_neurons_c)\n",
    "    history_c = classifier.fit(xtrain_N, ytrain_c, batch_size_c, epochs_c, verbose=0)\n",
    "    \n",
    "    ##Create xtrain for regression\n",
    "    xtrain_N_r = xtrain_N[xtrain_N.index.isin(ytrain_r.index)]\n",
    "    xtrain_N_r.reset_index(drop=True, inplace=True)\n",
    "    ytrain_r.reset_index(drop=True, inplace=True)\n",
    "    \n",
    "    ##Train regressor\n",
    "    n_variables_r = xtrain_N_r.shape[1]\n",
    "    regressor = Regressor_1(n_variables_r, n_layers_r, n_neurons_r)\n",
    "    history_r = regressor.fit(xtrain_N_r, ytrain_r, batch_size_r, epochs_r, verbose=0)\n",
    "    \n",
    "    ##Predict 'rain or not'\n",
    "    ypred_c = classifier.predict(xtest_N)\n",
    "    ypred_c = (ypred_c > 0.5).astype(int)\n",
    "    ypred_c = pd.DataFrame(ypred_c, columns=['Rain'])\n",
    "    \n",
    "    norain = ypred_c[ypred_c['Rain'] == 0]\n",
    "    rain = ypred_c[ypred_c['Rain'] == 1]\n",
    "    \n",
    "    ##Set 'no rain' predictions\n",
    "    ypred = ytest.copy()\n",
    "    ypred.loc[ypred.index.isin(norain.index), 'Ground_truth'] = 0\n",
    "    \n",
    "    ##Preprocessing for regressor predictions\n",
    "    xtest_N_r = xtest_N[xtest_N.index.isin(rain.index)]\n",
    "    \n",
    "    ##Regressor predictions\n",
    "    ypred_r = regressor.predict(xtest_N_r)\n",
    "    ypred_r = ypred_r.flatten()\n",
    "    \n",
    "    ##Set 'rain' predictions\n",
    "    ypred.loc[ypred.index.isin(rain.index), 'Ground_truth'] = ypred_r\n",
    "    \n",
    "    return ypred"
   ]
  },
  {
   "cell_type": "code",
   "execution_count": 38,
   "metadata": {},
   "outputs": [],
   "source": [
    "def Regressor(xtrain, ytrain, xtest, ytest,\n",
    "              n_layers_r, n_neurons_r,\n",
    "              epochs_r, batch_size_r):\n",
    "    \n",
    "    ##Get 'CoSin month'\n",
    "    xtrain_CoSinMonth = Variable_to_CoSin(pd.DataFrame(xtrain['month']), \"month\")\n",
    "    xtest_CoSinMonth = Variable_to_CoSin(pd.DataFrame(xtest['month']), \"month\")\n",
    "    \n",
    "    ##Normalization\n",
    "    xtrain_N, xtest_N = Normalization(xtrain, xtest)\n",
    "    \n",
    "    ##Drop 'month' variable\n",
    "    xtrain_N.drop(['month'], axis=1, inplace=True)\n",
    "    xtest_N.drop(['month'], axis=1, inplace=True)\n",
    "    \n",
    "    ##Add 'CoSin month'\n",
    "    xtrain_N = pd.concat([xtrain_N, xtrain_CoSinMonth], axis=1)\n",
    "    xtest_N = pd.concat([xtest_N, xtest_CoSinMonth], axis=1)\n",
    "    \n",
    "    ##Train regressor\n",
    "    n_variables_r = xtrain_N.shape[1]\n",
    "    regressor = Regressor_1(n_variables_r, n_layers_r, n_neurons_r)\n",
    "    history_r = regressor.fit(xtrain_N, ytrain, batch_size_r, epochs_r, verbose=0)\n",
    "    \n",
    "    ##Regressor predictions\n",
    "    ypred = ytest.copy()\n",
    "    ypred_r = regressor.predict(xtest_N)\n",
    "    ypred.loc[:,'Ground_truth'] = ypred_r\n",
    "    \n",
    "    return ypred"
   ]
  },
  {
   "cell_type": "markdown",
   "metadata": {},
   "source": [
    "### 4.5 Sampling"
   ]
  },
  {
   "cell_type": "code",
   "execution_count": 36,
   "metadata": {},
   "outputs": [],
   "source": [
    "def Create_samples (xtrain, ytrain):\n",
    "    ##Copy original df\n",
    "    xtrain_c = xtrain.copy()\n",
    "    ytrain_c = ytrain.copy()\n",
    "    \n",
    "    #Split X validation/train\n",
    "    xtrain_v = xtrain_c.sample(frac=0.20, axis=0)\n",
    "    xtrain_t = xtrain_c.drop(xtrain_v.index)\n",
    "    \n",
    "    ##Split Y validation/train\n",
    "    ytrain_v = ytrain_c.loc[ytrain_c['Id'].isin(xtrain_v['Id'])]\n",
    "    ytrain_t = ytrain_c.drop(ytrain_v.index)\n",
    "    \n",
    "    ##Reset index\n",
    "    xtrain_t.reset_index(drop=True, inplace=True)\n",
    "    xtrain_v.reset_index(drop=True, inplace=True)\n",
    "    ytrain_t.reset_index(drop=True, inplace=True)\n",
    "    ytrain_v.reset_index(drop=True, inplace=True)\n",
    "    \n",
    "    ##Sort X\n",
    "    xtrain_t = xtrain_t.set_index('Id')\n",
    "    xtrain_t = xtrain_t.reindex(index=ytrain_t['Id'])\n",
    "    xtrain_t = xtrain_t.reset_index()\n",
    "    \n",
    "    xtrain_v = xtrain_v.set_index('Id')\n",
    "    xtrain_v = xtrain_v.reindex(index=ytrain_v['Id'])\n",
    "    xtrain_v = xtrain_v.reset_index()\n",
    "    \n",
    "    ##Drop useless variables\n",
    "    xtrain_t.drop(['Id'], axis=1, inplace=True)\n",
    "    xtrain_v.drop(['Id'], axis=1, inplace=True)\n",
    "    ytrain_t.drop(['Id'], axis=1, inplace=True)\n",
    "    ytrain_v.drop(['Id'], axis=1, inplace=True)\n",
    "    \n",
    "    return xtrain_t, xtrain_v, ytrain_t, ytrain_v"
   ]
  },
  {
   "cell_type": "markdown",
   "metadata": {},
   "source": [
    "### 4.6 K-fold validation (classifier)"
   ]
  },
  {
   "cell_type": "code",
   "execution_count": null,
   "metadata": {},
   "outputs": [],
   "source": [
    "K = 1\n",
    "ACCURACY = np.zeros(K)\n",
    "\n",
    "batch_size = 100\n",
    "epochs = 10 #20\n",
    "n_layers = 10 #10\n",
    "n_neurons = 32 #64\n",
    "\n",
    "for k in tqdm(range(K)):\n",
    "    ##Create samples\n",
    "    xtrain_t, xtrain_v, ytrain_t, ytrain_v = Create_samples(xtrainS_p, ytrain_p)\n",
    "    \n",
    "    ##Dummies dataframes for \"month\" before normalization\n",
    "    xtrain_t_Dum = Month_dummies(xtrain_t)\n",
    "    xtrain_v_Dum = Month_dummies(xtrain_v)\n",
    "    \n",
    "    ##Normalization\n",
    "    xtrain_t_N, xtrain_v_N = Normalization(xtrain_t, xtrain_v)\n",
    "    \n",
    "    ##Drop 'month' variable\n",
    "    xtrain_t_N.drop(['month'], axis=1, inplace=True)\n",
    "    xtrain_v_N.drop(['month'], axis=1, inplace=True)\n",
    "    \n",
    "    ##Concatenation after normalization: dummies + original df\n",
    "    xtrain_t_N = pd.concat([xtrain_t_N, xtrain_t_Dum], axis=1)\n",
    "    xtrain_v_N = pd.concat([xtrain_v_N, xtrain_v_Dum], axis=1)\n",
    "\n",
    "    ##Build model\n",
    "    nb_variables = xtrain_t_N.shape[1]\n",
    "    classifier = Classifier_0(nb_variables, n_layers, n_neurons)\n",
    "    \n",
    "    ##Training\n",
    "    history = classifier.fit(xtrain_t_N, ytrain_t, batch_size, epochs, verbose=0)\n",
    "    \n",
    "    ##Prediction\n",
    "    ypred = classifier.predict(xtrain_v_N)\n",
    "    ypred = (ypred > 0.5).astype(int)\n",
    "    ypred = pd.DataFrame(ypred, columns=['Prediction'])\n",
    "    \n",
    "    ##Evaluate score\n",
    "    ACCURACY[k] = Score_classif(ypred['Prediction'], ytrain_v['Ground_truth'])"
   ]
  },
  {
   "cell_type": "code",
   "execution_count": null,
   "metadata": {},
   "outputs": [],
   "source": [
    "print(\"Mean Accuracy :\", np.mean(ACCURACY))\n",
    "plt.boxplot(ACCURACY)\n",
    "plt.ylabel(\"Accuracy\")\n",
    "plt.show()"
   ]
  },
  {
   "cell_type": "markdown",
   "metadata": {},
   "source": [
    "### 4.7 K-fold validation (classifier_regressor)"
   ]
  },
  {
   "cell_type": "code",
   "execution_count": 43,
   "metadata": {},
   "outputs": [
    {
     "name": "stderr",
     "output_type": "stream",
     "text": [
      " 37%|███▋      | 37/100 [6:20:21<10:47:37, 616.79s/it] \n"
     ]
    },
    {
     "ename": "KeyboardInterrupt",
     "evalue": "",
     "output_type": "error",
     "traceback": [
      "\u001b[0;31m---------------------------------------------------------------------------\u001b[0m",
      "\u001b[0;31mKeyboardInterrupt\u001b[0m                         Traceback (most recent call last)",
      "\u001b[0;32m<ipython-input-43-8fc8e01d0e3e>\u001b[0m in \u001b[0;36m<module>\u001b[0;34m\u001b[0m\n\u001b[1;32m     23\u001b[0m                                  \u001b[0;31m#epochs_c, batch_size_c, epochs_r, batch_size_r)\u001b[0m\u001b[0;34m\u001b[0m\u001b[0;34m\u001b[0m\u001b[0;34m\u001b[0m\u001b[0m\n\u001b[1;32m     24\u001b[0m \u001b[0;34m\u001b[0m\u001b[0m\n\u001b[0;32m---> 25\u001b[0;31m     ypred = Regressor(xtrain_t, ytrain_t, xtrain_v, ytrain_v,\n\u001b[0m\u001b[1;32m     26\u001b[0m                       \u001b[0mn_layers_r\u001b[0m\u001b[0;34m,\u001b[0m \u001b[0mn_neurons_r\u001b[0m\u001b[0;34m,\u001b[0m\u001b[0;34m\u001b[0m\u001b[0;34m\u001b[0m\u001b[0m\n\u001b[1;32m     27\u001b[0m                       epochs_r, batch_size_r)\n",
      "\u001b[0;32m<ipython-input-38-bb75de94235a>\u001b[0m in \u001b[0;36mRegressor\u001b[0;34m(xtrain, ytrain, xtest, ytest, n_layers_r, n_neurons_r, epochs_r, batch_size_r)\u001b[0m\n\u001b[1;32m     21\u001b[0m     \u001b[0mn_variables_r\u001b[0m \u001b[0;34m=\u001b[0m \u001b[0mxtrain_N\u001b[0m\u001b[0;34m.\u001b[0m\u001b[0mshape\u001b[0m\u001b[0;34m[\u001b[0m\u001b[0;36m1\u001b[0m\u001b[0;34m]\u001b[0m\u001b[0;34m\u001b[0m\u001b[0;34m\u001b[0m\u001b[0m\n\u001b[1;32m     22\u001b[0m     \u001b[0mregressor\u001b[0m \u001b[0;34m=\u001b[0m \u001b[0mRegressor_1\u001b[0m\u001b[0;34m(\u001b[0m\u001b[0mn_variables_r\u001b[0m\u001b[0;34m,\u001b[0m \u001b[0mn_layers_r\u001b[0m\u001b[0;34m,\u001b[0m \u001b[0mn_neurons_r\u001b[0m\u001b[0;34m)\u001b[0m\u001b[0;34m\u001b[0m\u001b[0;34m\u001b[0m\u001b[0m\n\u001b[0;32m---> 23\u001b[0;31m     \u001b[0mhistory_r\u001b[0m \u001b[0;34m=\u001b[0m \u001b[0mregressor\u001b[0m\u001b[0;34m.\u001b[0m\u001b[0mfit\u001b[0m\u001b[0;34m(\u001b[0m\u001b[0mxtrain_N\u001b[0m\u001b[0;34m,\u001b[0m \u001b[0mytrain\u001b[0m\u001b[0;34m,\u001b[0m \u001b[0mbatch_size_r\u001b[0m\u001b[0;34m,\u001b[0m \u001b[0mepochs_r\u001b[0m\u001b[0;34m,\u001b[0m \u001b[0mverbose\u001b[0m\u001b[0;34m=\u001b[0m\u001b[0;36m0\u001b[0m\u001b[0;34m)\u001b[0m\u001b[0;34m\u001b[0m\u001b[0;34m\u001b[0m\u001b[0m\n\u001b[0m\u001b[1;32m     24\u001b[0m \u001b[0;34m\u001b[0m\u001b[0m\n\u001b[1;32m     25\u001b[0m     \u001b[0;31m##Regressor predictions\u001b[0m\u001b[0;34m\u001b[0m\u001b[0;34m\u001b[0m\u001b[0;34m\u001b[0m\u001b[0m\n",
      "\u001b[0;32m/opt/anaconda3/lib/python3.8/site-packages/tensorflow/python/keras/engine/training.py\u001b[0m in \u001b[0;36mfit\u001b[0;34m(self, x, y, batch_size, epochs, verbose, callbacks, validation_split, validation_data, shuffle, class_weight, sample_weight, initial_epoch, steps_per_epoch, validation_steps, validation_batch_size, validation_freq, max_queue_size, workers, use_multiprocessing)\u001b[0m\n\u001b[1;32m   1098\u001b[0m                 _r=1):\n\u001b[1;32m   1099\u001b[0m               \u001b[0mcallbacks\u001b[0m\u001b[0;34m.\u001b[0m\u001b[0mon_train_batch_begin\u001b[0m\u001b[0;34m(\u001b[0m\u001b[0mstep\u001b[0m\u001b[0;34m)\u001b[0m\u001b[0;34m\u001b[0m\u001b[0;34m\u001b[0m\u001b[0m\n\u001b[0;32m-> 1100\u001b[0;31m               \u001b[0mtmp_logs\u001b[0m \u001b[0;34m=\u001b[0m \u001b[0mself\u001b[0m\u001b[0;34m.\u001b[0m\u001b[0mtrain_function\u001b[0m\u001b[0;34m(\u001b[0m\u001b[0miterator\u001b[0m\u001b[0;34m)\u001b[0m\u001b[0;34m\u001b[0m\u001b[0;34m\u001b[0m\u001b[0m\n\u001b[0m\u001b[1;32m   1101\u001b[0m               \u001b[0;32mif\u001b[0m \u001b[0mdata_handler\u001b[0m\u001b[0;34m.\u001b[0m\u001b[0mshould_sync\u001b[0m\u001b[0;34m:\u001b[0m\u001b[0;34m\u001b[0m\u001b[0;34m\u001b[0m\u001b[0m\n\u001b[1;32m   1102\u001b[0m                 \u001b[0mcontext\u001b[0m\u001b[0;34m.\u001b[0m\u001b[0masync_wait\u001b[0m\u001b[0;34m(\u001b[0m\u001b[0;34m)\u001b[0m\u001b[0;34m\u001b[0m\u001b[0;34m\u001b[0m\u001b[0m\n",
      "\u001b[0;32m/opt/anaconda3/lib/python3.8/site-packages/tensorflow/python/eager/def_function.py\u001b[0m in \u001b[0;36m__call__\u001b[0;34m(self, *args, **kwds)\u001b[0m\n\u001b[1;32m    826\u001b[0m     \u001b[0mtracing_count\u001b[0m \u001b[0;34m=\u001b[0m \u001b[0mself\u001b[0m\u001b[0;34m.\u001b[0m\u001b[0mexperimental_get_tracing_count\u001b[0m\u001b[0;34m(\u001b[0m\u001b[0;34m)\u001b[0m\u001b[0;34m\u001b[0m\u001b[0;34m\u001b[0m\u001b[0m\n\u001b[1;32m    827\u001b[0m     \u001b[0;32mwith\u001b[0m \u001b[0mtrace\u001b[0m\u001b[0;34m.\u001b[0m\u001b[0mTrace\u001b[0m\u001b[0;34m(\u001b[0m\u001b[0mself\u001b[0m\u001b[0;34m.\u001b[0m\u001b[0m_name\u001b[0m\u001b[0;34m)\u001b[0m \u001b[0;32mas\u001b[0m \u001b[0mtm\u001b[0m\u001b[0;34m:\u001b[0m\u001b[0;34m\u001b[0m\u001b[0;34m\u001b[0m\u001b[0m\n\u001b[0;32m--> 828\u001b[0;31m       \u001b[0mresult\u001b[0m \u001b[0;34m=\u001b[0m \u001b[0mself\u001b[0m\u001b[0;34m.\u001b[0m\u001b[0m_call\u001b[0m\u001b[0;34m(\u001b[0m\u001b[0;34m*\u001b[0m\u001b[0margs\u001b[0m\u001b[0;34m,\u001b[0m \u001b[0;34m**\u001b[0m\u001b[0mkwds\u001b[0m\u001b[0;34m)\u001b[0m\u001b[0;34m\u001b[0m\u001b[0;34m\u001b[0m\u001b[0m\n\u001b[0m\u001b[1;32m    829\u001b[0m       \u001b[0mcompiler\u001b[0m \u001b[0;34m=\u001b[0m \u001b[0;34m\"xla\"\u001b[0m \u001b[0;32mif\u001b[0m \u001b[0mself\u001b[0m\u001b[0;34m.\u001b[0m\u001b[0m_experimental_compile\u001b[0m \u001b[0;32melse\u001b[0m \u001b[0;34m\"nonXla\"\u001b[0m\u001b[0;34m\u001b[0m\u001b[0;34m\u001b[0m\u001b[0m\n\u001b[1;32m    830\u001b[0m       \u001b[0mnew_tracing_count\u001b[0m \u001b[0;34m=\u001b[0m \u001b[0mself\u001b[0m\u001b[0;34m.\u001b[0m\u001b[0mexperimental_get_tracing_count\u001b[0m\u001b[0;34m(\u001b[0m\u001b[0;34m)\u001b[0m\u001b[0;34m\u001b[0m\u001b[0;34m\u001b[0m\u001b[0m\n",
      "\u001b[0;32m/opt/anaconda3/lib/python3.8/site-packages/tensorflow/python/eager/def_function.py\u001b[0m in \u001b[0;36m_call\u001b[0;34m(self, *args, **kwds)\u001b[0m\n\u001b[1;32m    853\u001b[0m       \u001b[0;31m# In this case we have created variables on the first call, so we run the\u001b[0m\u001b[0;34m\u001b[0m\u001b[0;34m\u001b[0m\u001b[0;34m\u001b[0m\u001b[0m\n\u001b[1;32m    854\u001b[0m       \u001b[0;31m# defunned version which is guaranteed to never create variables.\u001b[0m\u001b[0;34m\u001b[0m\u001b[0;34m\u001b[0m\u001b[0;34m\u001b[0m\u001b[0m\n\u001b[0;32m--> 855\u001b[0;31m       \u001b[0;32mreturn\u001b[0m \u001b[0mself\u001b[0m\u001b[0;34m.\u001b[0m\u001b[0m_stateless_fn\u001b[0m\u001b[0;34m(\u001b[0m\u001b[0;34m*\u001b[0m\u001b[0margs\u001b[0m\u001b[0;34m,\u001b[0m \u001b[0;34m**\u001b[0m\u001b[0mkwds\u001b[0m\u001b[0;34m)\u001b[0m  \u001b[0;31m# pylint: disable=not-callable\u001b[0m\u001b[0;34m\u001b[0m\u001b[0;34m\u001b[0m\u001b[0m\n\u001b[0m\u001b[1;32m    856\u001b[0m     \u001b[0;32melif\u001b[0m \u001b[0mself\u001b[0m\u001b[0;34m.\u001b[0m\u001b[0m_stateful_fn\u001b[0m \u001b[0;32mis\u001b[0m \u001b[0;32mnot\u001b[0m \u001b[0;32mNone\u001b[0m\u001b[0;34m:\u001b[0m\u001b[0;34m\u001b[0m\u001b[0;34m\u001b[0m\u001b[0m\n\u001b[1;32m    857\u001b[0m       \u001b[0;31m# Release the lock early so that multiple threads can perform the call\u001b[0m\u001b[0;34m\u001b[0m\u001b[0;34m\u001b[0m\u001b[0;34m\u001b[0m\u001b[0m\n",
      "\u001b[0;32m/opt/anaconda3/lib/python3.8/site-packages/tensorflow/python/eager/function.py\u001b[0m in \u001b[0;36m__call__\u001b[0;34m(self, *args, **kwargs)\u001b[0m\n\u001b[1;32m   2939\u001b[0m     \u001b[0;32mwith\u001b[0m \u001b[0mself\u001b[0m\u001b[0;34m.\u001b[0m\u001b[0m_lock\u001b[0m\u001b[0;34m:\u001b[0m\u001b[0;34m\u001b[0m\u001b[0;34m\u001b[0m\u001b[0m\n\u001b[1;32m   2940\u001b[0m       (graph_function,\n\u001b[0;32m-> 2941\u001b[0;31m        filtered_flat_args) = self._maybe_define_function(args, kwargs)\n\u001b[0m\u001b[1;32m   2942\u001b[0m     return graph_function._call_flat(\n\u001b[1;32m   2943\u001b[0m         filtered_flat_args, captured_inputs=graph_function.captured_inputs)  # pylint: disable=protected-access\n",
      "\u001b[0;32m/opt/anaconda3/lib/python3.8/site-packages/tensorflow/python/eager/function.py\u001b[0m in \u001b[0;36m_maybe_define_function\u001b[0;34m(self, args, kwargs)\u001b[0m\n\u001b[1;32m   3317\u001b[0m \u001b[0;34m\u001b[0m\u001b[0m\n\u001b[1;32m   3318\u001b[0m     \u001b[0mcache_key_context\u001b[0m \u001b[0;34m=\u001b[0m \u001b[0mself\u001b[0m\u001b[0;34m.\u001b[0m\u001b[0m_cache_key_context\u001b[0m\u001b[0;34m(\u001b[0m\u001b[0;34m)\u001b[0m\u001b[0;34m\u001b[0m\u001b[0;34m\u001b[0m\u001b[0m\n\u001b[0;32m-> 3319\u001b[0;31m     \u001b[0mcache_key\u001b[0m \u001b[0;34m=\u001b[0m \u001b[0mself\u001b[0m\u001b[0;34m.\u001b[0m\u001b[0m_cache_key\u001b[0m\u001b[0;34m(\u001b[0m\u001b[0margs\u001b[0m\u001b[0;34m,\u001b[0m \u001b[0mkwargs\u001b[0m\u001b[0;34m,\u001b[0m \u001b[0mcache_key_context\u001b[0m\u001b[0;34m)\u001b[0m\u001b[0;34m\u001b[0m\u001b[0;34m\u001b[0m\u001b[0m\n\u001b[0m\u001b[1;32m   3320\u001b[0m \u001b[0;34m\u001b[0m\u001b[0m\n\u001b[1;32m   3321\u001b[0m     \u001b[0;32mtry\u001b[0m\u001b[0;34m:\u001b[0m\u001b[0;34m\u001b[0m\u001b[0;34m\u001b[0m\u001b[0m\n",
      "\u001b[0;32m/opt/anaconda3/lib/python3.8/site-packages/tensorflow/python/eager/function.py\u001b[0m in \u001b[0;36m_cache_key\u001b[0;34m(self, args, kwargs, cache_key_context, include_tensor_ranks_only)\u001b[0m\n\u001b[1;32m   3096\u001b[0m     \u001b[0;32mif\u001b[0m \u001b[0mself\u001b[0m\u001b[0;34m.\u001b[0m\u001b[0minput_signature\u001b[0m \u001b[0;32mis\u001b[0m \u001b[0;32mNone\u001b[0m\u001b[0;34m:\u001b[0m\u001b[0;34m\u001b[0m\u001b[0;34m\u001b[0m\u001b[0m\n\u001b[1;32m   3097\u001b[0m       \u001b[0minputs\u001b[0m \u001b[0;34m=\u001b[0m \u001b[0;34m(\u001b[0m\u001b[0margs\u001b[0m\u001b[0;34m,\u001b[0m \u001b[0mkwargs\u001b[0m\u001b[0;34m)\u001b[0m \u001b[0;32mif\u001b[0m \u001b[0mkwargs\u001b[0m \u001b[0;32melse\u001b[0m \u001b[0margs\u001b[0m\u001b[0;34m\u001b[0m\u001b[0;34m\u001b[0m\u001b[0m\n\u001b[0;32m-> 3098\u001b[0;31m       input_signature = pywrap_tfe.TFE_Py_EncodeArg(inputs,\n\u001b[0m\u001b[1;32m   3099\u001b[0m                                                     include_tensor_ranks_only)\n\u001b[1;32m   3100\u001b[0m       \u001b[0mhashable_input_signature\u001b[0m \u001b[0;34m=\u001b[0m \u001b[0m_make_input_signature_hashable\u001b[0m\u001b[0;34m(\u001b[0m\u001b[0minput_signature\u001b[0m\u001b[0;34m)\u001b[0m\u001b[0;34m\u001b[0m\u001b[0;34m\u001b[0m\u001b[0m\n",
      "\u001b[0;31mKeyboardInterrupt\u001b[0m: "
     ]
    }
   ],
   "source": [
    "K = 100\n",
    "MAPE_ = np.zeros(K)\n",
    "\n",
    "##Model parameters\n",
    "n_layers_c = 10\n",
    "n_neurons_c = 64\n",
    "n_layers_r = 20\n",
    "n_neurons_r = 32\n",
    "\n",
    "##Training parameters\n",
    "batch_size_c = 100\n",
    "epochs_c = 20\n",
    "batch_size_r = 100\n",
    "epochs_r = 20\n",
    "\n",
    "for k in tqdm(range(K)):\n",
    "    ##Create samples\n",
    "    xtrain_t, xtrain_v, ytrain_t, ytrain_v = Create_samples(xtrainSF_p, ytrain_p)\n",
    "    \n",
    "    ##Apply model\n",
    "    #ypred = Classifier_Regressor(xtrain_t, ytrain_t, xtrain_v, ytrain_v,\n",
    "                                 #n_layers_c, n_neurons_c, n_layers_r, n_neurons_r,\n",
    "                                 #epochs_c, batch_size_c, epochs_r, batch_size_r)\n",
    "    \n",
    "    ypred = Regressor(xtrain_t, ytrain_t, xtrain_v, ytrain_v,\n",
    "                      n_layers_r, n_neurons_r,\n",
    "                      epochs_r, batch_size_r)\n",
    "    \n",
    "    ##Post-processing\n",
    "    ypred.rename(columns={'Ground_truth':'Prediction'}, inplace=True)\n",
    "    ypred.loc[:,'Prediction'] = ypred.loc[:,'Prediction'] + 1\n",
    "    ytrain_v.loc[:,'Ground_truth'] = ytrain_v.loc[:,'Ground_truth'] + 1\n",
    "    \n",
    "    ##Compute MAPE\n",
    "    MAPE_[k] = MAPE(ypred['Prediction'], ytrain_v['Ground_truth'])"
   ]
  },
  {
   "cell_type": "code",
   "execution_count": 44,
   "metadata": {},
   "outputs": [
    {
     "name": "stdout",
     "output_type": "stream",
     "text": [
      "Mean MAPE : 11.12144566512141\n"
     ]
    },
    {
     "data": {
      "image/png": "[encoded data removed]",
      "text/plain": [
       "<Figure size 432x288 with 1 Axes>"
      ]
     },
     "metadata": {
      "needs_background": "light"
     },
     "output_type": "display_data"
    }
   ],
   "source": [
    "print(\"Mean MAPE :\", np.mean(MAPE_))\n",
    "plt.boxplot(MAPE_)\n",
    "plt.ylabel(\"Accuracy\")\n",
    "plt.show()"
   ]
  },
  {
   "cell_type": "markdown",
   "metadata": {},
   "source": [
    "## <font color = 'royalblue'>5 Training</font>"
   ]
  },
  {
   "cell_type": "markdown",
   "metadata": {},
   "source": [
    "### 5.1 Pre-processing (1)"
   ]
  },
  {
   "cell_type": "code",
   "execution_count": 45,
   "metadata": {},
   "outputs": [],
   "source": [
    "xtrainSF_p.drop(['Id'], axis=1, inplace=True)"
   ]
  },
  {
   "cell_type": "code",
   "execution_count": 46,
   "metadata": {},
   "outputs": [],
   "source": [
    "ytrain_c.drop(['Id'], axis=1, inplace=True)"
   ]
  },
  {
   "cell_type": "code",
   "execution_count": 58,
   "metadata": {},
   "outputs": [],
   "source": [
    "ytrain_p.drop(['Id'], axis=1, inplace=True)"
   ]
  },
  {
   "cell_type": "code",
   "execution_count": 47,
   "metadata": {},
   "outputs": [],
   "source": [
    "xtestSF_p.drop(['Id'], axis=1, inplace=True)"
   ]
  },
  {
   "cell_type": "code",
   "execution_count": null,
   "metadata": {},
   "outputs": [],
   "source": [
    "#xtrainS_Dum = Month_dummies(xtrainS_p)\n",
    "#xtestS_Dum = Month_dummies(xtestS_p)"
   ]
  },
  {
   "cell_type": "code",
   "execution_count": 48,
   "metadata": {},
   "outputs": [],
   "source": [
    "xtrain_CoSinMonth = Variable_to_CoSin(pd.DataFrame(xtrainSF_p['month']), \"month\")\n",
    "xtest_CoSinMonth = Variable_to_CoSin(pd.DataFrame(xtestSF_p['month']), \"month\")"
   ]
  },
  {
   "cell_type": "code",
   "execution_count": 49,
   "metadata": {},
   "outputs": [],
   "source": [
    "xtrainSF_N, xtestSF_N = Normalization(xtrainSF_p, xtestSF_p)"
   ]
  },
  {
   "cell_type": "code",
   "execution_count": 50,
   "metadata": {},
   "outputs": [],
   "source": [
    "xtrainSF_N.drop(['month'], axis=1, inplace=True)\n",
    "xtestSF_N.drop(['month'], axis=1, inplace=True)"
   ]
  },
  {
   "cell_type": "code",
   "execution_count": null,
   "metadata": {},
   "outputs": [],
   "source": [
    "#xtrainS_N = pd.concat([xtrainS_N, xtrainS_Dum], axis=1)\n",
    "#xtestS_N = pd.concat([xtestS_N, xtestS_Dum], axis=1)"
   ]
  },
  {
   "cell_type": "code",
   "execution_count": 51,
   "metadata": {},
   "outputs": [],
   "source": [
    "xtrainSF_N = pd.concat([xtrainSF_N, xtrain_CoSinMonth], axis=1)\n",
    "xtestSF_N = pd.concat([xtestSF_N, xtest_CoSinMonth], axis=1)"
   ]
  },
  {
   "cell_type": "markdown",
   "metadata": {},
   "source": [
    "### 5.2 Train classifier"
   ]
  },
  {
   "cell_type": "code",
   "execution_count": 112,
   "metadata": {},
   "outputs": [
    {
     "name": "stdout",
     "output_type": "stream",
     "text": [
      "Model: \"Classifier_0\"\n",
      "_________________________________________________________________\n",
      "Layer (type)                 Output Shape              Param #   \n",
      "=================================================================\n",
      "dense_630 (Dense)            (None, 64)                896       \n",
      "_________________________________________________________________\n",
      "dense_631 (Dense)            (None, 64)                4160      \n",
      "_________________________________________________________________\n",
      "dense_632 (Dense)            (None, 64)                4160      \n",
      "_________________________________________________________________\n",
      "dense_633 (Dense)            (None, 64)                4160      \n",
      "_________________________________________________________________\n",
      "dense_634 (Dense)            (None, 64)                4160      \n",
      "_________________________________________________________________\n",
      "dense_635 (Dense)            (None, 64)                4160      \n",
      "_________________________________________________________________\n",
      "dense_636 (Dense)            (None, 64)                4160      \n",
      "_________________________________________________________________\n",
      "dense_637 (Dense)            (None, 64)                4160      \n",
      "_________________________________________________________________\n",
      "dense_638 (Dense)            (None, 64)                4160      \n",
      "_________________________________________________________________\n",
      "dense_639 (Dense)            (None, 64)                4160      \n",
      "_________________________________________________________________\n",
      "Output (Dense)               (None, 1)                 65        \n",
      "=================================================================\n",
      "Total params: 38,401\n",
      "Trainable params: 38,401\n",
      "Non-trainable params: 0\n",
      "_________________________________________________________________\n"
     ]
    }
   ],
   "source": [
    "##Parameters of the classifier\n",
    "n_variables_c = xtrainSF_N.shape[1]\n",
    "n_layers_c = 10\n",
    "n_neurons_c = 64\n",
    "\n",
    "##Initialize classifier\n",
    "classifier = Classifier_0(n_variables_c, n_layers_c, n_neurons_c)\n",
    "classifier.summary()"
   ]
  },
  {
   "cell_type": "code",
   "execution_count": 113,
   "metadata": {},
   "outputs": [
    {
     "name": "stdout",
     "output_type": "stream",
     "text": [
      "Epoch 1/20\n",
      "822/822 [==============================] - 3s 3ms/step - loss: 0.5707 - accuracy: 0.6748\n",
      "Epoch 2/20\n",
      "822/822 [==============================] - 2s 3ms/step - loss: 0.4772 - accuracy: 0.7601\n",
      "Epoch 3/20\n",
      "822/822 [==============================] - 2s 3ms/step - loss: 0.4695 - accuracy: 0.7612\n",
      "Epoch 4/20\n",
      "822/822 [==============================] - 3s 4ms/step - loss: 0.4691 - accuracy: 0.7622\n",
      "Epoch 5/20\n",
      "822/822 [==============================] - 3s 4ms/step - loss: 0.4648 - accuracy: 0.7660\n",
      "Epoch 6/20\n",
      "822/822 [==============================] - 3s 4ms/step - loss: 0.4625 - accuracy: 0.7676\n",
      "Epoch 7/20\n",
      "822/822 [==============================] - 3s 3ms/step - loss: 0.4607 - accuracy: 0.7689\n",
      "Epoch 8/20\n",
      "822/822 [==============================] - 2s 3ms/step - loss: 0.4594 - accuracy: 0.7715\n",
      "Epoch 9/20\n",
      "822/822 [==============================] - 3s 3ms/step - loss: 0.4546 - accuracy: 0.7746\n",
      "Epoch 10/20\n",
      "822/822 [==============================] - 2s 3ms/step - loss: 0.4544 - accuracy: 0.7731: 0s - los\n",
      "Epoch 11/20\n",
      "822/822 [==============================] - 3s 3ms/step - loss: 0.4535 - accuracy: 0.7748\n",
      "Epoch 12/20\n",
      "822/822 [==============================] - 3s 3ms/step - loss: 0.4535 - accuracy: 0.7743\n",
      "Epoch 13/20\n",
      "822/822 [==============================] - 3s 3ms/step - loss: 0.4519 - accuracy: 0.7762\n",
      "Epoch 14/20\n",
      "822/822 [==============================] - 2s 3ms/step - loss: 0.4509 - accuracy: 0.7749: 0s - loss: 0.4509 - accura\n",
      "Epoch 15/20\n",
      "822/822 [==============================] - 3s 4ms/step - loss: 0.4473 - accuracy: 0.7799\n",
      "Epoch 16/20\n",
      "822/822 [==============================] - 2s 3ms/step - loss: 0.4476 - accuracy: 0.7816\n",
      "Epoch 17/20\n",
      "822/822 [==============================] - 3s 3ms/step - loss: 0.4435 - accuracy: 0.7804\n",
      "Epoch 18/20\n",
      "822/822 [==============================] - 3s 3ms/step - loss: 0.4431 - accuracy: 0.7848\n",
      "Epoch 19/20\n",
      "822/822 [==============================] - 3s 3ms/step - loss: 0.4432 - accuracy: 0.7795\n",
      "Epoch 20/20\n",
      "822/822 [==============================] - 3s 3ms/step - loss: 0.4408 - accuracy: 0.7836\n"
     ]
    },
    {
     "data": {
      "image/png": "[encoded data removed]",
      "text/plain": [
       "<Figure size 432x288 with 1 Axes>"
      ]
     },
     "metadata": {
      "needs_background": "light"
     },
     "output_type": "display_data"
    }
   ],
   "source": [
    "##Training parameters\n",
    "batch_size_c = 100\n",
    "epochs_c = 20\n",
    "\n",
    "##Training\n",
    "history_c = classifier.fit(xtrainSF_N, ytrain_c, batch_size_c, epochs_c, verbose=1)\n",
    "plt.plot(history_c.history['loss'])\n",
    "plt.xlabel(\"epochs\")\n",
    "plt.ylabel(\"loss\")\n",
    "plt.show()"
   ]
  },
  {
   "cell_type": "markdown",
   "metadata": {},
   "source": [
    "### 5.3 Pre-processing (2)"
   ]
  },
  {
   "cell_type": "code",
   "execution_count": 114,
   "metadata": {},
   "outputs": [],
   "source": [
    "ytrain_r = ytrain_p.copy()\n",
    "ytrain_r = ytrain_r[ytrain_r['Ground_truth'] > 0]\n",
    "ytrain_r.drop(['Id'], axis=1, inplace=True)"
   ]
  },
  {
   "cell_type": "code",
   "execution_count": 115,
   "metadata": {},
   "outputs": [],
   "source": [
    "xtrainSF_N_r = xtrainSF_N[xtrainSF_N.index.isin(ytrain_r.index)]"
   ]
  },
  {
   "cell_type": "code",
   "execution_count": 116,
   "metadata": {},
   "outputs": [],
   "source": [
    "xtrainSF_N_r.reset_index(drop=True, inplace=True)\n",
    "ytrain_r.reset_index(drop=True, inplace=True)"
   ]
  },
  {
   "cell_type": "markdown",
   "metadata": {},
   "source": [
    "### 5.4 Train regressor"
   ]
  },
  {
   "cell_type": "code",
   "execution_count": 71,
   "metadata": {},
   "outputs": [
    {
     "name": "stdout",
     "output_type": "stream",
     "text": [
      "Model: \"Regressor_1\"\n",
      "_________________________________________________________________\n",
      "Layer (type)                 Output Shape              Param #   \n",
      "=================================================================\n",
      "dense_1180 (Dense)           (None, 32)                448       \n",
      "_________________________________________________________________\n",
      "dense_1181 (Dense)           (None, 32)                1056      \n",
      "_________________________________________________________________\n",
      "dense_1182 (Dense)           (None, 32)                1056      \n",
      "_________________________________________________________________\n",
      "dense_1183 (Dense)           (None, 32)                1056      \n",
      "_________________________________________________________________\n",
      "dense_1184 (Dense)           (None, 32)                1056      \n",
      "_________________________________________________________________\n",
      "dense_1185 (Dense)           (None, 32)                1056      \n",
      "_________________________________________________________________\n",
      "dense_1186 (Dense)           (None, 32)                1056      \n",
      "_________________________________________________________________\n",
      "dense_1187 (Dense)           (None, 32)                1056      \n",
      "_________________________________________________________________\n",
      "dense_1188 (Dense)           (None, 32)                1056      \n",
      "_________________________________________________________________\n",
      "dense_1189 (Dense)           (None, 32)                1056      \n",
      "_________________________________________________________________\n",
      "dense_1190 (Dense)           (None, 32)                1056      \n",
      "_________________________________________________________________\n",
      "dense_1191 (Dense)           (None, 32)                1056      \n",
      "_________________________________________________________________\n",
      "dense_1192 (Dense)           (None, 32)                1056      \n",
      "_________________________________________________________________\n",
      "dense_1193 (Dense)           (None, 32)                1056      \n",
      "_________________________________________________________________\n",
      "dense_1194 (Dense)           (None, 32)                1056      \n",
      "_________________________________________________________________\n",
      "dense_1195 (Dense)           (None, 32)                1056      \n",
      "_________________________________________________________________\n",
      "dense_1196 (Dense)           (None, 32)                1056      \n",
      "_________________________________________________________________\n",
      "dense_1197 (Dense)           (None, 32)                1056      \n",
      "_________________________________________________________________\n",
      "dense_1198 (Dense)           (None, 32)                1056      \n",
      "_________________________________________________________________\n",
      "dense_1199 (Dense)           (None, 32)                1056      \n",
      "_________________________________________________________________\n",
      "Output (Dense)               (None, 1)                 33        \n",
      "=================================================================\n",
      "Total params: 20,545\n",
      "Trainable params: 20,545\n",
      "Non-trainable params: 0\n",
      "_________________________________________________________________\n"
     ]
    }
   ],
   "source": [
    "##Parameters of the regressor\n",
    "n_variables_r = xtrainSF_N.shape[1] #xtrainSF_N_r.shape[1]\n",
    "n_layers_r = 20\n",
    "n_neurons_r = 32\n",
    "\n",
    "##Initialize regressor\n",
    "regressor = Regressor_1(n_variables_r, n_layers_r, n_neurons_r)\n",
    "regressor.summary()"
   ]
  },
  {
   "cell_type": "code",
   "execution_count": 72,
   "metadata": {},
   "outputs": [
    {
     "name": "stdout",
     "output_type": "stream",
     "text": [
      "Epoch 1/20\n",
      "822/822 [==============================] - 3s 3ms/step - loss: 1.4382 - accuracy: 0.3951\n",
      "Epoch 2/20\n",
      "822/822 [==============================] - 3s 3ms/step - loss: 1.2442 - accuracy: 0.3941\n",
      "Epoch 3/20\n",
      "822/822 [==============================] - 3s 3ms/step - loss: 1.1974 - accuracy: 0.3970\n",
      "Epoch 4/20\n",
      "822/822 [==============================] - 3s 4ms/step - loss: 1.2032 - accuracy: 0.3946\n",
      "Epoch 5/20\n",
      "822/822 [==============================] - 4s 5ms/step - loss: 1.2036 - accuracy: 0.3955\n",
      "Epoch 6/20\n",
      "822/822 [==============================] - 4s 5ms/step - loss: 1.1809 - accuracy: 0.3962\n",
      "Epoch 7/20\n",
      "822/822 [==============================] - 3s 3ms/step - loss: 1.1683 - accuracy: 0.3942\n",
      "Epoch 8/20\n",
      "822/822 [==============================] - 3s 3ms/step - loss: 1.1573 - accuracy: 0.3944\n",
      "Epoch 9/20\n",
      "822/822 [==============================] - 2s 3ms/step - loss: 1.1733 - accuracy: 0.3922\n",
      "Epoch 10/20\n",
      "822/822 [==============================] - 2s 3ms/step - loss: 1.1342 - accuracy: 0.3972\n",
      "Epoch 11/20\n",
      "822/822 [==============================] - 4s 5ms/step - loss: 1.1590 - accuracy: 0.3928\n",
      "Epoch 12/20\n",
      "822/822 [==============================] - 3s 3ms/step - loss: 1.1590 - accuracy: 0.3945\n",
      "Epoch 13/20\n",
      "822/822 [==============================] - 3s 3ms/step - loss: 1.1526 - accuracy: 0.3932\n",
      "Epoch 14/20\n",
      "822/822 [==============================] - 3s 4ms/step - loss: 1.1218 - accuracy: 0.3956\n",
      "Epoch 15/20\n",
      "822/822 [==============================] - 2s 3ms/step - loss: 1.1418 - accuracy: 0.3938\n",
      "Epoch 16/20\n",
      "822/822 [==============================] - 3s 3ms/step - loss: 1.1438 - accuracy: 0.3965\n",
      "Epoch 17/20\n",
      "822/822 [==============================] - 3s 4ms/step - loss: 1.1299 - accuracy: 0.3953\n",
      "Epoch 18/20\n",
      "822/822 [==============================] - 3s 3ms/step - loss: 1.1403 - accuracy: 0.3953\n",
      "Epoch 19/20\n",
      "822/822 [==============================] - 2s 3ms/step - loss: 1.1112 - accuracy: 0.3963\n",
      "Epoch 20/20\n",
      "822/822 [==============================] - 3s 3ms/step - loss: 1.1114 - accuracy: 0.3949\n"
     ]
    },
    {
     "data": {
      "image/png": "[encoded data removed]",
      "text/plain": [
       "<Figure size 432x288 with 1 Axes>"
      ]
     },
     "metadata": {
      "needs_background": "light"
     },
     "output_type": "display_data"
    }
   ],
   "source": [
    "##Training parameters\n",
    "batch_size_r = 100\n",
    "epochs_r = 20\n",
    "\n",
    "##Training\n",
    "#history_r = regressor.fit(xtrainSF_N_r, ytrain_r, batch_size_r, epochs_r, verbose=1)\n",
    "history_r = regressor.fit(xtrainSF_N, ytrain_p, batch_size_r, epochs_r, verbose=1)\n",
    "plt.plot(history_r.history['loss'])\n",
    "plt.xlabel(\"epochs\")\n",
    "plt.ylabel(\"loss\")\n",
    "plt.show()"
   ]
  },
  {
   "cell_type": "markdown",
   "metadata": {},
   "source": [
    "## <font color = 'royalblue'>6 Prediction</font>"
   ]
  },
  {
   "cell_type": "markdown",
   "metadata": {},
   "source": [
    "### 6.1 Predict 'rain or not'"
   ]
  },
  {
   "cell_type": "code",
   "execution_count": 119,
   "metadata": {},
   "outputs": [],
   "source": [
    "ypred_c = classifier.predict(xtestSF_N)\n",
    "ypred_c = (ypred_c > 0.5).astype(int)\n",
    "ypred_c = pd.DataFrame(ypred_c, columns=['Rain'])"
   ]
  },
  {
   "cell_type": "code",
   "execution_count": 120,
   "metadata": {},
   "outputs": [],
   "source": [
    "norain = ypred_c[ypred_c['Rain'] == 0]\n",
    "rain = ypred_c[ypred_c['Rain'] == 1]"
   ]
  },
  {
   "cell_type": "markdown",
   "metadata": {},
   "source": [
    "### 6.2 Set 'no rain' predictions"
   ]
  },
  {
   "cell_type": "code",
   "execution_count": 73,
   "metadata": {},
   "outputs": [],
   "source": [
    "ClassifReg_predictions = bl_obsT.copy()\n",
    "#ClassifReg_predictions.loc[ClassifReg_predictions.index.isin(norain.index), 'Prediction'] = 0"
   ]
  },
  {
   "cell_type": "markdown",
   "metadata": {},
   "source": [
    "### 6.3 Pre-processing"
   ]
  },
  {
   "cell_type": "code",
   "execution_count": 122,
   "metadata": {},
   "outputs": [],
   "source": [
    "xtestSF_N_r = xtestSF_N[xtestSF_N.index.isin(rain.index)]"
   ]
  },
  {
   "cell_type": "markdown",
   "metadata": {},
   "source": [
    "### 6.4 Predict 'rain' values"
   ]
  },
  {
   "cell_type": "code",
   "execution_count": 74,
   "metadata": {},
   "outputs": [],
   "source": [
    "#ypred_r = regressor.predict(xtestSF_N_r)\n",
    "ypred = regressor.predict(xtestSF_N)"
   ]
  },
  {
   "cell_type": "code",
   "execution_count": 75,
   "metadata": {},
   "outputs": [],
   "source": [
    "#ClassifReg_predictions.loc[ClassifReg_predictions.index.isin(rain.index), 'Prediction'] = ypred_r\n",
    "ClassifReg_predictions.loc[:, 'Prediction'] = ypred"
   ]
  },
  {
   "cell_type": "code",
   "execution_count": 76,
   "metadata": {},
   "outputs": [
    {
     "data": {
      "text/html": [
       "<div>\n",
       "<style scoped>\n",
       "    .dataframe tbody tr th:only-of-type {\n",
       "        vertical-align: middle;\n",
       "    }\n",
       "\n",
       "    .dataframe tbody tr th {\n",
       "        vertical-align: top;\n",
       "    }\n",
       "\n",
       "    .dataframe thead th {\n",
       "        text-align: right;\n",
       "    }\n",
       "</style>\n",
       "<table border=\"1\" class=\"dataframe\">\n",
       "  <thead>\n",
       "    <tr style=\"text-align: right;\">\n",
       "      <th></th>\n",
       "      <th>Id</th>\n",
       "      <th>Prediction</th>\n",
       "    </tr>\n",
       "  </thead>\n",
       "  <tbody>\n",
       "    <tr>\n",
       "      <th>0</th>\n",
       "      <td>14066001_149</td>\n",
       "      <td>0.000548</td>\n",
       "    </tr>\n",
       "    <tr>\n",
       "      <th>1</th>\n",
       "      <td>14126001_149</td>\n",
       "      <td>0.000437</td>\n",
       "    </tr>\n",
       "    <tr>\n",
       "      <th>2</th>\n",
       "      <td>14137001_149</td>\n",
       "      <td>0.000370</td>\n",
       "    </tr>\n",
       "    <tr>\n",
       "      <th>3</th>\n",
       "      <td>14216001_149</td>\n",
       "      <td>0.000479</td>\n",
       "    </tr>\n",
       "    <tr>\n",
       "      <th>4</th>\n",
       "      <td>14296001_149</td>\n",
       "      <td>0.000573</td>\n",
       "    </tr>\n",
       "    <tr>\n",
       "      <th>...</th>\n",
       "      <td>...</td>\n",
       "      <td>...</td>\n",
       "    </tr>\n",
       "    <tr>\n",
       "      <th>85135</th>\n",
       "      <td>86137003_293</td>\n",
       "      <td>0.000414</td>\n",
       "    </tr>\n",
       "    <tr>\n",
       "      <th>85136</th>\n",
       "      <td>86165005_293</td>\n",
       "      <td>0.000355</td>\n",
       "    </tr>\n",
       "    <tr>\n",
       "      <th>85137</th>\n",
       "      <td>86273001_293</td>\n",
       "      <td>0.000584</td>\n",
       "    </tr>\n",
       "    <tr>\n",
       "      <th>85138</th>\n",
       "      <td>91200002_293</td>\n",
       "      <td>0.000614</td>\n",
       "    </tr>\n",
       "    <tr>\n",
       "      <th>85139</th>\n",
       "      <td>95690001_293</td>\n",
       "      <td>0.000655</td>\n",
       "    </tr>\n",
       "  </tbody>\n",
       "</table>\n",
       "<p>85140 rows × 2 columns</p>\n",
       "</div>"
      ],
      "text/plain": [
       "                 Id  Prediction\n",
       "0      14066001_149    0.000548\n",
       "1      14126001_149    0.000437\n",
       "2      14137001_149    0.000370\n",
       "3      14216001_149    0.000479\n",
       "4      14296001_149    0.000573\n",
       "...             ...         ...\n",
       "85135  86137003_293    0.000414\n",
       "85136  86165005_293    0.000355\n",
       "85137  86273001_293    0.000584\n",
       "85138  91200002_293    0.000614\n",
       "85139  95690001_293    0.000655\n",
       "\n",
       "[85140 rows x 2 columns]"
      ]
     },
     "metadata": {},
     "output_type": "display_data"
    }
   ],
   "source": [
    "display(ClassifReg_predictions)"
   ]
  },
  {
   "cell_type": "markdown",
   "metadata": {},
   "source": [
    "## <font color = 'royalblue'>7 Post-processing</font>"
   ]
  },
  {
   "cell_type": "code",
   "execution_count": 77,
   "metadata": {},
   "outputs": [
    {
     "data": {
      "text/html": [
       "<div>\n",
       "<style scoped>\n",
       "    .dataframe tbody tr th:only-of-type {\n",
       "        vertical-align: middle;\n",
       "    }\n",
       "\n",
       "    .dataframe tbody tr th {\n",
       "        vertical-align: top;\n",
       "    }\n",
       "\n",
       "    .dataframe thead th {\n",
       "        text-align: right;\n",
       "    }\n",
       "</style>\n",
       "<table border=\"1\" class=\"dataframe\">\n",
       "  <thead>\n",
       "    <tr style=\"text-align: right;\">\n",
       "      <th></th>\n",
       "      <th>Id</th>\n",
       "      <th>Prediction</th>\n",
       "    </tr>\n",
       "  </thead>\n",
       "  <tbody>\n",
       "    <tr>\n",
       "      <th>0</th>\n",
       "      <td>14066001_149</td>\n",
       "      <td>1.000548</td>\n",
       "    </tr>\n",
       "    <tr>\n",
       "      <th>1</th>\n",
       "      <td>14126001_149</td>\n",
       "      <td>1.000437</td>\n",
       "    </tr>\n",
       "    <tr>\n",
       "      <th>2</th>\n",
       "      <td>14137001_149</td>\n",
       "      <td>1.000370</td>\n",
       "    </tr>\n",
       "    <tr>\n",
       "      <th>3</th>\n",
       "      <td>14216001_149</td>\n",
       "      <td>1.000479</td>\n",
       "    </tr>\n",
       "    <tr>\n",
       "      <th>4</th>\n",
       "      <td>14296001_149</td>\n",
       "      <td>1.000573</td>\n",
       "    </tr>\n",
       "    <tr>\n",
       "      <th>...</th>\n",
       "      <td>...</td>\n",
       "      <td>...</td>\n",
       "    </tr>\n",
       "    <tr>\n",
       "      <th>85135</th>\n",
       "      <td>86137003_293</td>\n",
       "      <td>1.000414</td>\n",
       "    </tr>\n",
       "    <tr>\n",
       "      <th>85136</th>\n",
       "      <td>86165005_293</td>\n",
       "      <td>1.000355</td>\n",
       "    </tr>\n",
       "    <tr>\n",
       "      <th>85137</th>\n",
       "      <td>86273001_293</td>\n",
       "      <td>1.000584</td>\n",
       "    </tr>\n",
       "    <tr>\n",
       "      <th>85138</th>\n",
       "      <td>91200002_293</td>\n",
       "      <td>1.000614</td>\n",
       "    </tr>\n",
       "    <tr>\n",
       "      <th>85139</th>\n",
       "      <td>95690001_293</td>\n",
       "      <td>1.000655</td>\n",
       "    </tr>\n",
       "  </tbody>\n",
       "</table>\n",
       "<p>85140 rows × 2 columns</p>\n",
       "</div>"
      ],
      "text/plain": [
       "                 Id  Prediction\n",
       "0      14066001_149    1.000548\n",
       "1      14126001_149    1.000437\n",
       "2      14137001_149    1.000370\n",
       "3      14216001_149    1.000479\n",
       "4      14296001_149    1.000573\n",
       "...             ...         ...\n",
       "85135  86137003_293    1.000414\n",
       "85136  86165005_293    1.000355\n",
       "85137  86273001_293    1.000584\n",
       "85138  91200002_293    1.000614\n",
       "85139  95690001_293    1.000655\n",
       "\n",
       "[85140 rows x 2 columns]"
      ]
     },
     "metadata": {},
     "output_type": "display_data"
    },
    {
     "name": "stdout",
     "output_type": "stream",
     "text": [
      "Missing Data : 0 \n",
      " Shape is : (85140, 2)\n"
     ]
    }
   ],
   "source": [
    "ClassifReg_predictions['Prediction'] = ClassifReg_predictions['Prediction'] + 1\n",
    "display(ClassifReg_predictions)\n",
    "print('Missing Data :', ClassifReg_predictions.isna().sum().sum(), '\\n', 'Shape is :', ClassifReg_predictions.shape)"
   ]
  },
  {
   "cell_type": "code",
   "execution_count": 78,
   "metadata": {},
   "outputs": [
    {
     "data": {
      "image/png": "[encoded data removed]",
      "text/plain": [
       "<Figure size 1080x360 with 1 Axes>"
      ]
     },
     "metadata": {
      "needs_background": "light"
     },
     "output_type": "display_data"
    }
   ],
   "source": [
    "x = np.arange(0, 85140)\n",
    "plt.figure(figsize=(15,5))\n",
    "plt.scatter(x, ClassifReg_predictions['Prediction'])\n",
    "plt.show()"
   ]
  },
  {
   "cell_type": "markdown",
   "metadata": {},
   "source": [
    "## <font color = 'royalblue'>8 Exportation</font>"
   ]
  },
  {
   "cell_type": "code",
   "execution_count": 79,
   "metadata": {},
   "outputs": [],
   "source": [
    "output_file = \"Submissions_26_regressor-bl-forecast-bis.csv\"\n",
    "ClassifReg_predictions.to_csv('/Users/qdouzery/Desktop/Defi-IA-2022_DGM/Submissions/' + output_file, index=False)\n",
    "#ClassifReg_predictions.to_csv('/home/douzery/Bureau/Defi-IA-2022_DGM/Submissions/' + output_file, index=False)\n",
    "\n",
    "#output_file = \"Submissions_13_ann-20x32-month-mae.csv\"\n",
    "#Network_predictions.to_csv('C:/Users/Alexia/Desktop/5A/Defi-IA-2022_DGM/Submissions' + output_file, index=False)"
   ]
  },
  {
   "cell_type": "markdown",
   "metadata": {},
   "source": [
    "## Autres"
   ]
  },
  {
   "cell_type": "markdown",
   "metadata": {},
   "source": [
    "### 6.2 Monte Carlo validation"
   ]
  },
  {
   "cell_type": "code",
   "execution_count": null,
   "metadata": {},
   "outputs": [],
   "source": [
    "#seuil = 0.5\n",
    "#seuil = 2\n",
    "B = 10\n",
    "MAPE_ = np.zeros(B)\n",
    "\n",
    "for b in tqdm(range(B)):\n",
    "    xtrain_t, xtrain_v, ytrain_t, ytrain_v = Create_samples(xtrainS_aux, ytrain_aux)\n",
    "    \n",
    "    #dummies dataframes for \"month\" before normalization\n",
    "    xtrain_t_Dum = pd.get_dummies(xtrain_t['month'])\n",
    "    xtrain_v_Dum = pd.get_dummies(xtrain_v['month'])\n",
    "    del xtrain_t_Dum[1]\n",
    "    del xtrain_v_Dum[1]\n",
    "    \n",
    "    #normalization\n",
    "    xtrain_t_N, xtrain_v_N = normalization(xtrain_t, xtrain_v)\n",
    "    \n",
    "    #drop \"month\" \n",
    "    xtrain_t_N.drop(['month'], axis=1, inplace=True)\n",
    "    xtrain_v_N.drop(['month'], axis=1, inplace=True)\n",
    "    \n",
    "    #concatenation after normalization: dummies + original df\n",
    "    xtrain_t_N = pd.concat([xtrain_t_N, xtrain_t_Dum],axis=1)\n",
    "    xtrain_v_N = pd.concat([xtrain_v_N, xtrain_v_Dum],axis=1)\n",
    "\n",
    "    ytrain_v.loc[:,'Ground_truth'] = ytrain_v.loc[:,'Ground_truth'] + 1\n",
    "    \n",
    "    nb_variables = np.shape(xtrain_t_N)[1]\n",
    "    nn = get_model(nb_variables, n_layers, n_neurons)\n",
    "    \n",
    "    #Entraînement\n",
    "    history = nn.fit(xtrain_t_N, ytrain_t, batch_size, epochs, verbose=0)\n",
    "    \n",
    "    validation = nn.predict(xtrain_v_N)\n",
    "    Network_validation = ytrain_v.copy()\n",
    "    Network_validation['Ground_truth'] = validation\n",
    "    Network_validation.rename(columns={'Ground_truth':'Prediction'}, inplace=True)\n",
    "\n",
    "    Network_validation.loc[:,'Prediction'] = Network_validation.loc[:,'Prediction'] + 1\n",
    "    \n",
    "    MAPE_[b] = MAPE(Network_validation['Prediction'], ytrain_v['Ground_truth'])"
   ]
  },
  {
   "cell_type": "code",
   "execution_count": null,
   "metadata": {},
   "outputs": [],
   "source": [
    "print(\"Mean MAPE :\", np.mean(MAPE_))\n",
    "plt.boxplot(MAPE_)\n",
    "plt.ylabel(\"MAPE\")\n",
    "plt.show()"
   ]
  },
  {
   "cell_type": "code",
   "execution_count": null,
   "metadata": {},
   "outputs": [],
   "source": [
    "plt.figure(figsize=(15,5))\n",
    "#true_line = np.arange(min(ytrain_v['Ground_truth']),max(ytrain_v['Ground_truth'])+1)\n",
    "true_line = np.arange(min(ytrain_v['Ground_truth']),6)\n",
    "plt.scatter(ytrain_v['Ground_truth'], Network_validation['Prediction'])\n",
    "plt.plot(true_line, true_line, color='r')\n",
    "plt.xlim((0,6))\n",
    "plt.ylim((0,6))\n",
    "plt.xlabel(\"Ground truth\")\n",
    "plt.ylabel(\"Precipitation predictions\")\n",
    "plt.show()"
   ]
  }
 ],
 "metadata": {
  "kernelspec": {
   "display_name": "Python 3",
   "language": "python",
   "name": "python3"
  },
  "language_info": {
   "codemirror_mode": {
    "name": "ipython",
    "version": 3
   },
   "file_extension": ".py",
   "mimetype": "text/x-python",
   "name": "python",
   "nbconvert_exporter": "python",
   "pygments_lexer": "ipython3",
   "version": "3.8.5"
  }
 },
 "nbformat": 4,
 "nbformat_minor": 4
}
