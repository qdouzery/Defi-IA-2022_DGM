{
 "cells": [
  {
   "cell_type": "markdown",
   "metadata": {},
   "source": [
    "# Defi-IA 2022 <a href=\"https://www.kaggle.com/c/defi-ia-2022/overview\"><img src=\"https://upload.wikimedia.org/wikipedia/commons/7/7c/Kaggle_logo.png\" style=\"max-width: 70px; display: inline\" alt=\"Python\"/></a>\n",
    "-------------------------------------------------------------\n",
    "\n",
    "**Predict the accumulated daily rainfall on ground stations**  \n",
    "*Quentin Douzery, Alexia Ghozland, Dario Moed*"
   ]
  },
  {
   "cell_type": "markdown",
   "metadata": {},
   "source": [
    "## <font color = 'royalblue'>1 Imports</font>"
   ]
  },
  {
   "cell_type": "markdown",
   "metadata": {},
   "source": [
    "### 1.1 Packages"
   ]
  },
  {
   "cell_type": "code",
   "execution_count": 1,
   "metadata": {},
   "outputs": [],
   "source": [
    "##Packages\n",
    "import time\n",
    "import pandas as pd\n",
    "import numpy as np\n",
    "import datetime\n",
    "import matplotlib.pyplot as plt\n",
    "\n",
    "from sklearn import linear_model\n",
    "from sklearn.model_selection import GridSearchCV,train_test_split \n",
    "from sklearn.tree import DecisionTreeClassifier,DecisionTreeRegressor\n",
    "from sklearn.neural_network import MLPRegressor,MLPClassifier\n",
    "from sklearn.ensemble import RandomForestClassifier ,RandomForestRegressor\n",
    "from sklearn.preprocessing import scale , StandardScaler\n",
    "\n",
    "import tensorflow as tf\n",
    "from tensorflow import keras\n",
    "from tensorflow.keras import layers\n",
    "#from keras.models import Sequential\n",
    "\n",
    "from tqdm import tqdm"
   ]
  },
  {
   "cell_type": "code",
   "execution_count": 2,
   "metadata": {},
   "outputs": [],
   "source": [
    "pd.options.mode.chained_assignment = None  # default='warn'"
   ]
  },
  {
   "cell_type": "markdown",
   "metadata": {},
   "source": [
    "### 1.2 Data"
   ]
  },
  {
   "cell_type": "code",
   "execution_count": 3,
   "metadata": {},
   "outputs": [],
   "source": [
    "##Données\n",
    "coords_path = '/Users/qdouzery/Desktop/Defi-IA_Data/Other/stations_coordinates.csv' #Perso\n",
    "#coords_path = '/home/douzery/Bureau/Defi-IA_Data/Other/stations_coordinates.csv' #INSA\n",
    "\n",
    "xtrainS_path = '/Users/qdouzery/Desktop/Defi-IA_Data/Train/X_station_train.csv' #Perso\n",
    "#xtrainS_path = '/home/douzery/Bureau/Defi-IA_Data/Train/X_station_train.csv' #INSA\n",
    "\n",
    "ytrain_path = '/Users/qdouzery/Desktop/Defi-IA_Data/Train/Y_train.csv' #Perso\n",
    "#ytrain_path = '/home/douzery/Bureau/Defi-IA_Data/Train/Y_train.csv' #INSA\n",
    "\n",
    "xtestS_path = '/Users/qdouzery/Desktop/Defi-IA_Data/Test/X_station_test.csv' #Perso\n",
    "#xtestS_path = '/home/douzery/Bureau/Defi-IA_Data/Test/X_station_test.csv' #INSA\n",
    "\n",
    "bl_obsT_path = '/Users/qdouzery/Desktop/Defi-IA_Data/Test/Baselines/Baseline_observation_test.csv' #Perso\n",
    "#bl_obsT_path = '/home/douzery/Bureau/Defi-IA_Data/Test/Baselines/Baseline_observation_test.csv' #INSA"
   ]
  },
  {
   "cell_type": "markdown",
   "metadata": {},
   "source": [
    "## <font color = 'royalblue'>2 Récupération des données</font>"
   ]
  },
  {
   "cell_type": "code",
   "execution_count": 4,
   "metadata": {},
   "outputs": [
    {
     "data": {
      "text/html": [
       "<div>\n",
       "<style scoped>\n",
       "    .dataframe tbody tr th:only-of-type {\n",
       "        vertical-align: middle;\n",
       "    }\n",
       "\n",
       "    .dataframe tbody tr th {\n",
       "        vertical-align: top;\n",
       "    }\n",
       "\n",
       "    .dataframe thead th {\n",
       "        text-align: right;\n",
       "    }\n",
       "</style>\n",
       "<table border=\"1\" class=\"dataframe\">\n",
       "  <thead>\n",
       "    <tr style=\"text-align: right;\">\n",
       "      <th></th>\n",
       "      <th>number_sta</th>\n",
       "      <th>date</th>\n",
       "      <th>ff</th>\n",
       "      <th>t</th>\n",
       "      <th>td</th>\n",
       "      <th>hu</th>\n",
       "      <th>dd</th>\n",
       "      <th>precip</th>\n",
       "      <th>Id</th>\n",
       "    </tr>\n",
       "  </thead>\n",
       "  <tbody>\n",
       "    <tr>\n",
       "      <th>0</th>\n",
       "      <td>14066001</td>\n",
       "      <td>2016-01-01 00:00:00</td>\n",
       "      <td>3.05</td>\n",
       "      <td>279.28</td>\n",
       "      <td>277.97</td>\n",
       "      <td>91.4</td>\n",
       "      <td>200.0</td>\n",
       "      <td>0.0</td>\n",
       "      <td>14066001_0_0</td>\n",
       "    </tr>\n",
       "    <tr>\n",
       "      <th>1</th>\n",
       "      <td>14066001</td>\n",
       "      <td>2016-01-01 01:00:00</td>\n",
       "      <td>2.57</td>\n",
       "      <td>278.76</td>\n",
       "      <td>277.45</td>\n",
       "      <td>91.4</td>\n",
       "      <td>190.0</td>\n",
       "      <td>0.0</td>\n",
       "      <td>14066001_0_1</td>\n",
       "    </tr>\n",
       "    <tr>\n",
       "      <th>2</th>\n",
       "      <td>14066001</td>\n",
       "      <td>2016-01-01 02:00:00</td>\n",
       "      <td>2.26</td>\n",
       "      <td>278.27</td>\n",
       "      <td>277.02</td>\n",
       "      <td>91.7</td>\n",
       "      <td>181.0</td>\n",
       "      <td>0.0</td>\n",
       "      <td>14066001_0_2</td>\n",
       "    </tr>\n",
       "    <tr>\n",
       "      <th>3</th>\n",
       "      <td>14066001</td>\n",
       "      <td>2016-01-01 03:00:00</td>\n",
       "      <td>2.62</td>\n",
       "      <td>277.98</td>\n",
       "      <td>276.95</td>\n",
       "      <td>93.0</td>\n",
       "      <td>159.0</td>\n",
       "      <td>0.0</td>\n",
       "      <td>14066001_0_3</td>\n",
       "    </tr>\n",
       "    <tr>\n",
       "      <th>4</th>\n",
       "      <td>14066001</td>\n",
       "      <td>2016-01-01 04:00:00</td>\n",
       "      <td>2.99</td>\n",
       "      <td>277.32</td>\n",
       "      <td>276.72</td>\n",
       "      <td>95.9</td>\n",
       "      <td>171.0</td>\n",
       "      <td>0.0</td>\n",
       "      <td>14066001_0_4</td>\n",
       "    </tr>\n",
       "    <tr>\n",
       "      <th>...</th>\n",
       "      <td>...</td>\n",
       "      <td>...</td>\n",
       "      <td>...</td>\n",
       "      <td>...</td>\n",
       "      <td>...</td>\n",
       "      <td>...</td>\n",
       "      <td>...</td>\n",
       "      <td>...</td>\n",
       "      <td>...</td>\n",
       "    </tr>\n",
       "    <tr>\n",
       "      <th>4409469</th>\n",
       "      <td>95690001</td>\n",
       "      <td>2017-12-30 19:00:00</td>\n",
       "      <td>9.10</td>\n",
       "      <td>286.68</td>\n",
       "      <td>283.44</td>\n",
       "      <td>80.8</td>\n",
       "      <td>239.0</td>\n",
       "      <td>0.0</td>\n",
       "      <td>95690001_729_19</td>\n",
       "    </tr>\n",
       "    <tr>\n",
       "      <th>4409470</th>\n",
       "      <td>95690001</td>\n",
       "      <td>2017-12-30 20:00:00</td>\n",
       "      <td>8.58</td>\n",
       "      <td>286.39</td>\n",
       "      <td>283.21</td>\n",
       "      <td>81.1</td>\n",
       "      <td>231.0</td>\n",
       "      <td>0.0</td>\n",
       "      <td>95690001_729_20</td>\n",
       "    </tr>\n",
       "    <tr>\n",
       "      <th>4409471</th>\n",
       "      <td>95690001</td>\n",
       "      <td>2017-12-30 21:00:00</td>\n",
       "      <td>8.74</td>\n",
       "      <td>286.28</td>\n",
       "      <td>283.40</td>\n",
       "      <td>82.6</td>\n",
       "      <td>226.0</td>\n",
       "      <td>0.0</td>\n",
       "      <td>95690001_729_21</td>\n",
       "    </tr>\n",
       "    <tr>\n",
       "      <th>4409472</th>\n",
       "      <td>95690001</td>\n",
       "      <td>2017-12-30 22:00:00</td>\n",
       "      <td>9.04</td>\n",
       "      <td>286.21</td>\n",
       "      <td>283.29</td>\n",
       "      <td>82.4</td>\n",
       "      <td>224.0</td>\n",
       "      <td>0.0</td>\n",
       "      <td>95690001_729_22</td>\n",
       "    </tr>\n",
       "    <tr>\n",
       "      <th>4409473</th>\n",
       "      <td>95690001</td>\n",
       "      <td>2017-12-30 23:00:00</td>\n",
       "      <td>9.11</td>\n",
       "      <td>285.92</td>\n",
       "      <td>282.42</td>\n",
       "      <td>79.4</td>\n",
       "      <td>221.0</td>\n",
       "      <td>0.0</td>\n",
       "      <td>95690001_729_23</td>\n",
       "    </tr>\n",
       "  </tbody>\n",
       "</table>\n",
       "<p>4409474 rows × 9 columns</p>\n",
       "</div>"
      ],
      "text/plain": [
       "        number_sta                date    ff       t      td    hu     dd  \\\n",
       "0         14066001 2016-01-01 00:00:00  3.05  279.28  277.97  91.4  200.0   \n",
       "1         14066001 2016-01-01 01:00:00  2.57  278.76  277.45  91.4  190.0   \n",
       "2         14066001 2016-01-01 02:00:00  2.26  278.27  277.02  91.7  181.0   \n",
       "3         14066001 2016-01-01 03:00:00  2.62  277.98  276.95  93.0  159.0   \n",
       "4         14066001 2016-01-01 04:00:00  2.99  277.32  276.72  95.9  171.0   \n",
       "...            ...                 ...   ...     ...     ...   ...    ...   \n",
       "4409469   95690001 2017-12-30 19:00:00  9.10  286.68  283.44  80.8  239.0   \n",
       "4409470   95690001 2017-12-30 20:00:00  8.58  286.39  283.21  81.1  231.0   \n",
       "4409471   95690001 2017-12-30 21:00:00  8.74  286.28  283.40  82.6  226.0   \n",
       "4409472   95690001 2017-12-30 22:00:00  9.04  286.21  283.29  82.4  224.0   \n",
       "4409473   95690001 2017-12-30 23:00:00  9.11  285.92  282.42  79.4  221.0   \n",
       "\n",
       "         precip               Id  \n",
       "0           0.0     14066001_0_0  \n",
       "1           0.0     14066001_0_1  \n",
       "2           0.0     14066001_0_2  \n",
       "3           0.0     14066001_0_3  \n",
       "4           0.0     14066001_0_4  \n",
       "...         ...              ...  \n",
       "4409469     0.0  95690001_729_19  \n",
       "4409470     0.0  95690001_729_20  \n",
       "4409471     0.0  95690001_729_21  \n",
       "4409472     0.0  95690001_729_22  \n",
       "4409473     0.0  95690001_729_23  \n",
       "\n",
       "[4409474 rows x 9 columns]"
      ]
     },
     "metadata": {},
     "output_type": "display_data"
    },
    {
     "name": "stdout",
     "output_type": "stream",
     "text": [
      "Missing Data : 6899007 \n",
      " Shape is : (4409474, 9)\n"
     ]
    }
   ],
   "source": [
    "##X_train\n",
    "xtrainS = pd.read_csv(xtrainS_path,parse_dates=['date'],infer_datetime_format=True)\n",
    "xtrainS['number_sta'] = xtrainS['number_sta'].astype('category')  \n",
    "display(xtrainS)\n",
    "print('Missing Data :', xtrainS.isna().sum().sum(), '\\n', 'Shape is :', xtrainS.shape)"
   ]
  },
  {
   "cell_type": "code",
   "execution_count": 5,
   "metadata": {},
   "outputs": [
    {
     "data": {
      "text/html": [
       "<div>\n",
       "<style scoped>\n",
       "    .dataframe tbody tr th:only-of-type {\n",
       "        vertical-align: middle;\n",
       "    }\n",
       "\n",
       "    .dataframe tbody tr th {\n",
       "        vertical-align: top;\n",
       "    }\n",
       "\n",
       "    .dataframe thead th {\n",
       "        text-align: right;\n",
       "    }\n",
       "</style>\n",
       "<table border=\"1\" class=\"dataframe\">\n",
       "  <thead>\n",
       "    <tr style=\"text-align: right;\">\n",
       "      <th></th>\n",
       "      <th>date</th>\n",
       "      <th>number_sta</th>\n",
       "      <th>Ground_truth</th>\n",
       "      <th>Id</th>\n",
       "    </tr>\n",
       "  </thead>\n",
       "  <tbody>\n",
       "    <tr>\n",
       "      <th>0</th>\n",
       "      <td>2016-01-02</td>\n",
       "      <td>14066001</td>\n",
       "      <td>3.4</td>\n",
       "      <td>14066001_0</td>\n",
       "    </tr>\n",
       "    <tr>\n",
       "      <th>1</th>\n",
       "      <td>2016-01-02</td>\n",
       "      <td>14126001</td>\n",
       "      <td>0.5</td>\n",
       "      <td>14126001_0</td>\n",
       "    </tr>\n",
       "    <tr>\n",
       "      <th>2</th>\n",
       "      <td>2016-01-02</td>\n",
       "      <td>14137001</td>\n",
       "      <td>3.4</td>\n",
       "      <td>14137001_0</td>\n",
       "    </tr>\n",
       "    <tr>\n",
       "      <th>3</th>\n",
       "      <td>2016-01-02</td>\n",
       "      <td>14216001</td>\n",
       "      <td>4.0</td>\n",
       "      <td>14216001_0</td>\n",
       "    </tr>\n",
       "    <tr>\n",
       "      <th>4</th>\n",
       "      <td>2016-01-02</td>\n",
       "      <td>14296001</td>\n",
       "      <td>13.3</td>\n",
       "      <td>14296001_0</td>\n",
       "    </tr>\n",
       "    <tr>\n",
       "      <th>...</th>\n",
       "      <td>...</td>\n",
       "      <td>...</td>\n",
       "      <td>...</td>\n",
       "      <td>...</td>\n",
       "    </tr>\n",
       "    <tr>\n",
       "      <th>183742</th>\n",
       "      <td>2017-12-31</td>\n",
       "      <td>86137003</td>\n",
       "      <td>5.0</td>\n",
       "      <td>86137003_729</td>\n",
       "    </tr>\n",
       "    <tr>\n",
       "      <th>183743</th>\n",
       "      <td>2017-12-31</td>\n",
       "      <td>86165005</td>\n",
       "      <td>3.2</td>\n",
       "      <td>86165005_729</td>\n",
       "    </tr>\n",
       "    <tr>\n",
       "      <th>183744</th>\n",
       "      <td>2017-12-31</td>\n",
       "      <td>86272002</td>\n",
       "      <td>1.8</td>\n",
       "      <td>86272002_729</td>\n",
       "    </tr>\n",
       "    <tr>\n",
       "      <th>183745</th>\n",
       "      <td>2017-12-31</td>\n",
       "      <td>91200002</td>\n",
       "      <td>1.6</td>\n",
       "      <td>91200002_729</td>\n",
       "    </tr>\n",
       "    <tr>\n",
       "      <th>183746</th>\n",
       "      <td>2017-12-31</td>\n",
       "      <td>95690001</td>\n",
       "      <td>1.2</td>\n",
       "      <td>95690001_729</td>\n",
       "    </tr>\n",
       "  </tbody>\n",
       "</table>\n",
       "<p>183747 rows × 4 columns</p>\n",
       "</div>"
      ],
      "text/plain": [
       "             date number_sta  Ground_truth            Id\n",
       "0      2016-01-02   14066001           3.4    14066001_0\n",
       "1      2016-01-02   14126001           0.5    14126001_0\n",
       "2      2016-01-02   14137001           3.4    14137001_0\n",
       "3      2016-01-02   14216001           4.0    14216001_0\n",
       "4      2016-01-02   14296001          13.3    14296001_0\n",
       "...           ...        ...           ...           ...\n",
       "183742 2017-12-31   86137003           5.0  86137003_729\n",
       "183743 2017-12-31   86165005           3.2  86165005_729\n",
       "183744 2017-12-31   86272002           1.8  86272002_729\n",
       "183745 2017-12-31   91200002           1.6  91200002_729\n",
       "183746 2017-12-31   95690001           1.2  95690001_729\n",
       "\n",
       "[183747 rows x 4 columns]"
      ]
     },
     "metadata": {},
     "output_type": "display_data"
    },
    {
     "name": "stdout",
     "output_type": "stream",
     "text": [
      "Missing Data : 21640 \n",
      " Shape is : (183747, 4)\n"
     ]
    }
   ],
   "source": [
    "#Y_train\n",
    "ytrain = pd.read_csv(ytrain_path, parse_dates=['date'], infer_datetime_format=True)\n",
    "ytrain['number_sta'] = ytrain['number_sta'].astype('category')\n",
    "display(ytrain)\n",
    "print('Missing Data :', ytrain.isna().sum().sum(), '\\n', 'Shape is :', ytrain.shape)"
   ]
  },
  {
   "cell_type": "code",
   "execution_count": 6,
   "metadata": {},
   "outputs": [
    {
     "data": {
      "text/html": [
       "<div>\n",
       "<style scoped>\n",
       "    .dataframe tbody tr th:only-of-type {\n",
       "        vertical-align: middle;\n",
       "    }\n",
       "\n",
       "    .dataframe tbody tr th {\n",
       "        vertical-align: top;\n",
       "    }\n",
       "\n",
       "    .dataframe thead th {\n",
       "        text-align: right;\n",
       "    }\n",
       "</style>\n",
       "<table border=\"1\" class=\"dataframe\">\n",
       "  <thead>\n",
       "    <tr style=\"text-align: right;\">\n",
       "      <th></th>\n",
       "      <th>dd</th>\n",
       "      <th>hu</th>\n",
       "      <th>td</th>\n",
       "      <th>t</th>\n",
       "      <th>ff</th>\n",
       "      <th>precip</th>\n",
       "      <th>month</th>\n",
       "      <th>Id</th>\n",
       "    </tr>\n",
       "  </thead>\n",
       "  <tbody>\n",
       "    <tr>\n",
       "      <th>0</th>\n",
       "      <td>NaN</td>\n",
       "      <td>NaN</td>\n",
       "      <td>NaN</td>\n",
       "      <td>278.35</td>\n",
       "      <td>NaN</td>\n",
       "      <td>NaN</td>\n",
       "      <td>12</td>\n",
       "      <td>14047002_277_4</td>\n",
       "    </tr>\n",
       "    <tr>\n",
       "      <th>1</th>\n",
       "      <td>NaN</td>\n",
       "      <td>NaN</td>\n",
       "      <td>NaN</td>\n",
       "      <td>278.40</td>\n",
       "      <td>NaN</td>\n",
       "      <td>0.0</td>\n",
       "      <td>12</td>\n",
       "      <td>14047002_277_5</td>\n",
       "    </tr>\n",
       "    <tr>\n",
       "      <th>2</th>\n",
       "      <td>NaN</td>\n",
       "      <td>NaN</td>\n",
       "      <td>NaN</td>\n",
       "      <td>279.01</td>\n",
       "      <td>NaN</td>\n",
       "      <td>0.0</td>\n",
       "      <td>12</td>\n",
       "      <td>14047002_277_6</td>\n",
       "    </tr>\n",
       "    <tr>\n",
       "      <th>3</th>\n",
       "      <td>NaN</td>\n",
       "      <td>NaN</td>\n",
       "      <td>NaN</td>\n",
       "      <td>279.66</td>\n",
       "      <td>NaN</td>\n",
       "      <td>0.0</td>\n",
       "      <td>12</td>\n",
       "      <td>14047002_277_7</td>\n",
       "    </tr>\n",
       "    <tr>\n",
       "      <th>4</th>\n",
       "      <td>NaN</td>\n",
       "      <td>NaN</td>\n",
       "      <td>NaN</td>\n",
       "      <td>279.99</td>\n",
       "      <td>NaN</td>\n",
       "      <td>0.0</td>\n",
       "      <td>12</td>\n",
       "      <td>14047002_277_8</td>\n",
       "    </tr>\n",
       "    <tr>\n",
       "      <th>...</th>\n",
       "      <td>...</td>\n",
       "      <td>...</td>\n",
       "      <td>...</td>\n",
       "      <td>...</td>\n",
       "      <td>...</td>\n",
       "      <td>...</td>\n",
       "      <td>...</td>\n",
       "      <td>...</td>\n",
       "    </tr>\n",
       "    <tr>\n",
       "      <th>2304797</th>\n",
       "      <td>190.0</td>\n",
       "      <td>82.8</td>\n",
       "      <td>277.00</td>\n",
       "      <td>279.74</td>\n",
       "      <td>10.62</td>\n",
       "      <td>0.0</td>\n",
       "      <td>12</td>\n",
       "      <td>95690001_176_19</td>\n",
       "    </tr>\n",
       "    <tr>\n",
       "      <th>2304798</th>\n",
       "      <td>195.0</td>\n",
       "      <td>84.2</td>\n",
       "      <td>277.44</td>\n",
       "      <td>279.93</td>\n",
       "      <td>11.86</td>\n",
       "      <td>0.0</td>\n",
       "      <td>12</td>\n",
       "      <td>95690001_176_20</td>\n",
       "    </tr>\n",
       "    <tr>\n",
       "      <th>2304799</th>\n",
       "      <td>199.0</td>\n",
       "      <td>85.7</td>\n",
       "      <td>277.95</td>\n",
       "      <td>280.21</td>\n",
       "      <td>11.77</td>\n",
       "      <td>0.0</td>\n",
       "      <td>12</td>\n",
       "      <td>95690001_176_21</td>\n",
       "    </tr>\n",
       "    <tr>\n",
       "      <th>2304800</th>\n",
       "      <td>198.0</td>\n",
       "      <td>85.3</td>\n",
       "      <td>278.25</td>\n",
       "      <td>280.58</td>\n",
       "      <td>10.16</td>\n",
       "      <td>0.0</td>\n",
       "      <td>12</td>\n",
       "      <td>95690001_176_22</td>\n",
       "    </tr>\n",
       "    <tr>\n",
       "      <th>2304801</th>\n",
       "      <td>190.0</td>\n",
       "      <td>86.0</td>\n",
       "      <td>278.60</td>\n",
       "      <td>280.80</td>\n",
       "      <td>9.50</td>\n",
       "      <td>0.0</td>\n",
       "      <td>12</td>\n",
       "      <td>95690001_176_23</td>\n",
       "    </tr>\n",
       "  </tbody>\n",
       "</table>\n",
       "<p>2304802 rows × 8 columns</p>\n",
       "</div>"
      ],
      "text/plain": [
       "            dd    hu      td       t     ff  precip  month               Id\n",
       "0          NaN   NaN     NaN  278.35    NaN     NaN     12   14047002_277_4\n",
       "1          NaN   NaN     NaN  278.40    NaN     0.0     12   14047002_277_5\n",
       "2          NaN   NaN     NaN  279.01    NaN     0.0     12   14047002_277_6\n",
       "3          NaN   NaN     NaN  279.66    NaN     0.0     12   14047002_277_7\n",
       "4          NaN   NaN     NaN  279.99    NaN     0.0     12   14047002_277_8\n",
       "...        ...   ...     ...     ...    ...     ...    ...              ...\n",
       "2304797  190.0  82.8  277.00  279.74  10.62     0.0     12  95690001_176_19\n",
       "2304798  195.0  84.2  277.44  279.93  11.86     0.0     12  95690001_176_20\n",
       "2304799  199.0  85.7  277.95  280.21  11.77     0.0     12  95690001_176_21\n",
       "2304800  198.0  85.3  278.25  280.58  10.16     0.0     12  95690001_176_22\n",
       "2304801  190.0  86.0  278.60  280.80   9.50     0.0     12  95690001_176_23\n",
       "\n",
       "[2304802 rows x 8 columns]"
      ]
     },
     "metadata": {},
     "output_type": "display_data"
    },
    {
     "name": "stdout",
     "output_type": "stream",
     "text": [
      "Missing Data : 3914287 \n",
      " Shape is : (2304802, 8)\n"
     ]
    }
   ],
   "source": [
    "##X_test\n",
    "xtestS = pd.read_csv(xtestS_path,infer_datetime_format=True)\n",
    "display(xtestS)\n",
    "print('Missing Data :', xtestS.isna().sum().sum(), '\\n', 'Shape is :', xtestS.shape)"
   ]
  },
  {
   "cell_type": "code",
   "execution_count": 7,
   "metadata": {},
   "outputs": [],
   "source": [
    "bl_obsT = pd.read_csv(bl_obsT_path,infer_datetime_format=True)\n",
    "Id_pred = bl_obsT[\"Id\"]"
   ]
  },
  {
   "cell_type": "markdown",
   "metadata": {},
   "source": [
    "## <font color = 'royalblue'>3 Pre-processing</font>"
   ]
  },
  {
   "cell_type": "code",
   "execution_count": 8,
   "metadata": {},
   "outputs": [],
   "source": [
    "def Get_StationDay (id):\n",
    "    return id.split('_')[0] + \"_\" + id.split('_')[1]"
   ]
  },
  {
   "cell_type": "code",
   "execution_count": 9,
   "metadata": {},
   "outputs": [],
   "source": [
    "def Id_to_int (id):\n",
    "    return int(id.split('_')[0] + id.split('_')[1] + id.split('_')[2])"
   ]
  },
  {
   "cell_type": "markdown",
   "metadata": {},
   "source": [
    "### 3.1 Add 'month' variable"
   ]
  },
  {
   "cell_type": "code",
   "execution_count": 10,
   "metadata": {},
   "outputs": [
    {
     "data": {
      "text/html": [
       "<div>\n",
       "<style scoped>\n",
       "    .dataframe tbody tr th:only-of-type {\n",
       "        vertical-align: middle;\n",
       "    }\n",
       "\n",
       "    .dataframe tbody tr th {\n",
       "        vertical-align: top;\n",
       "    }\n",
       "\n",
       "    .dataframe thead th {\n",
       "        text-align: right;\n",
       "    }\n",
       "</style>\n",
       "<table border=\"1\" class=\"dataframe\">\n",
       "  <thead>\n",
       "    <tr style=\"text-align: right;\">\n",
       "      <th></th>\n",
       "      <th>number_sta</th>\n",
       "      <th>date</th>\n",
       "      <th>ff</th>\n",
       "      <th>t</th>\n",
       "      <th>td</th>\n",
       "      <th>hu</th>\n",
       "      <th>dd</th>\n",
       "      <th>precip</th>\n",
       "      <th>Id</th>\n",
       "      <th>month</th>\n",
       "    </tr>\n",
       "  </thead>\n",
       "  <tbody>\n",
       "    <tr>\n",
       "      <th>0</th>\n",
       "      <td>14066001</td>\n",
       "      <td>2016-01-01 00:00:00</td>\n",
       "      <td>3.05</td>\n",
       "      <td>279.28</td>\n",
       "      <td>277.97</td>\n",
       "      <td>91.4</td>\n",
       "      <td>200.0</td>\n",
       "      <td>0.0</td>\n",
       "      <td>14066001_0_0</td>\n",
       "      <td>1</td>\n",
       "    </tr>\n",
       "    <tr>\n",
       "      <th>1</th>\n",
       "      <td>14066001</td>\n",
       "      <td>2016-01-01 01:00:00</td>\n",
       "      <td>2.57</td>\n",
       "      <td>278.76</td>\n",
       "      <td>277.45</td>\n",
       "      <td>91.4</td>\n",
       "      <td>190.0</td>\n",
       "      <td>0.0</td>\n",
       "      <td>14066001_0_1</td>\n",
       "      <td>1</td>\n",
       "    </tr>\n",
       "    <tr>\n",
       "      <th>2</th>\n",
       "      <td>14066001</td>\n",
       "      <td>2016-01-01 02:00:00</td>\n",
       "      <td>2.26</td>\n",
       "      <td>278.27</td>\n",
       "      <td>277.02</td>\n",
       "      <td>91.7</td>\n",
       "      <td>181.0</td>\n",
       "      <td>0.0</td>\n",
       "      <td>14066001_0_2</td>\n",
       "      <td>1</td>\n",
       "    </tr>\n",
       "    <tr>\n",
       "      <th>3</th>\n",
       "      <td>14066001</td>\n",
       "      <td>2016-01-01 03:00:00</td>\n",
       "      <td>2.62</td>\n",
       "      <td>277.98</td>\n",
       "      <td>276.95</td>\n",
       "      <td>93.0</td>\n",
       "      <td>159.0</td>\n",
       "      <td>0.0</td>\n",
       "      <td>14066001_0_3</td>\n",
       "      <td>1</td>\n",
       "    </tr>\n",
       "    <tr>\n",
       "      <th>4</th>\n",
       "      <td>14066001</td>\n",
       "      <td>2016-01-01 04:00:00</td>\n",
       "      <td>2.99</td>\n",
       "      <td>277.32</td>\n",
       "      <td>276.72</td>\n",
       "      <td>95.9</td>\n",
       "      <td>171.0</td>\n",
       "      <td>0.0</td>\n",
       "      <td>14066001_0_4</td>\n",
       "      <td>1</td>\n",
       "    </tr>\n",
       "    <tr>\n",
       "      <th>...</th>\n",
       "      <td>...</td>\n",
       "      <td>...</td>\n",
       "      <td>...</td>\n",
       "      <td>...</td>\n",
       "      <td>...</td>\n",
       "      <td>...</td>\n",
       "      <td>...</td>\n",
       "      <td>...</td>\n",
       "      <td>...</td>\n",
       "      <td>...</td>\n",
       "    </tr>\n",
       "    <tr>\n",
       "      <th>4409469</th>\n",
       "      <td>95690001</td>\n",
       "      <td>2017-12-30 19:00:00</td>\n",
       "      <td>9.10</td>\n",
       "      <td>286.68</td>\n",
       "      <td>283.44</td>\n",
       "      <td>80.8</td>\n",
       "      <td>239.0</td>\n",
       "      <td>0.0</td>\n",
       "      <td>95690001_729_19</td>\n",
       "      <td>12</td>\n",
       "    </tr>\n",
       "    <tr>\n",
       "      <th>4409470</th>\n",
       "      <td>95690001</td>\n",
       "      <td>2017-12-30 20:00:00</td>\n",
       "      <td>8.58</td>\n",
       "      <td>286.39</td>\n",
       "      <td>283.21</td>\n",
       "      <td>81.1</td>\n",
       "      <td>231.0</td>\n",
       "      <td>0.0</td>\n",
       "      <td>95690001_729_20</td>\n",
       "      <td>12</td>\n",
       "    </tr>\n",
       "    <tr>\n",
       "      <th>4409471</th>\n",
       "      <td>95690001</td>\n",
       "      <td>2017-12-30 21:00:00</td>\n",
       "      <td>8.74</td>\n",
       "      <td>286.28</td>\n",
       "      <td>283.40</td>\n",
       "      <td>82.6</td>\n",
       "      <td>226.0</td>\n",
       "      <td>0.0</td>\n",
       "      <td>95690001_729_21</td>\n",
       "      <td>12</td>\n",
       "    </tr>\n",
       "    <tr>\n",
       "      <th>4409472</th>\n",
       "      <td>95690001</td>\n",
       "      <td>2017-12-30 22:00:00</td>\n",
       "      <td>9.04</td>\n",
       "      <td>286.21</td>\n",
       "      <td>283.29</td>\n",
       "      <td>82.4</td>\n",
       "      <td>224.0</td>\n",
       "      <td>0.0</td>\n",
       "      <td>95690001_729_22</td>\n",
       "      <td>12</td>\n",
       "    </tr>\n",
       "    <tr>\n",
       "      <th>4409473</th>\n",
       "      <td>95690001</td>\n",
       "      <td>2017-12-30 23:00:00</td>\n",
       "      <td>9.11</td>\n",
       "      <td>285.92</td>\n",
       "      <td>282.42</td>\n",
       "      <td>79.4</td>\n",
       "      <td>221.0</td>\n",
       "      <td>0.0</td>\n",
       "      <td>95690001_729_23</td>\n",
       "      <td>12</td>\n",
       "    </tr>\n",
       "  </tbody>\n",
       "</table>\n",
       "<p>4409474 rows × 10 columns</p>\n",
       "</div>"
      ],
      "text/plain": [
       "        number_sta                date    ff       t      td    hu     dd  \\\n",
       "0         14066001 2016-01-01 00:00:00  3.05  279.28  277.97  91.4  200.0   \n",
       "1         14066001 2016-01-01 01:00:00  2.57  278.76  277.45  91.4  190.0   \n",
       "2         14066001 2016-01-01 02:00:00  2.26  278.27  277.02  91.7  181.0   \n",
       "3         14066001 2016-01-01 03:00:00  2.62  277.98  276.95  93.0  159.0   \n",
       "4         14066001 2016-01-01 04:00:00  2.99  277.32  276.72  95.9  171.0   \n",
       "...            ...                 ...   ...     ...     ...   ...    ...   \n",
       "4409469   95690001 2017-12-30 19:00:00  9.10  286.68  283.44  80.8  239.0   \n",
       "4409470   95690001 2017-12-30 20:00:00  8.58  286.39  283.21  81.1  231.0   \n",
       "4409471   95690001 2017-12-30 21:00:00  8.74  286.28  283.40  82.6  226.0   \n",
       "4409472   95690001 2017-12-30 22:00:00  9.04  286.21  283.29  82.4  224.0   \n",
       "4409473   95690001 2017-12-30 23:00:00  9.11  285.92  282.42  79.4  221.0   \n",
       "\n",
       "         precip               Id  month  \n",
       "0           0.0     14066001_0_0      1  \n",
       "1           0.0     14066001_0_1      1  \n",
       "2           0.0     14066001_0_2      1  \n",
       "3           0.0     14066001_0_3      1  \n",
       "4           0.0     14066001_0_4      1  \n",
       "...         ...              ...    ...  \n",
       "4409469     0.0  95690001_729_19     12  \n",
       "4409470     0.0  95690001_729_20     12  \n",
       "4409471     0.0  95690001_729_21     12  \n",
       "4409472     0.0  95690001_729_22     12  \n",
       "4409473     0.0  95690001_729_23     12  \n",
       "\n",
       "[4409474 rows x 10 columns]"
      ]
     },
     "metadata": {},
     "output_type": "display_data"
    },
    {
     "name": "stdout",
     "output_type": "stream",
     "text": [
      "Missing Data : 6899007 \n",
      " Shape is : (4409474, 10)\n"
     ]
    }
   ],
   "source": [
    "xtrainS['month'] = xtrainS['date'].dt.month\n",
    "display(xtrainS)\n",
    "print('Missing Data :', xtrainS.isna().sum().sum(), '\\n', 'Shape is :', xtrainS.shape)"
   ]
  },
  {
   "cell_type": "code",
   "execution_count": 11,
   "metadata": {},
   "outputs": [
    {
     "data": {
      "text/html": [
       "<div>\n",
       "<style scoped>\n",
       "    .dataframe tbody tr th:only-of-type {\n",
       "        vertical-align: middle;\n",
       "    }\n",
       "\n",
       "    .dataframe tbody tr th {\n",
       "        vertical-align: top;\n",
       "    }\n",
       "\n",
       "    .dataframe thead th {\n",
       "        text-align: right;\n",
       "    }\n",
       "</style>\n",
       "<table border=\"1\" class=\"dataframe\">\n",
       "  <thead>\n",
       "    <tr style=\"text-align: right;\">\n",
       "      <th></th>\n",
       "      <th>date</th>\n",
       "      <th>number_sta</th>\n",
       "      <th>Ground_truth</th>\n",
       "      <th>Id</th>\n",
       "      <th>month</th>\n",
       "    </tr>\n",
       "  </thead>\n",
       "  <tbody>\n",
       "    <tr>\n",
       "      <th>0</th>\n",
       "      <td>2016-01-02</td>\n",
       "      <td>14066001</td>\n",
       "      <td>3.4</td>\n",
       "      <td>14066001_0</td>\n",
       "      <td>1</td>\n",
       "    </tr>\n",
       "    <tr>\n",
       "      <th>1</th>\n",
       "      <td>2016-01-02</td>\n",
       "      <td>14126001</td>\n",
       "      <td>0.5</td>\n",
       "      <td>14126001_0</td>\n",
       "      <td>1</td>\n",
       "    </tr>\n",
       "    <tr>\n",
       "      <th>2</th>\n",
       "      <td>2016-01-02</td>\n",
       "      <td>14137001</td>\n",
       "      <td>3.4</td>\n",
       "      <td>14137001_0</td>\n",
       "      <td>1</td>\n",
       "    </tr>\n",
       "    <tr>\n",
       "      <th>3</th>\n",
       "      <td>2016-01-02</td>\n",
       "      <td>14216001</td>\n",
       "      <td>4.0</td>\n",
       "      <td>14216001_0</td>\n",
       "      <td>1</td>\n",
       "    </tr>\n",
       "    <tr>\n",
       "      <th>4</th>\n",
       "      <td>2016-01-02</td>\n",
       "      <td>14296001</td>\n",
       "      <td>13.3</td>\n",
       "      <td>14296001_0</td>\n",
       "      <td>1</td>\n",
       "    </tr>\n",
       "    <tr>\n",
       "      <th>...</th>\n",
       "      <td>...</td>\n",
       "      <td>...</td>\n",
       "      <td>...</td>\n",
       "      <td>...</td>\n",
       "      <td>...</td>\n",
       "    </tr>\n",
       "    <tr>\n",
       "      <th>183742</th>\n",
       "      <td>2017-12-31</td>\n",
       "      <td>86137003</td>\n",
       "      <td>5.0</td>\n",
       "      <td>86137003_729</td>\n",
       "      <td>12</td>\n",
       "    </tr>\n",
       "    <tr>\n",
       "      <th>183743</th>\n",
       "      <td>2017-12-31</td>\n",
       "      <td>86165005</td>\n",
       "      <td>3.2</td>\n",
       "      <td>86165005_729</td>\n",
       "      <td>12</td>\n",
       "    </tr>\n",
       "    <tr>\n",
       "      <th>183744</th>\n",
       "      <td>2017-12-31</td>\n",
       "      <td>86272002</td>\n",
       "      <td>1.8</td>\n",
       "      <td>86272002_729</td>\n",
       "      <td>12</td>\n",
       "    </tr>\n",
       "    <tr>\n",
       "      <th>183745</th>\n",
       "      <td>2017-12-31</td>\n",
       "      <td>91200002</td>\n",
       "      <td>1.6</td>\n",
       "      <td>91200002_729</td>\n",
       "      <td>12</td>\n",
       "    </tr>\n",
       "    <tr>\n",
       "      <th>183746</th>\n",
       "      <td>2017-12-31</td>\n",
       "      <td>95690001</td>\n",
       "      <td>1.2</td>\n",
       "      <td>95690001_729</td>\n",
       "      <td>12</td>\n",
       "    </tr>\n",
       "  </tbody>\n",
       "</table>\n",
       "<p>183747 rows × 5 columns</p>\n",
       "</div>"
      ],
      "text/plain": [
       "             date number_sta  Ground_truth            Id  month\n",
       "0      2016-01-02   14066001           3.4    14066001_0      1\n",
       "1      2016-01-02   14126001           0.5    14126001_0      1\n",
       "2      2016-01-02   14137001           3.4    14137001_0      1\n",
       "3      2016-01-02   14216001           4.0    14216001_0      1\n",
       "4      2016-01-02   14296001          13.3    14296001_0      1\n",
       "...           ...        ...           ...           ...    ...\n",
       "183742 2017-12-31   86137003           5.0  86137003_729     12\n",
       "183743 2017-12-31   86165005           3.2  86165005_729     12\n",
       "183744 2017-12-31   86272002           1.8  86272002_729     12\n",
       "183745 2017-12-31   91200002           1.6  91200002_729     12\n",
       "183746 2017-12-31   95690001           1.2  95690001_729     12\n",
       "\n",
       "[183747 rows x 5 columns]"
      ]
     },
     "metadata": {},
     "output_type": "display_data"
    },
    {
     "name": "stdout",
     "output_type": "stream",
     "text": [
      "Missing Data : 21640 \n",
      " Shape is : (183747, 5)\n"
     ]
    }
   ],
   "source": [
    "ytrain['month'] = ytrain['date'].dt.month\n",
    "display(ytrain)\n",
    "print('Missing Data :', ytrain.isna().sum().sum(), '\\n', 'Shape is :', ytrain.shape)"
   ]
  },
  {
   "cell_type": "code",
   "execution_count": 12,
   "metadata": {},
   "outputs": [],
   "source": [
    "# Variables explicatives : on gère \"mode\" et \"key\"\n",
    "#spotifyDum=pd.get_dummies(spotify[['mode','key']])\n",
    "#del spotifyDum['mode_0']\n",
    "#del spotifyDum['key_A']\n",
    "#spotifyDum.head()"
   ]
  },
  {
   "cell_type": "markdown",
   "metadata": {},
   "source": [
    "### 3.2 Train data"
   ]
  },
  {
   "cell_type": "code",
   "execution_count": 13,
   "metadata": {},
   "outputs": [],
   "source": [
    "def Preprocess_train (xtrain, ytrain):\n",
    "    #Copy original df\n",
    "    xtrain_p = xtrain.copy()\n",
    "    ytrain_p = ytrain.copy()\n",
    "    \n",
    "    #Remove NaNs\n",
    "    xtrain_p.dropna(inplace=True)\n",
    "    ytrain_p.dropna(inplace=True)\n",
    "    \n",
    "    #Create 'StationDay' column\n",
    "    xtrain_p = xtrain_p.assign(StationDay=pd.Series(np.zeros(xtrain_p.shape[0])).values)\n",
    "    xtrain_p.loc[:,\"StationDay\"] = xtrain_p.loc[:,\"Id\"].apply(Get_StationDay)\n",
    "    \n",
    "    #Drop useless columns\n",
    "    xtrain_p.drop(['number_sta', 'date', 'Id'], axis=1, inplace=True)\n",
    "    ytrain_p.drop(['date', 'number_sta'], axis=1, inplace=True)\n",
    "    \n",
    "    #Mean on 24 hours (except 'precip')\n",
    "    xtrain_p = xtrain_p.groupby(\"StationDay\", as_index=False).agg(pd.Series.sum, min_count = 24)\n",
    "    xtrain_p[['dd', 'hu', 'td', 't', 'ff', 'month']] = xtrain_p[['dd', 'hu', 'td', 't', 'ff', 'month']].divide(24)\n",
    "    \n",
    "    #Remove NaNs\n",
    "    xtrain_p.dropna(inplace=True)\n",
    "    \n",
    "    #Keep the same rows in X_train and Y_train\n",
    "    xtrain_p = xtrain_p.loc[xtrain_p['StationDay'].isin(ytrain_p[\"Id\"])]\n",
    "    ytrain_p = ytrain_p.loc[ytrain_p['Id'].isin(xtrain_p[\"StationDay\"])]\n",
    "    \n",
    "    #Reset index\n",
    "    xtrain_p.reset_index(drop=True,inplace=True)\n",
    "    ytrain_p.reset_index(drop=True,inplace=True)\n",
    "    \n",
    "    #Sort xtrain\n",
    "    xtrain_p = xtrain_p.set_index('StationDay')\n",
    "    xtrain_p = xtrain_p.reindex(index=ytrain_p['Id'])\n",
    "    xtrain_p = xtrain_p.reset_index()\n",
    "    \n",
    "    #Drop useless variables\n",
    "    #xtrain_p.drop(['Id'], axis=1, inplace=True)\n",
    "    #ytrain_p.drop(['Id'], axis=1, inplace=True)\n",
    "    \n",
    "    return xtrain_p, ytrain_p"
   ]
  },
  {
   "cell_type": "code",
   "execution_count": 14,
   "metadata": {},
   "outputs": [],
   "source": [
    "xtrainS_aux, ytrain_aux = Preprocess_train(xtrainS, ytrain)"
   ]
  },
  {
   "cell_type": "markdown",
   "metadata": {},
   "source": [
    "### 3.3 Test data"
   ]
  },
  {
   "cell_type": "code",
   "execution_count": 15,
   "metadata": {},
   "outputs": [],
   "source": [
    "def Preprocess_test (xtest, bl_obsT):\n",
    "    #Copy original df\n",
    "    xtest_p = xtest.copy()\n",
    "    \n",
    "    #Create 'IntId' column\n",
    "    xtest_p = xtest_p.assign(IntId=pd.Series(np.zeros(xtest_p.shape[0])).values)\n",
    "    xtest_p.loc[:,\"IntId\"] = xtest_p.loc[:,\"Id\"].apply(Id_to_int)\n",
    "    \n",
    "    #Sort xtest on 'IntId' values\n",
    "    xtest_p = xtest_p.sort_values('IntId', ignore_index=True)\n",
    "    \n",
    "    #Fill NaNs\n",
    "    xtest_p = xtest_p.fillna(method=\"backfill\")\n",
    "    \n",
    "    #Create 'StationDay' column\n",
    "    xtest_p = xtest_p.assign(StationDay=pd.Series(np.zeros(xtest_p.shape[0])).values)\n",
    "    xtest_p.loc[:,\"StationDay\"] = xtest_p.loc[:,\"Id\"].apply(Get_StationDay)\n",
    "    \n",
    "    #Drop useless variables\n",
    "    xtest_p.drop(['Id', 'IntId'], axis=1, inplace=True)\n",
    "\n",
    "    #Mean on 24 hours (except 'precip')\n",
    "    xtest_p = xtest_p.groupby(\"StationDay\", as_index=False).agg(pd.Series.sum, min_count = 24)\n",
    "    xtest_p[['dd', 'hu', 'td', 't', 'ff', 'month']] = xtest_p[['dd', 'hu', 'td', 't', 'ff', 'month']].divide(24)\n",
    "    \n",
    "    #Remove NaNs\n",
    "    xtest_p.dropna(inplace=True)\n",
    "    \n",
    "    #Keep the same rows in xtest and ytest\n",
    "    xtest_p = xtest_p.loc[xtest_p['StationDay'].isin(bl_obsT[\"Id\"])]\n",
    "\n",
    "    #Reset index\n",
    "    xtest_p.reset_index(drop=True, inplace=True)\n",
    "    \n",
    "    #Sort xtest\n",
    "    xtest_p = xtest_p.set_index('StationDay')\n",
    "    xtest_p = xtest_p.reindex(index=bl_obsT['Id'])\n",
    "    xtest_p = xtest_p.reset_index()\n",
    "    \n",
    "    #Drop useless variables\n",
    "    xtest_p.drop(['Id'], axis=1, inplace=True)\n",
    "    \n",
    "    #Rearrange columns order\n",
    "    xtest_p = xtest_p[['ff', 't', 'td', 'hu', 'dd', 'precip', 'month']]\n",
    "    \n",
    "    return xtest_p"
   ]
  },
  {
   "cell_type": "code",
   "execution_count": 16,
   "metadata": {},
   "outputs": [],
   "source": [
    "xtestS_p = Preprocess_test(xtestS, bl_obsT)"
   ]
  },
  {
   "cell_type": "markdown",
   "metadata": {},
   "source": [
    "## <font color = 'royalblue'>4 Exploration</font>"
   ]
  },
  {
   "cell_type": "markdown",
   "metadata": {},
   "source": [
    "### 4.1 Train data"
   ]
  },
  {
   "cell_type": "code",
   "execution_count": 17,
   "metadata": {},
   "outputs": [
    {
     "data": {
      "text/plain": [
       "10.0    7231\n",
       "12.0    7118\n",
       "3.0     7081\n",
       "8.0     7073\n",
       "11.0    7004\n",
       "1.0     7004\n",
       "4.0     6949\n",
       "7.0     6946\n",
       "9.0     6661\n",
       "6.0     6633\n",
       "2.0     6306\n",
       "5.0     6114\n",
       "Name: month, dtype: int64"
      ]
     },
     "execution_count": 17,
     "metadata": {},
     "output_type": "execute_result"
    }
   ],
   "source": [
    "xtrainS_aux['month'].value_counts()"
   ]
  },
  {
   "cell_type": "code",
   "execution_count": 18,
   "metadata": {},
   "outputs": [
    {
     "data": {
      "image/png": "[encoded data removed]",
      "text/plain": [
       "<Figure size 1080x360 with 1 Axes>"
      ]
     },
     "metadata": {
      "needs_background": "light"
     },
     "output_type": "display_data"
    }
   ],
   "source": [
    "xtrainS_aux.boxplot(column=['precip'], by='month', figsize=(15,5))\n",
    "plt.title(\"Boxplot des précipitations par mois\")\n",
    "plt.suptitle('')\n",
    "plt.show()"
   ]
  },
  {
   "cell_type": "markdown",
   "metadata": {},
   "source": [
    "### 4.2 Test data"
   ]
  },
  {
   "cell_type": "code",
   "execution_count": 19,
   "metadata": {},
   "outputs": [
    {
     "data": {
      "text/plain": [
       "12.0    7832\n",
       "10.0    7511\n",
       "11.0    7451\n",
       "8.0     7377\n",
       "7.0     7197\n",
       "5.0     7133\n",
       "3.0     7071\n",
       "9.0     6978\n",
       "6.0     6941\n",
       "4.0     6882\n",
       "1.0     6471\n",
       "2.0     6296\n",
       "Name: month, dtype: int64"
      ]
     },
     "execution_count": 19,
     "metadata": {},
     "output_type": "execute_result"
    }
   ],
   "source": [
    "xtestS_p['month'].value_counts()"
   ]
  },
  {
   "cell_type": "code",
   "execution_count": 20,
   "metadata": {},
   "outputs": [
    {
     "data": {
      "image/png": "[encoded data removed]",
      "text/plain": [
       "<Figure size 1080x360 with 1 Axes>"
      ]
     },
     "metadata": {
      "needs_background": "light"
     },
     "output_type": "display_data"
    }
   ],
   "source": [
    "xtestS_p.boxplot(column=['precip'], by='month', figsize=(15,5))\n",
    "plt.title(\"Boxplot des précipitations par mois\")\n",
    "plt.suptitle('')\n",
    "plt.show()"
   ]
  },
  {
   "cell_type": "markdown",
   "metadata": {},
   "source": [
    "1 : pareil  \n",
    "2 : plus faible dans test  \n",
    "3 : pareil  \n",
    "4 : plus important dans test  \n",
    "5 : pareil  \n",
    "6 : pareil  \n",
    "7 : pareil  \n",
    "8 : pareil  \n",
    "9 : plus faible dans test  \n",
    "10 : plus important dans test  \n",
    "11 : pareil  \n",
    "12 : plus important dans test"
   ]
  },
  {
   "cell_type": "markdown",
   "metadata": {},
   "source": [
    "**Gérer les outliers  \n",
    "Utiliser la localisation pour créer des classes**"
   ]
  },
  {
   "cell_type": "markdown",
   "metadata": {},
   "source": [
    "## <font color = 'royalblue'>5 Training</font>"
   ]
  },
  {
   "cell_type": "markdown",
   "metadata": {},
   "source": [
    "### 5.1 Preparation"
   ]
  },
  {
   "cell_type": "code",
   "execution_count": 21,
   "metadata": {},
   "outputs": [],
   "source": [
    "to_drop = ['Id','month']"
   ]
  },
  {
   "cell_type": "code",
   "execution_count": 22,
   "metadata": {},
   "outputs": [
    {
     "data": {
      "text/html": [
       "<div>\n",
       "<style scoped>\n",
       "    .dataframe tbody tr th:only-of-type {\n",
       "        vertical-align: middle;\n",
       "    }\n",
       "\n",
       "    .dataframe tbody tr th {\n",
       "        vertical-align: top;\n",
       "    }\n",
       "\n",
       "    .dataframe thead th {\n",
       "        text-align: right;\n",
       "    }\n",
       "</style>\n",
       "<table border=\"1\" class=\"dataframe\">\n",
       "  <thead>\n",
       "    <tr style=\"text-align: right;\">\n",
       "      <th></th>\n",
       "      <th>ff</th>\n",
       "      <th>t</th>\n",
       "      <th>td</th>\n",
       "      <th>hu</th>\n",
       "      <th>dd</th>\n",
       "      <th>precip</th>\n",
       "    </tr>\n",
       "  </thead>\n",
       "  <tbody>\n",
       "    <tr>\n",
       "      <th>0</th>\n",
       "      <td>3.913750</td>\n",
       "      <td>280.333750</td>\n",
       "      <td>278.514583</td>\n",
       "      <td>88.591667</td>\n",
       "      <td>146.500000</td>\n",
       "      <td>0.2</td>\n",
       "    </tr>\n",
       "    <tr>\n",
       "      <th>1</th>\n",
       "      <td>4.759583</td>\n",
       "      <td>280.089583</td>\n",
       "      <td>278.888750</td>\n",
       "      <td>92.187500</td>\n",
       "      <td>158.666667</td>\n",
       "      <td>0.6</td>\n",
       "    </tr>\n",
       "    <tr>\n",
       "      <th>2</th>\n",
       "      <td>5.125833</td>\n",
       "      <td>280.076250</td>\n",
       "      <td>278.564167</td>\n",
       "      <td>90.308333</td>\n",
       "      <td>164.625000</td>\n",
       "      <td>0.2</td>\n",
       "    </tr>\n",
       "    <tr>\n",
       "      <th>3</th>\n",
       "      <td>4.868750</td>\n",
       "      <td>279.287500</td>\n",
       "      <td>278.418333</td>\n",
       "      <td>94.266667</td>\n",
       "      <td>167.625000</td>\n",
       "      <td>0.8</td>\n",
       "    </tr>\n",
       "    <tr>\n",
       "      <th>4</th>\n",
       "      <td>3.821250</td>\n",
       "      <td>281.128750</td>\n",
       "      <td>278.964583</td>\n",
       "      <td>86.545833</td>\n",
       "      <td>131.500000</td>\n",
       "      <td>0.0</td>\n",
       "    </tr>\n",
       "  </tbody>\n",
       "</table>\n",
       "</div>"
      ],
      "text/plain": [
       "         ff           t          td         hu          dd  precip\n",
       "0  3.913750  280.333750  278.514583  88.591667  146.500000     0.2\n",
       "1  4.759583  280.089583  278.888750  92.187500  158.666667     0.6\n",
       "2  5.125833  280.076250  278.564167  90.308333  164.625000     0.2\n",
       "3  4.868750  279.287500  278.418333  94.266667  167.625000     0.8\n",
       "4  3.821250  281.128750  278.964583  86.545833  131.500000     0.0"
      ]
     },
     "metadata": {},
     "output_type": "display_data"
    },
    {
     "name": "stdout",
     "output_type": "stream",
     "text": [
      "Missing Data : 0 \n",
      " Shape is : (82120, 6)\n"
     ]
    }
   ],
   "source": [
    "xtrainS_p = xtrainS_aux.drop(to_drop, axis=1)\n",
    "display(xtrainS_p.head())\n",
    "print('Missing Data :', xtrainS_p.isna().sum().sum(), '\\n', 'Shape is :', xtrainS_p.shape)"
   ]
  },
  {
   "cell_type": "code",
   "execution_count": 23,
   "metadata": {},
   "outputs": [
    {
     "data": {
      "text/html": [
       "<div>\n",
       "<style scoped>\n",
       "    .dataframe tbody tr th:only-of-type {\n",
       "        vertical-align: middle;\n",
       "    }\n",
       "\n",
       "    .dataframe tbody tr th {\n",
       "        vertical-align: top;\n",
       "    }\n",
       "\n",
       "    .dataframe thead th {\n",
       "        text-align: right;\n",
       "    }\n",
       "</style>\n",
       "<table border=\"1\" class=\"dataframe\">\n",
       "  <thead>\n",
       "    <tr style=\"text-align: right;\">\n",
       "      <th></th>\n",
       "      <th>Ground_truth</th>\n",
       "    </tr>\n",
       "  </thead>\n",
       "  <tbody>\n",
       "    <tr>\n",
       "      <th>0</th>\n",
       "      <td>3.4</td>\n",
       "    </tr>\n",
       "    <tr>\n",
       "      <th>1</th>\n",
       "      <td>4.0</td>\n",
       "    </tr>\n",
       "    <tr>\n",
       "      <th>2</th>\n",
       "      <td>10.0</td>\n",
       "    </tr>\n",
       "    <tr>\n",
       "      <th>3</th>\n",
       "      <td>3.6</td>\n",
       "    </tr>\n",
       "    <tr>\n",
       "      <th>4</th>\n",
       "      <td>10.3</td>\n",
       "    </tr>\n",
       "  </tbody>\n",
       "</table>\n",
       "</div>"
      ],
      "text/plain": [
       "   Ground_truth\n",
       "0           3.4\n",
       "1           4.0\n",
       "2          10.0\n",
       "3           3.6\n",
       "4          10.3"
      ]
     },
     "metadata": {},
     "output_type": "display_data"
    },
    {
     "name": "stdout",
     "output_type": "stream",
     "text": [
      "Missing Data : 0 \n",
      " Shape is : (82120, 1)\n"
     ]
    }
   ],
   "source": [
    "ytrain_p = ytrain_aux.drop(to_drop, axis=1)\n",
    "display(ytrain_p.head())\n",
    "print('Missing Data :', ytrain_p.isna().sum().sum(), '\\n', 'Shape is :', ytrain_p.shape)"
   ]
  },
  {
   "cell_type": "code",
   "execution_count": 24,
   "metadata": {},
   "outputs": [
    {
     "data": {
      "text/html": [
       "<div>\n",
       "<style scoped>\n",
       "    .dataframe tbody tr th:only-of-type {\n",
       "        vertical-align: middle;\n",
       "    }\n",
       "\n",
       "    .dataframe tbody tr th {\n",
       "        vertical-align: top;\n",
       "    }\n",
       "\n",
       "    .dataframe thead th {\n",
       "        text-align: right;\n",
       "    }\n",
       "</style>\n",
       "<table border=\"1\" class=\"dataframe\">\n",
       "  <thead>\n",
       "    <tr style=\"text-align: right;\">\n",
       "      <th></th>\n",
       "      <th>ff</th>\n",
       "      <th>t</th>\n",
       "      <th>td</th>\n",
       "      <th>hu</th>\n",
       "      <th>dd</th>\n",
       "      <th>precip</th>\n",
       "    </tr>\n",
       "  </thead>\n",
       "  <tbody>\n",
       "    <tr>\n",
       "      <th>0</th>\n",
       "      <td>5.237917</td>\n",
       "      <td>282.099583</td>\n",
       "      <td>279.107917</td>\n",
       "      <td>81.720833</td>\n",
       "      <td>224.625000</td>\n",
       "      <td>1.4</td>\n",
       "    </tr>\n",
       "    <tr>\n",
       "      <th>1</th>\n",
       "      <td>4.103333</td>\n",
       "      <td>280.895833</td>\n",
       "      <td>279.718750</td>\n",
       "      <td>92.291667</td>\n",
       "      <td>163.166667</td>\n",
       "      <td>1.0</td>\n",
       "    </tr>\n",
       "    <tr>\n",
       "      <th>2</th>\n",
       "      <td>5.547083</td>\n",
       "      <td>281.167917</td>\n",
       "      <td>278.469583</td>\n",
       "      <td>83.266667</td>\n",
       "      <td>218.458333</td>\n",
       "      <td>0.4</td>\n",
       "    </tr>\n",
       "    <tr>\n",
       "      <th>3</th>\n",
       "      <td>2.667083</td>\n",
       "      <td>280.804583</td>\n",
       "      <td>278.105417</td>\n",
       "      <td>83.345833</td>\n",
       "      <td>207.375000</td>\n",
       "      <td>0.8</td>\n",
       "    </tr>\n",
       "    <tr>\n",
       "      <th>4</th>\n",
       "      <td>3.254167</td>\n",
       "      <td>279.570417</td>\n",
       "      <td>272.062500</td>\n",
       "      <td>63.250000</td>\n",
       "      <td>191.250000</td>\n",
       "      <td>3.6</td>\n",
       "    </tr>\n",
       "  </tbody>\n",
       "</table>\n",
       "</div>"
      ],
      "text/plain": [
       "         ff           t          td         hu          dd  precip\n",
       "0  5.237917  282.099583  279.107917  81.720833  224.625000     1.4\n",
       "1  4.103333  280.895833  279.718750  92.291667  163.166667     1.0\n",
       "2  5.547083  281.167917  278.469583  83.266667  218.458333     0.4\n",
       "3  2.667083  280.804583  278.105417  83.345833  207.375000     0.8\n",
       "4  3.254167  279.570417  272.062500  63.250000  191.250000     3.6"
      ]
     },
     "metadata": {},
     "output_type": "display_data"
    },
    {
     "name": "stdout",
     "output_type": "stream",
     "text": [
      "Missing Data : 0 \n",
      " Shape is : (85140, 6)\n"
     ]
    }
   ],
   "source": [
    "xtestS_p = xtestS_p.drop(['month'], axis=1)\n",
    "display(xtestS_p.head())\n",
    "print('Missing Data :', xtestS_p.isna().sum().sum(), '\\n', 'Shape is :', xtestS_p.shape)"
   ]
  },
  {
   "cell_type": "markdown",
   "metadata": {},
   "source": [
    "### 5.2 Metrics"
   ]
  },
  {
   "cell_type": "code",
   "execution_count": 25,
   "metadata": {},
   "outputs": [],
   "source": [
    "def MAPE(ypred, ytrue):\n",
    "    aux = abs((ytrue-ypred)/ytrue)\n",
    "    return 100*aux.mean(axis=0)"
   ]
  },
  {
   "cell_type": "markdown",
   "metadata": {},
   "source": [
    "### 5.3 Normalization"
   ]
  },
  {
   "cell_type": "code",
   "execution_count": 26,
   "metadata": {},
   "outputs": [],
   "source": [
    "def normalization(x_train, x_test):\n",
    "    #Calcul de la moyenne et de la variance de l'échantillon train\n",
    "    mean = x_train.mean()\n",
    "    std  = x_train.std()\n",
    "    \n",
    "    #Normalisation\n",
    "    x_train = (x_train - mean) / std\n",
    "    x_test  = (x_test  - mean) / std\n",
    "\n",
    "    #Mise en forme\n",
    "    x_train = np.array(x_train)\n",
    "    x_test = np.array(x_test)\n",
    "    return x_train, x_test"
   ]
  },
  {
   "cell_type": "code",
   "execution_count": 27,
   "metadata": {},
   "outputs": [],
   "source": [
    "xtrainS_p_N, xtestS_p_N = normalization(xtrainS_p, xtestS_p)"
   ]
  },
  {
   "cell_type": "markdown",
   "metadata": {},
   "source": [
    "### 5.4 Build model"
   ]
  },
  {
   "cell_type": "code",
   "execution_count": 29,
   "metadata": {},
   "outputs": [],
   "source": [
    "def get_model(shape, n_layers, n_neurons): \n",
    "    #shape : nb de variables explicatives \n",
    "    #n_layers : nb de couches\n",
    "    #n_neurons : neurons/couche\n",
    "   \n",
    "    model = keras.models.Sequential()\n",
    "    model.add(keras.layers.Input(shape))\n",
    "    \n",
    "    for i in range(n_layers): \n",
    "        model.add(keras.layers.Dense(n_neurons, activation='relu'))\n",
    "   \n",
    "    model.add(keras.layers.Dense(1, name='Output'))\n",
    "    model.compile(optimizer = 'adam', \n",
    "                  loss      = 'mse')\n",
    "                  #metrics   = [\"mean_squared_error\"])\n",
    "    return model"
   ]
  },
  {
   "cell_type": "code",
   "execution_count": 39,
   "metadata": {},
   "outputs": [
    {
     "name": "stdout",
     "output_type": "stream",
     "text": [
      "Model: \"sequential_11\"\n",
      "_________________________________________________________________\n",
      "Layer (type)                 Output Shape              Param #   \n",
      "=================================================================\n",
      "dense_220 (Dense)            (None, 32)                224       \n",
      "_________________________________________________________________\n",
      "dense_221 (Dense)            (None, 32)                1056      \n",
      "_________________________________________________________________\n",
      "dense_222 (Dense)            (None, 32)                1056      \n",
      "_________________________________________________________________\n",
      "dense_223 (Dense)            (None, 32)                1056      \n",
      "_________________________________________________________________\n",
      "dense_224 (Dense)            (None, 32)                1056      \n",
      "_________________________________________________________________\n",
      "dense_225 (Dense)            (None, 32)                1056      \n",
      "_________________________________________________________________\n",
      "dense_226 (Dense)            (None, 32)                1056      \n",
      "_________________________________________________________________\n",
      "dense_227 (Dense)            (None, 32)                1056      \n",
      "_________________________________________________________________\n",
      "dense_228 (Dense)            (None, 32)                1056      \n",
      "_________________________________________________________________\n",
      "dense_229 (Dense)            (None, 32)                1056      \n",
      "_________________________________________________________________\n",
      "dense_230 (Dense)            (None, 32)                1056      \n",
      "_________________________________________________________________\n",
      "dense_231 (Dense)            (None, 32)                1056      \n",
      "_________________________________________________________________\n",
      "dense_232 (Dense)            (None, 32)                1056      \n",
      "_________________________________________________________________\n",
      "dense_233 (Dense)            (None, 32)                1056      \n",
      "_________________________________________________________________\n",
      "dense_234 (Dense)            (None, 32)                1056      \n",
      "_________________________________________________________________\n",
      "dense_235 (Dense)            (None, 32)                1056      \n",
      "_________________________________________________________________\n",
      "dense_236 (Dense)            (None, 32)                1056      \n",
      "_________________________________________________________________\n",
      "dense_237 (Dense)            (None, 32)                1056      \n",
      "_________________________________________________________________\n",
      "dense_238 (Dense)            (None, 32)                1056      \n",
      "_________________________________________________________________\n",
      "dense_239 (Dense)            (None, 32)                1056      \n",
      "_________________________________________________________________\n",
      "Output (Dense)               (None, 1)                 33        \n",
      "=================================================================\n",
      "Total params: 20,321\n",
      "Trainable params: 20,321\n",
      "Non-trainable params: 0\n",
      "_________________________________________________________________\n"
     ]
    }
   ],
   "source": [
    "#Paramètres du réseau\n",
    "nb_variables = np.shape(xtrainS_p_N)[1]\n",
    "n_layers = 20\n",
    "n_neurons = 32\n",
    "\n",
    "#Build the network\n",
    "NN = get_model(nb_variables, n_layers, n_neurons)\n",
    "\n",
    "#Print the network\n",
    "NN.summary()"
   ]
  },
  {
   "cell_type": "markdown",
   "metadata": {},
   "source": [
    "### 5.5 Train model"
   ]
  },
  {
   "cell_type": "code",
   "execution_count": 31,
   "metadata": {},
   "outputs": [
    {
     "name": "stdout",
     "output_type": "stream",
     "text": [
      "Epoch 1/10\n",
      "822/822 [==============================] - 5s 4ms/step - loss: 17.2348\n",
      "Epoch 2/10\n",
      "822/822 [==============================] - 3s 3ms/step - loss: 15.7317\n",
      "Epoch 3/10\n",
      "822/822 [==============================] - 3s 3ms/step - loss: 15.5666\n",
      "Epoch 4/10\n",
      "822/822 [==============================] - 3s 4ms/step - loss: 15.4242\n",
      "Epoch 5/10\n",
      "822/822 [==============================] - 3s 3ms/step - loss: 15.0705\n",
      "Epoch 6/10\n",
      "822/822 [==============================] - 3s 3ms/step - loss: 14.6527\n",
      "Epoch 7/10\n",
      "822/822 [==============================] - 3s 4ms/step - loss: 14.9816\n",
      "Epoch 8/10\n",
      "822/822 [==============================] - 3s 3ms/step - loss: 14.8428\n",
      "Epoch 9/10\n",
      "822/822 [==============================] - 3s 3ms/step - loss: 14.7929\n",
      "Epoch 10/10\n",
      "822/822 [==============================] - 3s 4ms/step - loss: 15.0665\n"
     ]
    },
    {
     "data": {
      "image/png": "[encoded data removed]",
      "text/plain": [
       "<Figure size 432x288 with 1 Axes>"
      ]
     },
     "metadata": {
      "needs_background": "light"
     },
     "output_type": "display_data"
    }
   ],
   "source": [
    "#Paramètres d'apprentissage\n",
    "batch_size = 100\n",
    "epochs = 10\n",
    "\n",
    "#Entraînement\n",
    "history = NN.fit(xtrainS_p_N, ytrain_p, batch_size, epochs, verbose=1)\n",
    "\n",
    "#Affichage de l'évolution de la MSE\n",
    "plt.plot(history.history['loss'])\n",
    "plt.xlabel(\"epochs\")\n",
    "plt.ylabel(\"mse\")\n",
    "plt.show()"
   ]
  },
  {
   "cell_type": "markdown",
   "metadata": {},
   "source": [
    "## <font color = 'royalblue'>6 Validation</font>"
   ]
  },
  {
   "cell_type": "markdown",
   "metadata": {},
   "source": [
    "### 6.1 Sampling"
   ]
  },
  {
   "cell_type": "code",
   "execution_count": 32,
   "metadata": {},
   "outputs": [],
   "source": [
    "def Create_samples (xtrain, ytrain, seuil):\n",
    "    ##Copy original df\n",
    "    xtrain_c = xtrain.copy()\n",
    "    ytrain_c = ytrain.copy()\n",
    "    \n",
    "    ##Split between low and high precipitations\n",
    "    #xtrain_lp = xtrain_c.loc[xtrain_c['precip'] <= seuil]\n",
    "    #xtrain_hp = xtrain_c.drop(xtrain_lp.index)\n",
    "    \n",
    "    ytrain_lp = ytrain_c.loc[ytrain_c['Ground_truth'] <= seuil]\n",
    "    ytrain_hp = ytrain_c.drop(ytrain_lp.index)\n",
    "    \n",
    "    ##Split X validation/train\n",
    "    #lp_v = xtrain_lp.sample(frac=0.20, axis=0) #20% sample of days with low precip\n",
    "    #hp_v = xtrain_hp.sample(frac=0.20, axis=0) #20% sample of days with high precip\n",
    "    #xtrain_v = pd.concat([lp_v, hp_v]) #Concat both low and high precip samples (validation one)\n",
    "    #xtrain_t = xtrain_c.drop(xtrain_v.index) #Create train sample (80% data)\n",
    "    \n",
    "    lp_v = ytrain_lp.sample(frac=0.20, axis=0) #20% sample of days with low precip\n",
    "    hp_v = ytrain_hp.sample(frac=0.20, axis=0) #20% sample of days with high precip\n",
    "    ytrain_v = pd.concat([lp_v, hp_v]) #Concat both low and high precip samples (validation one)\n",
    "    ytrain_t = ytrain_c.drop(ytrain_v.index) #Create train sample (80% data)\n",
    "    \n",
    "    #xtrain_v = xtrain_c.sample(frac=0.20, axis=0)\n",
    "    #xtrain_t = xtrain_c.drop(xtrain_v.index)\n",
    "    \n",
    "    ##Split Y validation/train\n",
    "    #ytrain_v = ytrain_c.loc[ytrain_c['Id'].isin(xtrain_v['Id'])]\n",
    "    #ytrain_t = ytrain_c.drop(ytrain_v.index)\n",
    "    \n",
    "    xtrain_v = xtrain_c.loc[xtrain_c['Id'].isin(ytrain_v['Id'])]\n",
    "    xtrain_t = xtrain_c.drop(xtrain_v.index)\n",
    "    \n",
    "    ##Reset index\n",
    "    xtrain_t.reset_index(drop=True, inplace=True)\n",
    "    xtrain_v.reset_index(drop=True, inplace=True)\n",
    "    ytrain_t.reset_index(drop=True, inplace=True)\n",
    "    ytrain_v.reset_index(drop=True, inplace=True)\n",
    "    \n",
    "    ##Sort X\n",
    "    xtrain_t = xtrain_t.set_index('Id')\n",
    "    xtrain_t = xtrain_t.reindex(index=ytrain_t['Id'])\n",
    "    xtrain_t = xtrain_t.reset_index()\n",
    "    \n",
    "    xtrain_v = xtrain_v.set_index('Id')\n",
    "    xtrain_v = xtrain_v.reindex(index=ytrain_v['Id'])\n",
    "    xtrain_v = xtrain_v.reset_index()\n",
    "    \n",
    "    ##Drop useless variables\n",
    "    xtrain_t.drop(['Id','month'], axis=1, inplace=True)\n",
    "    xtrain_v.drop(['Id','month'], axis=1, inplace=True)\n",
    "    ytrain_t.drop(['Id','month'], axis=1, inplace=True)\n",
    "    ytrain_v.drop(['Id','month'], axis=1, inplace=True)\n",
    "    \n",
    "    return xtrain_t, xtrain_v, ytrain_t, ytrain_v"
   ]
  },
  {
   "cell_type": "markdown",
   "metadata": {},
   "source": [
    "### 6.2 Monte Carlo validation"
   ]
  },
  {
   "cell_type": "code",
   "execution_count": 33,
   "metadata": {},
   "outputs": [
    {
     "name": "stderr",
     "output_type": "stream",
     "text": [
      "100%|██████████| 10/10 [03:13<00:00, 19.36s/it]\n"
     ]
    }
   ],
   "source": [
    "seuil = 10\n",
    "B = 10\n",
    "MAPE_ = np.zeros(B)\n",
    "\n",
    "for b in tqdm(range(B)):\n",
    "    xtrain_t, xtrain_v, ytrain_t, ytrain_v = Create_samples(xtrainS_aux, ytrain_aux, seuil)\n",
    "    xtrain_t_N, xtrain_v_N = normalization(xtrain_t, xtrain_v)\n",
    "    ytrain_v.loc[:,'Ground_truth'] = ytrain_v.loc[:,'Ground_truth'] + 1\n",
    "    \n",
    "    nb_variables = np.shape(xtrain_t_N)[1]\n",
    "    nn = get_model(nb_variables, n_layers, n_neurons)\n",
    "    \n",
    "    #Entraînement\n",
    "    history = nn.fit(xtrain_t_N, ytrain_t, batch_size, epochs, verbose=0)\n",
    "    \n",
    "    validation = nn.predict(xtrain_v_N)\n",
    "    Network_validation = ytrain_v.copy()\n",
    "    Network_validation['Ground_truth'] = validation\n",
    "    Network_validation.rename(columns={'Ground_truth':'Prediction'}, inplace=True)\n",
    "\n",
    "    Network_validation.loc[:,'Prediction'] = Network_validation.loc[:,'Prediction'] + 1\n",
    "    \n",
    "    MAPE_[b] = MAPE(Network_validation['Prediction'], ytrain_v['Ground_truth'])"
   ]
  },
  {
   "cell_type": "code",
   "execution_count": 34,
   "metadata": {},
   "outputs": [
    {
     "name": "stdout",
     "output_type": "stream",
     "text": [
      "Mean MAPE : 104.30775912460692\n"
     ]
    },
    {
     "data": {
      "image/png": "[encoded data removed]",
      "text/plain": [
       "<Figure size 432x288 with 1 Axes>"
      ]
     },
     "metadata": {
      "needs_background": "light"
     },
     "output_type": "display_data"
    }
   ],
   "source": [
    "print(\"Mean MAPE :\", np.mean(MAPE_))\n",
    "plt.boxplot(MAPE_)\n",
    "plt.ylabel(\"MAPE\")\n",
    "plt.show()"
   ]
  },
  {
   "cell_type": "code",
   "execution_count": 35,
   "metadata": {},
   "outputs": [
    {
     "data": {
      "image/png": "[encoded data removed]",
      "text/plain": [
       "<Figure size 1080x360 with 1 Axes>"
      ]
     },
     "metadata": {
      "needs_background": "light"
     },
     "output_type": "display_data"
    }
   ],
   "source": [
    "plt.figure(figsize=(15,5))\n",
    "true_line = np.arange(0,max(ytrain_v['Ground_truth']))\n",
    "plt.scatter(ytrain_v['Ground_truth'], Network_validation['Prediction'])\n",
    "plt.plot(true_line, true_line, color='r')\n",
    "plt.xlabel(\"Ground truth\")\n",
    "plt.ylabel(\"Precipitation predictions\")\n",
    "plt.show()"
   ]
  },
  {
   "cell_type": "markdown",
   "metadata": {},
   "source": [
    "## <font color = 'royalblue'>7 Prediction</font>"
   ]
  },
  {
   "cell_type": "code",
   "execution_count": 36,
   "metadata": {},
   "outputs": [
    {
     "data": {
      "text/html": [
       "<div>\n",
       "<style scoped>\n",
       "    .dataframe tbody tr th:only-of-type {\n",
       "        vertical-align: middle;\n",
       "    }\n",
       "\n",
       "    .dataframe tbody tr th {\n",
       "        vertical-align: top;\n",
       "    }\n",
       "\n",
       "    .dataframe thead th {\n",
       "        text-align: right;\n",
       "    }\n",
       "</style>\n",
       "<table border=\"1\" class=\"dataframe\">\n",
       "  <thead>\n",
       "    <tr style=\"text-align: right;\">\n",
       "      <th></th>\n",
       "      <th>Id</th>\n",
       "      <th>Prediction</th>\n",
       "    </tr>\n",
       "  </thead>\n",
       "  <tbody>\n",
       "    <tr>\n",
       "      <th>0</th>\n",
       "      <td>14066001_149</td>\n",
       "      <td>5.222086</td>\n",
       "    </tr>\n",
       "    <tr>\n",
       "      <th>1</th>\n",
       "      <td>14126001_149</td>\n",
       "      <td>3.271930</td>\n",
       "    </tr>\n",
       "    <tr>\n",
       "      <th>2</th>\n",
       "      <td>14137001_149</td>\n",
       "      <td>5.570053</td>\n",
       "    </tr>\n",
       "    <tr>\n",
       "      <th>3</th>\n",
       "      <td>14216001_149</td>\n",
       "      <td>3.742602</td>\n",
       "    </tr>\n",
       "    <tr>\n",
       "      <th>4</th>\n",
       "      <td>14296001_149</td>\n",
       "      <td>2.056526</td>\n",
       "    </tr>\n",
       "  </tbody>\n",
       "</table>\n",
       "</div>"
      ],
      "text/plain": [
       "             Id  Prediction\n",
       "0  14066001_149    5.222086\n",
       "1  14126001_149    3.271930\n",
       "2  14137001_149    5.570053\n",
       "3  14216001_149    3.742602\n",
       "4  14296001_149    2.056526"
      ]
     },
     "metadata": {},
     "output_type": "display_data"
    }
   ],
   "source": [
    "predictions_network = NN.predict(xtestS_p_N)\n",
    "Network_predictions = bl_obsT.copy()\n",
    "Network_predictions[\"Prediction\"] = predictions_network\n",
    "display(Network_predictions.head())"
   ]
  },
  {
   "cell_type": "markdown",
   "metadata": {},
   "source": [
    "## <font color = 'royalblue'>8 Post-processing</font>"
   ]
  },
  {
   "cell_type": "code",
   "execution_count": 37,
   "metadata": {},
   "outputs": [
    {
     "data": {
      "text/html": [
       "<div>\n",
       "<style scoped>\n",
       "    .dataframe tbody tr th:only-of-type {\n",
       "        vertical-align: middle;\n",
       "    }\n",
       "\n",
       "    .dataframe tbody tr th {\n",
       "        vertical-align: top;\n",
       "    }\n",
       "\n",
       "    .dataframe thead th {\n",
       "        text-align: right;\n",
       "    }\n",
       "</style>\n",
       "<table border=\"1\" class=\"dataframe\">\n",
       "  <thead>\n",
       "    <tr style=\"text-align: right;\">\n",
       "      <th></th>\n",
       "      <th>Id</th>\n",
       "      <th>Prediction</th>\n",
       "    </tr>\n",
       "  </thead>\n",
       "  <tbody>\n",
       "    <tr>\n",
       "      <th>0</th>\n",
       "      <td>14066001_149</td>\n",
       "      <td>6.222086</td>\n",
       "    </tr>\n",
       "    <tr>\n",
       "      <th>1</th>\n",
       "      <td>14126001_149</td>\n",
       "      <td>4.271930</td>\n",
       "    </tr>\n",
       "    <tr>\n",
       "      <th>2</th>\n",
       "      <td>14137001_149</td>\n",
       "      <td>6.570053</td>\n",
       "    </tr>\n",
       "    <tr>\n",
       "      <th>3</th>\n",
       "      <td>14216001_149</td>\n",
       "      <td>4.742602</td>\n",
       "    </tr>\n",
       "    <tr>\n",
       "      <th>4</th>\n",
       "      <td>14296001_149</td>\n",
       "      <td>3.056526</td>\n",
       "    </tr>\n",
       "  </tbody>\n",
       "</table>\n",
       "</div>"
      ],
      "text/plain": [
       "             Id  Prediction\n",
       "0  14066001_149    6.222086\n",
       "1  14126001_149    4.271930\n",
       "2  14137001_149    6.570053\n",
       "3  14216001_149    4.742602\n",
       "4  14296001_149    3.056526"
      ]
     },
     "metadata": {},
     "output_type": "display_data"
    },
    {
     "name": "stdout",
     "output_type": "stream",
     "text": [
      "Missing Data : 0 \n",
      " Shape is : (85140, 2)\n"
     ]
    }
   ],
   "source": [
    "Network_predictions[\"Prediction\"] = Network_predictions[\"Prediction\"] + 1\n",
    "display(Network_predictions.head())\n",
    "print('Missing Data :', Network_predictions.isna().sum().sum(), '\\n', 'Shape is :', Network_predictions.shape)"
   ]
  },
  {
   "cell_type": "markdown",
   "metadata": {},
   "source": [
    "## <font color = 'royalblue'>9 Exportation</font>"
   ]
  },
  {
   "cell_type": "code",
   "execution_count": 38,
   "metadata": {},
   "outputs": [],
   "source": [
    "output_file = \"Submissions_11_ann-20x64.csv\"\n",
    "Network_predictions.to_csv('/Users/qdouzery/Desktop/Defi-IA-2022_DGM/Submissions/' + output_file, index=False)"
   ]
  }
 ],
 "metadata": {
  "kernelspec": {
   "display_name": "Python 3",
   "language": "python",
   "name": "python3"
  },
  "language_info": {
   "codemirror_mode": {
    "name": "ipython",
    "version": 3
   },
   "file_extension": ".py",
   "mimetype": "text/x-python",
   "name": "python",
   "nbconvert_exporter": "python",
   "pygments_lexer": "ipython3",
   "version": "3.8.5"
  }
 },
 "nbformat": 4,
 "nbformat_minor": 4
}
