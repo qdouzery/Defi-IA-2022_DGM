{
 "cells": [
  {
   "cell_type": "markdown",
   "metadata": {},
   "source": [
    "# Defi-IA 2022 <a href=\"https://www.kaggle.com/c/defi-ia-2022/overview\"><img src=\"https://upload.wikimedia.org/wikipedia/commons/7/7c/Kaggle_logo.png\" style=\"max-width: 70px; display: inline\" alt=\"Python\"/></a>\n",
    "-------------------------------------------------------------\n",
    "\n",
    "**Predict the accumulated daily rainfall on ground stations**  \n",
    "*Quentin Douzery, Alexia Ghozland, Dario Moed*"
   ]
  },
  {
   "cell_type": "markdown",
   "metadata": {},
   "source": [
    "## <font color = 'royalblue'>1 Imports</font>"
   ]
  },
  {
   "cell_type": "markdown",
   "metadata": {},
   "source": [
    "### 1.1 Packages"
   ]
  },
  {
   "cell_type": "code",
   "execution_count": 1,
   "metadata": {},
   "outputs": [],
   "source": [
    "##Packages\n",
    "import time\n",
    "import pandas as pd\n",
    "import numpy as np\n",
    "import datetime\n",
    "import matplotlib.pyplot as plt\n",
    "\n",
    "from sklearn import linear_model\n",
    "from sklearn.model_selection import GridSearchCV,train_test_split \n",
    "from sklearn.tree import DecisionTreeClassifier,DecisionTreeRegressor\n",
    "from sklearn.neural_network import MLPRegressor,MLPClassifier\n",
    "from sklearn.ensemble import RandomForestClassifier ,RandomForestRegressor\n",
    "from sklearn.preprocessing import scale , StandardScaler\n",
    "\n",
    "import tensorflow as tf\n",
    "from tensorflow import keras\n",
    "from tensorflow.keras import layers\n",
    "#from keras.models import Sequential"
   ]
  },
  {
   "cell_type": "markdown",
   "metadata": {},
   "source": [
    "### 1.2 Data"
   ]
  },
  {
   "cell_type": "code",
   "execution_count": 2,
   "metadata": {},
   "outputs": [],
   "source": [
    "##Données\n",
    "coords_path = '/Users/qdouzery/Desktop/Defi-IA_Data/Other/stations_coordinates.csv' #Perso\n",
    "#coords_path = '/home/douzery/Bureau/Defi-IA-2022_Data/Other/stations_coordinates.csv' #INSA\n",
    "#coords_fname  = '/kaggle/input/defi-ia-2022-test/Other/Other/stations_coordinates.csv'\n",
    "\n",
    "xtrainS_path = '/Users/qdouzery/Desktop/Defi-IA_Data/Train/X_station_train.csv' #Perso\n",
    "#xtrainS_path = '/home/douzery/Bureau/Defi-IA-2022_Data/Train/X_station_train.csv' #INSA\n",
    "#fname = '/kaggle/input/defi-ia-2022-test/Train/Train/X_station_train.csv'\n",
    "\n",
    "ytrain_path = '/Users/qdouzery/Desktop/Defi-IA_Data/Train/Y_train.csv' #Perso\n",
    "#ytrain_path = '/home/douzery/Bureau/Defi-IA-2022_Data/Train/Y_train.csv' #INSA\n",
    "#fname = '/kaggle/input/defi-ia-2022-test/Train/Train/Y_train.csv'\n",
    "\n",
    "xtestS_path = '/Users/qdouzery/Desktop/Defi-IA_Data/Test/X_station_test.csv' #Perso\n",
    "#xtrainS_path = '/home/douzery/Bureau/Defi-IA-2022_Data/Train/X_station_train.csv' #INSA\n",
    "\n",
    "bl_obsT_path = '/Users/qdouzery/Desktop/Defi-IA_Data/Test/Baselines/Baseline_observation_test.csv' #Perso"
   ]
  },
  {
   "cell_type": "markdown",
   "metadata": {},
   "source": [
    "## <font color = 'royalblue'>2 Récupération des données</font>"
   ]
  },
  {
   "cell_type": "code",
   "execution_count": 3,
   "metadata": {},
   "outputs": [
    {
     "data": {
      "text/html": [
       "<div>\n",
       "<style scoped>\n",
       "    .dataframe tbody tr th:only-of-type {\n",
       "        vertical-align: middle;\n",
       "    }\n",
       "\n",
       "    .dataframe tbody tr th {\n",
       "        vertical-align: top;\n",
       "    }\n",
       "\n",
       "    .dataframe thead th {\n",
       "        text-align: right;\n",
       "    }\n",
       "</style>\n",
       "<table border=\"1\" class=\"dataframe\">\n",
       "  <thead>\n",
       "    <tr style=\"text-align: right;\">\n",
       "      <th></th>\n",
       "      <th>number_sta</th>\n",
       "      <th>date</th>\n",
       "      <th>ff</th>\n",
       "      <th>t</th>\n",
       "      <th>td</th>\n",
       "      <th>hu</th>\n",
       "      <th>dd</th>\n",
       "      <th>precip</th>\n",
       "      <th>Id</th>\n",
       "    </tr>\n",
       "  </thead>\n",
       "  <tbody>\n",
       "    <tr>\n",
       "      <th>0</th>\n",
       "      <td>14066001</td>\n",
       "      <td>2016-01-01 00:00:00</td>\n",
       "      <td>3.05</td>\n",
       "      <td>279.28</td>\n",
       "      <td>277.97</td>\n",
       "      <td>91.4</td>\n",
       "      <td>200.0</td>\n",
       "      <td>0.0</td>\n",
       "      <td>14066001_0_0</td>\n",
       "    </tr>\n",
       "    <tr>\n",
       "      <th>1</th>\n",
       "      <td>14066001</td>\n",
       "      <td>2016-01-01 01:00:00</td>\n",
       "      <td>2.57</td>\n",
       "      <td>278.76</td>\n",
       "      <td>277.45</td>\n",
       "      <td>91.4</td>\n",
       "      <td>190.0</td>\n",
       "      <td>0.0</td>\n",
       "      <td>14066001_0_1</td>\n",
       "    </tr>\n",
       "    <tr>\n",
       "      <th>2</th>\n",
       "      <td>14066001</td>\n",
       "      <td>2016-01-01 02:00:00</td>\n",
       "      <td>2.26</td>\n",
       "      <td>278.27</td>\n",
       "      <td>277.02</td>\n",
       "      <td>91.7</td>\n",
       "      <td>181.0</td>\n",
       "      <td>0.0</td>\n",
       "      <td>14066001_0_2</td>\n",
       "    </tr>\n",
       "    <tr>\n",
       "      <th>3</th>\n",
       "      <td>14066001</td>\n",
       "      <td>2016-01-01 03:00:00</td>\n",
       "      <td>2.62</td>\n",
       "      <td>277.98</td>\n",
       "      <td>276.95</td>\n",
       "      <td>93.0</td>\n",
       "      <td>159.0</td>\n",
       "      <td>0.0</td>\n",
       "      <td>14066001_0_3</td>\n",
       "    </tr>\n",
       "    <tr>\n",
       "      <th>4</th>\n",
       "      <td>14066001</td>\n",
       "      <td>2016-01-01 04:00:00</td>\n",
       "      <td>2.99</td>\n",
       "      <td>277.32</td>\n",
       "      <td>276.72</td>\n",
       "      <td>95.9</td>\n",
       "      <td>171.0</td>\n",
       "      <td>0.0</td>\n",
       "      <td>14066001_0_4</td>\n",
       "    </tr>\n",
       "    <tr>\n",
       "      <th>...</th>\n",
       "      <td>...</td>\n",
       "      <td>...</td>\n",
       "      <td>...</td>\n",
       "      <td>...</td>\n",
       "      <td>...</td>\n",
       "      <td>...</td>\n",
       "      <td>...</td>\n",
       "      <td>...</td>\n",
       "      <td>...</td>\n",
       "    </tr>\n",
       "    <tr>\n",
       "      <th>4409469</th>\n",
       "      <td>95690001</td>\n",
       "      <td>2017-12-30 19:00:00</td>\n",
       "      <td>9.10</td>\n",
       "      <td>286.68</td>\n",
       "      <td>283.44</td>\n",
       "      <td>80.8</td>\n",
       "      <td>239.0</td>\n",
       "      <td>0.0</td>\n",
       "      <td>95690001_729_19</td>\n",
       "    </tr>\n",
       "    <tr>\n",
       "      <th>4409470</th>\n",
       "      <td>95690001</td>\n",
       "      <td>2017-12-30 20:00:00</td>\n",
       "      <td>8.58</td>\n",
       "      <td>286.39</td>\n",
       "      <td>283.21</td>\n",
       "      <td>81.1</td>\n",
       "      <td>231.0</td>\n",
       "      <td>0.0</td>\n",
       "      <td>95690001_729_20</td>\n",
       "    </tr>\n",
       "    <tr>\n",
       "      <th>4409471</th>\n",
       "      <td>95690001</td>\n",
       "      <td>2017-12-30 21:00:00</td>\n",
       "      <td>8.74</td>\n",
       "      <td>286.28</td>\n",
       "      <td>283.40</td>\n",
       "      <td>82.6</td>\n",
       "      <td>226.0</td>\n",
       "      <td>0.0</td>\n",
       "      <td>95690001_729_21</td>\n",
       "    </tr>\n",
       "    <tr>\n",
       "      <th>4409472</th>\n",
       "      <td>95690001</td>\n",
       "      <td>2017-12-30 22:00:00</td>\n",
       "      <td>9.04</td>\n",
       "      <td>286.21</td>\n",
       "      <td>283.29</td>\n",
       "      <td>82.4</td>\n",
       "      <td>224.0</td>\n",
       "      <td>0.0</td>\n",
       "      <td>95690001_729_22</td>\n",
       "    </tr>\n",
       "    <tr>\n",
       "      <th>4409473</th>\n",
       "      <td>95690001</td>\n",
       "      <td>2017-12-30 23:00:00</td>\n",
       "      <td>9.11</td>\n",
       "      <td>285.92</td>\n",
       "      <td>282.42</td>\n",
       "      <td>79.4</td>\n",
       "      <td>221.0</td>\n",
       "      <td>0.0</td>\n",
       "      <td>95690001_729_23</td>\n",
       "    </tr>\n",
       "  </tbody>\n",
       "</table>\n",
       "<p>4409474 rows × 9 columns</p>\n",
       "</div>"
      ],
      "text/plain": [
       "        number_sta                date    ff       t      td    hu     dd  \\\n",
       "0         14066001 2016-01-01 00:00:00  3.05  279.28  277.97  91.4  200.0   \n",
       "1         14066001 2016-01-01 01:00:00  2.57  278.76  277.45  91.4  190.0   \n",
       "2         14066001 2016-01-01 02:00:00  2.26  278.27  277.02  91.7  181.0   \n",
       "3         14066001 2016-01-01 03:00:00  2.62  277.98  276.95  93.0  159.0   \n",
       "4         14066001 2016-01-01 04:00:00  2.99  277.32  276.72  95.9  171.0   \n",
       "...            ...                 ...   ...     ...     ...   ...    ...   \n",
       "4409469   95690001 2017-12-30 19:00:00  9.10  286.68  283.44  80.8  239.0   \n",
       "4409470   95690001 2017-12-30 20:00:00  8.58  286.39  283.21  81.1  231.0   \n",
       "4409471   95690001 2017-12-30 21:00:00  8.74  286.28  283.40  82.6  226.0   \n",
       "4409472   95690001 2017-12-30 22:00:00  9.04  286.21  283.29  82.4  224.0   \n",
       "4409473   95690001 2017-12-30 23:00:00  9.11  285.92  282.42  79.4  221.0   \n",
       "\n",
       "         precip               Id  \n",
       "0           0.0     14066001_0_0  \n",
       "1           0.0     14066001_0_1  \n",
       "2           0.0     14066001_0_2  \n",
       "3           0.0     14066001_0_3  \n",
       "4           0.0     14066001_0_4  \n",
       "...         ...              ...  \n",
       "4409469     0.0  95690001_729_19  \n",
       "4409470     0.0  95690001_729_20  \n",
       "4409471     0.0  95690001_729_21  \n",
       "4409472     0.0  95690001_729_22  \n",
       "4409473     0.0  95690001_729_23  \n",
       "\n",
       "[4409474 rows x 9 columns]"
      ]
     },
     "metadata": {},
     "output_type": "display_data"
    },
    {
     "name": "stdout",
     "output_type": "stream",
     "text": [
      "Missing Data : 6899007 \n",
      " Shape is : (4409474, 9)\n"
     ]
    }
   ],
   "source": [
    "##X_train\n",
    "xtrainS = pd.read_csv(xtrainS_path,parse_dates=['date'],infer_datetime_format=True)\n",
    "xtrainS['number_sta'] = xtrainS['number_sta'].astype('category')  \n",
    "display(xtrainS)\n",
    "print('Missing Data :', xtrainS.isna().sum().sum(), '\\n', 'Shape is :', xtrainS.shape)"
   ]
  },
  {
   "cell_type": "code",
   "execution_count": 4,
   "metadata": {},
   "outputs": [
    {
     "data": {
      "text/html": [
       "<div>\n",
       "<style scoped>\n",
       "    .dataframe tbody tr th:only-of-type {\n",
       "        vertical-align: middle;\n",
       "    }\n",
       "\n",
       "    .dataframe tbody tr th {\n",
       "        vertical-align: top;\n",
       "    }\n",
       "\n",
       "    .dataframe thead th {\n",
       "        text-align: right;\n",
       "    }\n",
       "</style>\n",
       "<table border=\"1\" class=\"dataframe\">\n",
       "  <thead>\n",
       "    <tr style=\"text-align: right;\">\n",
       "      <th></th>\n",
       "      <th>date</th>\n",
       "      <th>number_sta</th>\n",
       "      <th>Ground_truth</th>\n",
       "      <th>Id</th>\n",
       "    </tr>\n",
       "  </thead>\n",
       "  <tbody>\n",
       "    <tr>\n",
       "      <th>0</th>\n",
       "      <td>2016-01-02</td>\n",
       "      <td>14066001</td>\n",
       "      <td>3.4</td>\n",
       "      <td>14066001_0</td>\n",
       "    </tr>\n",
       "    <tr>\n",
       "      <th>1</th>\n",
       "      <td>2016-01-02</td>\n",
       "      <td>14126001</td>\n",
       "      <td>0.5</td>\n",
       "      <td>14126001_0</td>\n",
       "    </tr>\n",
       "    <tr>\n",
       "      <th>2</th>\n",
       "      <td>2016-01-02</td>\n",
       "      <td>14137001</td>\n",
       "      <td>3.4</td>\n",
       "      <td>14137001_0</td>\n",
       "    </tr>\n",
       "    <tr>\n",
       "      <th>3</th>\n",
       "      <td>2016-01-02</td>\n",
       "      <td>14216001</td>\n",
       "      <td>4.0</td>\n",
       "      <td>14216001_0</td>\n",
       "    </tr>\n",
       "    <tr>\n",
       "      <th>4</th>\n",
       "      <td>2016-01-02</td>\n",
       "      <td>14296001</td>\n",
       "      <td>13.3</td>\n",
       "      <td>14296001_0</td>\n",
       "    </tr>\n",
       "    <tr>\n",
       "      <th>...</th>\n",
       "      <td>...</td>\n",
       "      <td>...</td>\n",
       "      <td>...</td>\n",
       "      <td>...</td>\n",
       "    </tr>\n",
       "    <tr>\n",
       "      <th>183742</th>\n",
       "      <td>2017-12-31</td>\n",
       "      <td>86137003</td>\n",
       "      <td>5.0</td>\n",
       "      <td>86137003_729</td>\n",
       "    </tr>\n",
       "    <tr>\n",
       "      <th>183743</th>\n",
       "      <td>2017-12-31</td>\n",
       "      <td>86165005</td>\n",
       "      <td>3.2</td>\n",
       "      <td>86165005_729</td>\n",
       "    </tr>\n",
       "    <tr>\n",
       "      <th>183744</th>\n",
       "      <td>2017-12-31</td>\n",
       "      <td>86272002</td>\n",
       "      <td>1.8</td>\n",
       "      <td>86272002_729</td>\n",
       "    </tr>\n",
       "    <tr>\n",
       "      <th>183745</th>\n",
       "      <td>2017-12-31</td>\n",
       "      <td>91200002</td>\n",
       "      <td>1.6</td>\n",
       "      <td>91200002_729</td>\n",
       "    </tr>\n",
       "    <tr>\n",
       "      <th>183746</th>\n",
       "      <td>2017-12-31</td>\n",
       "      <td>95690001</td>\n",
       "      <td>1.2</td>\n",
       "      <td>95690001_729</td>\n",
       "    </tr>\n",
       "  </tbody>\n",
       "</table>\n",
       "<p>183747 rows × 4 columns</p>\n",
       "</div>"
      ],
      "text/plain": [
       "             date number_sta  Ground_truth            Id\n",
       "0      2016-01-02   14066001           3.4    14066001_0\n",
       "1      2016-01-02   14126001           0.5    14126001_0\n",
       "2      2016-01-02   14137001           3.4    14137001_0\n",
       "3      2016-01-02   14216001           4.0    14216001_0\n",
       "4      2016-01-02   14296001          13.3    14296001_0\n",
       "...           ...        ...           ...           ...\n",
       "183742 2017-12-31   86137003           5.0  86137003_729\n",
       "183743 2017-12-31   86165005           3.2  86165005_729\n",
       "183744 2017-12-31   86272002           1.8  86272002_729\n",
       "183745 2017-12-31   91200002           1.6  91200002_729\n",
       "183746 2017-12-31   95690001           1.2  95690001_729\n",
       "\n",
       "[183747 rows x 4 columns]"
      ]
     },
     "metadata": {},
     "output_type": "display_data"
    },
    {
     "name": "stdout",
     "output_type": "stream",
     "text": [
      "Missing Data : 21640 \n",
      " Shape is : (183747, 4)\n"
     ]
    }
   ],
   "source": [
    "#Y_train\n",
    "ytrain = pd.read_csv(ytrain_path, parse_dates=['date'], infer_datetime_format=True)\n",
    "ytrain['number_sta'] = ytrain['number_sta'].astype('category')\n",
    "display(ytrain)\n",
    "print('Missing Data :', ytrain.isna().sum().sum(), '\\n', 'Shape is :', ytrain.shape)"
   ]
  },
  {
   "cell_type": "code",
   "execution_count": 5,
   "metadata": {},
   "outputs": [
    {
     "data": {
      "text/html": [
       "<div>\n",
       "<style scoped>\n",
       "    .dataframe tbody tr th:only-of-type {\n",
       "        vertical-align: middle;\n",
       "    }\n",
       "\n",
       "    .dataframe tbody tr th {\n",
       "        vertical-align: top;\n",
       "    }\n",
       "\n",
       "    .dataframe thead th {\n",
       "        text-align: right;\n",
       "    }\n",
       "</style>\n",
       "<table border=\"1\" class=\"dataframe\">\n",
       "  <thead>\n",
       "    <tr style=\"text-align: right;\">\n",
       "      <th></th>\n",
       "      <th>dd</th>\n",
       "      <th>hu</th>\n",
       "      <th>td</th>\n",
       "      <th>t</th>\n",
       "      <th>ff</th>\n",
       "      <th>precip</th>\n",
       "      <th>month</th>\n",
       "      <th>Id</th>\n",
       "    </tr>\n",
       "  </thead>\n",
       "  <tbody>\n",
       "    <tr>\n",
       "      <th>0</th>\n",
       "      <td>NaN</td>\n",
       "      <td>NaN</td>\n",
       "      <td>NaN</td>\n",
       "      <td>278.35</td>\n",
       "      <td>NaN</td>\n",
       "      <td>NaN</td>\n",
       "      <td>12</td>\n",
       "      <td>14047002_277_4</td>\n",
       "    </tr>\n",
       "    <tr>\n",
       "      <th>1</th>\n",
       "      <td>NaN</td>\n",
       "      <td>NaN</td>\n",
       "      <td>NaN</td>\n",
       "      <td>278.40</td>\n",
       "      <td>NaN</td>\n",
       "      <td>0.0</td>\n",
       "      <td>12</td>\n",
       "      <td>14047002_277_5</td>\n",
       "    </tr>\n",
       "    <tr>\n",
       "      <th>2</th>\n",
       "      <td>NaN</td>\n",
       "      <td>NaN</td>\n",
       "      <td>NaN</td>\n",
       "      <td>279.01</td>\n",
       "      <td>NaN</td>\n",
       "      <td>0.0</td>\n",
       "      <td>12</td>\n",
       "      <td>14047002_277_6</td>\n",
       "    </tr>\n",
       "    <tr>\n",
       "      <th>3</th>\n",
       "      <td>NaN</td>\n",
       "      <td>NaN</td>\n",
       "      <td>NaN</td>\n",
       "      <td>279.66</td>\n",
       "      <td>NaN</td>\n",
       "      <td>0.0</td>\n",
       "      <td>12</td>\n",
       "      <td>14047002_277_7</td>\n",
       "    </tr>\n",
       "    <tr>\n",
       "      <th>4</th>\n",
       "      <td>NaN</td>\n",
       "      <td>NaN</td>\n",
       "      <td>NaN</td>\n",
       "      <td>279.99</td>\n",
       "      <td>NaN</td>\n",
       "      <td>0.0</td>\n",
       "      <td>12</td>\n",
       "      <td>14047002_277_8</td>\n",
       "    </tr>\n",
       "    <tr>\n",
       "      <th>...</th>\n",
       "      <td>...</td>\n",
       "      <td>...</td>\n",
       "      <td>...</td>\n",
       "      <td>...</td>\n",
       "      <td>...</td>\n",
       "      <td>...</td>\n",
       "      <td>...</td>\n",
       "      <td>...</td>\n",
       "    </tr>\n",
       "    <tr>\n",
       "      <th>2304797</th>\n",
       "      <td>190.0</td>\n",
       "      <td>82.8</td>\n",
       "      <td>277.00</td>\n",
       "      <td>279.74</td>\n",
       "      <td>10.62</td>\n",
       "      <td>0.0</td>\n",
       "      <td>12</td>\n",
       "      <td>95690001_176_19</td>\n",
       "    </tr>\n",
       "    <tr>\n",
       "      <th>2304798</th>\n",
       "      <td>195.0</td>\n",
       "      <td>84.2</td>\n",
       "      <td>277.44</td>\n",
       "      <td>279.93</td>\n",
       "      <td>11.86</td>\n",
       "      <td>0.0</td>\n",
       "      <td>12</td>\n",
       "      <td>95690001_176_20</td>\n",
       "    </tr>\n",
       "    <tr>\n",
       "      <th>2304799</th>\n",
       "      <td>199.0</td>\n",
       "      <td>85.7</td>\n",
       "      <td>277.95</td>\n",
       "      <td>280.21</td>\n",
       "      <td>11.77</td>\n",
       "      <td>0.0</td>\n",
       "      <td>12</td>\n",
       "      <td>95690001_176_21</td>\n",
       "    </tr>\n",
       "    <tr>\n",
       "      <th>2304800</th>\n",
       "      <td>198.0</td>\n",
       "      <td>85.3</td>\n",
       "      <td>278.25</td>\n",
       "      <td>280.58</td>\n",
       "      <td>10.16</td>\n",
       "      <td>0.0</td>\n",
       "      <td>12</td>\n",
       "      <td>95690001_176_22</td>\n",
       "    </tr>\n",
       "    <tr>\n",
       "      <th>2304801</th>\n",
       "      <td>190.0</td>\n",
       "      <td>86.0</td>\n",
       "      <td>278.60</td>\n",
       "      <td>280.80</td>\n",
       "      <td>9.50</td>\n",
       "      <td>0.0</td>\n",
       "      <td>12</td>\n",
       "      <td>95690001_176_23</td>\n",
       "    </tr>\n",
       "  </tbody>\n",
       "</table>\n",
       "<p>2304802 rows × 8 columns</p>\n",
       "</div>"
      ],
      "text/plain": [
       "            dd    hu      td       t     ff  precip  month               Id\n",
       "0          NaN   NaN     NaN  278.35    NaN     NaN     12   14047002_277_4\n",
       "1          NaN   NaN     NaN  278.40    NaN     0.0     12   14047002_277_5\n",
       "2          NaN   NaN     NaN  279.01    NaN     0.0     12   14047002_277_6\n",
       "3          NaN   NaN     NaN  279.66    NaN     0.0     12   14047002_277_7\n",
       "4          NaN   NaN     NaN  279.99    NaN     0.0     12   14047002_277_8\n",
       "...        ...   ...     ...     ...    ...     ...    ...              ...\n",
       "2304797  190.0  82.8  277.00  279.74  10.62     0.0     12  95690001_176_19\n",
       "2304798  195.0  84.2  277.44  279.93  11.86     0.0     12  95690001_176_20\n",
       "2304799  199.0  85.7  277.95  280.21  11.77     0.0     12  95690001_176_21\n",
       "2304800  198.0  85.3  278.25  280.58  10.16     0.0     12  95690001_176_22\n",
       "2304801  190.0  86.0  278.60  280.80   9.50     0.0     12  95690001_176_23\n",
       "\n",
       "[2304802 rows x 8 columns]"
      ]
     },
     "metadata": {},
     "output_type": "display_data"
    },
    {
     "name": "stdout",
     "output_type": "stream",
     "text": [
      "Missing Data : 3914287 \n",
      " Shape is : (2304802, 8)\n"
     ]
    }
   ],
   "source": [
    "##X_test\n",
    "xtestS = pd.read_csv(xtestS_path,infer_datetime_format=True)\n",
    "display(xtestS)\n",
    "print('Missing Data :', xtestS.isna().sum().sum(), '\\n', 'Shape is :', xtestS.shape)"
   ]
  },
  {
   "cell_type": "code",
   "execution_count": 6,
   "metadata": {},
   "outputs": [],
   "source": [
    "bl_obsT = pd.read_csv(bl_obsT_path,infer_datetime_format=True)\n",
    "Id_pred = bl_obsT[\"Id\"]"
   ]
  },
  {
   "cell_type": "markdown",
   "metadata": {},
   "source": [
    "## <font color = 'royalblue'>3 Exploration</font>"
   ]
  },
  {
   "cell_type": "markdown",
   "metadata": {},
   "source": [
    "# Plot precip avec un groupby par mois"
   ]
  },
  {
   "cell_type": "markdown",
   "metadata": {},
   "source": [
    "# Gérer les outliers"
   ]
  },
  {
   "cell_type": "markdown",
   "metadata": {},
   "source": [
    "## <font color = 'royalblue'>4 Pré-processing</font>"
   ]
  },
  {
   "cell_type": "code",
   "execution_count": 7,
   "metadata": {},
   "outputs": [],
   "source": [
    "def Get_StationDay (id):\n",
    "    return id.split('_')[0] + \"_\" + id.split('_')[1]"
   ]
  },
  {
   "cell_type": "markdown",
   "metadata": {},
   "source": [
    "# Prise en compte des mois"
   ]
  },
  {
   "cell_type": "code",
   "execution_count": null,
   "metadata": {},
   "outputs": [],
   "source": [
    "# Variables explicatives : on gère \"mode\" et \"key\"\n",
    "spotifyDum=pd.get_dummies(spotify[['mode','key']])\n",
    "del spotifyDum['mode_0']\n",
    "del spotifyDum['key_A']\n",
    "spotifyDum.head()"
   ]
  },
  {
   "cell_type": "markdown",
   "metadata": {},
   "source": [
    "### 4.1 Train data"
   ]
  },
  {
   "cell_type": "markdown",
   "metadata": {},
   "source": [
    "**Remove NaNs**"
   ]
  },
  {
   "cell_type": "code",
   "execution_count": 8,
   "metadata": {},
   "outputs": [
    {
     "data": {
      "text/html": [
       "<div>\n",
       "<style scoped>\n",
       "    .dataframe tbody tr th:only-of-type {\n",
       "        vertical-align: middle;\n",
       "    }\n",
       "\n",
       "    .dataframe tbody tr th {\n",
       "        vertical-align: top;\n",
       "    }\n",
       "\n",
       "    .dataframe thead th {\n",
       "        text-align: right;\n",
       "    }\n",
       "</style>\n",
       "<table border=\"1\" class=\"dataframe\">\n",
       "  <thead>\n",
       "    <tr style=\"text-align: right;\">\n",
       "      <th></th>\n",
       "      <th>number_sta</th>\n",
       "      <th>date</th>\n",
       "      <th>ff</th>\n",
       "      <th>t</th>\n",
       "      <th>td</th>\n",
       "      <th>hu</th>\n",
       "      <th>dd</th>\n",
       "      <th>precip</th>\n",
       "      <th>Id</th>\n",
       "    </tr>\n",
       "  </thead>\n",
       "  <tbody>\n",
       "    <tr>\n",
       "      <th>0</th>\n",
       "      <td>14066001</td>\n",
       "      <td>2016-01-01 00:00:00</td>\n",
       "      <td>3.05</td>\n",
       "      <td>279.28</td>\n",
       "      <td>277.97</td>\n",
       "      <td>91.4</td>\n",
       "      <td>200.0</td>\n",
       "      <td>0.0</td>\n",
       "      <td>14066001_0_0</td>\n",
       "    </tr>\n",
       "    <tr>\n",
       "      <th>1</th>\n",
       "      <td>14066001</td>\n",
       "      <td>2016-01-01 01:00:00</td>\n",
       "      <td>2.57</td>\n",
       "      <td>278.76</td>\n",
       "      <td>277.45</td>\n",
       "      <td>91.4</td>\n",
       "      <td>190.0</td>\n",
       "      <td>0.0</td>\n",
       "      <td>14066001_0_1</td>\n",
       "    </tr>\n",
       "    <tr>\n",
       "      <th>2</th>\n",
       "      <td>14066001</td>\n",
       "      <td>2016-01-01 02:00:00</td>\n",
       "      <td>2.26</td>\n",
       "      <td>278.27</td>\n",
       "      <td>277.02</td>\n",
       "      <td>91.7</td>\n",
       "      <td>181.0</td>\n",
       "      <td>0.0</td>\n",
       "      <td>14066001_0_2</td>\n",
       "    </tr>\n",
       "    <tr>\n",
       "      <th>3</th>\n",
       "      <td>14066001</td>\n",
       "      <td>2016-01-01 03:00:00</td>\n",
       "      <td>2.62</td>\n",
       "      <td>277.98</td>\n",
       "      <td>276.95</td>\n",
       "      <td>93.0</td>\n",
       "      <td>159.0</td>\n",
       "      <td>0.0</td>\n",
       "      <td>14066001_0_3</td>\n",
       "    </tr>\n",
       "    <tr>\n",
       "      <th>4</th>\n",
       "      <td>14066001</td>\n",
       "      <td>2016-01-01 04:00:00</td>\n",
       "      <td>2.99</td>\n",
       "      <td>277.32</td>\n",
       "      <td>276.72</td>\n",
       "      <td>95.9</td>\n",
       "      <td>171.0</td>\n",
       "      <td>0.0</td>\n",
       "      <td>14066001_0_4</td>\n",
       "    </tr>\n",
       "  </tbody>\n",
       "</table>\n",
       "</div>"
      ],
      "text/plain": [
       "  number_sta                date    ff       t      td    hu     dd  precip  \\\n",
       "0   14066001 2016-01-01 00:00:00  3.05  279.28  277.97  91.4  200.0     0.0   \n",
       "1   14066001 2016-01-01 01:00:00  2.57  278.76  277.45  91.4  190.0     0.0   \n",
       "2   14066001 2016-01-01 02:00:00  2.26  278.27  277.02  91.7  181.0     0.0   \n",
       "3   14066001 2016-01-01 03:00:00  2.62  277.98  276.95  93.0  159.0     0.0   \n",
       "4   14066001 2016-01-01 04:00:00  2.99  277.32  276.72  95.9  171.0     0.0   \n",
       "\n",
       "             Id  \n",
       "0  14066001_0_0  \n",
       "1  14066001_0_1  \n",
       "2  14066001_0_2  \n",
       "3  14066001_0_3  \n",
       "4  14066001_0_4  "
      ]
     },
     "metadata": {},
     "output_type": "display_data"
    },
    {
     "name": "stdout",
     "output_type": "stream",
     "text": [
      "Missing Data : 0 \n",
      " Shape is : (2264105, 9)\n"
     ]
    }
   ],
   "source": [
    "xtrainS.dropna(inplace=True)\n",
    "display(xtrainS.head())\n",
    "print('Missing Data :', xtrainS.isna().sum().sum(), '\\n', 'Shape is :', xtrainS.shape)"
   ]
  },
  {
   "cell_type": "code",
   "execution_count": 9,
   "metadata": {},
   "outputs": [
    {
     "data": {
      "text/html": [
       "<div>\n",
       "<style scoped>\n",
       "    .dataframe tbody tr th:only-of-type {\n",
       "        vertical-align: middle;\n",
       "    }\n",
       "\n",
       "    .dataframe tbody tr th {\n",
       "        vertical-align: top;\n",
       "    }\n",
       "\n",
       "    .dataframe thead th {\n",
       "        text-align: right;\n",
       "    }\n",
       "</style>\n",
       "<table border=\"1\" class=\"dataframe\">\n",
       "  <thead>\n",
       "    <tr style=\"text-align: right;\">\n",
       "      <th></th>\n",
       "      <th>date</th>\n",
       "      <th>number_sta</th>\n",
       "      <th>Ground_truth</th>\n",
       "      <th>Id</th>\n",
       "    </tr>\n",
       "  </thead>\n",
       "  <tbody>\n",
       "    <tr>\n",
       "      <th>0</th>\n",
       "      <td>2016-01-02</td>\n",
       "      <td>14066001</td>\n",
       "      <td>3.4</td>\n",
       "      <td>14066001_0</td>\n",
       "    </tr>\n",
       "    <tr>\n",
       "      <th>1</th>\n",
       "      <td>2016-01-02</td>\n",
       "      <td>14126001</td>\n",
       "      <td>0.5</td>\n",
       "      <td>14126001_0</td>\n",
       "    </tr>\n",
       "    <tr>\n",
       "      <th>2</th>\n",
       "      <td>2016-01-02</td>\n",
       "      <td>14137001</td>\n",
       "      <td>3.4</td>\n",
       "      <td>14137001_0</td>\n",
       "    </tr>\n",
       "    <tr>\n",
       "      <th>3</th>\n",
       "      <td>2016-01-02</td>\n",
       "      <td>14216001</td>\n",
       "      <td>4.0</td>\n",
       "      <td>14216001_0</td>\n",
       "    </tr>\n",
       "    <tr>\n",
       "      <th>4</th>\n",
       "      <td>2016-01-02</td>\n",
       "      <td>14296001</td>\n",
       "      <td>13.3</td>\n",
       "      <td>14296001_0</td>\n",
       "    </tr>\n",
       "  </tbody>\n",
       "</table>\n",
       "</div>"
      ],
      "text/plain": [
       "        date number_sta  Ground_truth          Id\n",
       "0 2016-01-02   14066001           3.4  14066001_0\n",
       "1 2016-01-02   14126001           0.5  14126001_0\n",
       "2 2016-01-02   14137001           3.4  14137001_0\n",
       "3 2016-01-02   14216001           4.0  14216001_0\n",
       "4 2016-01-02   14296001          13.3  14296001_0"
      ]
     },
     "metadata": {},
     "output_type": "display_data"
    },
    {
     "name": "stdout",
     "output_type": "stream",
     "text": [
      "Missing Data : 0 \n",
      " Shape is : (162107, 4)\n"
     ]
    }
   ],
   "source": [
    "ytrain.dropna(inplace=True)\n",
    "display(ytrain.head())\n",
    "print('Missing Data :', ytrain.isna().sum().sum(), '\\n', 'Shape is :', ytrain.shape)"
   ]
  },
  {
   "cell_type": "markdown",
   "metadata": {},
   "source": [
    "**Create 'StationDay' column**"
   ]
  },
  {
   "cell_type": "code",
   "execution_count": 10,
   "metadata": {},
   "outputs": [
    {
     "data": {
      "text/html": [
       "<div>\n",
       "<style scoped>\n",
       "    .dataframe tbody tr th:only-of-type {\n",
       "        vertical-align: middle;\n",
       "    }\n",
       "\n",
       "    .dataframe tbody tr th {\n",
       "        vertical-align: top;\n",
       "    }\n",
       "\n",
       "    .dataframe thead th {\n",
       "        text-align: right;\n",
       "    }\n",
       "</style>\n",
       "<table border=\"1\" class=\"dataframe\">\n",
       "  <thead>\n",
       "    <tr style=\"text-align: right;\">\n",
       "      <th></th>\n",
       "      <th>number_sta</th>\n",
       "      <th>date</th>\n",
       "      <th>ff</th>\n",
       "      <th>t</th>\n",
       "      <th>td</th>\n",
       "      <th>hu</th>\n",
       "      <th>dd</th>\n",
       "      <th>precip</th>\n",
       "      <th>Id</th>\n",
       "      <th>StationDay</th>\n",
       "    </tr>\n",
       "  </thead>\n",
       "  <tbody>\n",
       "    <tr>\n",
       "      <th>0</th>\n",
       "      <td>14066001</td>\n",
       "      <td>2016-01-01 00:00:00</td>\n",
       "      <td>3.05</td>\n",
       "      <td>279.28</td>\n",
       "      <td>277.97</td>\n",
       "      <td>91.4</td>\n",
       "      <td>200.0</td>\n",
       "      <td>0.0</td>\n",
       "      <td>14066001_0_0</td>\n",
       "      <td>14066001_0</td>\n",
       "    </tr>\n",
       "    <tr>\n",
       "      <th>1</th>\n",
       "      <td>14066001</td>\n",
       "      <td>2016-01-01 01:00:00</td>\n",
       "      <td>2.57</td>\n",
       "      <td>278.76</td>\n",
       "      <td>277.45</td>\n",
       "      <td>91.4</td>\n",
       "      <td>190.0</td>\n",
       "      <td>0.0</td>\n",
       "      <td>14066001_0_1</td>\n",
       "      <td>14066001_0</td>\n",
       "    </tr>\n",
       "    <tr>\n",
       "      <th>2</th>\n",
       "      <td>14066001</td>\n",
       "      <td>2016-01-01 02:00:00</td>\n",
       "      <td>2.26</td>\n",
       "      <td>278.27</td>\n",
       "      <td>277.02</td>\n",
       "      <td>91.7</td>\n",
       "      <td>181.0</td>\n",
       "      <td>0.0</td>\n",
       "      <td>14066001_0_2</td>\n",
       "      <td>14066001_0</td>\n",
       "    </tr>\n",
       "    <tr>\n",
       "      <th>3</th>\n",
       "      <td>14066001</td>\n",
       "      <td>2016-01-01 03:00:00</td>\n",
       "      <td>2.62</td>\n",
       "      <td>277.98</td>\n",
       "      <td>276.95</td>\n",
       "      <td>93.0</td>\n",
       "      <td>159.0</td>\n",
       "      <td>0.0</td>\n",
       "      <td>14066001_0_3</td>\n",
       "      <td>14066001_0</td>\n",
       "    </tr>\n",
       "    <tr>\n",
       "      <th>4</th>\n",
       "      <td>14066001</td>\n",
       "      <td>2016-01-01 04:00:00</td>\n",
       "      <td>2.99</td>\n",
       "      <td>277.32</td>\n",
       "      <td>276.72</td>\n",
       "      <td>95.9</td>\n",
       "      <td>171.0</td>\n",
       "      <td>0.0</td>\n",
       "      <td>14066001_0_4</td>\n",
       "      <td>14066001_0</td>\n",
       "    </tr>\n",
       "  </tbody>\n",
       "</table>\n",
       "</div>"
      ],
      "text/plain": [
       "  number_sta                date    ff       t      td    hu     dd  precip  \\\n",
       "0   14066001 2016-01-01 00:00:00  3.05  279.28  277.97  91.4  200.0     0.0   \n",
       "1   14066001 2016-01-01 01:00:00  2.57  278.76  277.45  91.4  190.0     0.0   \n",
       "2   14066001 2016-01-01 02:00:00  2.26  278.27  277.02  91.7  181.0     0.0   \n",
       "3   14066001 2016-01-01 03:00:00  2.62  277.98  276.95  93.0  159.0     0.0   \n",
       "4   14066001 2016-01-01 04:00:00  2.99  277.32  276.72  95.9  171.0     0.0   \n",
       "\n",
       "             Id  StationDay  \n",
       "0  14066001_0_0  14066001_0  \n",
       "1  14066001_0_1  14066001_0  \n",
       "2  14066001_0_2  14066001_0  \n",
       "3  14066001_0_3  14066001_0  \n",
       "4  14066001_0_4  14066001_0  "
      ]
     },
     "metadata": {},
     "output_type": "display_data"
    },
    {
     "name": "stdout",
     "output_type": "stream",
     "text": [
      "Missing Data : 0 \n",
      " Shape is : (2264105, 10)\n"
     ]
    }
   ],
   "source": [
    "xtrainS = xtrainS.assign(StationDay=pd.Series(np.zeros(xtrainS.shape[0])).values)\n",
    "xtrainS.loc[:,\"StationDay\"] = xtrainS.loc[:,\"Id\"].apply(Get_StationDay)\n",
    "display(xtrainS.head())\n",
    "print('Missing Data :', xtrainS.isna().sum().sum(), '\\n', 'Shape is :', xtrainS.shape)"
   ]
  },
  {
   "cell_type": "markdown",
   "metadata": {},
   "source": [
    "**Drop Useless columns**"
   ]
  },
  {
   "cell_type": "code",
   "execution_count": 11,
   "metadata": {},
   "outputs": [
    {
     "data": {
      "text/html": [
       "<div>\n",
       "<style scoped>\n",
       "    .dataframe tbody tr th:only-of-type {\n",
       "        vertical-align: middle;\n",
       "    }\n",
       "\n",
       "    .dataframe tbody tr th {\n",
       "        vertical-align: top;\n",
       "    }\n",
       "\n",
       "    .dataframe thead th {\n",
       "        text-align: right;\n",
       "    }\n",
       "</style>\n",
       "<table border=\"1\" class=\"dataframe\">\n",
       "  <thead>\n",
       "    <tr style=\"text-align: right;\">\n",
       "      <th></th>\n",
       "      <th>ff</th>\n",
       "      <th>t</th>\n",
       "      <th>td</th>\n",
       "      <th>hu</th>\n",
       "      <th>dd</th>\n",
       "      <th>precip</th>\n",
       "      <th>StationDay</th>\n",
       "    </tr>\n",
       "  </thead>\n",
       "  <tbody>\n",
       "    <tr>\n",
       "      <th>0</th>\n",
       "      <td>3.05</td>\n",
       "      <td>279.28</td>\n",
       "      <td>277.97</td>\n",
       "      <td>91.4</td>\n",
       "      <td>200.0</td>\n",
       "      <td>0.0</td>\n",
       "      <td>14066001_0</td>\n",
       "    </tr>\n",
       "    <tr>\n",
       "      <th>1</th>\n",
       "      <td>2.57</td>\n",
       "      <td>278.76</td>\n",
       "      <td>277.45</td>\n",
       "      <td>91.4</td>\n",
       "      <td>190.0</td>\n",
       "      <td>0.0</td>\n",
       "      <td>14066001_0</td>\n",
       "    </tr>\n",
       "    <tr>\n",
       "      <th>2</th>\n",
       "      <td>2.26</td>\n",
       "      <td>278.27</td>\n",
       "      <td>277.02</td>\n",
       "      <td>91.7</td>\n",
       "      <td>181.0</td>\n",
       "      <td>0.0</td>\n",
       "      <td>14066001_0</td>\n",
       "    </tr>\n",
       "    <tr>\n",
       "      <th>3</th>\n",
       "      <td>2.62</td>\n",
       "      <td>277.98</td>\n",
       "      <td>276.95</td>\n",
       "      <td>93.0</td>\n",
       "      <td>159.0</td>\n",
       "      <td>0.0</td>\n",
       "      <td>14066001_0</td>\n",
       "    </tr>\n",
       "    <tr>\n",
       "      <th>4</th>\n",
       "      <td>2.99</td>\n",
       "      <td>277.32</td>\n",
       "      <td>276.72</td>\n",
       "      <td>95.9</td>\n",
       "      <td>171.0</td>\n",
       "      <td>0.0</td>\n",
       "      <td>14066001_0</td>\n",
       "    </tr>\n",
       "  </tbody>\n",
       "</table>\n",
       "</div>"
      ],
      "text/plain": [
       "     ff       t      td    hu     dd  precip  StationDay\n",
       "0  3.05  279.28  277.97  91.4  200.0     0.0  14066001_0\n",
       "1  2.57  278.76  277.45  91.4  190.0     0.0  14066001_0\n",
       "2  2.26  278.27  277.02  91.7  181.0     0.0  14066001_0\n",
       "3  2.62  277.98  276.95  93.0  159.0     0.0  14066001_0\n",
       "4  2.99  277.32  276.72  95.9  171.0     0.0  14066001_0"
      ]
     },
     "metadata": {},
     "output_type": "display_data"
    },
    {
     "name": "stdout",
     "output_type": "stream",
     "text": [
      "Missing Data : 0 \n",
      " Shape is : (2264105, 7)\n"
     ]
    }
   ],
   "source": [
    "xtrainS.drop(['number_sta', 'date', 'Id'], axis=1, inplace=True)\n",
    "display(xtrainS.head())\n",
    "print('Missing Data :', xtrainS.isna().sum().sum(), '\\n', 'Shape is :', xtrainS.shape)"
   ]
  },
  {
   "cell_type": "code",
   "execution_count": 12,
   "metadata": {},
   "outputs": [
    {
     "data": {
      "text/html": [
       "<div>\n",
       "<style scoped>\n",
       "    .dataframe tbody tr th:only-of-type {\n",
       "        vertical-align: middle;\n",
       "    }\n",
       "\n",
       "    .dataframe tbody tr th {\n",
       "        vertical-align: top;\n",
       "    }\n",
       "\n",
       "    .dataframe thead th {\n",
       "        text-align: right;\n",
       "    }\n",
       "</style>\n",
       "<table border=\"1\" class=\"dataframe\">\n",
       "  <thead>\n",
       "    <tr style=\"text-align: right;\">\n",
       "      <th></th>\n",
       "      <th>Ground_truth</th>\n",
       "      <th>Id</th>\n",
       "    </tr>\n",
       "  </thead>\n",
       "  <tbody>\n",
       "    <tr>\n",
       "      <th>0</th>\n",
       "      <td>3.4</td>\n",
       "      <td>14066001_0</td>\n",
       "    </tr>\n",
       "    <tr>\n",
       "      <th>1</th>\n",
       "      <td>0.5</td>\n",
       "      <td>14126001_0</td>\n",
       "    </tr>\n",
       "    <tr>\n",
       "      <th>2</th>\n",
       "      <td>3.4</td>\n",
       "      <td>14137001_0</td>\n",
       "    </tr>\n",
       "    <tr>\n",
       "      <th>3</th>\n",
       "      <td>4.0</td>\n",
       "      <td>14216001_0</td>\n",
       "    </tr>\n",
       "    <tr>\n",
       "      <th>4</th>\n",
       "      <td>13.3</td>\n",
       "      <td>14296001_0</td>\n",
       "    </tr>\n",
       "  </tbody>\n",
       "</table>\n",
       "</div>"
      ],
      "text/plain": [
       "   Ground_truth          Id\n",
       "0           3.4  14066001_0\n",
       "1           0.5  14126001_0\n",
       "2           3.4  14137001_0\n",
       "3           4.0  14216001_0\n",
       "4          13.3  14296001_0"
      ]
     },
     "metadata": {},
     "output_type": "display_data"
    },
    {
     "name": "stdout",
     "output_type": "stream",
     "text": [
      "Missing Data : 0 \n",
      " Shape is : (162107, 2)\n"
     ]
    }
   ],
   "source": [
    "ytrain.drop(['date', 'number_sta'], axis=1, inplace=True)\n",
    "display(ytrain.head())\n",
    "print('Missing Data :', ytrain.isna().sum().sum(), '\\n', 'Shape is :', ytrain.shape)"
   ]
  },
  {
   "cell_type": "markdown",
   "metadata": {},
   "source": [
    "**Mean on 24 hours (except 'precip')**"
   ]
  },
  {
   "cell_type": "code",
   "execution_count": 13,
   "metadata": {},
   "outputs": [
    {
     "data": {
      "text/html": [
       "<div>\n",
       "<style scoped>\n",
       "    .dataframe tbody tr th:only-of-type {\n",
       "        vertical-align: middle;\n",
       "    }\n",
       "\n",
       "    .dataframe tbody tr th {\n",
       "        vertical-align: top;\n",
       "    }\n",
       "\n",
       "    .dataframe thead th {\n",
       "        text-align: right;\n",
       "    }\n",
       "</style>\n",
       "<table border=\"1\" class=\"dataframe\">\n",
       "  <thead>\n",
       "    <tr style=\"text-align: right;\">\n",
       "      <th></th>\n",
       "      <th>StationDay</th>\n",
       "      <th>ff</th>\n",
       "      <th>t</th>\n",
       "      <th>td</th>\n",
       "      <th>hu</th>\n",
       "      <th>dd</th>\n",
       "      <th>precip</th>\n",
       "    </tr>\n",
       "  </thead>\n",
       "  <tbody>\n",
       "    <tr>\n",
       "      <th>0</th>\n",
       "      <td>14066001_0</td>\n",
       "      <td>3.913750</td>\n",
       "      <td>280.333750</td>\n",
       "      <td>278.514583</td>\n",
       "      <td>88.591667</td>\n",
       "      <td>146.500000</td>\n",
       "      <td>0.2</td>\n",
       "    </tr>\n",
       "    <tr>\n",
       "      <th>1</th>\n",
       "      <td>14066001_1</td>\n",
       "      <td>8.041250</td>\n",
       "      <td>282.936667</td>\n",
       "      <td>279.997500</td>\n",
       "      <td>82.300000</td>\n",
       "      <td>205.625000</td>\n",
       "      <td>3.4</td>\n",
       "    </tr>\n",
       "    <tr>\n",
       "      <th>2</th>\n",
       "      <td>14066001_10</td>\n",
       "      <td>5.408750</td>\n",
       "      <td>279.557917</td>\n",
       "      <td>277.497917</td>\n",
       "      <td>86.750000</td>\n",
       "      <td>209.541667</td>\n",
       "      <td>6.0</td>\n",
       "    </tr>\n",
       "    <tr>\n",
       "      <th>3</th>\n",
       "      <td>14066001_100</td>\n",
       "      <td>4.296250</td>\n",
       "      <td>282.112917</td>\n",
       "      <td>277.944583</td>\n",
       "      <td>76.408333</td>\n",
       "      <td>134.958333</td>\n",
       "      <td>11.6</td>\n",
       "    </tr>\n",
       "    <tr>\n",
       "      <th>4</th>\n",
       "      <td>14066001_101</td>\n",
       "      <td>1.754583</td>\n",
       "      <td>282.805000</td>\n",
       "      <td>281.003333</td>\n",
       "      <td>88.745833</td>\n",
       "      <td>167.208333</td>\n",
       "      <td>5.6</td>\n",
       "    </tr>\n",
       "  </tbody>\n",
       "</table>\n",
       "</div>"
      ],
      "text/plain": [
       "     StationDay        ff           t          td         hu          dd  \\\n",
       "0    14066001_0  3.913750  280.333750  278.514583  88.591667  146.500000   \n",
       "1    14066001_1  8.041250  282.936667  279.997500  82.300000  205.625000   \n",
       "2   14066001_10  5.408750  279.557917  277.497917  86.750000  209.541667   \n",
       "3  14066001_100  4.296250  282.112917  277.944583  76.408333  134.958333   \n",
       "4  14066001_101  1.754583  282.805000  281.003333  88.745833  167.208333   \n",
       "\n",
       "   precip  \n",
       "0     0.2  \n",
       "1     3.4  \n",
       "2     6.0  \n",
       "3    11.6  \n",
       "4     5.6  "
      ]
     },
     "metadata": {},
     "output_type": "display_data"
    },
    {
     "name": "stdout",
     "output_type": "stream",
     "text": [
      "Missing Data : 58296 \n",
      " Shape is : (96009, 7)\n"
     ]
    }
   ],
   "source": [
    "xtrainS = xtrainS.groupby(\"StationDay\", as_index=False).agg(pd.Series.sum, min_count = 24)\n",
    "xtrainS[['dd', 'hu', 'td', 't', 'ff']] = xtrainS[['dd', 'hu', 'td', 't', 'ff']].divide(24)\n",
    "display(xtrainS.head())\n",
    "print('Missing Data :', xtrainS.isna().sum().sum(), '\\n', 'Shape is :', xtrainS.shape)"
   ]
  },
  {
   "cell_type": "markdown",
   "metadata": {},
   "source": [
    "**Remove NaNs**"
   ]
  },
  {
   "cell_type": "code",
   "execution_count": 14,
   "metadata": {},
   "outputs": [
    {
     "data": {
      "text/html": [
       "<div>\n",
       "<style scoped>\n",
       "    .dataframe tbody tr th:only-of-type {\n",
       "        vertical-align: middle;\n",
       "    }\n",
       "\n",
       "    .dataframe tbody tr th {\n",
       "        vertical-align: top;\n",
       "    }\n",
       "\n",
       "    .dataframe thead th {\n",
       "        text-align: right;\n",
       "    }\n",
       "</style>\n",
       "<table border=\"1\" class=\"dataframe\">\n",
       "  <thead>\n",
       "    <tr style=\"text-align: right;\">\n",
       "      <th></th>\n",
       "      <th>StationDay</th>\n",
       "      <th>ff</th>\n",
       "      <th>t</th>\n",
       "      <th>td</th>\n",
       "      <th>hu</th>\n",
       "      <th>dd</th>\n",
       "      <th>precip</th>\n",
       "    </tr>\n",
       "  </thead>\n",
       "  <tbody>\n",
       "    <tr>\n",
       "      <th>0</th>\n",
       "      <td>14066001_0</td>\n",
       "      <td>3.913750</td>\n",
       "      <td>280.333750</td>\n",
       "      <td>278.514583</td>\n",
       "      <td>88.591667</td>\n",
       "      <td>146.500000</td>\n",
       "      <td>0.2</td>\n",
       "    </tr>\n",
       "    <tr>\n",
       "      <th>1</th>\n",
       "      <td>14066001_1</td>\n",
       "      <td>8.041250</td>\n",
       "      <td>282.936667</td>\n",
       "      <td>279.997500</td>\n",
       "      <td>82.300000</td>\n",
       "      <td>205.625000</td>\n",
       "      <td>3.4</td>\n",
       "    </tr>\n",
       "    <tr>\n",
       "      <th>2</th>\n",
       "      <td>14066001_10</td>\n",
       "      <td>5.408750</td>\n",
       "      <td>279.557917</td>\n",
       "      <td>277.497917</td>\n",
       "      <td>86.750000</td>\n",
       "      <td>209.541667</td>\n",
       "      <td>6.0</td>\n",
       "    </tr>\n",
       "    <tr>\n",
       "      <th>3</th>\n",
       "      <td>14066001_100</td>\n",
       "      <td>4.296250</td>\n",
       "      <td>282.112917</td>\n",
       "      <td>277.944583</td>\n",
       "      <td>76.408333</td>\n",
       "      <td>134.958333</td>\n",
       "      <td>11.6</td>\n",
       "    </tr>\n",
       "    <tr>\n",
       "      <th>4</th>\n",
       "      <td>14066001_101</td>\n",
       "      <td>1.754583</td>\n",
       "      <td>282.805000</td>\n",
       "      <td>281.003333</td>\n",
       "      <td>88.745833</td>\n",
       "      <td>167.208333</td>\n",
       "      <td>5.6</td>\n",
       "    </tr>\n",
       "  </tbody>\n",
       "</table>\n",
       "</div>"
      ],
      "text/plain": [
       "     StationDay        ff           t          td         hu          dd  \\\n",
       "0    14066001_0  3.913750  280.333750  278.514583  88.591667  146.500000   \n",
       "1    14066001_1  8.041250  282.936667  279.997500  82.300000  205.625000   \n",
       "2   14066001_10  5.408750  279.557917  277.497917  86.750000  209.541667   \n",
       "3  14066001_100  4.296250  282.112917  277.944583  76.408333  134.958333   \n",
       "4  14066001_101  1.754583  282.805000  281.003333  88.745833  167.208333   \n",
       "\n",
       "   precip  \n",
       "0     0.2  \n",
       "1     3.4  \n",
       "2     6.0  \n",
       "3    11.6  \n",
       "4     5.6  "
      ]
     },
     "metadata": {},
     "output_type": "display_data"
    },
    {
     "name": "stdout",
     "output_type": "stream",
     "text": [
      "Missing Data : 0 \n",
      " Shape is : (86293, 7)\n"
     ]
    }
   ],
   "source": [
    "xtrainS.dropna(inplace=True)\n",
    "display(xtrainS.head())\n",
    "print('Missing Data :', xtrainS.isna().sum().sum(), '\\n', 'Shape is :', xtrainS.shape)"
   ]
  },
  {
   "cell_type": "markdown",
   "metadata": {},
   "source": [
    "**Keep the same rows in X_train and Y_train**"
   ]
  },
  {
   "cell_type": "code",
   "execution_count": 15,
   "metadata": {},
   "outputs": [
    {
     "data": {
      "text/html": [
       "<div>\n",
       "<style scoped>\n",
       "    .dataframe tbody tr th:only-of-type {\n",
       "        vertical-align: middle;\n",
       "    }\n",
       "\n",
       "    .dataframe tbody tr th {\n",
       "        vertical-align: top;\n",
       "    }\n",
       "\n",
       "    .dataframe thead th {\n",
       "        text-align: right;\n",
       "    }\n",
       "</style>\n",
       "<table border=\"1\" class=\"dataframe\">\n",
       "  <thead>\n",
       "    <tr style=\"text-align: right;\">\n",
       "      <th></th>\n",
       "      <th>StationDay</th>\n",
       "      <th>ff</th>\n",
       "      <th>t</th>\n",
       "      <th>td</th>\n",
       "      <th>hu</th>\n",
       "      <th>dd</th>\n",
       "      <th>precip</th>\n",
       "    </tr>\n",
       "  </thead>\n",
       "  <tbody>\n",
       "    <tr>\n",
       "      <th>0</th>\n",
       "      <td>14066001_0</td>\n",
       "      <td>3.913750</td>\n",
       "      <td>280.333750</td>\n",
       "      <td>278.514583</td>\n",
       "      <td>88.591667</td>\n",
       "      <td>146.500000</td>\n",
       "      <td>0.2</td>\n",
       "    </tr>\n",
       "    <tr>\n",
       "      <th>1</th>\n",
       "      <td>14066001_1</td>\n",
       "      <td>8.041250</td>\n",
       "      <td>282.936667</td>\n",
       "      <td>279.997500</td>\n",
       "      <td>82.300000</td>\n",
       "      <td>205.625000</td>\n",
       "      <td>3.4</td>\n",
       "    </tr>\n",
       "    <tr>\n",
       "      <th>2</th>\n",
       "      <td>14066001_10</td>\n",
       "      <td>5.408750</td>\n",
       "      <td>279.557917</td>\n",
       "      <td>277.497917</td>\n",
       "      <td>86.750000</td>\n",
       "      <td>209.541667</td>\n",
       "      <td>6.0</td>\n",
       "    </tr>\n",
       "    <tr>\n",
       "      <th>3</th>\n",
       "      <td>14066001_100</td>\n",
       "      <td>4.296250</td>\n",
       "      <td>282.112917</td>\n",
       "      <td>277.944583</td>\n",
       "      <td>76.408333</td>\n",
       "      <td>134.958333</td>\n",
       "      <td>11.6</td>\n",
       "    </tr>\n",
       "    <tr>\n",
       "      <th>4</th>\n",
       "      <td>14066001_101</td>\n",
       "      <td>1.754583</td>\n",
       "      <td>282.805000</td>\n",
       "      <td>281.003333</td>\n",
       "      <td>88.745833</td>\n",
       "      <td>167.208333</td>\n",
       "      <td>5.6</td>\n",
       "    </tr>\n",
       "  </tbody>\n",
       "</table>\n",
       "</div>"
      ],
      "text/plain": [
       "     StationDay        ff           t          td         hu          dd  \\\n",
       "0    14066001_0  3.913750  280.333750  278.514583  88.591667  146.500000   \n",
       "1    14066001_1  8.041250  282.936667  279.997500  82.300000  205.625000   \n",
       "2   14066001_10  5.408750  279.557917  277.497917  86.750000  209.541667   \n",
       "3  14066001_100  4.296250  282.112917  277.944583  76.408333  134.958333   \n",
       "4  14066001_101  1.754583  282.805000  281.003333  88.745833  167.208333   \n",
       "\n",
       "   precip  \n",
       "0     0.2  \n",
       "1     3.4  \n",
       "2     6.0  \n",
       "3    11.6  \n",
       "4     5.6  "
      ]
     },
     "metadata": {},
     "output_type": "display_data"
    },
    {
     "name": "stdout",
     "output_type": "stream",
     "text": [
      "Missing Data : 0 \n",
      " Shape is : (82120, 7)\n"
     ]
    }
   ],
   "source": [
    "xtrainS = xtrainS.loc[xtrainS['StationDay'].isin(ytrain[\"Id\"])]\n",
    "display(xtrainS.head())\n",
    "print('Missing Data :', xtrainS.isna().sum().sum(), '\\n', 'Shape is :', xtrainS.shape)"
   ]
  },
  {
   "cell_type": "code",
   "execution_count": 16,
   "metadata": {},
   "outputs": [
    {
     "data": {
      "text/html": [
       "<div>\n",
       "<style scoped>\n",
       "    .dataframe tbody tr th:only-of-type {\n",
       "        vertical-align: middle;\n",
       "    }\n",
       "\n",
       "    .dataframe tbody tr th {\n",
       "        vertical-align: top;\n",
       "    }\n",
       "\n",
       "    .dataframe thead th {\n",
       "        text-align: right;\n",
       "    }\n",
       "</style>\n",
       "<table border=\"1\" class=\"dataframe\">\n",
       "  <thead>\n",
       "    <tr style=\"text-align: right;\">\n",
       "      <th></th>\n",
       "      <th>Ground_truth</th>\n",
       "      <th>Id</th>\n",
       "    </tr>\n",
       "  </thead>\n",
       "  <tbody>\n",
       "    <tr>\n",
       "      <th>0</th>\n",
       "      <td>3.4</td>\n",
       "      <td>14066001_0</td>\n",
       "    </tr>\n",
       "    <tr>\n",
       "      <th>3</th>\n",
       "      <td>4.0</td>\n",
       "      <td>14216001_0</td>\n",
       "    </tr>\n",
       "    <tr>\n",
       "      <th>7</th>\n",
       "      <td>10.0</td>\n",
       "      <td>14372001_0</td>\n",
       "    </tr>\n",
       "    <tr>\n",
       "      <th>11</th>\n",
       "      <td>3.6</td>\n",
       "      <td>14578001_0</td>\n",
       "    </tr>\n",
       "    <tr>\n",
       "      <th>14</th>\n",
       "      <td>10.3</td>\n",
       "      <td>14762004_0</td>\n",
       "    </tr>\n",
       "  </tbody>\n",
       "</table>\n",
       "</div>"
      ],
      "text/plain": [
       "    Ground_truth          Id\n",
       "0            3.4  14066001_0\n",
       "3            4.0  14216001_0\n",
       "7           10.0  14372001_0\n",
       "11           3.6  14578001_0\n",
       "14          10.3  14762004_0"
      ]
     },
     "metadata": {},
     "output_type": "display_data"
    },
    {
     "name": "stdout",
     "output_type": "stream",
     "text": [
      "Missing Data : 0 \n",
      " Shape is : (82120, 2)\n"
     ]
    }
   ],
   "source": [
    "ytrain = ytrain.loc[ytrain['Id'].isin(xtrainS[\"StationDay\"])]\n",
    "display(ytrain.head())\n",
    "print('Missing Data :', ytrain.isna().sum().sum(), '\\n', 'Shape is :', ytrain.shape)"
   ]
  },
  {
   "cell_type": "markdown",
   "metadata": {},
   "source": [
    "**Reset index**"
   ]
  },
  {
   "cell_type": "code",
   "execution_count": 17,
   "metadata": {},
   "outputs": [
    {
     "data": {
      "text/html": [
       "<div>\n",
       "<style scoped>\n",
       "    .dataframe tbody tr th:only-of-type {\n",
       "        vertical-align: middle;\n",
       "    }\n",
       "\n",
       "    .dataframe tbody tr th {\n",
       "        vertical-align: top;\n",
       "    }\n",
       "\n",
       "    .dataframe thead th {\n",
       "        text-align: right;\n",
       "    }\n",
       "</style>\n",
       "<table border=\"1\" class=\"dataframe\">\n",
       "  <thead>\n",
       "    <tr style=\"text-align: right;\">\n",
       "      <th></th>\n",
       "      <th>StationDay</th>\n",
       "      <th>ff</th>\n",
       "      <th>t</th>\n",
       "      <th>td</th>\n",
       "      <th>hu</th>\n",
       "      <th>dd</th>\n",
       "      <th>precip</th>\n",
       "    </tr>\n",
       "  </thead>\n",
       "  <tbody>\n",
       "    <tr>\n",
       "      <th>0</th>\n",
       "      <td>14066001_0</td>\n",
       "      <td>3.913750</td>\n",
       "      <td>280.333750</td>\n",
       "      <td>278.514583</td>\n",
       "      <td>88.591667</td>\n",
       "      <td>146.500000</td>\n",
       "      <td>0.2</td>\n",
       "    </tr>\n",
       "    <tr>\n",
       "      <th>1</th>\n",
       "      <td>14066001_1</td>\n",
       "      <td>8.041250</td>\n",
       "      <td>282.936667</td>\n",
       "      <td>279.997500</td>\n",
       "      <td>82.300000</td>\n",
       "      <td>205.625000</td>\n",
       "      <td>3.4</td>\n",
       "    </tr>\n",
       "    <tr>\n",
       "      <th>2</th>\n",
       "      <td>14066001_10</td>\n",
       "      <td>5.408750</td>\n",
       "      <td>279.557917</td>\n",
       "      <td>277.497917</td>\n",
       "      <td>86.750000</td>\n",
       "      <td>209.541667</td>\n",
       "      <td>6.0</td>\n",
       "    </tr>\n",
       "    <tr>\n",
       "      <th>3</th>\n",
       "      <td>14066001_100</td>\n",
       "      <td>4.296250</td>\n",
       "      <td>282.112917</td>\n",
       "      <td>277.944583</td>\n",
       "      <td>76.408333</td>\n",
       "      <td>134.958333</td>\n",
       "      <td>11.6</td>\n",
       "    </tr>\n",
       "    <tr>\n",
       "      <th>4</th>\n",
       "      <td>14066001_101</td>\n",
       "      <td>1.754583</td>\n",
       "      <td>282.805000</td>\n",
       "      <td>281.003333</td>\n",
       "      <td>88.745833</td>\n",
       "      <td>167.208333</td>\n",
       "      <td>5.6</td>\n",
       "    </tr>\n",
       "  </tbody>\n",
       "</table>\n",
       "</div>"
      ],
      "text/plain": [
       "     StationDay        ff           t          td         hu          dd  \\\n",
       "0    14066001_0  3.913750  280.333750  278.514583  88.591667  146.500000   \n",
       "1    14066001_1  8.041250  282.936667  279.997500  82.300000  205.625000   \n",
       "2   14066001_10  5.408750  279.557917  277.497917  86.750000  209.541667   \n",
       "3  14066001_100  4.296250  282.112917  277.944583  76.408333  134.958333   \n",
       "4  14066001_101  1.754583  282.805000  281.003333  88.745833  167.208333   \n",
       "\n",
       "   precip  \n",
       "0     0.2  \n",
       "1     3.4  \n",
       "2     6.0  \n",
       "3    11.6  \n",
       "4     5.6  "
      ]
     },
     "metadata": {},
     "output_type": "display_data"
    },
    {
     "name": "stdout",
     "output_type": "stream",
     "text": [
      "Missing Data : 0 \n",
      " Shape is : (82120, 7)\n"
     ]
    }
   ],
   "source": [
    "xtrainS.reset_index(drop=True,inplace=True)\n",
    "display(xtrainS.head())\n",
    "print('Missing Data :', xtrainS.isna().sum().sum(), '\\n', 'Shape is :', xtrainS.shape)"
   ]
  },
  {
   "cell_type": "code",
   "execution_count": 18,
   "metadata": {},
   "outputs": [
    {
     "data": {
      "text/html": [
       "<div>\n",
       "<style scoped>\n",
       "    .dataframe tbody tr th:only-of-type {\n",
       "        vertical-align: middle;\n",
       "    }\n",
       "\n",
       "    .dataframe tbody tr th {\n",
       "        vertical-align: top;\n",
       "    }\n",
       "\n",
       "    .dataframe thead th {\n",
       "        text-align: right;\n",
       "    }\n",
       "</style>\n",
       "<table border=\"1\" class=\"dataframe\">\n",
       "  <thead>\n",
       "    <tr style=\"text-align: right;\">\n",
       "      <th></th>\n",
       "      <th>Ground_truth</th>\n",
       "      <th>Id</th>\n",
       "    </tr>\n",
       "  </thead>\n",
       "  <tbody>\n",
       "    <tr>\n",
       "      <th>0</th>\n",
       "      <td>3.4</td>\n",
       "      <td>14066001_0</td>\n",
       "    </tr>\n",
       "    <tr>\n",
       "      <th>1</th>\n",
       "      <td>4.0</td>\n",
       "      <td>14216001_0</td>\n",
       "    </tr>\n",
       "    <tr>\n",
       "      <th>2</th>\n",
       "      <td>10.0</td>\n",
       "      <td>14372001_0</td>\n",
       "    </tr>\n",
       "    <tr>\n",
       "      <th>3</th>\n",
       "      <td>3.6</td>\n",
       "      <td>14578001_0</td>\n",
       "    </tr>\n",
       "    <tr>\n",
       "      <th>4</th>\n",
       "      <td>10.3</td>\n",
       "      <td>14762004_0</td>\n",
       "    </tr>\n",
       "  </tbody>\n",
       "</table>\n",
       "</div>"
      ],
      "text/plain": [
       "   Ground_truth          Id\n",
       "0           3.4  14066001_0\n",
       "1           4.0  14216001_0\n",
       "2          10.0  14372001_0\n",
       "3           3.6  14578001_0\n",
       "4          10.3  14762004_0"
      ]
     },
     "metadata": {},
     "output_type": "display_data"
    },
    {
     "name": "stdout",
     "output_type": "stream",
     "text": [
      "Missing Data : 0 \n",
      " Shape is : (82120, 2)\n"
     ]
    }
   ],
   "source": [
    "ytrain.reset_index(drop=True,inplace=True)\n",
    "display(ytrain.head())\n",
    "print('Missing Data :', ytrain.isna().sum().sum(), '\\n', 'Shape is :', ytrain.shape)"
   ]
  },
  {
   "cell_type": "markdown",
   "metadata": {},
   "source": [
    "**Drop useless variables**"
   ]
  },
  {
   "cell_type": "code",
   "execution_count": 13,
   "metadata": {},
   "outputs": [
    {
     "data": {
      "text/html": [
       "<div>\n",
       "<style scoped>\n",
       "    .dataframe tbody tr th:only-of-type {\n",
       "        vertical-align: middle;\n",
       "    }\n",
       "\n",
       "    .dataframe tbody tr th {\n",
       "        vertical-align: top;\n",
       "    }\n",
       "\n",
       "    .dataframe thead th {\n",
       "        text-align: right;\n",
       "    }\n",
       "</style>\n",
       "<table border=\"1\" class=\"dataframe\">\n",
       "  <thead>\n",
       "    <tr style=\"text-align: right;\">\n",
       "      <th></th>\n",
       "      <th>ff</th>\n",
       "      <th>t</th>\n",
       "      <th>td</th>\n",
       "      <th>hu</th>\n",
       "      <th>dd</th>\n",
       "      <th>precip</th>\n",
       "    </tr>\n",
       "  </thead>\n",
       "  <tbody>\n",
       "    <tr>\n",
       "      <th>0</th>\n",
       "      <td>3.05</td>\n",
       "      <td>279.28</td>\n",
       "      <td>277.97</td>\n",
       "      <td>91.4</td>\n",
       "      <td>200.0</td>\n",
       "      <td>0.0</td>\n",
       "    </tr>\n",
       "    <tr>\n",
       "      <th>1</th>\n",
       "      <td>2.57</td>\n",
       "      <td>278.76</td>\n",
       "      <td>277.45</td>\n",
       "      <td>91.4</td>\n",
       "      <td>190.0</td>\n",
       "      <td>0.0</td>\n",
       "    </tr>\n",
       "    <tr>\n",
       "      <th>2</th>\n",
       "      <td>2.26</td>\n",
       "      <td>278.27</td>\n",
       "      <td>277.02</td>\n",
       "      <td>91.7</td>\n",
       "      <td>181.0</td>\n",
       "      <td>0.0</td>\n",
       "    </tr>\n",
       "    <tr>\n",
       "      <th>3</th>\n",
       "      <td>2.62</td>\n",
       "      <td>277.98</td>\n",
       "      <td>276.95</td>\n",
       "      <td>93.0</td>\n",
       "      <td>159.0</td>\n",
       "      <td>0.0</td>\n",
       "    </tr>\n",
       "    <tr>\n",
       "      <th>4</th>\n",
       "      <td>2.99</td>\n",
       "      <td>277.32</td>\n",
       "      <td>276.72</td>\n",
       "      <td>95.9</td>\n",
       "      <td>171.0</td>\n",
       "      <td>0.0</td>\n",
       "    </tr>\n",
       "  </tbody>\n",
       "</table>\n",
       "</div>"
      ],
      "text/plain": [
       "     ff       t      td    hu     dd  precip\n",
       "0  3.05  279.28  277.97  91.4  200.0     0.0\n",
       "1  2.57  278.76  277.45  91.4  190.0     0.0\n",
       "2  2.26  278.27  277.02  91.7  181.0     0.0\n",
       "3  2.62  277.98  276.95  93.0  159.0     0.0\n",
       "4  2.99  277.32  276.72  95.9  171.0     0.0"
      ]
     },
     "metadata": {},
     "output_type": "display_data"
    },
    {
     "name": "stdout",
     "output_type": "stream",
     "text": [
      "Missing Data : 0 \n",
      " Shape is : (2264105, 6)\n"
     ]
    }
   ],
   "source": [
    "xtrainS.drop(['StationDay'], axis=1, inplace=True)\n",
    "display(xtrainS.head())\n",
    "print('Missing Data :', xtrainS.isna().sum().sum(), '\\n', 'Shape is :', xtrainS.shape)"
   ]
  },
  {
   "cell_type": "code",
   "execution_count": 14,
   "metadata": {},
   "outputs": [
    {
     "data": {
      "text/html": [
       "<div>\n",
       "<style scoped>\n",
       "    .dataframe tbody tr th:only-of-type {\n",
       "        vertical-align: middle;\n",
       "    }\n",
       "\n",
       "    .dataframe tbody tr th {\n",
       "        vertical-align: top;\n",
       "    }\n",
       "\n",
       "    .dataframe thead th {\n",
       "        text-align: right;\n",
       "    }\n",
       "</style>\n",
       "<table border=\"1\" class=\"dataframe\">\n",
       "  <thead>\n",
       "    <tr style=\"text-align: right;\">\n",
       "      <th></th>\n",
       "      <th>Ground_truth</th>\n",
       "    </tr>\n",
       "  </thead>\n",
       "  <tbody>\n",
       "    <tr>\n",
       "      <th>0</th>\n",
       "      <td>3.4</td>\n",
       "    </tr>\n",
       "    <tr>\n",
       "      <th>1</th>\n",
       "      <td>0.5</td>\n",
       "    </tr>\n",
       "    <tr>\n",
       "      <th>2</th>\n",
       "      <td>3.4</td>\n",
       "    </tr>\n",
       "    <tr>\n",
       "      <th>3</th>\n",
       "      <td>4.0</td>\n",
       "    </tr>\n",
       "    <tr>\n",
       "      <th>4</th>\n",
       "      <td>13.3</td>\n",
       "    </tr>\n",
       "  </tbody>\n",
       "</table>\n",
       "</div>"
      ],
      "text/plain": [
       "   Ground_truth\n",
       "0           3.4\n",
       "1           0.5\n",
       "2           3.4\n",
       "3           4.0\n",
       "4          13.3"
      ]
     },
     "metadata": {},
     "output_type": "display_data"
    },
    {
     "name": "stdout",
     "output_type": "stream",
     "text": [
      "Missing Data : 0 \n",
      " Shape is : (162107, 1)\n"
     ]
    }
   ],
   "source": [
    "ytrain.drop(['Id'], axis=1, inplace=True)\n",
    "display(ytrain.head())\n",
    "print('Missing Data :', ytrain.isna().sum().sum(), '\\n', 'Shape is :', ytrain.shape)"
   ]
  },
  {
   "cell_type": "markdown",
   "metadata": {},
   "source": [
    "### 4.2 Test data"
   ]
  },
  {
   "cell_type": "code",
   "execution_count": 15,
   "metadata": {},
   "outputs": [],
   "source": [
    "def Id_to_int (id):\n",
    "    return int(id.split('_')[0] + id.split('_')[1] + id.split('_')[2])"
   ]
  },
  {
   "cell_type": "markdown",
   "metadata": {},
   "source": [
    "**Create 'IntId' column**"
   ]
  },
  {
   "cell_type": "code",
   "execution_count": 60,
   "metadata": {},
   "outputs": [
    {
     "data": {
      "text/html": [
       "<div>\n",
       "<style scoped>\n",
       "    .dataframe tbody tr th:only-of-type {\n",
       "        vertical-align: middle;\n",
       "    }\n",
       "\n",
       "    .dataframe tbody tr th {\n",
       "        vertical-align: top;\n",
       "    }\n",
       "\n",
       "    .dataframe thead th {\n",
       "        text-align: right;\n",
       "    }\n",
       "</style>\n",
       "<table border=\"1\" class=\"dataframe\">\n",
       "  <thead>\n",
       "    <tr style=\"text-align: right;\">\n",
       "      <th></th>\n",
       "      <th>dd</th>\n",
       "      <th>hu</th>\n",
       "      <th>td</th>\n",
       "      <th>t</th>\n",
       "      <th>ff</th>\n",
       "      <th>precip</th>\n",
       "      <th>month</th>\n",
       "      <th>Id</th>\n",
       "      <th>IntId</th>\n",
       "    </tr>\n",
       "  </thead>\n",
       "  <tbody>\n",
       "    <tr>\n",
       "      <th>0</th>\n",
       "      <td>NaN</td>\n",
       "      <td>NaN</td>\n",
       "      <td>NaN</td>\n",
       "      <td>278.35</td>\n",
       "      <td>NaN</td>\n",
       "      <td>NaN</td>\n",
       "      <td>12</td>\n",
       "      <td>14047002_277_4</td>\n",
       "      <td>140470022774</td>\n",
       "    </tr>\n",
       "    <tr>\n",
       "      <th>1</th>\n",
       "      <td>NaN</td>\n",
       "      <td>NaN</td>\n",
       "      <td>NaN</td>\n",
       "      <td>278.40</td>\n",
       "      <td>NaN</td>\n",
       "      <td>0.0</td>\n",
       "      <td>12</td>\n",
       "      <td>14047002_277_5</td>\n",
       "      <td>140470022775</td>\n",
       "    </tr>\n",
       "    <tr>\n",
       "      <th>2</th>\n",
       "      <td>NaN</td>\n",
       "      <td>NaN</td>\n",
       "      <td>NaN</td>\n",
       "      <td>279.01</td>\n",
       "      <td>NaN</td>\n",
       "      <td>0.0</td>\n",
       "      <td>12</td>\n",
       "      <td>14047002_277_6</td>\n",
       "      <td>140470022776</td>\n",
       "    </tr>\n",
       "    <tr>\n",
       "      <th>3</th>\n",
       "      <td>NaN</td>\n",
       "      <td>NaN</td>\n",
       "      <td>NaN</td>\n",
       "      <td>279.66</td>\n",
       "      <td>NaN</td>\n",
       "      <td>0.0</td>\n",
       "      <td>12</td>\n",
       "      <td>14047002_277_7</td>\n",
       "      <td>140470022777</td>\n",
       "    </tr>\n",
       "    <tr>\n",
       "      <th>4</th>\n",
       "      <td>NaN</td>\n",
       "      <td>NaN</td>\n",
       "      <td>NaN</td>\n",
       "      <td>279.99</td>\n",
       "      <td>NaN</td>\n",
       "      <td>0.0</td>\n",
       "      <td>12</td>\n",
       "      <td>14047002_277_8</td>\n",
       "      <td>140470022778</td>\n",
       "    </tr>\n",
       "  </tbody>\n",
       "</table>\n",
       "</div>"
      ],
      "text/plain": [
       "   dd  hu  td       t  ff  precip  month              Id         IntId\n",
       "0 NaN NaN NaN  278.35 NaN     NaN     12  14047002_277_4  140470022774\n",
       "1 NaN NaN NaN  278.40 NaN     0.0     12  14047002_277_5  140470022775\n",
       "2 NaN NaN NaN  279.01 NaN     0.0     12  14047002_277_6  140470022776\n",
       "3 NaN NaN NaN  279.66 NaN     0.0     12  14047002_277_7  140470022777\n",
       "4 NaN NaN NaN  279.99 NaN     0.0     12  14047002_277_8  140470022778"
      ]
     },
     "metadata": {},
     "output_type": "display_data"
    },
    {
     "name": "stdout",
     "output_type": "stream",
     "text": [
      "Missing Data : 3914287 \n",
      " Shape is : (2304802, 9)\n"
     ]
    }
   ],
   "source": [
    "xtestS = xtestS.assign(IntId=pd.Series(np.zeros(xtestS.shape[0])).values)\n",
    "xtestS.loc[:,\"IntId\"] = xtestS.loc[:,\"Id\"].apply(Id_to_int)\n",
    "display(xtestS.head())\n",
    "print('Missing Data :', xtestS.isna().sum().sum(), '\\n', 'Shape is :', xtestS.shape)"
   ]
  },
  {
   "cell_type": "markdown",
   "metadata": {},
   "source": [
    "**Sort X_test on 'IntId' values**"
   ]
  },
  {
   "cell_type": "code",
   "execution_count": 61,
   "metadata": {},
   "outputs": [
    {
     "data": {
      "text/html": [
       "<div>\n",
       "<style scoped>\n",
       "    .dataframe tbody tr th:only-of-type {\n",
       "        vertical-align: middle;\n",
       "    }\n",
       "\n",
       "    .dataframe tbody tr th {\n",
       "        vertical-align: top;\n",
       "    }\n",
       "\n",
       "    .dataframe thead th {\n",
       "        text-align: right;\n",
       "    }\n",
       "</style>\n",
       "<table border=\"1\" class=\"dataframe\">\n",
       "  <thead>\n",
       "    <tr style=\"text-align: right;\">\n",
       "      <th></th>\n",
       "      <th>dd</th>\n",
       "      <th>hu</th>\n",
       "      <th>td</th>\n",
       "      <th>t</th>\n",
       "      <th>ff</th>\n",
       "      <th>precip</th>\n",
       "      <th>month</th>\n",
       "      <th>Id</th>\n",
       "      <th>IntId</th>\n",
       "    </tr>\n",
       "  </thead>\n",
       "  <tbody>\n",
       "    <tr>\n",
       "      <th>0</th>\n",
       "      <td>224.0</td>\n",
       "      <td>96.1</td>\n",
       "      <td>277.17</td>\n",
       "      <td>277.75</td>\n",
       "      <td>3.46</td>\n",
       "      <td>0.0</td>\n",
       "      <td>2</td>\n",
       "      <td>14066001_0_0</td>\n",
       "      <td>1406600100</td>\n",
       "    </tr>\n",
       "    <tr>\n",
       "      <th>1</th>\n",
       "      <td>216.0</td>\n",
       "      <td>96.7</td>\n",
       "      <td>277.47</td>\n",
       "      <td>277.93</td>\n",
       "      <td>3.65</td>\n",
       "      <td>0.0</td>\n",
       "      <td>2</td>\n",
       "      <td>14066001_0_1</td>\n",
       "      <td>1406600101</td>\n",
       "    </tr>\n",
       "    <tr>\n",
       "      <th>2</th>\n",
       "      <td>222.0</td>\n",
       "      <td>97.1</td>\n",
       "      <td>277.03</td>\n",
       "      <td>277.42</td>\n",
       "      <td>3.63</td>\n",
       "      <td>0.0</td>\n",
       "      <td>2</td>\n",
       "      <td>14066001_0_2</td>\n",
       "      <td>1406600102</td>\n",
       "    </tr>\n",
       "    <tr>\n",
       "      <th>3</th>\n",
       "      <td>220.0</td>\n",
       "      <td>97.9</td>\n",
       "      <td>277.23</td>\n",
       "      <td>277.54</td>\n",
       "      <td>4.17</td>\n",
       "      <td>0.0</td>\n",
       "      <td>2</td>\n",
       "      <td>14066001_0_3</td>\n",
       "      <td>1406600103</td>\n",
       "    </tr>\n",
       "    <tr>\n",
       "      <th>4</th>\n",
       "      <td>215.0</td>\n",
       "      <td>98.0</td>\n",
       "      <td>277.30</td>\n",
       "      <td>277.60</td>\n",
       "      <td>4.03</td>\n",
       "      <td>0.0</td>\n",
       "      <td>2</td>\n",
       "      <td>14066001_0_4</td>\n",
       "      <td>1406600104</td>\n",
       "    </tr>\n",
       "  </tbody>\n",
       "</table>\n",
       "</div>"
      ],
      "text/plain": [
       "      dd    hu      td       t    ff  precip  month            Id       IntId\n",
       "0  224.0  96.1  277.17  277.75  3.46     0.0      2  14066001_0_0  1406600100\n",
       "1  216.0  96.7  277.47  277.93  3.65     0.0      2  14066001_0_1  1406600101\n",
       "2  222.0  97.1  277.03  277.42  3.63     0.0      2  14066001_0_2  1406600102\n",
       "3  220.0  97.9  277.23  277.54  4.17     0.0      2  14066001_0_3  1406600103\n",
       "4  215.0  98.0  277.30  277.60  4.03     0.0      2  14066001_0_4  1406600104"
      ]
     },
     "metadata": {},
     "output_type": "display_data"
    },
    {
     "name": "stdout",
     "output_type": "stream",
     "text": [
      "Missing Data : 3914287 \n",
      " Shape is : (2304802, 9)\n"
     ]
    }
   ],
   "source": [
    "xtestS = xtestS.sort_values('IntId', ignore_index=True)\n",
    "display(xtestS.head())\n",
    "print('Missing Data :', xtestS.isna().sum().sum(), '\\n', 'Shape is :', xtestS.shape)"
   ]
  },
  {
   "cell_type": "markdown",
   "metadata": {},
   "source": [
    "**Fill NaNs**"
   ]
  },
  {
   "cell_type": "code",
   "execution_count": 62,
   "metadata": {},
   "outputs": [
    {
     "data": {
      "text/html": [
       "<div>\n",
       "<style scoped>\n",
       "    .dataframe tbody tr th:only-of-type {\n",
       "        vertical-align: middle;\n",
       "    }\n",
       "\n",
       "    .dataframe tbody tr th {\n",
       "        vertical-align: top;\n",
       "    }\n",
       "\n",
       "    .dataframe thead th {\n",
       "        text-align: right;\n",
       "    }\n",
       "</style>\n",
       "<table border=\"1\" class=\"dataframe\">\n",
       "  <thead>\n",
       "    <tr style=\"text-align: right;\">\n",
       "      <th></th>\n",
       "      <th>dd</th>\n",
       "      <th>hu</th>\n",
       "      <th>td</th>\n",
       "      <th>t</th>\n",
       "      <th>ff</th>\n",
       "      <th>precip</th>\n",
       "      <th>month</th>\n",
       "      <th>Id</th>\n",
       "      <th>IntId</th>\n",
       "    </tr>\n",
       "  </thead>\n",
       "  <tbody>\n",
       "    <tr>\n",
       "      <th>0</th>\n",
       "      <td>224.0</td>\n",
       "      <td>96.1</td>\n",
       "      <td>277.17</td>\n",
       "      <td>277.75</td>\n",
       "      <td>3.46</td>\n",
       "      <td>0.0</td>\n",
       "      <td>2</td>\n",
       "      <td>14066001_0_0</td>\n",
       "      <td>1406600100</td>\n",
       "    </tr>\n",
       "    <tr>\n",
       "      <th>1</th>\n",
       "      <td>216.0</td>\n",
       "      <td>96.7</td>\n",
       "      <td>277.47</td>\n",
       "      <td>277.93</td>\n",
       "      <td>3.65</td>\n",
       "      <td>0.0</td>\n",
       "      <td>2</td>\n",
       "      <td>14066001_0_1</td>\n",
       "      <td>1406600101</td>\n",
       "    </tr>\n",
       "    <tr>\n",
       "      <th>2</th>\n",
       "      <td>222.0</td>\n",
       "      <td>97.1</td>\n",
       "      <td>277.03</td>\n",
       "      <td>277.42</td>\n",
       "      <td>3.63</td>\n",
       "      <td>0.0</td>\n",
       "      <td>2</td>\n",
       "      <td>14066001_0_2</td>\n",
       "      <td>1406600102</td>\n",
       "    </tr>\n",
       "    <tr>\n",
       "      <th>3</th>\n",
       "      <td>220.0</td>\n",
       "      <td>97.9</td>\n",
       "      <td>277.23</td>\n",
       "      <td>277.54</td>\n",
       "      <td>4.17</td>\n",
       "      <td>0.0</td>\n",
       "      <td>2</td>\n",
       "      <td>14066001_0_3</td>\n",
       "      <td>1406600103</td>\n",
       "    </tr>\n",
       "    <tr>\n",
       "      <th>4</th>\n",
       "      <td>215.0</td>\n",
       "      <td>98.0</td>\n",
       "      <td>277.30</td>\n",
       "      <td>277.60</td>\n",
       "      <td>4.03</td>\n",
       "      <td>0.0</td>\n",
       "      <td>2</td>\n",
       "      <td>14066001_0_4</td>\n",
       "      <td>1406600104</td>\n",
       "    </tr>\n",
       "  </tbody>\n",
       "</table>\n",
       "</div>"
      ],
      "text/plain": [
       "      dd    hu      td       t    ff  precip  month            Id       IntId\n",
       "0  224.0  96.1  277.17  277.75  3.46     0.0      2  14066001_0_0  1406600100\n",
       "1  216.0  96.7  277.47  277.93  3.65     0.0      2  14066001_0_1  1406600101\n",
       "2  222.0  97.1  277.03  277.42  3.63     0.0      2  14066001_0_2  1406600102\n",
       "3  220.0  97.9  277.23  277.54  4.17     0.0      2  14066001_0_3  1406600103\n",
       "4  215.0  98.0  277.30  277.60  4.03     0.0      2  14066001_0_4  1406600104"
      ]
     },
     "metadata": {},
     "output_type": "display_data"
    },
    {
     "name": "stdout",
     "output_type": "stream",
     "text": [
      "Missing Data : 0 \n",
      " Shape is : (2304802, 9)\n"
     ]
    }
   ],
   "source": [
    "xtestS = xtestS.fillna(method=\"backfill\")\n",
    "display(xtestS.head())\n",
    "print('Missing Data :', xtestS.isna().sum().sum(), '\\n', 'Shape is :', xtestS.shape)"
   ]
  },
  {
   "cell_type": "markdown",
   "metadata": {},
   "source": [
    "**Create 'StationDay' column**"
   ]
  },
  {
   "cell_type": "code",
   "execution_count": 63,
   "metadata": {},
   "outputs": [
    {
     "data": {
      "text/html": [
       "<div>\n",
       "<style scoped>\n",
       "    .dataframe tbody tr th:only-of-type {\n",
       "        vertical-align: middle;\n",
       "    }\n",
       "\n",
       "    .dataframe tbody tr th {\n",
       "        vertical-align: top;\n",
       "    }\n",
       "\n",
       "    .dataframe thead th {\n",
       "        text-align: right;\n",
       "    }\n",
       "</style>\n",
       "<table border=\"1\" class=\"dataframe\">\n",
       "  <thead>\n",
       "    <tr style=\"text-align: right;\">\n",
       "      <th></th>\n",
       "      <th>dd</th>\n",
       "      <th>hu</th>\n",
       "      <th>td</th>\n",
       "      <th>t</th>\n",
       "      <th>ff</th>\n",
       "      <th>precip</th>\n",
       "      <th>month</th>\n",
       "      <th>Id</th>\n",
       "      <th>IntId</th>\n",
       "      <th>StationDay</th>\n",
       "    </tr>\n",
       "  </thead>\n",
       "  <tbody>\n",
       "    <tr>\n",
       "      <th>0</th>\n",
       "      <td>224.0</td>\n",
       "      <td>96.1</td>\n",
       "      <td>277.17</td>\n",
       "      <td>277.75</td>\n",
       "      <td>3.46</td>\n",
       "      <td>0.0</td>\n",
       "      <td>2</td>\n",
       "      <td>14066001_0_0</td>\n",
       "      <td>1406600100</td>\n",
       "      <td>14066001_0</td>\n",
       "    </tr>\n",
       "    <tr>\n",
       "      <th>1</th>\n",
       "      <td>216.0</td>\n",
       "      <td>96.7</td>\n",
       "      <td>277.47</td>\n",
       "      <td>277.93</td>\n",
       "      <td>3.65</td>\n",
       "      <td>0.0</td>\n",
       "      <td>2</td>\n",
       "      <td>14066001_0_1</td>\n",
       "      <td>1406600101</td>\n",
       "      <td>14066001_0</td>\n",
       "    </tr>\n",
       "    <tr>\n",
       "      <th>2</th>\n",
       "      <td>222.0</td>\n",
       "      <td>97.1</td>\n",
       "      <td>277.03</td>\n",
       "      <td>277.42</td>\n",
       "      <td>3.63</td>\n",
       "      <td>0.0</td>\n",
       "      <td>2</td>\n",
       "      <td>14066001_0_2</td>\n",
       "      <td>1406600102</td>\n",
       "      <td>14066001_0</td>\n",
       "    </tr>\n",
       "    <tr>\n",
       "      <th>3</th>\n",
       "      <td>220.0</td>\n",
       "      <td>97.9</td>\n",
       "      <td>277.23</td>\n",
       "      <td>277.54</td>\n",
       "      <td>4.17</td>\n",
       "      <td>0.0</td>\n",
       "      <td>2</td>\n",
       "      <td>14066001_0_3</td>\n",
       "      <td>1406600103</td>\n",
       "      <td>14066001_0</td>\n",
       "    </tr>\n",
       "    <tr>\n",
       "      <th>4</th>\n",
       "      <td>215.0</td>\n",
       "      <td>98.0</td>\n",
       "      <td>277.30</td>\n",
       "      <td>277.60</td>\n",
       "      <td>4.03</td>\n",
       "      <td>0.0</td>\n",
       "      <td>2</td>\n",
       "      <td>14066001_0_4</td>\n",
       "      <td>1406600104</td>\n",
       "      <td>14066001_0</td>\n",
       "    </tr>\n",
       "  </tbody>\n",
       "</table>\n",
       "</div>"
      ],
      "text/plain": [
       "      dd    hu      td       t    ff  precip  month            Id       IntId  \\\n",
       "0  224.0  96.1  277.17  277.75  3.46     0.0      2  14066001_0_0  1406600100   \n",
       "1  216.0  96.7  277.47  277.93  3.65     0.0      2  14066001_0_1  1406600101   \n",
       "2  222.0  97.1  277.03  277.42  3.63     0.0      2  14066001_0_2  1406600102   \n",
       "3  220.0  97.9  277.23  277.54  4.17     0.0      2  14066001_0_3  1406600103   \n",
       "4  215.0  98.0  277.30  277.60  4.03     0.0      2  14066001_0_4  1406600104   \n",
       "\n",
       "   StationDay  \n",
       "0  14066001_0  \n",
       "1  14066001_0  \n",
       "2  14066001_0  \n",
       "3  14066001_0  \n",
       "4  14066001_0  "
      ]
     },
     "metadata": {},
     "output_type": "display_data"
    },
    {
     "name": "stdout",
     "output_type": "stream",
     "text": [
      "Missing Data : 0 \n",
      " Shape is : (2304802, 10)\n"
     ]
    }
   ],
   "source": [
    "xtestS = xtestS.assign(StationDay=pd.Series(np.zeros(xtestS.shape[0])).values)\n",
    "xtestS.loc[:,\"StationDay\"] = xtestS.loc[:,\"Id\"].apply(Get_StationDay)\n",
    "display(xtestS.head())\n",
    "print('Missing Data :', xtestS.isna().sum().sum(), '\\n', 'Shape is :', xtestS.shape)"
   ]
  },
  {
   "cell_type": "markdown",
   "metadata": {},
   "source": [
    "**Drop useless variables**"
   ]
  },
  {
   "cell_type": "code",
   "execution_count": 64,
   "metadata": {},
   "outputs": [
    {
     "data": {
      "text/html": [
       "<div>\n",
       "<style scoped>\n",
       "    .dataframe tbody tr th:only-of-type {\n",
       "        vertical-align: middle;\n",
       "    }\n",
       "\n",
       "    .dataframe tbody tr th {\n",
       "        vertical-align: top;\n",
       "    }\n",
       "\n",
       "    .dataframe thead th {\n",
       "        text-align: right;\n",
       "    }\n",
       "</style>\n",
       "<table border=\"1\" class=\"dataframe\">\n",
       "  <thead>\n",
       "    <tr style=\"text-align: right;\">\n",
       "      <th></th>\n",
       "      <th>dd</th>\n",
       "      <th>hu</th>\n",
       "      <th>td</th>\n",
       "      <th>t</th>\n",
       "      <th>ff</th>\n",
       "      <th>precip</th>\n",
       "      <th>StationDay</th>\n",
       "    </tr>\n",
       "  </thead>\n",
       "  <tbody>\n",
       "    <tr>\n",
       "      <th>0</th>\n",
       "      <td>224.0</td>\n",
       "      <td>96.1</td>\n",
       "      <td>277.17</td>\n",
       "      <td>277.75</td>\n",
       "      <td>3.46</td>\n",
       "      <td>0.0</td>\n",
       "      <td>14066001_0</td>\n",
       "    </tr>\n",
       "    <tr>\n",
       "      <th>1</th>\n",
       "      <td>216.0</td>\n",
       "      <td>96.7</td>\n",
       "      <td>277.47</td>\n",
       "      <td>277.93</td>\n",
       "      <td>3.65</td>\n",
       "      <td>0.0</td>\n",
       "      <td>14066001_0</td>\n",
       "    </tr>\n",
       "    <tr>\n",
       "      <th>2</th>\n",
       "      <td>222.0</td>\n",
       "      <td>97.1</td>\n",
       "      <td>277.03</td>\n",
       "      <td>277.42</td>\n",
       "      <td>3.63</td>\n",
       "      <td>0.0</td>\n",
       "      <td>14066001_0</td>\n",
       "    </tr>\n",
       "    <tr>\n",
       "      <th>3</th>\n",
       "      <td>220.0</td>\n",
       "      <td>97.9</td>\n",
       "      <td>277.23</td>\n",
       "      <td>277.54</td>\n",
       "      <td>4.17</td>\n",
       "      <td>0.0</td>\n",
       "      <td>14066001_0</td>\n",
       "    </tr>\n",
       "    <tr>\n",
       "      <th>4</th>\n",
       "      <td>215.0</td>\n",
       "      <td>98.0</td>\n",
       "      <td>277.30</td>\n",
       "      <td>277.60</td>\n",
       "      <td>4.03</td>\n",
       "      <td>0.0</td>\n",
       "      <td>14066001_0</td>\n",
       "    </tr>\n",
       "  </tbody>\n",
       "</table>\n",
       "</div>"
      ],
      "text/plain": [
       "      dd    hu      td       t    ff  precip  StationDay\n",
       "0  224.0  96.1  277.17  277.75  3.46     0.0  14066001_0\n",
       "1  216.0  96.7  277.47  277.93  3.65     0.0  14066001_0\n",
       "2  222.0  97.1  277.03  277.42  3.63     0.0  14066001_0\n",
       "3  220.0  97.9  277.23  277.54  4.17     0.0  14066001_0\n",
       "4  215.0  98.0  277.30  277.60  4.03     0.0  14066001_0"
      ]
     },
     "metadata": {},
     "output_type": "display_data"
    },
    {
     "name": "stdout",
     "output_type": "stream",
     "text": [
      "Missing Data : 0 \n",
      " Shape is : (2304802, 7)\n"
     ]
    }
   ],
   "source": [
    "xtestS.drop(['month', 'Id', 'IntId'], axis=1, inplace=True)\n",
    "display(xtestS.head())\n",
    "print('Missing Data :', xtestS.isna().sum().sum(), '\\n', 'Shape is :', xtestS.shape)"
   ]
  },
  {
   "cell_type": "markdown",
   "metadata": {},
   "source": [
    "**Mean on 24 hours (except 'precip')**"
   ]
  },
  {
   "cell_type": "code",
   "execution_count": 65,
   "metadata": {},
   "outputs": [
    {
     "data": {
      "text/html": [
       "<div>\n",
       "<style scoped>\n",
       "    .dataframe tbody tr th:only-of-type {\n",
       "        vertical-align: middle;\n",
       "    }\n",
       "\n",
       "    .dataframe tbody tr th {\n",
       "        vertical-align: top;\n",
       "    }\n",
       "\n",
       "    .dataframe thead th {\n",
       "        text-align: right;\n",
       "    }\n",
       "</style>\n",
       "<table border=\"1\" class=\"dataframe\">\n",
       "  <thead>\n",
       "    <tr style=\"text-align: right;\">\n",
       "      <th></th>\n",
       "      <th>StationDay</th>\n",
       "      <th>dd</th>\n",
       "      <th>hu</th>\n",
       "      <th>td</th>\n",
       "      <th>t</th>\n",
       "      <th>ff</th>\n",
       "      <th>precip</th>\n",
       "    </tr>\n",
       "  </thead>\n",
       "  <tbody>\n",
       "    <tr>\n",
       "      <th>0</th>\n",
       "      <td>14047002_100</td>\n",
       "      <td>183.583333</td>\n",
       "      <td>90.041667</td>\n",
       "      <td>280.165833</td>\n",
       "      <td>282.565000</td>\n",
       "      <td>3.250833</td>\n",
       "      <td>9.9</td>\n",
       "    </tr>\n",
       "    <tr>\n",
       "      <th>1</th>\n",
       "      <td>14047002_223</td>\n",
       "      <td>183.583333</td>\n",
       "      <td>90.041667</td>\n",
       "      <td>280.165833</td>\n",
       "      <td>285.415000</td>\n",
       "      <td>3.250833</td>\n",
       "      <td>0.8</td>\n",
       "    </tr>\n",
       "    <tr>\n",
       "      <th>2</th>\n",
       "      <td>14047002_236</td>\n",
       "      <td>183.583333</td>\n",
       "      <td>90.041667</td>\n",
       "      <td>280.165833</td>\n",
       "      <td>283.064167</td>\n",
       "      <td>3.250833</td>\n",
       "      <td>7.0</td>\n",
       "    </tr>\n",
       "    <tr>\n",
       "      <th>3</th>\n",
       "      <td>14047002_256</td>\n",
       "      <td>183.583333</td>\n",
       "      <td>90.041667</td>\n",
       "      <td>280.165833</td>\n",
       "      <td>283.611250</td>\n",
       "      <td>3.250833</td>\n",
       "      <td>4.0</td>\n",
       "    </tr>\n",
       "    <tr>\n",
       "      <th>4</th>\n",
       "      <td>14047002_277</td>\n",
       "      <td>NaN</td>\n",
       "      <td>NaN</td>\n",
       "      <td>NaN</td>\n",
       "      <td>NaN</td>\n",
       "      <td>NaN</td>\n",
       "      <td>NaN</td>\n",
       "    </tr>\n",
       "  </tbody>\n",
       "</table>\n",
       "</div>"
      ],
      "text/plain": [
       "     StationDay          dd         hu          td           t        ff  \\\n",
       "0  14047002_100  183.583333  90.041667  280.165833  282.565000  3.250833   \n",
       "1  14047002_223  183.583333  90.041667  280.165833  285.415000  3.250833   \n",
       "2  14047002_236  183.583333  90.041667  280.165833  283.064167  3.250833   \n",
       "3  14047002_256  183.583333  90.041667  280.165833  283.611250  3.250833   \n",
       "4  14047002_277         NaN        NaN         NaN         NaN       NaN   \n",
       "\n",
       "   precip  \n",
       "0     9.9  \n",
       "1     0.8  \n",
       "2     7.0  \n",
       "3     4.0  \n",
       "4     NaN  "
      ]
     },
     "metadata": {},
     "output_type": "display_data"
    },
    {
     "name": "stdout",
     "output_type": "stream",
     "text": [
      "Missing Data : 258 \n",
      " Shape is : (96055, 7)\n"
     ]
    }
   ],
   "source": [
    "xtestS = xtestS.groupby(\"StationDay\", as_index=False).agg(pd.Series.sum, min_count = 24)\n",
    "xtestS[['dd', 'hu', 'td', 't', 'ff']] = xtestS[['dd', 'hu', 'td', 't', 'ff']].divide(24)\n",
    "display(xtestS.head())\n",
    "print('Missing Data :', xtestS.isna().sum().sum(), '\\n', 'Shape is :', xtestS.shape)"
   ]
  },
  {
   "cell_type": "markdown",
   "metadata": {},
   "source": [
    "**Remove NaNs**"
   ]
  },
  {
   "cell_type": "code",
   "execution_count": 66,
   "metadata": {},
   "outputs": [
    {
     "data": {
      "text/html": [
       "<div>\n",
       "<style scoped>\n",
       "    .dataframe tbody tr th:only-of-type {\n",
       "        vertical-align: middle;\n",
       "    }\n",
       "\n",
       "    .dataframe tbody tr th {\n",
       "        vertical-align: top;\n",
       "    }\n",
       "\n",
       "    .dataframe thead th {\n",
       "        text-align: right;\n",
       "    }\n",
       "</style>\n",
       "<table border=\"1\" class=\"dataframe\">\n",
       "  <thead>\n",
       "    <tr style=\"text-align: right;\">\n",
       "      <th></th>\n",
       "      <th>StationDay</th>\n",
       "      <th>dd</th>\n",
       "      <th>hu</th>\n",
       "      <th>td</th>\n",
       "      <th>t</th>\n",
       "      <th>ff</th>\n",
       "      <th>precip</th>\n",
       "    </tr>\n",
       "  </thead>\n",
       "  <tbody>\n",
       "    <tr>\n",
       "      <th>0</th>\n",
       "      <td>14047002_100</td>\n",
       "      <td>183.583333</td>\n",
       "      <td>90.041667</td>\n",
       "      <td>280.165833</td>\n",
       "      <td>282.565000</td>\n",
       "      <td>3.250833</td>\n",
       "      <td>9.9</td>\n",
       "    </tr>\n",
       "    <tr>\n",
       "      <th>1</th>\n",
       "      <td>14047002_223</td>\n",
       "      <td>183.583333</td>\n",
       "      <td>90.041667</td>\n",
       "      <td>280.165833</td>\n",
       "      <td>285.415000</td>\n",
       "      <td>3.250833</td>\n",
       "      <td>0.8</td>\n",
       "    </tr>\n",
       "    <tr>\n",
       "      <th>2</th>\n",
       "      <td>14047002_236</td>\n",
       "      <td>183.583333</td>\n",
       "      <td>90.041667</td>\n",
       "      <td>280.165833</td>\n",
       "      <td>283.064167</td>\n",
       "      <td>3.250833</td>\n",
       "      <td>7.0</td>\n",
       "    </tr>\n",
       "    <tr>\n",
       "      <th>3</th>\n",
       "      <td>14047002_256</td>\n",
       "      <td>183.583333</td>\n",
       "      <td>90.041667</td>\n",
       "      <td>280.165833</td>\n",
       "      <td>283.611250</td>\n",
       "      <td>3.250833</td>\n",
       "      <td>4.0</td>\n",
       "    </tr>\n",
       "    <tr>\n",
       "      <th>5</th>\n",
       "      <td>14047002_281</td>\n",
       "      <td>183.583333</td>\n",
       "      <td>90.041667</td>\n",
       "      <td>280.165833</td>\n",
       "      <td>282.633750</td>\n",
       "      <td>3.250833</td>\n",
       "      <td>0.0</td>\n",
       "    </tr>\n",
       "  </tbody>\n",
       "</table>\n",
       "</div>"
      ],
      "text/plain": [
       "     StationDay          dd         hu          td           t        ff  \\\n",
       "0  14047002_100  183.583333  90.041667  280.165833  282.565000  3.250833   \n",
       "1  14047002_223  183.583333  90.041667  280.165833  285.415000  3.250833   \n",
       "2  14047002_236  183.583333  90.041667  280.165833  283.064167  3.250833   \n",
       "3  14047002_256  183.583333  90.041667  280.165833  283.611250  3.250833   \n",
       "5  14047002_281  183.583333  90.041667  280.165833  282.633750  3.250833   \n",
       "\n",
       "   precip  \n",
       "0     9.9  \n",
       "1     0.8  \n",
       "2     7.0  \n",
       "3     4.0  \n",
       "5     0.0  "
      ]
     },
     "metadata": {},
     "output_type": "display_data"
    },
    {
     "name": "stdout",
     "output_type": "stream",
     "text": [
      "Missing Data : 0 \n",
      " Shape is : (96012, 7)\n"
     ]
    }
   ],
   "source": [
    "xtestS.dropna(inplace=True)\n",
    "display(xtestS.head())\n",
    "print('Missing Data :', xtestS.isna().sum().sum(), '\\n', 'Shape is :', xtestS.shape)"
   ]
  },
  {
   "cell_type": "markdown",
   "metadata": {},
   "source": [
    "**Keep the same rows in X_test and Y_test**"
   ]
  },
  {
   "cell_type": "code",
   "execution_count": 67,
   "metadata": {},
   "outputs": [
    {
     "data": {
      "text/html": [
       "<div>\n",
       "<style scoped>\n",
       "    .dataframe tbody tr th:only-of-type {\n",
       "        vertical-align: middle;\n",
       "    }\n",
       "\n",
       "    .dataframe tbody tr th {\n",
       "        vertical-align: top;\n",
       "    }\n",
       "\n",
       "    .dataframe thead th {\n",
       "        text-align: right;\n",
       "    }\n",
       "</style>\n",
       "<table border=\"1\" class=\"dataframe\">\n",
       "  <thead>\n",
       "    <tr style=\"text-align: right;\">\n",
       "      <th></th>\n",
       "      <th>StationDay</th>\n",
       "      <th>dd</th>\n",
       "      <th>hu</th>\n",
       "      <th>td</th>\n",
       "      <th>t</th>\n",
       "      <th>ff</th>\n",
       "      <th>precip</th>\n",
       "    </tr>\n",
       "  </thead>\n",
       "  <tbody>\n",
       "    <tr>\n",
       "      <th>0</th>\n",
       "      <td>14047002_100</td>\n",
       "      <td>183.583333</td>\n",
       "      <td>90.041667</td>\n",
       "      <td>280.165833</td>\n",
       "      <td>282.565000</td>\n",
       "      <td>3.250833</td>\n",
       "      <td>9.9</td>\n",
       "    </tr>\n",
       "    <tr>\n",
       "      <th>1</th>\n",
       "      <td>14047002_223</td>\n",
       "      <td>183.583333</td>\n",
       "      <td>90.041667</td>\n",
       "      <td>280.165833</td>\n",
       "      <td>285.415000</td>\n",
       "      <td>3.250833</td>\n",
       "      <td>0.8</td>\n",
       "    </tr>\n",
       "    <tr>\n",
       "      <th>2</th>\n",
       "      <td>14047002_236</td>\n",
       "      <td>183.583333</td>\n",
       "      <td>90.041667</td>\n",
       "      <td>280.165833</td>\n",
       "      <td>283.064167</td>\n",
       "      <td>3.250833</td>\n",
       "      <td>7.0</td>\n",
       "    </tr>\n",
       "    <tr>\n",
       "      <th>3</th>\n",
       "      <td>14047002_256</td>\n",
       "      <td>183.583333</td>\n",
       "      <td>90.041667</td>\n",
       "      <td>280.165833</td>\n",
       "      <td>283.611250</td>\n",
       "      <td>3.250833</td>\n",
       "      <td>4.0</td>\n",
       "    </tr>\n",
       "    <tr>\n",
       "      <th>5</th>\n",
       "      <td>14047002_281</td>\n",
       "      <td>183.583333</td>\n",
       "      <td>90.041667</td>\n",
       "      <td>280.165833</td>\n",
       "      <td>282.633750</td>\n",
       "      <td>3.250833</td>\n",
       "      <td>0.0</td>\n",
       "    </tr>\n",
       "  </tbody>\n",
       "</table>\n",
       "</div>"
      ],
      "text/plain": [
       "     StationDay          dd         hu          td           t        ff  \\\n",
       "0  14047002_100  183.583333  90.041667  280.165833  282.565000  3.250833   \n",
       "1  14047002_223  183.583333  90.041667  280.165833  285.415000  3.250833   \n",
       "2  14047002_236  183.583333  90.041667  280.165833  283.064167  3.250833   \n",
       "3  14047002_256  183.583333  90.041667  280.165833  283.611250  3.250833   \n",
       "5  14047002_281  183.583333  90.041667  280.165833  282.633750  3.250833   \n",
       "\n",
       "   precip  \n",
       "0     9.9  \n",
       "1     0.8  \n",
       "2     7.0  \n",
       "3     4.0  \n",
       "5     0.0  "
      ]
     },
     "metadata": {},
     "output_type": "display_data"
    },
    {
     "name": "stdout",
     "output_type": "stream",
     "text": [
      "Missing Data : 0 \n",
      " Shape is : (85140, 7)\n"
     ]
    }
   ],
   "source": [
    "xtestS = xtestS.loc[xtestS['StationDay'].isin(bl_obsT[\"Id\"])]\n",
    "display(xtestS.head())\n",
    "print('Missing Data :', xtestS.isna().sum().sum(), '\\n', 'Shape is :', xtestS.shape)"
   ]
  },
  {
   "cell_type": "markdown",
   "metadata": {},
   "source": [
    "**Reset index**"
   ]
  },
  {
   "cell_type": "code",
   "execution_count": 68,
   "metadata": {},
   "outputs": [
    {
     "data": {
      "text/html": [
       "<div>\n",
       "<style scoped>\n",
       "    .dataframe tbody tr th:only-of-type {\n",
       "        vertical-align: middle;\n",
       "    }\n",
       "\n",
       "    .dataframe tbody tr th {\n",
       "        vertical-align: top;\n",
       "    }\n",
       "\n",
       "    .dataframe thead th {\n",
       "        text-align: right;\n",
       "    }\n",
       "</style>\n",
       "<table border=\"1\" class=\"dataframe\">\n",
       "  <thead>\n",
       "    <tr style=\"text-align: right;\">\n",
       "      <th></th>\n",
       "      <th>StationDay</th>\n",
       "      <th>dd</th>\n",
       "      <th>hu</th>\n",
       "      <th>td</th>\n",
       "      <th>t</th>\n",
       "      <th>ff</th>\n",
       "      <th>precip</th>\n",
       "    </tr>\n",
       "  </thead>\n",
       "  <tbody>\n",
       "    <tr>\n",
       "      <th>0</th>\n",
       "      <td>14047002_100</td>\n",
       "      <td>183.583333</td>\n",
       "      <td>90.041667</td>\n",
       "      <td>280.165833</td>\n",
       "      <td>282.565000</td>\n",
       "      <td>3.250833</td>\n",
       "      <td>9.9</td>\n",
       "    </tr>\n",
       "    <tr>\n",
       "      <th>1</th>\n",
       "      <td>14047002_223</td>\n",
       "      <td>183.583333</td>\n",
       "      <td>90.041667</td>\n",
       "      <td>280.165833</td>\n",
       "      <td>285.415000</td>\n",
       "      <td>3.250833</td>\n",
       "      <td>0.8</td>\n",
       "    </tr>\n",
       "    <tr>\n",
       "      <th>2</th>\n",
       "      <td>14047002_236</td>\n",
       "      <td>183.583333</td>\n",
       "      <td>90.041667</td>\n",
       "      <td>280.165833</td>\n",
       "      <td>283.064167</td>\n",
       "      <td>3.250833</td>\n",
       "      <td>7.0</td>\n",
       "    </tr>\n",
       "    <tr>\n",
       "      <th>3</th>\n",
       "      <td>14047002_256</td>\n",
       "      <td>183.583333</td>\n",
       "      <td>90.041667</td>\n",
       "      <td>280.165833</td>\n",
       "      <td>283.611250</td>\n",
       "      <td>3.250833</td>\n",
       "      <td>4.0</td>\n",
       "    </tr>\n",
       "    <tr>\n",
       "      <th>4</th>\n",
       "      <td>14047002_281</td>\n",
       "      <td>183.583333</td>\n",
       "      <td>90.041667</td>\n",
       "      <td>280.165833</td>\n",
       "      <td>282.633750</td>\n",
       "      <td>3.250833</td>\n",
       "      <td>0.0</td>\n",
       "    </tr>\n",
       "  </tbody>\n",
       "</table>\n",
       "</div>"
      ],
      "text/plain": [
       "     StationDay          dd         hu          td           t        ff  \\\n",
       "0  14047002_100  183.583333  90.041667  280.165833  282.565000  3.250833   \n",
       "1  14047002_223  183.583333  90.041667  280.165833  285.415000  3.250833   \n",
       "2  14047002_236  183.583333  90.041667  280.165833  283.064167  3.250833   \n",
       "3  14047002_256  183.583333  90.041667  280.165833  283.611250  3.250833   \n",
       "4  14047002_281  183.583333  90.041667  280.165833  282.633750  3.250833   \n",
       "\n",
       "   precip  \n",
       "0     9.9  \n",
       "1     0.8  \n",
       "2     7.0  \n",
       "3     4.0  \n",
       "4     0.0  "
      ]
     },
     "metadata": {},
     "output_type": "display_data"
    },
    {
     "name": "stdout",
     "output_type": "stream",
     "text": [
      "Missing Data : 0 \n",
      " Shape is : (85140, 7)\n"
     ]
    }
   ],
   "source": [
    "xtestS.reset_index(drop=True,inplace=True)\n",
    "display(xtestS.head())\n",
    "print('Missing Data :', xtestS.isna().sum().sum(), '\\n', 'Shape is :', xtestS.shape)"
   ]
  },
  {
   "cell_type": "markdown",
   "metadata": {},
   "source": [
    "**Sort X_test**"
   ]
  },
  {
   "cell_type": "code",
   "execution_count": 69,
   "metadata": {},
   "outputs": [
    {
     "data": {
      "text/html": [
       "<div>\n",
       "<style scoped>\n",
       "    .dataframe tbody tr th:only-of-type {\n",
       "        vertical-align: middle;\n",
       "    }\n",
       "\n",
       "    .dataframe tbody tr th {\n",
       "        vertical-align: top;\n",
       "    }\n",
       "\n",
       "    .dataframe thead th {\n",
       "        text-align: right;\n",
       "    }\n",
       "</style>\n",
       "<table border=\"1\" class=\"dataframe\">\n",
       "  <thead>\n",
       "    <tr style=\"text-align: right;\">\n",
       "      <th></th>\n",
       "      <th>Id</th>\n",
       "      <th>dd</th>\n",
       "      <th>hu</th>\n",
       "      <th>td</th>\n",
       "      <th>t</th>\n",
       "      <th>ff</th>\n",
       "      <th>precip</th>\n",
       "    </tr>\n",
       "  </thead>\n",
       "  <tbody>\n",
       "    <tr>\n",
       "      <th>0</th>\n",
       "      <td>14066001_149</td>\n",
       "      <td>224.625000</td>\n",
       "      <td>81.720833</td>\n",
       "      <td>279.107917</td>\n",
       "      <td>282.099583</td>\n",
       "      <td>5.237917</td>\n",
       "      <td>1.4</td>\n",
       "    </tr>\n",
       "    <tr>\n",
       "      <th>1</th>\n",
       "      <td>14126001_149</td>\n",
       "      <td>163.166667</td>\n",
       "      <td>92.291667</td>\n",
       "      <td>279.718750</td>\n",
       "      <td>280.895833</td>\n",
       "      <td>4.103333</td>\n",
       "      <td>1.0</td>\n",
       "    </tr>\n",
       "    <tr>\n",
       "      <th>2</th>\n",
       "      <td>14137001_149</td>\n",
       "      <td>218.458333</td>\n",
       "      <td>83.266667</td>\n",
       "      <td>278.469583</td>\n",
       "      <td>281.167917</td>\n",
       "      <td>5.547083</td>\n",
       "      <td>0.4</td>\n",
       "    </tr>\n",
       "    <tr>\n",
       "      <th>3</th>\n",
       "      <td>14216001_149</td>\n",
       "      <td>207.375000</td>\n",
       "      <td>83.345833</td>\n",
       "      <td>278.105417</td>\n",
       "      <td>280.804583</td>\n",
       "      <td>2.667083</td>\n",
       "      <td>0.8</td>\n",
       "    </tr>\n",
       "    <tr>\n",
       "      <th>4</th>\n",
       "      <td>14296001_149</td>\n",
       "      <td>191.250000</td>\n",
       "      <td>63.250000</td>\n",
       "      <td>272.062500</td>\n",
       "      <td>279.570417</td>\n",
       "      <td>3.254167</td>\n",
       "      <td>3.6</td>\n",
       "    </tr>\n",
       "  </tbody>\n",
       "</table>\n",
       "</div>"
      ],
      "text/plain": [
       "             Id          dd         hu          td           t        ff  \\\n",
       "0  14066001_149  224.625000  81.720833  279.107917  282.099583  5.237917   \n",
       "1  14126001_149  163.166667  92.291667  279.718750  280.895833  4.103333   \n",
       "2  14137001_149  218.458333  83.266667  278.469583  281.167917  5.547083   \n",
       "3  14216001_149  207.375000  83.345833  278.105417  280.804583  2.667083   \n",
       "4  14296001_149  191.250000  63.250000  272.062500  279.570417  3.254167   \n",
       "\n",
       "   precip  \n",
       "0     1.4  \n",
       "1     1.0  \n",
       "2     0.4  \n",
       "3     0.8  \n",
       "4     3.6  "
      ]
     },
     "metadata": {},
     "output_type": "display_data"
    },
    {
     "name": "stdout",
     "output_type": "stream",
     "text": [
      "Missing Data : 0 \n",
      " Shape is : (85140, 7)\n"
     ]
    }
   ],
   "source": [
    "xtestS = xtestS.set_index('StationDay')\n",
    "xtestS = xtestS.reindex(index=bl_obsT['Id'])\n",
    "xtestS = xtestS.reset_index()\n",
    "display(xtestS.head())\n",
    "print('Missing Data :', xtestS.isna().sum().sum(), '\\n', 'Shape is :', xtestS.shape)"
   ]
  },
  {
   "cell_type": "markdown",
   "metadata": {},
   "source": [
    "**Drop useless variables**"
   ]
  },
  {
   "cell_type": "code",
   "execution_count": 70,
   "metadata": {},
   "outputs": [
    {
     "data": {
      "text/html": [
       "<div>\n",
       "<style scoped>\n",
       "    .dataframe tbody tr th:only-of-type {\n",
       "        vertical-align: middle;\n",
       "    }\n",
       "\n",
       "    .dataframe tbody tr th {\n",
       "        vertical-align: top;\n",
       "    }\n",
       "\n",
       "    .dataframe thead th {\n",
       "        text-align: right;\n",
       "    }\n",
       "</style>\n",
       "<table border=\"1\" class=\"dataframe\">\n",
       "  <thead>\n",
       "    <tr style=\"text-align: right;\">\n",
       "      <th></th>\n",
       "      <th>dd</th>\n",
       "      <th>hu</th>\n",
       "      <th>td</th>\n",
       "      <th>t</th>\n",
       "      <th>ff</th>\n",
       "      <th>precip</th>\n",
       "    </tr>\n",
       "  </thead>\n",
       "  <tbody>\n",
       "    <tr>\n",
       "      <th>0</th>\n",
       "      <td>224.625000</td>\n",
       "      <td>81.720833</td>\n",
       "      <td>279.107917</td>\n",
       "      <td>282.099583</td>\n",
       "      <td>5.237917</td>\n",
       "      <td>1.4</td>\n",
       "    </tr>\n",
       "    <tr>\n",
       "      <th>1</th>\n",
       "      <td>163.166667</td>\n",
       "      <td>92.291667</td>\n",
       "      <td>279.718750</td>\n",
       "      <td>280.895833</td>\n",
       "      <td>4.103333</td>\n",
       "      <td>1.0</td>\n",
       "    </tr>\n",
       "    <tr>\n",
       "      <th>2</th>\n",
       "      <td>218.458333</td>\n",
       "      <td>83.266667</td>\n",
       "      <td>278.469583</td>\n",
       "      <td>281.167917</td>\n",
       "      <td>5.547083</td>\n",
       "      <td>0.4</td>\n",
       "    </tr>\n",
       "    <tr>\n",
       "      <th>3</th>\n",
       "      <td>207.375000</td>\n",
       "      <td>83.345833</td>\n",
       "      <td>278.105417</td>\n",
       "      <td>280.804583</td>\n",
       "      <td>2.667083</td>\n",
       "      <td>0.8</td>\n",
       "    </tr>\n",
       "    <tr>\n",
       "      <th>4</th>\n",
       "      <td>191.250000</td>\n",
       "      <td>63.250000</td>\n",
       "      <td>272.062500</td>\n",
       "      <td>279.570417</td>\n",
       "      <td>3.254167</td>\n",
       "      <td>3.6</td>\n",
       "    </tr>\n",
       "  </tbody>\n",
       "</table>\n",
       "</div>"
      ],
      "text/plain": [
       "           dd         hu          td           t        ff  precip\n",
       "0  224.625000  81.720833  279.107917  282.099583  5.237917     1.4\n",
       "1  163.166667  92.291667  279.718750  280.895833  4.103333     1.0\n",
       "2  218.458333  83.266667  278.469583  281.167917  5.547083     0.4\n",
       "3  207.375000  83.345833  278.105417  280.804583  2.667083     0.8\n",
       "4  191.250000  63.250000  272.062500  279.570417  3.254167     3.6"
      ]
     },
     "metadata": {},
     "output_type": "display_data"
    },
    {
     "name": "stdout",
     "output_type": "stream",
     "text": [
      "Missing Data : 0 \n",
      " Shape is : (85140, 6)\n"
     ]
    }
   ],
   "source": [
    "xtestS.drop(['Id'], axis=1, inplace=True)\n",
    "display(xtestS.head())\n",
    "print('Missing Data :', xtestS.isna().sum().sum(), '\\n', 'Shape is :', xtestS.shape)"
   ]
  },
  {
   "cell_type": "markdown",
   "metadata": {},
   "source": [
    "**Rearrange columns order**"
   ]
  },
  {
   "cell_type": "code",
   "execution_count": 71,
   "metadata": {},
   "outputs": [
    {
     "data": {
      "text/html": [
       "<div>\n",
       "<style scoped>\n",
       "    .dataframe tbody tr th:only-of-type {\n",
       "        vertical-align: middle;\n",
       "    }\n",
       "\n",
       "    .dataframe tbody tr th {\n",
       "        vertical-align: top;\n",
       "    }\n",
       "\n",
       "    .dataframe thead th {\n",
       "        text-align: right;\n",
       "    }\n",
       "</style>\n",
       "<table border=\"1\" class=\"dataframe\">\n",
       "  <thead>\n",
       "    <tr style=\"text-align: right;\">\n",
       "      <th></th>\n",
       "      <th>ff</th>\n",
       "      <th>t</th>\n",
       "      <th>td</th>\n",
       "      <th>hu</th>\n",
       "      <th>dd</th>\n",
       "      <th>precip</th>\n",
       "    </tr>\n",
       "  </thead>\n",
       "  <tbody>\n",
       "    <tr>\n",
       "      <th>0</th>\n",
       "      <td>5.237917</td>\n",
       "      <td>282.099583</td>\n",
       "      <td>279.107917</td>\n",
       "      <td>81.720833</td>\n",
       "      <td>224.625000</td>\n",
       "      <td>1.4</td>\n",
       "    </tr>\n",
       "    <tr>\n",
       "      <th>1</th>\n",
       "      <td>4.103333</td>\n",
       "      <td>280.895833</td>\n",
       "      <td>279.718750</td>\n",
       "      <td>92.291667</td>\n",
       "      <td>163.166667</td>\n",
       "      <td>1.0</td>\n",
       "    </tr>\n",
       "    <tr>\n",
       "      <th>2</th>\n",
       "      <td>5.547083</td>\n",
       "      <td>281.167917</td>\n",
       "      <td>278.469583</td>\n",
       "      <td>83.266667</td>\n",
       "      <td>218.458333</td>\n",
       "      <td>0.4</td>\n",
       "    </tr>\n",
       "    <tr>\n",
       "      <th>3</th>\n",
       "      <td>2.667083</td>\n",
       "      <td>280.804583</td>\n",
       "      <td>278.105417</td>\n",
       "      <td>83.345833</td>\n",
       "      <td>207.375000</td>\n",
       "      <td>0.8</td>\n",
       "    </tr>\n",
       "    <tr>\n",
       "      <th>4</th>\n",
       "      <td>3.254167</td>\n",
       "      <td>279.570417</td>\n",
       "      <td>272.062500</td>\n",
       "      <td>63.250000</td>\n",
       "      <td>191.250000</td>\n",
       "      <td>3.6</td>\n",
       "    </tr>\n",
       "  </tbody>\n",
       "</table>\n",
       "</div>"
      ],
      "text/plain": [
       "         ff           t          td         hu          dd  precip\n",
       "0  5.237917  282.099583  279.107917  81.720833  224.625000     1.4\n",
       "1  4.103333  280.895833  279.718750  92.291667  163.166667     1.0\n",
       "2  5.547083  281.167917  278.469583  83.266667  218.458333     0.4\n",
       "3  2.667083  280.804583  278.105417  83.345833  207.375000     0.8\n",
       "4  3.254167  279.570417  272.062500  63.250000  191.250000     3.6"
      ]
     },
     "metadata": {},
     "output_type": "display_data"
    },
    {
     "name": "stdout",
     "output_type": "stream",
     "text": [
      "Missing Data : 0 \n",
      " Shape is : (85140, 6)\n"
     ]
    }
   ],
   "source": [
    "xtestS = xtestS[['ff', 't', 'td', 'hu', 'dd', 'precip']]\n",
    "display(xtestS.head())\n",
    "print('Missing Data :', xtestS.isna().sum().sum(), '\\n', 'Shape is :', xtestS.shape)"
   ]
  },
  {
   "cell_type": "markdown",
   "metadata": {},
   "source": [
    "## <font color = 'royalblue'>5 Training</font>"
   ]
  },
  {
   "cell_type": "markdown",
   "metadata": {},
   "source": [
    "### 5.1 Metrics"
   ]
  },
  {
   "cell_type": "code",
   "execution_count": 192,
   "metadata": {},
   "outputs": [],
   "source": [
    "def MAPE(ypred, ytrue):\n",
    "    aux = abs((ytrue-ypred)/ytrue)\n",
    "    return 100*aux.mean(axis=0)"
   ]
  },
  {
   "cell_type": "markdown",
   "metadata": {},
   "source": [
    "### 5.2 Normalization"
   ]
  },
  {
   "cell_type": "code",
   "execution_count": 203,
   "metadata": {},
   "outputs": [],
   "source": [
    "def normalization(x_train, x_test):\n",
    "    #Calcul de la moyenne et de la variance de l'échantillon train\n",
    "    mean = x_train.mean()\n",
    "    std  = x_train.std()\n",
    "    \n",
    "    #Normalisation\n",
    "    x_train = (x_train - mean) / std\n",
    "    x_test  = (x_test  - mean) / std\n",
    "\n",
    "    #Mise en forme\n",
    "    x_train = np.array(x_train)\n",
    "    x_test = np.array(x_test)\n",
    "    return x_train, x_test"
   ]
  },
  {
   "cell_type": "code",
   "execution_count": null,
   "metadata": {},
   "outputs": [],
   "source": [
    "xtrainS_N, xtestS_N = normalization(xtrainS, xtestS)"
   ]
  },
  {
   "cell_type": "markdown",
   "metadata": {},
   "source": [
    "### 5.3 Build model"
   ]
  },
  {
   "cell_type": "code",
   "execution_count": 16,
   "metadata": {},
   "outputs": [],
   "source": [
    "def get_model(shape, n_layers, n_neurons): \n",
    "    #shape : nb de variables explicatives \n",
    "    #n_layers : nb de couches\n",
    "    #n_neurons : neurons/couche\n",
    "   \n",
    "    model = keras.models.Sequential()\n",
    "    model.add(keras.layers.Input(shape))\n",
    "    \n",
    "    for i in range(n_layers): \n",
    "        model.add(keras.layers.Dense(n_neurons, activation='relu'))\n",
    "   \n",
    "    model.add(keras.layers.Dense(1, name='Output'))\n",
    "    model.compile(optimizer = 'adam', \n",
    "                  loss      = 'mse')\n",
    "                  #metrics   = [\"mean_squared_error\"])\n",
    "    return model"
   ]
  },
  {
   "cell_type": "code",
   "execution_count": 299,
   "metadata": {},
   "outputs": [
    {
     "name": "stdout",
     "output_type": "stream",
     "text": [
      "Model: \"sequential_32\"\n",
      "_________________________________________________________________\n",
      "Layer (type)                 Output Shape              Param #   \n",
      "=================================================================\n",
      "dense_532 (Dense)            (None, 32)                224       \n",
      "_________________________________________________________________\n",
      "dense_533 (Dense)            (None, 32)                1056      \n",
      "_________________________________________________________________\n",
      "dense_534 (Dense)            (None, 32)                1056      \n",
      "_________________________________________________________________\n",
      "dense_535 (Dense)            (None, 32)                1056      \n",
      "_________________________________________________________________\n",
      "dense_536 (Dense)            (None, 32)                1056      \n",
      "_________________________________________________________________\n",
      "dense_537 (Dense)            (None, 32)                1056      \n",
      "_________________________________________________________________\n",
      "dense_538 (Dense)            (None, 32)                1056      \n",
      "_________________________________________________________________\n",
      "dense_539 (Dense)            (None, 32)                1056      \n",
      "_________________________________________________________________\n",
      "dense_540 (Dense)            (None, 32)                1056      \n",
      "_________________________________________________________________\n",
      "dense_541 (Dense)            (None, 32)                1056      \n",
      "_________________________________________________________________\n",
      "dense_542 (Dense)            (None, 32)                1056      \n",
      "_________________________________________________________________\n",
      "dense_543 (Dense)            (None, 32)                1056      \n",
      "_________________________________________________________________\n",
      "dense_544 (Dense)            (None, 32)                1056      \n",
      "_________________________________________________________________\n",
      "dense_545 (Dense)            (None, 32)                1056      \n",
      "_________________________________________________________________\n",
      "dense_546 (Dense)            (None, 32)                1056      \n",
      "_________________________________________________________________\n",
      "dense_547 (Dense)            (None, 32)                1056      \n",
      "_________________________________________________________________\n",
      "dense_548 (Dense)            (None, 32)                1056      \n",
      "_________________________________________________________________\n",
      "dense_549 (Dense)            (None, 32)                1056      \n",
      "_________________________________________________________________\n",
      "dense_550 (Dense)            (None, 32)                1056      \n",
      "_________________________________________________________________\n",
      "dense_551 (Dense)            (None, 32)                1056      \n",
      "_________________________________________________________________\n",
      "Output (Dense)               (None, 1)                 33        \n",
      "=================================================================\n",
      "Total params: 20,321\n",
      "Trainable params: 20,321\n",
      "Non-trainable params: 0\n",
      "_________________________________________________________________\n"
     ]
    }
   ],
   "source": [
    "#Paramètres du réseau\n",
    "nb_variables = np.shape(xtrainS_N)[1]\n",
    "n_layers = 20\n",
    "n_neurons = 32\n",
    "\n",
    "#Build the network\n",
    "NN = get_model(nb_variables, n_layers, n_neurons)\n",
    "\n",
    "#Print the network\n",
    "NN.summary()"
   ]
  },
  {
   "cell_type": "markdown",
   "metadata": {},
   "source": [
    "### 5.4 Train model"
   ]
  },
  {
   "cell_type": "code",
   "execution_count": 300,
   "metadata": {},
   "outputs": [
    {
     "name": "stdout",
     "output_type": "stream",
     "text": [
      "Epoch 1/10\n",
      "822/822 [==============================] - 5s 5ms/step - loss: 16.7718\n",
      "Epoch 2/10\n",
      "822/822 [==============================] - 2s 3ms/step - loss: 15.6366\n",
      "Epoch 3/10\n",
      "822/822 [==============================] - 2s 3ms/step - loss: 15.4459\n",
      "Epoch 4/10\n",
      "822/822 [==============================] - 2s 3ms/step - loss: 15.7027\n",
      "Epoch 5/10\n",
      "822/822 [==============================] - 3s 3ms/step - loss: 15.5181\n",
      "Epoch 6/10\n",
      "822/822 [==============================] - 3s 4ms/step - loss: 15.1178\n",
      "Epoch 7/10\n",
      "822/822 [==============================] - 3s 4ms/step - loss: 15.6397\n",
      "Epoch 8/10\n",
      "822/822 [==============================] - 2s 3ms/step - loss: 14.9393\n",
      "Epoch 9/10\n",
      "822/822 [==============================] - 3s 3ms/step - loss: 15.1534\n",
      "Epoch 10/10\n",
      "822/822 [==============================] - 2s 3ms/step - loss: 15.1702\n"
     ]
    },
    {
     "data": {
      "image/png": "[encoded data removed]",
      "text/plain": [
       "<Figure size 432x288 with 1 Axes>"
      ]
     },
     "metadata": {
      "needs_background": "light"
     },
     "output_type": "display_data"
    }
   ],
   "source": [
    "#Paramètres d'apprentissage\n",
    "batch_size = 100\n",
    "epochs = 10\n",
    "\n",
    "#Entraînement\n",
    "history = NN.fit(xtrainS_N, ytrain, batch_size, epochs, verbose=1)\n",
    "\n",
    "#Affichage de l'évolution de la MSE\n",
    "plt.plot(history.history['loss'])\n",
    "plt.xlabel(\"epochs\")\n",
    "plt.ylabel(\"mse\")\n",
    "plt.show()"
   ]
  },
  {
   "cell_type": "markdown",
   "metadata": {},
   "source": [
    "## <font color = 'royalblue'>6 Validation</font>"
   ]
  },
  {
   "cell_type": "markdown",
   "metadata": {},
   "source": [
    "### 6.1 Sampling"
   ]
  },
  {
   "cell_type": "code",
   "execution_count": 247,
   "metadata": {},
   "outputs": [],
   "source": [
    "def Create_samples (xtrain, ytrain):\n",
    "    #Split X validation/train \n",
    "    xtrain_v = xtrain.sample(frac=0.20, axis=0)\n",
    "    xtrain_t = xtrain.drop(xtrain_v.index)\n",
    "    \n",
    "    #Split Y validation/train\n",
    "    ytrain_v = ytrain.loc[ytrain['Id'].isin(xtrain_v['StationDay'])]\n",
    "    ytrain_t = ytrain.drop(ytrain_v.index)\n",
    "    \n",
    "    #Reset index\n",
    "    xtrain_t.reset_index(drop=True, inplace=True)\n",
    "    xtrain_v.reset_index(drop=True, inplace=True)\n",
    "    ytrain_t.reset_index(drop=True, inplace=True)\n",
    "    ytrain_v.reset_index(drop=True, inplace=True)\n",
    "    \n",
    "    #Sort X\n",
    "    xtrain_t = xtrain_t.set_index('StationDay')\n",
    "    xtrain_t = xtrain_t.reindex(index=ytrain_t['Id'])\n",
    "    xtrain_t = xtrain_t.reset_index()\n",
    "    \n",
    "    xtrain_v = xtrain_v.set_index('StationDay')\n",
    "    xtrain_v = xtrain_v.reindex(index=ytrain_v['Id'])\n",
    "    xtrain_v = xtrain_v.reset_index()\n",
    "    \n",
    "    #Drop useless variables\n",
    "    xtrain_t.drop(['Id'], axis=1, inplace=True)\n",
    "    xtrain_v.drop(['Id'], axis=1, inplace=True)\n",
    "    ytrain_t.drop(['Id'], axis=1, inplace=True)\n",
    "    ytrain_v.drop(['Id'], axis=1, inplace=True)\n",
    "    \n",
    "    return xtrain_t, xtrain_v, ytrain_t, ytrain_v"
   ]
  },
  {
   "cell_type": "markdown",
   "metadata": {},
   "source": [
    "### 6.2 Monte Carlo validation"
   ]
  },
  {
   "cell_type": "code",
   "execution_count": 277,
   "metadata": {},
   "outputs": [
    {
     "name": "stdout",
     "output_type": "stream",
     "text": [
      "0\n"
     ]
    },
    {
     "name": "stderr",
     "output_type": "stream",
     "text": [
      "/opt/anaconda3/lib/python3.8/site-packages/pandas/core/frame.py:4163: SettingWithCopyWarning: \n",
      "A value is trying to be set on a copy of a slice from a DataFrame\n",
      "\n",
      "See the caveats in the documentation: https://pandas.pydata.org/pandas-docs/stable/user_guide/indexing.html#returning-a-view-versus-a-copy\n",
      "  return super().drop(\n",
      "<ipython-input-277-9132cf5f7d3a>:16: SettingWithCopyWarning: \n",
      "A value is trying to be set on a copy of a slice from a DataFrame.\n",
      "Try using .loc[row_indexer,col_indexer] = value instead\n",
      "\n",
      "See the caveats in the documentation: https://pandas.pydata.org/pandas-docs/stable/user_guide/indexing.html#returning-a-view-versus-a-copy\n",
      "  ytrain_v['Ground_truth'] = ytrain_v['Ground_truth'] + 1\n"
     ]
    },
    {
     "name": "stdout",
     "output_type": "stream",
     "text": [
      "1\n"
     ]
    },
    {
     "name": "stderr",
     "output_type": "stream",
     "text": [
      "/opt/anaconda3/lib/python3.8/site-packages/pandas/core/frame.py:4163: SettingWithCopyWarning: \n",
      "A value is trying to be set on a copy of a slice from a DataFrame\n",
      "\n",
      "See the caveats in the documentation: https://pandas.pydata.org/pandas-docs/stable/user_guide/indexing.html#returning-a-view-versus-a-copy\n",
      "  return super().drop(\n",
      "<ipython-input-277-9132cf5f7d3a>:16: SettingWithCopyWarning: \n",
      "A value is trying to be set on a copy of a slice from a DataFrame.\n",
      "Try using .loc[row_indexer,col_indexer] = value instead\n",
      "\n",
      "See the caveats in the documentation: https://pandas.pydata.org/pandas-docs/stable/user_guide/indexing.html#returning-a-view-versus-a-copy\n",
      "  ytrain_v['Ground_truth'] = ytrain_v['Ground_truth'] + 1\n"
     ]
    },
    {
     "name": "stdout",
     "output_type": "stream",
     "text": [
      "2\n"
     ]
    },
    {
     "name": "stderr",
     "output_type": "stream",
     "text": [
      "/opt/anaconda3/lib/python3.8/site-packages/pandas/core/frame.py:4163: SettingWithCopyWarning: \n",
      "A value is trying to be set on a copy of a slice from a DataFrame\n",
      "\n",
      "See the caveats in the documentation: https://pandas.pydata.org/pandas-docs/stable/user_guide/indexing.html#returning-a-view-versus-a-copy\n",
      "  return super().drop(\n",
      "<ipython-input-277-9132cf5f7d3a>:16: SettingWithCopyWarning: \n",
      "A value is trying to be set on a copy of a slice from a DataFrame.\n",
      "Try using .loc[row_indexer,col_indexer] = value instead\n",
      "\n",
      "See the caveats in the documentation: https://pandas.pydata.org/pandas-docs/stable/user_guide/indexing.html#returning-a-view-versus-a-copy\n",
      "  ytrain_v['Ground_truth'] = ytrain_v['Ground_truth'] + 1\n"
     ]
    },
    {
     "name": "stdout",
     "output_type": "stream",
     "text": [
      "3\n"
     ]
    },
    {
     "name": "stderr",
     "output_type": "stream",
     "text": [
      "/opt/anaconda3/lib/python3.8/site-packages/pandas/core/frame.py:4163: SettingWithCopyWarning: \n",
      "A value is trying to be set on a copy of a slice from a DataFrame\n",
      "\n",
      "See the caveats in the documentation: https://pandas.pydata.org/pandas-docs/stable/user_guide/indexing.html#returning-a-view-versus-a-copy\n",
      "  return super().drop(\n",
      "<ipython-input-277-9132cf5f7d3a>:16: SettingWithCopyWarning: \n",
      "A value is trying to be set on a copy of a slice from a DataFrame.\n",
      "Try using .loc[row_indexer,col_indexer] = value instead\n",
      "\n",
      "See the caveats in the documentation: https://pandas.pydata.org/pandas-docs/stable/user_guide/indexing.html#returning-a-view-versus-a-copy\n",
      "  ytrain_v['Ground_truth'] = ytrain_v['Ground_truth'] + 1\n"
     ]
    },
    {
     "name": "stdout",
     "output_type": "stream",
     "text": [
      "4\n"
     ]
    },
    {
     "name": "stderr",
     "output_type": "stream",
     "text": [
      "/opt/anaconda3/lib/python3.8/site-packages/pandas/core/frame.py:4163: SettingWithCopyWarning: \n",
      "A value is trying to be set on a copy of a slice from a DataFrame\n",
      "\n",
      "See the caveats in the documentation: https://pandas.pydata.org/pandas-docs/stable/user_guide/indexing.html#returning-a-view-versus-a-copy\n",
      "  return super().drop(\n",
      "<ipython-input-277-9132cf5f7d3a>:16: SettingWithCopyWarning: \n",
      "A value is trying to be set on a copy of a slice from a DataFrame.\n",
      "Try using .loc[row_indexer,col_indexer] = value instead\n",
      "\n",
      "See the caveats in the documentation: https://pandas.pydata.org/pandas-docs/stable/user_guide/indexing.html#returning-a-view-versus-a-copy\n",
      "  ytrain_v['Ground_truth'] = ytrain_v['Ground_truth'] + 1\n"
     ]
    },
    {
     "name": "stdout",
     "output_type": "stream",
     "text": [
      "5\n"
     ]
    },
    {
     "name": "stderr",
     "output_type": "stream",
     "text": [
      "/opt/anaconda3/lib/python3.8/site-packages/pandas/core/frame.py:4163: SettingWithCopyWarning: \n",
      "A value is trying to be set on a copy of a slice from a DataFrame\n",
      "\n",
      "See the caveats in the documentation: https://pandas.pydata.org/pandas-docs/stable/user_guide/indexing.html#returning-a-view-versus-a-copy\n",
      "  return super().drop(\n",
      "<ipython-input-277-9132cf5f7d3a>:16: SettingWithCopyWarning: \n",
      "A value is trying to be set on a copy of a slice from a DataFrame.\n",
      "Try using .loc[row_indexer,col_indexer] = value instead\n",
      "\n",
      "See the caveats in the documentation: https://pandas.pydata.org/pandas-docs/stable/user_guide/indexing.html#returning-a-view-versus-a-copy\n",
      "  ytrain_v['Ground_truth'] = ytrain_v['Ground_truth'] + 1\n"
     ]
    },
    {
     "name": "stdout",
     "output_type": "stream",
     "text": [
      "6\n"
     ]
    },
    {
     "name": "stderr",
     "output_type": "stream",
     "text": [
      "/opt/anaconda3/lib/python3.8/site-packages/pandas/core/frame.py:4163: SettingWithCopyWarning: \n",
      "A value is trying to be set on a copy of a slice from a DataFrame\n",
      "\n",
      "See the caveats in the documentation: https://pandas.pydata.org/pandas-docs/stable/user_guide/indexing.html#returning-a-view-versus-a-copy\n",
      "  return super().drop(\n",
      "<ipython-input-277-9132cf5f7d3a>:16: SettingWithCopyWarning: \n",
      "A value is trying to be set on a copy of a slice from a DataFrame.\n",
      "Try using .loc[row_indexer,col_indexer] = value instead\n",
      "\n",
      "See the caveats in the documentation: https://pandas.pydata.org/pandas-docs/stable/user_guide/indexing.html#returning-a-view-versus-a-copy\n",
      "  ytrain_v['Ground_truth'] = ytrain_v['Ground_truth'] + 1\n"
     ]
    },
    {
     "name": "stdout",
     "output_type": "stream",
     "text": [
      "7\n"
     ]
    },
    {
     "name": "stderr",
     "output_type": "stream",
     "text": [
      "/opt/anaconda3/lib/python3.8/site-packages/pandas/core/frame.py:4163: SettingWithCopyWarning: \n",
      "A value is trying to be set on a copy of a slice from a DataFrame\n",
      "\n",
      "See the caveats in the documentation: https://pandas.pydata.org/pandas-docs/stable/user_guide/indexing.html#returning-a-view-versus-a-copy\n",
      "  return super().drop(\n",
      "<ipython-input-277-9132cf5f7d3a>:16: SettingWithCopyWarning: \n",
      "A value is trying to be set on a copy of a slice from a DataFrame.\n",
      "Try using .loc[row_indexer,col_indexer] = value instead\n",
      "\n",
      "See the caveats in the documentation: https://pandas.pydata.org/pandas-docs/stable/user_guide/indexing.html#returning-a-view-versus-a-copy\n",
      "  ytrain_v['Ground_truth'] = ytrain_v['Ground_truth'] + 1\n"
     ]
    },
    {
     "name": "stdout",
     "output_type": "stream",
     "text": [
      "8\n"
     ]
    },
    {
     "name": "stderr",
     "output_type": "stream",
     "text": [
      "/opt/anaconda3/lib/python3.8/site-packages/pandas/core/frame.py:4163: SettingWithCopyWarning: \n",
      "A value is trying to be set on a copy of a slice from a DataFrame\n",
      "\n",
      "See the caveats in the documentation: https://pandas.pydata.org/pandas-docs/stable/user_guide/indexing.html#returning-a-view-versus-a-copy\n",
      "  return super().drop(\n",
      "<ipython-input-277-9132cf5f7d3a>:16: SettingWithCopyWarning: \n",
      "A value is trying to be set on a copy of a slice from a DataFrame.\n",
      "Try using .loc[row_indexer,col_indexer] = value instead\n",
      "\n",
      "See the caveats in the documentation: https://pandas.pydata.org/pandas-docs/stable/user_guide/indexing.html#returning-a-view-versus-a-copy\n",
      "  ytrain_v['Ground_truth'] = ytrain_v['Ground_truth'] + 1\n"
     ]
    },
    {
     "name": "stdout",
     "output_type": "stream",
     "text": [
      "9\n"
     ]
    },
    {
     "name": "stderr",
     "output_type": "stream",
     "text": [
      "/opt/anaconda3/lib/python3.8/site-packages/pandas/core/frame.py:4163: SettingWithCopyWarning: \n",
      "A value is trying to be set on a copy of a slice from a DataFrame\n",
      "\n",
      "See the caveats in the documentation: https://pandas.pydata.org/pandas-docs/stable/user_guide/indexing.html#returning-a-view-versus-a-copy\n",
      "  return super().drop(\n",
      "<ipython-input-277-9132cf5f7d3a>:16: SettingWithCopyWarning: \n",
      "A value is trying to be set on a copy of a slice from a DataFrame.\n",
      "Try using .loc[row_indexer,col_indexer] = value instead\n",
      "\n",
      "See the caveats in the documentation: https://pandas.pydata.org/pandas-docs/stable/user_guide/indexing.html#returning-a-view-versus-a-copy\n",
      "  ytrain_v['Ground_truth'] = ytrain_v['Ground_truth'] + 1\n"
     ]
    },
    {
     "name": "stdout",
     "output_type": "stream",
     "text": [
      "10\n"
     ]
    },
    {
     "name": "stderr",
     "output_type": "stream",
     "text": [
      "/opt/anaconda3/lib/python3.8/site-packages/pandas/core/frame.py:4163: SettingWithCopyWarning: \n",
      "A value is trying to be set on a copy of a slice from a DataFrame\n",
      "\n",
      "See the caveats in the documentation: https://pandas.pydata.org/pandas-docs/stable/user_guide/indexing.html#returning-a-view-versus-a-copy\n",
      "  return super().drop(\n",
      "<ipython-input-277-9132cf5f7d3a>:16: SettingWithCopyWarning: \n",
      "A value is trying to be set on a copy of a slice from a DataFrame.\n",
      "Try using .loc[row_indexer,col_indexer] = value instead\n",
      "\n",
      "See the caveats in the documentation: https://pandas.pydata.org/pandas-docs/stable/user_guide/indexing.html#returning-a-view-versus-a-copy\n",
      "  ytrain_v['Ground_truth'] = ytrain_v['Ground_truth'] + 1\n"
     ]
    },
    {
     "name": "stdout",
     "output_type": "stream",
     "text": [
      "11\n"
     ]
    },
    {
     "name": "stderr",
     "output_type": "stream",
     "text": [
      "/opt/anaconda3/lib/python3.8/site-packages/pandas/core/frame.py:4163: SettingWithCopyWarning: \n",
      "A value is trying to be set on a copy of a slice from a DataFrame\n",
      "\n",
      "See the caveats in the documentation: https://pandas.pydata.org/pandas-docs/stable/user_guide/indexing.html#returning-a-view-versus-a-copy\n",
      "  return super().drop(\n",
      "<ipython-input-277-9132cf5f7d3a>:16: SettingWithCopyWarning: \n",
      "A value is trying to be set on a copy of a slice from a DataFrame.\n",
      "Try using .loc[row_indexer,col_indexer] = value instead\n",
      "\n",
      "See the caveats in the documentation: https://pandas.pydata.org/pandas-docs/stable/user_guide/indexing.html#returning-a-view-versus-a-copy\n",
      "  ytrain_v['Ground_truth'] = ytrain_v['Ground_truth'] + 1\n"
     ]
    },
    {
     "name": "stdout",
     "output_type": "stream",
     "text": [
      "12\n"
     ]
    },
    {
     "name": "stderr",
     "output_type": "stream",
     "text": [
      "/opt/anaconda3/lib/python3.8/site-packages/pandas/core/frame.py:4163: SettingWithCopyWarning: \n",
      "A value is trying to be set on a copy of a slice from a DataFrame\n",
      "\n",
      "See the caveats in the documentation: https://pandas.pydata.org/pandas-docs/stable/user_guide/indexing.html#returning-a-view-versus-a-copy\n",
      "  return super().drop(\n",
      "<ipython-input-277-9132cf5f7d3a>:16: SettingWithCopyWarning: \n",
      "A value is trying to be set on a copy of a slice from a DataFrame.\n",
      "Try using .loc[row_indexer,col_indexer] = value instead\n",
      "\n",
      "See the caveats in the documentation: https://pandas.pydata.org/pandas-docs/stable/user_guide/indexing.html#returning-a-view-versus-a-copy\n",
      "  ytrain_v['Ground_truth'] = ytrain_v['Ground_truth'] + 1\n"
     ]
    },
    {
     "name": "stdout",
     "output_type": "stream",
     "text": [
      "13\n"
     ]
    },
    {
     "name": "stderr",
     "output_type": "stream",
     "text": [
      "/opt/anaconda3/lib/python3.8/site-packages/pandas/core/frame.py:4163: SettingWithCopyWarning: \n",
      "A value is trying to be set on a copy of a slice from a DataFrame\n",
      "\n",
      "See the caveats in the documentation: https://pandas.pydata.org/pandas-docs/stable/user_guide/indexing.html#returning-a-view-versus-a-copy\n",
      "  return super().drop(\n",
      "<ipython-input-277-9132cf5f7d3a>:16: SettingWithCopyWarning: \n",
      "A value is trying to be set on a copy of a slice from a DataFrame.\n",
      "Try using .loc[row_indexer,col_indexer] = value instead\n",
      "\n",
      "See the caveats in the documentation: https://pandas.pydata.org/pandas-docs/stable/user_guide/indexing.html#returning-a-view-versus-a-copy\n",
      "  ytrain_v['Ground_truth'] = ytrain_v['Ground_truth'] + 1\n"
     ]
    },
    {
     "name": "stdout",
     "output_type": "stream",
     "text": [
      "14\n"
     ]
    },
    {
     "name": "stderr",
     "output_type": "stream",
     "text": [
      "/opt/anaconda3/lib/python3.8/site-packages/pandas/core/frame.py:4163: SettingWithCopyWarning: \n",
      "A value is trying to be set on a copy of a slice from a DataFrame\n",
      "\n",
      "See the caveats in the documentation: https://pandas.pydata.org/pandas-docs/stable/user_guide/indexing.html#returning-a-view-versus-a-copy\n",
      "  return super().drop(\n",
      "<ipython-input-277-9132cf5f7d3a>:16: SettingWithCopyWarning: \n",
      "A value is trying to be set on a copy of a slice from a DataFrame.\n",
      "Try using .loc[row_indexer,col_indexer] = value instead\n",
      "\n",
      "See the caveats in the documentation: https://pandas.pydata.org/pandas-docs/stable/user_guide/indexing.html#returning-a-view-versus-a-copy\n",
      "  ytrain_v['Ground_truth'] = ytrain_v['Ground_truth'] + 1\n"
     ]
    },
    {
     "name": "stdout",
     "output_type": "stream",
     "text": [
      "15\n"
     ]
    },
    {
     "name": "stderr",
     "output_type": "stream",
     "text": [
      "/opt/anaconda3/lib/python3.8/site-packages/pandas/core/frame.py:4163: SettingWithCopyWarning: \n",
      "A value is trying to be set on a copy of a slice from a DataFrame\n",
      "\n",
      "See the caveats in the documentation: https://pandas.pydata.org/pandas-docs/stable/user_guide/indexing.html#returning-a-view-versus-a-copy\n",
      "  return super().drop(\n",
      "<ipython-input-277-9132cf5f7d3a>:16: SettingWithCopyWarning: \n",
      "A value is trying to be set on a copy of a slice from a DataFrame.\n",
      "Try using .loc[row_indexer,col_indexer] = value instead\n",
      "\n",
      "See the caveats in the documentation: https://pandas.pydata.org/pandas-docs/stable/user_guide/indexing.html#returning-a-view-versus-a-copy\n",
      "  ytrain_v['Ground_truth'] = ytrain_v['Ground_truth'] + 1\n"
     ]
    },
    {
     "name": "stdout",
     "output_type": "stream",
     "text": [
      "16\n"
     ]
    },
    {
     "name": "stderr",
     "output_type": "stream",
     "text": [
      "/opt/anaconda3/lib/python3.8/site-packages/pandas/core/frame.py:4163: SettingWithCopyWarning: \n",
      "A value is trying to be set on a copy of a slice from a DataFrame\n",
      "\n",
      "See the caveats in the documentation: https://pandas.pydata.org/pandas-docs/stable/user_guide/indexing.html#returning-a-view-versus-a-copy\n",
      "  return super().drop(\n",
      "<ipython-input-277-9132cf5f7d3a>:16: SettingWithCopyWarning: \n",
      "A value is trying to be set on a copy of a slice from a DataFrame.\n",
      "Try using .loc[row_indexer,col_indexer] = value instead\n",
      "\n",
      "See the caveats in the documentation: https://pandas.pydata.org/pandas-docs/stable/user_guide/indexing.html#returning-a-view-versus-a-copy\n",
      "  ytrain_v['Ground_truth'] = ytrain_v['Ground_truth'] + 1\n"
     ]
    },
    {
     "name": "stdout",
     "output_type": "stream",
     "text": [
      "17\n"
     ]
    },
    {
     "name": "stderr",
     "output_type": "stream",
     "text": [
      "/opt/anaconda3/lib/python3.8/site-packages/pandas/core/frame.py:4163: SettingWithCopyWarning: \n",
      "A value is trying to be set on a copy of a slice from a DataFrame\n",
      "\n",
      "See the caveats in the documentation: https://pandas.pydata.org/pandas-docs/stable/user_guide/indexing.html#returning-a-view-versus-a-copy\n",
      "  return super().drop(\n",
      "<ipython-input-277-9132cf5f7d3a>:16: SettingWithCopyWarning: \n",
      "A value is trying to be set on a copy of a slice from a DataFrame.\n",
      "Try using .loc[row_indexer,col_indexer] = value instead\n",
      "\n",
      "See the caveats in the documentation: https://pandas.pydata.org/pandas-docs/stable/user_guide/indexing.html#returning-a-view-versus-a-copy\n",
      "  ytrain_v['Ground_truth'] = ytrain_v['Ground_truth'] + 1\n"
     ]
    },
    {
     "name": "stdout",
     "output_type": "stream",
     "text": [
      "18\n"
     ]
    },
    {
     "name": "stderr",
     "output_type": "stream",
     "text": [
      "/opt/anaconda3/lib/python3.8/site-packages/pandas/core/frame.py:4163: SettingWithCopyWarning: \n",
      "A value is trying to be set on a copy of a slice from a DataFrame\n",
      "\n",
      "See the caveats in the documentation: https://pandas.pydata.org/pandas-docs/stable/user_guide/indexing.html#returning-a-view-versus-a-copy\n",
      "  return super().drop(\n",
      "<ipython-input-277-9132cf5f7d3a>:16: SettingWithCopyWarning: \n",
      "A value is trying to be set on a copy of a slice from a DataFrame.\n",
      "Try using .loc[row_indexer,col_indexer] = value instead\n",
      "\n",
      "See the caveats in the documentation: https://pandas.pydata.org/pandas-docs/stable/user_guide/indexing.html#returning-a-view-versus-a-copy\n",
      "  ytrain_v['Ground_truth'] = ytrain_v['Ground_truth'] + 1\n"
     ]
    },
    {
     "name": "stdout",
     "output_type": "stream",
     "text": [
      "19\n"
     ]
    },
    {
     "name": "stderr",
     "output_type": "stream",
     "text": [
      "/opt/anaconda3/lib/python3.8/site-packages/pandas/core/frame.py:4163: SettingWithCopyWarning: \n",
      "A value is trying to be set on a copy of a slice from a DataFrame\n",
      "\n",
      "See the caveats in the documentation: https://pandas.pydata.org/pandas-docs/stable/user_guide/indexing.html#returning-a-view-versus-a-copy\n",
      "  return super().drop(\n",
      "<ipython-input-277-9132cf5f7d3a>:16: SettingWithCopyWarning: \n",
      "A value is trying to be set on a copy of a slice from a DataFrame.\n",
      "Try using .loc[row_indexer,col_indexer] = value instead\n",
      "\n",
      "See the caveats in the documentation: https://pandas.pydata.org/pandas-docs/stable/user_guide/indexing.html#returning-a-view-versus-a-copy\n",
      "  ytrain_v['Ground_truth'] = ytrain_v['Ground_truth'] + 1\n"
     ]
    }
   ],
   "source": [
    "B = 20\n",
    "MAPE_ = np.zeros(B)\n",
    "\n",
    "for b in range(B):\n",
    "    print(b)\n",
    "    xtrain_t, xtrain_v, ytrain_t, ytrain_v = Create_samples(xtrainS, ytrain)\n",
    "    xtrain_t_N, xtrain_v_N = normalization(xtrain_t, xtrain_v)\n",
    "    ytrain_v['Ground_truth'] = ytrain_v['Ground_truth'] + 1\n",
    "    \n",
    "    nb_variables = np.shape(xtrain_t_N)[1]\n",
    "    nn = get_model(nb_variables, n_layers, n_neurons)\n",
    "    \n",
    "    #Entraînement\n",
    "    history = nn.fit(xtrain_t_N, ytrain_t, batch_size, epochs, verbose=0)\n",
    "    \n",
    "    validation = nn.predict(xtrain_v_N)\n",
    "    Network_validation = ytrain_v.copy()\n",
    "    Network_validation['Ground_truth'] = validation\n",
    "    Network_validation.rename(columns={'Ground_truth':'Prediction'}, inplace=True)\n",
    "\n",
    "    Network_validation['Prediction'] = Network_validation['Prediction'] + 1\n",
    "    \n",
    "    MAPE_[b] = MAPE(Network_validation['Prediction'], ytrain_v['Ground_truth'])"
   ]
  },
  {
   "cell_type": "code",
   "execution_count": 278,
   "metadata": {},
   "outputs": [
    {
     "name": "stdout",
     "output_type": "stream",
     "text": [
      "107.04619554172055\n"
     ]
    },
    {
     "data": {
      "image/png": "[encoded data removed]",
      "text/plain": [
       "<Figure size 432x288 with 1 Axes>"
      ]
     },
     "metadata": {
      "needs_background": "light"
     },
     "output_type": "display_data"
    }
   ],
   "source": [
    "print(\"Mean MAPE :\", np.mean(MAPE_))\n",
    "plt.boxplot(MAPE_)\n",
    "plt.ylabel(\"MAPE\")\n",
    "plt.show()"
   ]
  },
  {
   "cell_type": "markdown",
   "metadata": {},
   "source": [
    "## <font color = 'royalblue'>7 Prediction</font>"
   ]
  },
  {
   "cell_type": "code",
   "execution_count": 304,
   "metadata": {},
   "outputs": [
    {
     "data": {
      "text/html": [
       "<div>\n",
       "<style scoped>\n",
       "    .dataframe tbody tr th:only-of-type {\n",
       "        vertical-align: middle;\n",
       "    }\n",
       "\n",
       "    .dataframe tbody tr th {\n",
       "        vertical-align: top;\n",
       "    }\n",
       "\n",
       "    .dataframe thead th {\n",
       "        text-align: right;\n",
       "    }\n",
       "</style>\n",
       "<table border=\"1\" class=\"dataframe\">\n",
       "  <thead>\n",
       "    <tr style=\"text-align: right;\">\n",
       "      <th></th>\n",
       "      <th>Id</th>\n",
       "      <th>Prediction</th>\n",
       "    </tr>\n",
       "  </thead>\n",
       "  <tbody>\n",
       "    <tr>\n",
       "      <th>0</th>\n",
       "      <td>14066001_149</td>\n",
       "      <td>4.733438</td>\n",
       "    </tr>\n",
       "    <tr>\n",
       "      <th>1</th>\n",
       "      <td>14126001_149</td>\n",
       "      <td>2.777220</td>\n",
       "    </tr>\n",
       "    <tr>\n",
       "      <th>2</th>\n",
       "      <td>14137001_149</td>\n",
       "      <td>5.007422</td>\n",
       "    </tr>\n",
       "    <tr>\n",
       "      <th>3</th>\n",
       "      <td>14216001_149</td>\n",
       "      <td>3.151839</td>\n",
       "    </tr>\n",
       "    <tr>\n",
       "      <th>4</th>\n",
       "      <td>14296001_149</td>\n",
       "      <td>1.288736</td>\n",
       "    </tr>\n",
       "  </tbody>\n",
       "</table>\n",
       "</div>"
      ],
      "text/plain": [
       "             Id  Prediction\n",
       "0  14066001_149    4.733438\n",
       "1  14126001_149    2.777220\n",
       "2  14137001_149    5.007422\n",
       "3  14216001_149    3.151839\n",
       "4  14296001_149    1.288736"
      ]
     },
     "metadata": {},
     "output_type": "display_data"
    }
   ],
   "source": [
    "predictions_network = NN.predict(xtestS_N)\n",
    "Network_predictions = bl_obsT.copy()\n",
    "Network_predictions[\"Prediction\"] = predictions_network\n",
    "display(Network_predictions.head())"
   ]
  },
  {
   "cell_type": "markdown",
   "metadata": {},
   "source": [
    "## <font color = 'royalblue'>8 Post-processing</font>"
   ]
  },
  {
   "cell_type": "code",
   "execution_count": 305,
   "metadata": {},
   "outputs": [
    {
     "data": {
      "text/html": [
       "<div>\n",
       "<style scoped>\n",
       "    .dataframe tbody tr th:only-of-type {\n",
       "        vertical-align: middle;\n",
       "    }\n",
       "\n",
       "    .dataframe tbody tr th {\n",
       "        vertical-align: top;\n",
       "    }\n",
       "\n",
       "    .dataframe thead th {\n",
       "        text-align: right;\n",
       "    }\n",
       "</style>\n",
       "<table border=\"1\" class=\"dataframe\">\n",
       "  <thead>\n",
       "    <tr style=\"text-align: right;\">\n",
       "      <th></th>\n",
       "      <th>Id</th>\n",
       "      <th>Prediction</th>\n",
       "    </tr>\n",
       "  </thead>\n",
       "  <tbody>\n",
       "    <tr>\n",
       "      <th>0</th>\n",
       "      <td>14066001_149</td>\n",
       "      <td>5.733438</td>\n",
       "    </tr>\n",
       "    <tr>\n",
       "      <th>1</th>\n",
       "      <td>14126001_149</td>\n",
       "      <td>3.777220</td>\n",
       "    </tr>\n",
       "    <tr>\n",
       "      <th>2</th>\n",
       "      <td>14137001_149</td>\n",
       "      <td>6.007422</td>\n",
       "    </tr>\n",
       "    <tr>\n",
       "      <th>3</th>\n",
       "      <td>14216001_149</td>\n",
       "      <td>4.151839</td>\n",
       "    </tr>\n",
       "    <tr>\n",
       "      <th>4</th>\n",
       "      <td>14296001_149</td>\n",
       "      <td>2.288736</td>\n",
       "    </tr>\n",
       "  </tbody>\n",
       "</table>\n",
       "</div>"
      ],
      "text/plain": [
       "             Id  Prediction\n",
       "0  14066001_149    5.733438\n",
       "1  14126001_149    3.777220\n",
       "2  14137001_149    6.007422\n",
       "3  14216001_149    4.151839\n",
       "4  14296001_149    2.288736"
      ]
     },
     "metadata": {},
     "output_type": "display_data"
    },
    {
     "name": "stdout",
     "output_type": "stream",
     "text": [
      "Missing Data : 0 \n",
      " Shape is : (85140, 2)\n"
     ]
    }
   ],
   "source": [
    "Network_predictions[\"Prediction\"] = Network_predictions[\"Prediction\"] + 1\n",
    "display(Network_predictions.head())\n",
    "print('Missing Data :', Network_predictions.isna().sum().sum(), '\\n', 'Shape is :', Network_predictions.shape)"
   ]
  },
  {
   "cell_type": "markdown",
   "metadata": {},
   "source": [
    "## <font color = 'royalblue'>9 Exportation</font>"
   ]
  },
  {
   "cell_type": "code",
   "execution_count": 306,
   "metadata": {},
   "outputs": [],
   "source": [
    "output_file = \"Submissions_9_ANN-20x32.csv\"\n",
    "Network_predictions.to_csv('/Users/qdouzery/Desktop/Defi-IA-2022_DGM/Submissions/' + output_file, index=False)"
   ]
  }
 ],
 "metadata": {
  "kernelspec": {
   "display_name": "Python 3",
   "language": "python",
   "name": "python3"
  },
  "language_info": {
   "codemirror_mode": {
    "name": "ipython",
    "version": 3
   },
   "file_extension": ".py",
   "mimetype": "text/x-python",
   "name": "python",
   "nbconvert_exporter": "python",
   "pygments_lexer": "ipython3",
   "version": "3.8.5"
  }
 },
 "nbformat": 4,
 "nbformat_minor": 4
}
