{
 "cells": [
  {
   "cell_type": "markdown",
   "metadata": {},
   "source": [
    "# Defi-IA 2022 <a href=\"https://www.kaggle.com/c/defi-ia-2022/overview\"><img src=\"https://upload.wikimedia.org/wikipedia/commons/7/7c/Kaggle_logo.png\" style=\"max-width: 70px; display: inline\" alt=\"Python\"/></a>\n",
    "-------------------------------------------------------------\n",
    "\n",
    "**Predict the accumulated daily rainfall on ground stations**  \n",
    "*Quentin Douzery, Alexia Ghozland, Dario Moed*"
   ]
  },
  {
   "cell_type": "markdown",
   "metadata": {},
   "source": [
    "## <font color = 'royalblue'>1 Imports</font>"
   ]
  },
  {
   "cell_type": "code",
   "execution_count": 1,
   "metadata": {},
   "outputs": [],
   "source": [
    "##Packages\n",
    "import time\n",
    "import pandas as pd\n",
    "import numpy as np\n",
    "import datetime\n",
    "import matplotlib.pyplot as plt\n",
    "\n",
    "from sklearn import linear_model\n",
    "from sklearn.model_selection import GridSearchCV,train_test_split \n",
    "from sklearn.tree import DecisionTreeClassifier,DecisionTreeRegressor\n",
    "from sklearn.neural_network import MLPRegressor,MLPClassifier\n",
    "from sklearn.ensemble import RandomForestClassifier ,RandomForestRegressor\n",
    "from sklearn.preprocessing import scale , StandardScaler\n",
    "\n",
    "import tensorflow as tf\n",
    "from tensorflow import keras\n",
    "from tensorflow.keras import layers\n",
    "#from keras.models import Sequential"
   ]
  },
  {
   "cell_type": "code",
   "execution_count": 2,
   "metadata": {},
   "outputs": [],
   "source": [
    "##Données\n",
    "coords_path = '/Users/qdouzery/Desktop/Defi-IA_Data/Other/stations_coordinates.csv' #Perso\n",
    "#coords_path = '/home/douzery/Bureau/Defi-IA-2022_Data/Other/stations_coordinates.csv' #INSA\n",
    "#coords_fname  = '/kaggle/input/defi-ia-2022-test/Other/Other/stations_coordinates.csv'\n",
    "\n",
    "xtrainS_path = '/Users/qdouzery/Desktop/Defi-IA_Data/Train/X_station_train.csv' #Perso\n",
    "#xtrainS_path = '/home/douzery/Bureau/Defi-IA-2022_Data/Train/X_station_train.csv' #INSA\n",
    "#fname = '/kaggle/input/defi-ia-2022-test/Train/Train/X_station_train.csv'\n",
    "\n",
    "ytrain_path = '/Users/qdouzery/Desktop/Defi-IA_Data/Train/Y_train.csv' #Perso\n",
    "#ytrain_path = '/home/douzery/Bureau/Defi-IA-2022_Data/Train/Y_train.csv' #INSA\n",
    "#fname = '/kaggle/input/defi-ia-2022-test/Train/Train/Y_train.csv'\n",
    "\n",
    "xtestS_path = '/Users/qdouzery/Desktop/Defi-IA_Data/Test/X_station_test.csv' #Perso\n",
    "#xtrainS_path = '/home/douzery/Bureau/Defi-IA-2022_Data/Train/X_station_train.csv' #INSA\n",
    "\n",
    "bl_obsT_path = '/Users/qdouzery/Desktop/Defi-IA_Data/Test/Baselines/Baseline_observation_test.csv' #Perso"
   ]
  },
  {
   "cell_type": "markdown",
   "metadata": {},
   "source": [
    "## <font color = 'royalblue'>2 Récupération des données</font>"
   ]
  },
  {
   "cell_type": "code",
   "execution_count": 3,
   "metadata": {},
   "outputs": [
    {
     "data": {
      "text/html": [
       "<div>\n",
       "<style scoped>\n",
       "    .dataframe tbody tr th:only-of-type {\n",
       "        vertical-align: middle;\n",
       "    }\n",
       "\n",
       "    .dataframe tbody tr th {\n",
       "        vertical-align: top;\n",
       "    }\n",
       "\n",
       "    .dataframe thead th {\n",
       "        text-align: right;\n",
       "    }\n",
       "</style>\n",
       "<table border=\"1\" class=\"dataframe\">\n",
       "  <thead>\n",
       "    <tr style=\"text-align: right;\">\n",
       "      <th></th>\n",
       "      <th>number_sta</th>\n",
       "      <th>date</th>\n",
       "      <th>ff</th>\n",
       "      <th>t</th>\n",
       "      <th>td</th>\n",
       "      <th>hu</th>\n",
       "      <th>dd</th>\n",
       "      <th>precip</th>\n",
       "      <th>Id</th>\n",
       "    </tr>\n",
       "  </thead>\n",
       "  <tbody>\n",
       "    <tr>\n",
       "      <th>0</th>\n",
       "      <td>14066001</td>\n",
       "      <td>2016-01-01 00:00:00</td>\n",
       "      <td>3.05</td>\n",
       "      <td>279.28</td>\n",
       "      <td>277.97</td>\n",
       "      <td>91.4</td>\n",
       "      <td>200.0</td>\n",
       "      <td>0.0</td>\n",
       "      <td>14066001_0_0</td>\n",
       "    </tr>\n",
       "    <tr>\n",
       "      <th>1</th>\n",
       "      <td>14066001</td>\n",
       "      <td>2016-01-01 01:00:00</td>\n",
       "      <td>2.57</td>\n",
       "      <td>278.76</td>\n",
       "      <td>277.45</td>\n",
       "      <td>91.4</td>\n",
       "      <td>190.0</td>\n",
       "      <td>0.0</td>\n",
       "      <td>14066001_0_1</td>\n",
       "    </tr>\n",
       "    <tr>\n",
       "      <th>2</th>\n",
       "      <td>14066001</td>\n",
       "      <td>2016-01-01 02:00:00</td>\n",
       "      <td>2.26</td>\n",
       "      <td>278.27</td>\n",
       "      <td>277.02</td>\n",
       "      <td>91.7</td>\n",
       "      <td>181.0</td>\n",
       "      <td>0.0</td>\n",
       "      <td>14066001_0_2</td>\n",
       "    </tr>\n",
       "    <tr>\n",
       "      <th>3</th>\n",
       "      <td>14066001</td>\n",
       "      <td>2016-01-01 03:00:00</td>\n",
       "      <td>2.62</td>\n",
       "      <td>277.98</td>\n",
       "      <td>276.95</td>\n",
       "      <td>93.0</td>\n",
       "      <td>159.0</td>\n",
       "      <td>0.0</td>\n",
       "      <td>14066001_0_3</td>\n",
       "    </tr>\n",
       "    <tr>\n",
       "      <th>4</th>\n",
       "      <td>14066001</td>\n",
       "      <td>2016-01-01 04:00:00</td>\n",
       "      <td>2.99</td>\n",
       "      <td>277.32</td>\n",
       "      <td>276.72</td>\n",
       "      <td>95.9</td>\n",
       "      <td>171.0</td>\n",
       "      <td>0.0</td>\n",
       "      <td>14066001_0_4</td>\n",
       "    </tr>\n",
       "    <tr>\n",
       "      <th>...</th>\n",
       "      <td>...</td>\n",
       "      <td>...</td>\n",
       "      <td>...</td>\n",
       "      <td>...</td>\n",
       "      <td>...</td>\n",
       "      <td>...</td>\n",
       "      <td>...</td>\n",
       "      <td>...</td>\n",
       "      <td>...</td>\n",
       "    </tr>\n",
       "    <tr>\n",
       "      <th>4409469</th>\n",
       "      <td>95690001</td>\n",
       "      <td>2017-12-30 19:00:00</td>\n",
       "      <td>9.10</td>\n",
       "      <td>286.68</td>\n",
       "      <td>283.44</td>\n",
       "      <td>80.8</td>\n",
       "      <td>239.0</td>\n",
       "      <td>0.0</td>\n",
       "      <td>95690001_729_19</td>\n",
       "    </tr>\n",
       "    <tr>\n",
       "      <th>4409470</th>\n",
       "      <td>95690001</td>\n",
       "      <td>2017-12-30 20:00:00</td>\n",
       "      <td>8.58</td>\n",
       "      <td>286.39</td>\n",
       "      <td>283.21</td>\n",
       "      <td>81.1</td>\n",
       "      <td>231.0</td>\n",
       "      <td>0.0</td>\n",
       "      <td>95690001_729_20</td>\n",
       "    </tr>\n",
       "    <tr>\n",
       "      <th>4409471</th>\n",
       "      <td>95690001</td>\n",
       "      <td>2017-12-30 21:00:00</td>\n",
       "      <td>8.74</td>\n",
       "      <td>286.28</td>\n",
       "      <td>283.40</td>\n",
       "      <td>82.6</td>\n",
       "      <td>226.0</td>\n",
       "      <td>0.0</td>\n",
       "      <td>95690001_729_21</td>\n",
       "    </tr>\n",
       "    <tr>\n",
       "      <th>4409472</th>\n",
       "      <td>95690001</td>\n",
       "      <td>2017-12-30 22:00:00</td>\n",
       "      <td>9.04</td>\n",
       "      <td>286.21</td>\n",
       "      <td>283.29</td>\n",
       "      <td>82.4</td>\n",
       "      <td>224.0</td>\n",
       "      <td>0.0</td>\n",
       "      <td>95690001_729_22</td>\n",
       "    </tr>\n",
       "    <tr>\n",
       "      <th>4409473</th>\n",
       "      <td>95690001</td>\n",
       "      <td>2017-12-30 23:00:00</td>\n",
       "      <td>9.11</td>\n",
       "      <td>285.92</td>\n",
       "      <td>282.42</td>\n",
       "      <td>79.4</td>\n",
       "      <td>221.0</td>\n",
       "      <td>0.0</td>\n",
       "      <td>95690001_729_23</td>\n",
       "    </tr>\n",
       "  </tbody>\n",
       "</table>\n",
       "<p>4409474 rows × 9 columns</p>\n",
       "</div>"
      ],
      "text/plain": [
       "        number_sta                date    ff       t      td    hu     dd  \\\n",
       "0         14066001 2016-01-01 00:00:00  3.05  279.28  277.97  91.4  200.0   \n",
       "1         14066001 2016-01-01 01:00:00  2.57  278.76  277.45  91.4  190.0   \n",
       "2         14066001 2016-01-01 02:00:00  2.26  278.27  277.02  91.7  181.0   \n",
       "3         14066001 2016-01-01 03:00:00  2.62  277.98  276.95  93.0  159.0   \n",
       "4         14066001 2016-01-01 04:00:00  2.99  277.32  276.72  95.9  171.0   \n",
       "...            ...                 ...   ...     ...     ...   ...    ...   \n",
       "4409469   95690001 2017-12-30 19:00:00  9.10  286.68  283.44  80.8  239.0   \n",
       "4409470   95690001 2017-12-30 20:00:00  8.58  286.39  283.21  81.1  231.0   \n",
       "4409471   95690001 2017-12-30 21:00:00  8.74  286.28  283.40  82.6  226.0   \n",
       "4409472   95690001 2017-12-30 22:00:00  9.04  286.21  283.29  82.4  224.0   \n",
       "4409473   95690001 2017-12-30 23:00:00  9.11  285.92  282.42  79.4  221.0   \n",
       "\n",
       "         precip               Id  \n",
       "0           0.0     14066001_0_0  \n",
       "1           0.0     14066001_0_1  \n",
       "2           0.0     14066001_0_2  \n",
       "3           0.0     14066001_0_3  \n",
       "4           0.0     14066001_0_4  \n",
       "...         ...              ...  \n",
       "4409469     0.0  95690001_729_19  \n",
       "4409470     0.0  95690001_729_20  \n",
       "4409471     0.0  95690001_729_21  \n",
       "4409472     0.0  95690001_729_22  \n",
       "4409473     0.0  95690001_729_23  \n",
       "\n",
       "[4409474 rows x 9 columns]"
      ]
     },
     "metadata": {},
     "output_type": "display_data"
    },
    {
     "name": "stdout",
     "output_type": "stream",
     "text": [
      "Missing Data : 6899007 \n",
      " Shape is : (4409474, 9)\n"
     ]
    }
   ],
   "source": [
    "##X_train\n",
    "xtrainS = pd.read_csv(xtrainS_path,parse_dates=['date'],infer_datetime_format=True)\n",
    "xtrainS['number_sta'] = xtrainS['number_sta'].astype('category')  \n",
    "display(xtrainS)\n",
    "print('Missing Data :', xtrainS.isna().sum().sum(), '\\n', 'Shape is :', xtrainS.shape)"
   ]
  },
  {
   "cell_type": "code",
   "execution_count": 4,
   "metadata": {},
   "outputs": [
    {
     "data": {
      "text/html": [
       "<div>\n",
       "<style scoped>\n",
       "    .dataframe tbody tr th:only-of-type {\n",
       "        vertical-align: middle;\n",
       "    }\n",
       "\n",
       "    .dataframe tbody tr th {\n",
       "        vertical-align: top;\n",
       "    }\n",
       "\n",
       "    .dataframe thead th {\n",
       "        text-align: right;\n",
       "    }\n",
       "</style>\n",
       "<table border=\"1\" class=\"dataframe\">\n",
       "  <thead>\n",
       "    <tr style=\"text-align: right;\">\n",
       "      <th></th>\n",
       "      <th>date</th>\n",
       "      <th>number_sta</th>\n",
       "      <th>Ground_truth</th>\n",
       "      <th>Id</th>\n",
       "    </tr>\n",
       "  </thead>\n",
       "  <tbody>\n",
       "    <tr>\n",
       "      <th>0</th>\n",
       "      <td>2016-01-02</td>\n",
       "      <td>14066001</td>\n",
       "      <td>3.4</td>\n",
       "      <td>14066001_0</td>\n",
       "    </tr>\n",
       "    <tr>\n",
       "      <th>1</th>\n",
       "      <td>2016-01-02</td>\n",
       "      <td>14126001</td>\n",
       "      <td>0.5</td>\n",
       "      <td>14126001_0</td>\n",
       "    </tr>\n",
       "    <tr>\n",
       "      <th>2</th>\n",
       "      <td>2016-01-02</td>\n",
       "      <td>14137001</td>\n",
       "      <td>3.4</td>\n",
       "      <td>14137001_0</td>\n",
       "    </tr>\n",
       "    <tr>\n",
       "      <th>3</th>\n",
       "      <td>2016-01-02</td>\n",
       "      <td>14216001</td>\n",
       "      <td>4.0</td>\n",
       "      <td>14216001_0</td>\n",
       "    </tr>\n",
       "    <tr>\n",
       "      <th>4</th>\n",
       "      <td>2016-01-02</td>\n",
       "      <td>14296001</td>\n",
       "      <td>13.3</td>\n",
       "      <td>14296001_0</td>\n",
       "    </tr>\n",
       "    <tr>\n",
       "      <th>...</th>\n",
       "      <td>...</td>\n",
       "      <td>...</td>\n",
       "      <td>...</td>\n",
       "      <td>...</td>\n",
       "    </tr>\n",
       "    <tr>\n",
       "      <th>183742</th>\n",
       "      <td>2017-12-31</td>\n",
       "      <td>86137003</td>\n",
       "      <td>5.0</td>\n",
       "      <td>86137003_729</td>\n",
       "    </tr>\n",
       "    <tr>\n",
       "      <th>183743</th>\n",
       "      <td>2017-12-31</td>\n",
       "      <td>86165005</td>\n",
       "      <td>3.2</td>\n",
       "      <td>86165005_729</td>\n",
       "    </tr>\n",
       "    <tr>\n",
       "      <th>183744</th>\n",
       "      <td>2017-12-31</td>\n",
       "      <td>86272002</td>\n",
       "      <td>1.8</td>\n",
       "      <td>86272002_729</td>\n",
       "    </tr>\n",
       "    <tr>\n",
       "      <th>183745</th>\n",
       "      <td>2017-12-31</td>\n",
       "      <td>91200002</td>\n",
       "      <td>1.6</td>\n",
       "      <td>91200002_729</td>\n",
       "    </tr>\n",
       "    <tr>\n",
       "      <th>183746</th>\n",
       "      <td>2017-12-31</td>\n",
       "      <td>95690001</td>\n",
       "      <td>1.2</td>\n",
       "      <td>95690001_729</td>\n",
       "    </tr>\n",
       "  </tbody>\n",
       "</table>\n",
       "<p>183747 rows × 4 columns</p>\n",
       "</div>"
      ],
      "text/plain": [
       "             date number_sta  Ground_truth            Id\n",
       "0      2016-01-02   14066001           3.4    14066001_0\n",
       "1      2016-01-02   14126001           0.5    14126001_0\n",
       "2      2016-01-02   14137001           3.4    14137001_0\n",
       "3      2016-01-02   14216001           4.0    14216001_0\n",
       "4      2016-01-02   14296001          13.3    14296001_0\n",
       "...           ...        ...           ...           ...\n",
       "183742 2017-12-31   86137003           5.0  86137003_729\n",
       "183743 2017-12-31   86165005           3.2  86165005_729\n",
       "183744 2017-12-31   86272002           1.8  86272002_729\n",
       "183745 2017-12-31   91200002           1.6  91200002_729\n",
       "183746 2017-12-31   95690001           1.2  95690001_729\n",
       "\n",
       "[183747 rows x 4 columns]"
      ]
     },
     "metadata": {},
     "output_type": "display_data"
    },
    {
     "name": "stdout",
     "output_type": "stream",
     "text": [
      "Missing Data : 21640 \n",
      " Shape is : (183747, 4)\n"
     ]
    }
   ],
   "source": [
    "#Y_train\n",
    "ytrain = pd.read_csv(ytrain_path, parse_dates=['date'], infer_datetime_format=True)\n",
    "ytrain['number_sta'] = ytrain['number_sta'].astype('category')\n",
    "display(ytrain)\n",
    "print('Missing Data :', ytrain.isna().sum().sum(), '\\n', 'Shape is :', ytrain.shape)"
   ]
  },
  {
   "cell_type": "code",
   "execution_count": 5,
   "metadata": {},
   "outputs": [
    {
     "data": {
      "text/html": [
       "<div>\n",
       "<style scoped>\n",
       "    .dataframe tbody tr th:only-of-type {\n",
       "        vertical-align: middle;\n",
       "    }\n",
       "\n",
       "    .dataframe tbody tr th {\n",
       "        vertical-align: top;\n",
       "    }\n",
       "\n",
       "    .dataframe thead th {\n",
       "        text-align: right;\n",
       "    }\n",
       "</style>\n",
       "<table border=\"1\" class=\"dataframe\">\n",
       "  <thead>\n",
       "    <tr style=\"text-align: right;\">\n",
       "      <th></th>\n",
       "      <th>dd</th>\n",
       "      <th>hu</th>\n",
       "      <th>td</th>\n",
       "      <th>t</th>\n",
       "      <th>ff</th>\n",
       "      <th>precip</th>\n",
       "      <th>month</th>\n",
       "      <th>Id</th>\n",
       "    </tr>\n",
       "  </thead>\n",
       "  <tbody>\n",
       "    <tr>\n",
       "      <th>0</th>\n",
       "      <td>NaN</td>\n",
       "      <td>NaN</td>\n",
       "      <td>NaN</td>\n",
       "      <td>278.35</td>\n",
       "      <td>NaN</td>\n",
       "      <td>NaN</td>\n",
       "      <td>12</td>\n",
       "      <td>14047002_277_4</td>\n",
       "    </tr>\n",
       "    <tr>\n",
       "      <th>1</th>\n",
       "      <td>NaN</td>\n",
       "      <td>NaN</td>\n",
       "      <td>NaN</td>\n",
       "      <td>278.40</td>\n",
       "      <td>NaN</td>\n",
       "      <td>0.0</td>\n",
       "      <td>12</td>\n",
       "      <td>14047002_277_5</td>\n",
       "    </tr>\n",
       "    <tr>\n",
       "      <th>2</th>\n",
       "      <td>NaN</td>\n",
       "      <td>NaN</td>\n",
       "      <td>NaN</td>\n",
       "      <td>279.01</td>\n",
       "      <td>NaN</td>\n",
       "      <td>0.0</td>\n",
       "      <td>12</td>\n",
       "      <td>14047002_277_6</td>\n",
       "    </tr>\n",
       "    <tr>\n",
       "      <th>3</th>\n",
       "      <td>NaN</td>\n",
       "      <td>NaN</td>\n",
       "      <td>NaN</td>\n",
       "      <td>279.66</td>\n",
       "      <td>NaN</td>\n",
       "      <td>0.0</td>\n",
       "      <td>12</td>\n",
       "      <td>14047002_277_7</td>\n",
       "    </tr>\n",
       "    <tr>\n",
       "      <th>4</th>\n",
       "      <td>NaN</td>\n",
       "      <td>NaN</td>\n",
       "      <td>NaN</td>\n",
       "      <td>279.99</td>\n",
       "      <td>NaN</td>\n",
       "      <td>0.0</td>\n",
       "      <td>12</td>\n",
       "      <td>14047002_277_8</td>\n",
       "    </tr>\n",
       "    <tr>\n",
       "      <th>...</th>\n",
       "      <td>...</td>\n",
       "      <td>...</td>\n",
       "      <td>...</td>\n",
       "      <td>...</td>\n",
       "      <td>...</td>\n",
       "      <td>...</td>\n",
       "      <td>...</td>\n",
       "      <td>...</td>\n",
       "    </tr>\n",
       "    <tr>\n",
       "      <th>2304797</th>\n",
       "      <td>190.0</td>\n",
       "      <td>82.8</td>\n",
       "      <td>277.00</td>\n",
       "      <td>279.74</td>\n",
       "      <td>10.62</td>\n",
       "      <td>0.0</td>\n",
       "      <td>12</td>\n",
       "      <td>95690001_176_19</td>\n",
       "    </tr>\n",
       "    <tr>\n",
       "      <th>2304798</th>\n",
       "      <td>195.0</td>\n",
       "      <td>84.2</td>\n",
       "      <td>277.44</td>\n",
       "      <td>279.93</td>\n",
       "      <td>11.86</td>\n",
       "      <td>0.0</td>\n",
       "      <td>12</td>\n",
       "      <td>95690001_176_20</td>\n",
       "    </tr>\n",
       "    <tr>\n",
       "      <th>2304799</th>\n",
       "      <td>199.0</td>\n",
       "      <td>85.7</td>\n",
       "      <td>277.95</td>\n",
       "      <td>280.21</td>\n",
       "      <td>11.77</td>\n",
       "      <td>0.0</td>\n",
       "      <td>12</td>\n",
       "      <td>95690001_176_21</td>\n",
       "    </tr>\n",
       "    <tr>\n",
       "      <th>2304800</th>\n",
       "      <td>198.0</td>\n",
       "      <td>85.3</td>\n",
       "      <td>278.25</td>\n",
       "      <td>280.58</td>\n",
       "      <td>10.16</td>\n",
       "      <td>0.0</td>\n",
       "      <td>12</td>\n",
       "      <td>95690001_176_22</td>\n",
       "    </tr>\n",
       "    <tr>\n",
       "      <th>2304801</th>\n",
       "      <td>190.0</td>\n",
       "      <td>86.0</td>\n",
       "      <td>278.60</td>\n",
       "      <td>280.80</td>\n",
       "      <td>9.50</td>\n",
       "      <td>0.0</td>\n",
       "      <td>12</td>\n",
       "      <td>95690001_176_23</td>\n",
       "    </tr>\n",
       "  </tbody>\n",
       "</table>\n",
       "<p>2304802 rows × 8 columns</p>\n",
       "</div>"
      ],
      "text/plain": [
       "            dd    hu      td       t     ff  precip  month               Id\n",
       "0          NaN   NaN     NaN  278.35    NaN     NaN     12   14047002_277_4\n",
       "1          NaN   NaN     NaN  278.40    NaN     0.0     12   14047002_277_5\n",
       "2          NaN   NaN     NaN  279.01    NaN     0.0     12   14047002_277_6\n",
       "3          NaN   NaN     NaN  279.66    NaN     0.0     12   14047002_277_7\n",
       "4          NaN   NaN     NaN  279.99    NaN     0.0     12   14047002_277_8\n",
       "...        ...   ...     ...     ...    ...     ...    ...              ...\n",
       "2304797  190.0  82.8  277.00  279.74  10.62     0.0     12  95690001_176_19\n",
       "2304798  195.0  84.2  277.44  279.93  11.86     0.0     12  95690001_176_20\n",
       "2304799  199.0  85.7  277.95  280.21  11.77     0.0     12  95690001_176_21\n",
       "2304800  198.0  85.3  278.25  280.58  10.16     0.0     12  95690001_176_22\n",
       "2304801  190.0  86.0  278.60  280.80   9.50     0.0     12  95690001_176_23\n",
       "\n",
       "[2304802 rows x 8 columns]"
      ]
     },
     "metadata": {},
     "output_type": "display_data"
    },
    {
     "name": "stdout",
     "output_type": "stream",
     "text": [
      "Missing Data : 3914287 \n",
      " Shape is : (2304802, 8)\n"
     ]
    }
   ],
   "source": [
    "##X_test\n",
    "xtestS = pd.read_csv(xtestS_path,infer_datetime_format=True)\n",
    "display(xtestS)\n",
    "print('Missing Data :', xtestS.isna().sum().sum(), '\\n', 'Shape is :', xtestS.shape)"
   ]
  },
  {
   "cell_type": "code",
   "execution_count": 6,
   "metadata": {},
   "outputs": [],
   "source": [
    "bl_obsT = pd.read_csv(bl_obsT_path,infer_datetime_format=True)\n",
    "Id_pred = bl_obsT[\"Id\"]"
   ]
  },
  {
   "cell_type": "markdown",
   "metadata": {},
   "source": [
    "# Plot precip avec un groupby par mois"
   ]
  },
  {
   "cell_type": "markdown",
   "metadata": {},
   "source": [
    "## <font color = 'royalblue'>3 Pré-processing</font>"
   ]
  },
  {
   "cell_type": "code",
   "execution_count": 7,
   "metadata": {},
   "outputs": [],
   "source": [
    "def Get_StationDay (id):\n",
    "    return id.split('_')[0] + \"_\" + id.split('_')[1]"
   ]
  },
  {
   "cell_type": "markdown",
   "metadata": {},
   "source": [
    "### 3.1 Train data"
   ]
  },
  {
   "cell_type": "markdown",
   "metadata": {},
   "source": [
    "**Remove NaNs**"
   ]
  },
  {
   "cell_type": "code",
   "execution_count": 8,
   "metadata": {},
   "outputs": [
    {
     "data": {
      "text/html": [
       "<div>\n",
       "<style scoped>\n",
       "    .dataframe tbody tr th:only-of-type {\n",
       "        vertical-align: middle;\n",
       "    }\n",
       "\n",
       "    .dataframe tbody tr th {\n",
       "        vertical-align: top;\n",
       "    }\n",
       "\n",
       "    .dataframe thead th {\n",
       "        text-align: right;\n",
       "    }\n",
       "</style>\n",
       "<table border=\"1\" class=\"dataframe\">\n",
       "  <thead>\n",
       "    <tr style=\"text-align: right;\">\n",
       "      <th></th>\n",
       "      <th>number_sta</th>\n",
       "      <th>date</th>\n",
       "      <th>ff</th>\n",
       "      <th>t</th>\n",
       "      <th>td</th>\n",
       "      <th>hu</th>\n",
       "      <th>dd</th>\n",
       "      <th>precip</th>\n",
       "      <th>Id</th>\n",
       "    </tr>\n",
       "  </thead>\n",
       "  <tbody>\n",
       "    <tr>\n",
       "      <th>0</th>\n",
       "      <td>14066001</td>\n",
       "      <td>2016-01-01 00:00:00</td>\n",
       "      <td>3.05</td>\n",
       "      <td>279.28</td>\n",
       "      <td>277.97</td>\n",
       "      <td>91.4</td>\n",
       "      <td>200.0</td>\n",
       "      <td>0.0</td>\n",
       "      <td>14066001_0_0</td>\n",
       "    </tr>\n",
       "    <tr>\n",
       "      <th>1</th>\n",
       "      <td>14066001</td>\n",
       "      <td>2016-01-01 01:00:00</td>\n",
       "      <td>2.57</td>\n",
       "      <td>278.76</td>\n",
       "      <td>277.45</td>\n",
       "      <td>91.4</td>\n",
       "      <td>190.0</td>\n",
       "      <td>0.0</td>\n",
       "      <td>14066001_0_1</td>\n",
       "    </tr>\n",
       "    <tr>\n",
       "      <th>2</th>\n",
       "      <td>14066001</td>\n",
       "      <td>2016-01-01 02:00:00</td>\n",
       "      <td>2.26</td>\n",
       "      <td>278.27</td>\n",
       "      <td>277.02</td>\n",
       "      <td>91.7</td>\n",
       "      <td>181.0</td>\n",
       "      <td>0.0</td>\n",
       "      <td>14066001_0_2</td>\n",
       "    </tr>\n",
       "    <tr>\n",
       "      <th>3</th>\n",
       "      <td>14066001</td>\n",
       "      <td>2016-01-01 03:00:00</td>\n",
       "      <td>2.62</td>\n",
       "      <td>277.98</td>\n",
       "      <td>276.95</td>\n",
       "      <td>93.0</td>\n",
       "      <td>159.0</td>\n",
       "      <td>0.0</td>\n",
       "      <td>14066001_0_3</td>\n",
       "    </tr>\n",
       "    <tr>\n",
       "      <th>4</th>\n",
       "      <td>14066001</td>\n",
       "      <td>2016-01-01 04:00:00</td>\n",
       "      <td>2.99</td>\n",
       "      <td>277.32</td>\n",
       "      <td>276.72</td>\n",
       "      <td>95.9</td>\n",
       "      <td>171.0</td>\n",
       "      <td>0.0</td>\n",
       "      <td>14066001_0_4</td>\n",
       "    </tr>\n",
       "  </tbody>\n",
       "</table>\n",
       "</div>"
      ],
      "text/plain": [
       "  number_sta                date    ff       t      td    hu     dd  precip  \\\n",
       "0   14066001 2016-01-01 00:00:00  3.05  279.28  277.97  91.4  200.0     0.0   \n",
       "1   14066001 2016-01-01 01:00:00  2.57  278.76  277.45  91.4  190.0     0.0   \n",
       "2   14066001 2016-01-01 02:00:00  2.26  278.27  277.02  91.7  181.0     0.0   \n",
       "3   14066001 2016-01-01 03:00:00  2.62  277.98  276.95  93.0  159.0     0.0   \n",
       "4   14066001 2016-01-01 04:00:00  2.99  277.32  276.72  95.9  171.0     0.0   \n",
       "\n",
       "             Id  \n",
       "0  14066001_0_0  \n",
       "1  14066001_0_1  \n",
       "2  14066001_0_2  \n",
       "3  14066001_0_3  \n",
       "4  14066001_0_4  "
      ]
     },
     "metadata": {},
     "output_type": "display_data"
    },
    {
     "name": "stdout",
     "output_type": "stream",
     "text": [
      "Missing Data : 0 \n",
      " Shape is : (2264105, 9)\n"
     ]
    }
   ],
   "source": [
    "xtrainS.dropna(inplace=True)\n",
    "display(xtrainS.head())\n",
    "print('Missing Data :', xtrainS.isna().sum().sum(), '\\n', 'Shape is :', xtrainS.shape)"
   ]
  },
  {
   "cell_type": "code",
   "execution_count": 9,
   "metadata": {},
   "outputs": [
    {
     "data": {
      "text/html": [
       "<div>\n",
       "<style scoped>\n",
       "    .dataframe tbody tr th:only-of-type {\n",
       "        vertical-align: middle;\n",
       "    }\n",
       "\n",
       "    .dataframe tbody tr th {\n",
       "        vertical-align: top;\n",
       "    }\n",
       "\n",
       "    .dataframe thead th {\n",
       "        text-align: right;\n",
       "    }\n",
       "</style>\n",
       "<table border=\"1\" class=\"dataframe\">\n",
       "  <thead>\n",
       "    <tr style=\"text-align: right;\">\n",
       "      <th></th>\n",
       "      <th>date</th>\n",
       "      <th>number_sta</th>\n",
       "      <th>Ground_truth</th>\n",
       "      <th>Id</th>\n",
       "    </tr>\n",
       "  </thead>\n",
       "  <tbody>\n",
       "    <tr>\n",
       "      <th>0</th>\n",
       "      <td>2016-01-02</td>\n",
       "      <td>14066001</td>\n",
       "      <td>3.4</td>\n",
       "      <td>14066001_0</td>\n",
       "    </tr>\n",
       "    <tr>\n",
       "      <th>1</th>\n",
       "      <td>2016-01-02</td>\n",
       "      <td>14126001</td>\n",
       "      <td>0.5</td>\n",
       "      <td>14126001_0</td>\n",
       "    </tr>\n",
       "    <tr>\n",
       "      <th>2</th>\n",
       "      <td>2016-01-02</td>\n",
       "      <td>14137001</td>\n",
       "      <td>3.4</td>\n",
       "      <td>14137001_0</td>\n",
       "    </tr>\n",
       "    <tr>\n",
       "      <th>3</th>\n",
       "      <td>2016-01-02</td>\n",
       "      <td>14216001</td>\n",
       "      <td>4.0</td>\n",
       "      <td>14216001_0</td>\n",
       "    </tr>\n",
       "    <tr>\n",
       "      <th>4</th>\n",
       "      <td>2016-01-02</td>\n",
       "      <td>14296001</td>\n",
       "      <td>13.3</td>\n",
       "      <td>14296001_0</td>\n",
       "    </tr>\n",
       "  </tbody>\n",
       "</table>\n",
       "</div>"
      ],
      "text/plain": [
       "        date number_sta  Ground_truth          Id\n",
       "0 2016-01-02   14066001           3.4  14066001_0\n",
       "1 2016-01-02   14126001           0.5  14126001_0\n",
       "2 2016-01-02   14137001           3.4  14137001_0\n",
       "3 2016-01-02   14216001           4.0  14216001_0\n",
       "4 2016-01-02   14296001          13.3  14296001_0"
      ]
     },
     "metadata": {},
     "output_type": "display_data"
    },
    {
     "name": "stdout",
     "output_type": "stream",
     "text": [
      "Missing Data : 0 \n",
      " Shape is : (162107, 4)\n"
     ]
    }
   ],
   "source": [
    "ytrain.dropna(inplace=True)\n",
    "display(ytrain.head())\n",
    "print('Missing Data :', ytrain.isna().sum().sum(), '\\n', 'Shape is :', ytrain.shape)"
   ]
  },
  {
   "cell_type": "markdown",
   "metadata": {},
   "source": [
    "**Create 'StationDay' column**"
   ]
  },
  {
   "cell_type": "code",
   "execution_count": 10,
   "metadata": {},
   "outputs": [
    {
     "data": {
      "text/html": [
       "<div>\n",
       "<style scoped>\n",
       "    .dataframe tbody tr th:only-of-type {\n",
       "        vertical-align: middle;\n",
       "    }\n",
       "\n",
       "    .dataframe tbody tr th {\n",
       "        vertical-align: top;\n",
       "    }\n",
       "\n",
       "    .dataframe thead th {\n",
       "        text-align: right;\n",
       "    }\n",
       "</style>\n",
       "<table border=\"1\" class=\"dataframe\">\n",
       "  <thead>\n",
       "    <tr style=\"text-align: right;\">\n",
       "      <th></th>\n",
       "      <th>number_sta</th>\n",
       "      <th>date</th>\n",
       "      <th>ff</th>\n",
       "      <th>t</th>\n",
       "      <th>td</th>\n",
       "      <th>hu</th>\n",
       "      <th>dd</th>\n",
       "      <th>precip</th>\n",
       "      <th>Id</th>\n",
       "      <th>StationDay</th>\n",
       "    </tr>\n",
       "  </thead>\n",
       "  <tbody>\n",
       "    <tr>\n",
       "      <th>0</th>\n",
       "      <td>14066001</td>\n",
       "      <td>2016-01-01 00:00:00</td>\n",
       "      <td>3.05</td>\n",
       "      <td>279.28</td>\n",
       "      <td>277.97</td>\n",
       "      <td>91.4</td>\n",
       "      <td>200.0</td>\n",
       "      <td>0.0</td>\n",
       "      <td>14066001_0_0</td>\n",
       "      <td>14066001_0</td>\n",
       "    </tr>\n",
       "    <tr>\n",
       "      <th>1</th>\n",
       "      <td>14066001</td>\n",
       "      <td>2016-01-01 01:00:00</td>\n",
       "      <td>2.57</td>\n",
       "      <td>278.76</td>\n",
       "      <td>277.45</td>\n",
       "      <td>91.4</td>\n",
       "      <td>190.0</td>\n",
       "      <td>0.0</td>\n",
       "      <td>14066001_0_1</td>\n",
       "      <td>14066001_0</td>\n",
       "    </tr>\n",
       "    <tr>\n",
       "      <th>2</th>\n",
       "      <td>14066001</td>\n",
       "      <td>2016-01-01 02:00:00</td>\n",
       "      <td>2.26</td>\n",
       "      <td>278.27</td>\n",
       "      <td>277.02</td>\n",
       "      <td>91.7</td>\n",
       "      <td>181.0</td>\n",
       "      <td>0.0</td>\n",
       "      <td>14066001_0_2</td>\n",
       "      <td>14066001_0</td>\n",
       "    </tr>\n",
       "    <tr>\n",
       "      <th>3</th>\n",
       "      <td>14066001</td>\n",
       "      <td>2016-01-01 03:00:00</td>\n",
       "      <td>2.62</td>\n",
       "      <td>277.98</td>\n",
       "      <td>276.95</td>\n",
       "      <td>93.0</td>\n",
       "      <td>159.0</td>\n",
       "      <td>0.0</td>\n",
       "      <td>14066001_0_3</td>\n",
       "      <td>14066001_0</td>\n",
       "    </tr>\n",
       "    <tr>\n",
       "      <th>4</th>\n",
       "      <td>14066001</td>\n",
       "      <td>2016-01-01 04:00:00</td>\n",
       "      <td>2.99</td>\n",
       "      <td>277.32</td>\n",
       "      <td>276.72</td>\n",
       "      <td>95.9</td>\n",
       "      <td>171.0</td>\n",
       "      <td>0.0</td>\n",
       "      <td>14066001_0_4</td>\n",
       "      <td>14066001_0</td>\n",
       "    </tr>\n",
       "  </tbody>\n",
       "</table>\n",
       "</div>"
      ],
      "text/plain": [
       "  number_sta                date    ff       t      td    hu     dd  precip  \\\n",
       "0   14066001 2016-01-01 00:00:00  3.05  279.28  277.97  91.4  200.0     0.0   \n",
       "1   14066001 2016-01-01 01:00:00  2.57  278.76  277.45  91.4  190.0     0.0   \n",
       "2   14066001 2016-01-01 02:00:00  2.26  278.27  277.02  91.7  181.0     0.0   \n",
       "3   14066001 2016-01-01 03:00:00  2.62  277.98  276.95  93.0  159.0     0.0   \n",
       "4   14066001 2016-01-01 04:00:00  2.99  277.32  276.72  95.9  171.0     0.0   \n",
       "\n",
       "             Id  StationDay  \n",
       "0  14066001_0_0  14066001_0  \n",
       "1  14066001_0_1  14066001_0  \n",
       "2  14066001_0_2  14066001_0  \n",
       "3  14066001_0_3  14066001_0  \n",
       "4  14066001_0_4  14066001_0  "
      ]
     },
     "metadata": {},
     "output_type": "display_data"
    },
    {
     "name": "stdout",
     "output_type": "stream",
     "text": [
      "Missing Data : 0 \n",
      " Shape is : (2264105, 10)\n"
     ]
    }
   ],
   "source": [
    "xtrainS = xtrainS.assign(StationDay=pd.Series(np.zeros(xtrainS.shape[0])).values)\n",
    "xtrainS.loc[:,\"StationDay\"] = xtrainS.loc[:,\"Id\"].apply(Get_StationDay)\n",
    "display(xtrainS.head())\n",
    "print('Missing Data :', xtrainS.isna().sum().sum(), '\\n', 'Shape is :', xtrainS.shape)"
   ]
  },
  {
   "cell_type": "markdown",
   "metadata": {},
   "source": [
    "**Drop Useless columns**"
   ]
  },
  {
   "cell_type": "code",
   "execution_count": 11,
   "metadata": {},
   "outputs": [
    {
     "data": {
      "text/html": [
       "<div>\n",
       "<style scoped>\n",
       "    .dataframe tbody tr th:only-of-type {\n",
       "        vertical-align: middle;\n",
       "    }\n",
       "\n",
       "    .dataframe tbody tr th {\n",
       "        vertical-align: top;\n",
       "    }\n",
       "\n",
       "    .dataframe thead th {\n",
       "        text-align: right;\n",
       "    }\n",
       "</style>\n",
       "<table border=\"1\" class=\"dataframe\">\n",
       "  <thead>\n",
       "    <tr style=\"text-align: right;\">\n",
       "      <th></th>\n",
       "      <th>ff</th>\n",
       "      <th>t</th>\n",
       "      <th>td</th>\n",
       "      <th>hu</th>\n",
       "      <th>dd</th>\n",
       "      <th>precip</th>\n",
       "      <th>StationDay</th>\n",
       "    </tr>\n",
       "  </thead>\n",
       "  <tbody>\n",
       "    <tr>\n",
       "      <th>0</th>\n",
       "      <td>3.05</td>\n",
       "      <td>279.28</td>\n",
       "      <td>277.97</td>\n",
       "      <td>91.4</td>\n",
       "      <td>200.0</td>\n",
       "      <td>0.0</td>\n",
       "      <td>14066001_0</td>\n",
       "    </tr>\n",
       "    <tr>\n",
       "      <th>1</th>\n",
       "      <td>2.57</td>\n",
       "      <td>278.76</td>\n",
       "      <td>277.45</td>\n",
       "      <td>91.4</td>\n",
       "      <td>190.0</td>\n",
       "      <td>0.0</td>\n",
       "      <td>14066001_0</td>\n",
       "    </tr>\n",
       "    <tr>\n",
       "      <th>2</th>\n",
       "      <td>2.26</td>\n",
       "      <td>278.27</td>\n",
       "      <td>277.02</td>\n",
       "      <td>91.7</td>\n",
       "      <td>181.0</td>\n",
       "      <td>0.0</td>\n",
       "      <td>14066001_0</td>\n",
       "    </tr>\n",
       "    <tr>\n",
       "      <th>3</th>\n",
       "      <td>2.62</td>\n",
       "      <td>277.98</td>\n",
       "      <td>276.95</td>\n",
       "      <td>93.0</td>\n",
       "      <td>159.0</td>\n",
       "      <td>0.0</td>\n",
       "      <td>14066001_0</td>\n",
       "    </tr>\n",
       "    <tr>\n",
       "      <th>4</th>\n",
       "      <td>2.99</td>\n",
       "      <td>277.32</td>\n",
       "      <td>276.72</td>\n",
       "      <td>95.9</td>\n",
       "      <td>171.0</td>\n",
       "      <td>0.0</td>\n",
       "      <td>14066001_0</td>\n",
       "    </tr>\n",
       "  </tbody>\n",
       "</table>\n",
       "</div>"
      ],
      "text/plain": [
       "     ff       t      td    hu     dd  precip  StationDay\n",
       "0  3.05  279.28  277.97  91.4  200.0     0.0  14066001_0\n",
       "1  2.57  278.76  277.45  91.4  190.0     0.0  14066001_0\n",
       "2  2.26  278.27  277.02  91.7  181.0     0.0  14066001_0\n",
       "3  2.62  277.98  276.95  93.0  159.0     0.0  14066001_0\n",
       "4  2.99  277.32  276.72  95.9  171.0     0.0  14066001_0"
      ]
     },
     "metadata": {},
     "output_type": "display_data"
    },
    {
     "name": "stdout",
     "output_type": "stream",
     "text": [
      "Missing Data : 0 \n",
      " Shape is : (2264105, 7)\n"
     ]
    }
   ],
   "source": [
    "xtrainS.drop(['number_sta', 'date', 'Id'], axis=1, inplace=True)\n",
    "display(xtrainS.head())\n",
    "print('Missing Data :', xtrainS.isna().sum().sum(), '\\n', 'Shape is :', xtrainS.shape)"
   ]
  },
  {
   "cell_type": "code",
   "execution_count": 12,
   "metadata": {},
   "outputs": [
    {
     "data": {
      "text/html": [
       "<div>\n",
       "<style scoped>\n",
       "    .dataframe tbody tr th:only-of-type {\n",
       "        vertical-align: middle;\n",
       "    }\n",
       "\n",
       "    .dataframe tbody tr th {\n",
       "        vertical-align: top;\n",
       "    }\n",
       "\n",
       "    .dataframe thead th {\n",
       "        text-align: right;\n",
       "    }\n",
       "</style>\n",
       "<table border=\"1\" class=\"dataframe\">\n",
       "  <thead>\n",
       "    <tr style=\"text-align: right;\">\n",
       "      <th></th>\n",
       "      <th>Ground_truth</th>\n",
       "      <th>Id</th>\n",
       "    </tr>\n",
       "  </thead>\n",
       "  <tbody>\n",
       "    <tr>\n",
       "      <th>0</th>\n",
       "      <td>3.4</td>\n",
       "      <td>14066001_0</td>\n",
       "    </tr>\n",
       "    <tr>\n",
       "      <th>1</th>\n",
       "      <td>0.5</td>\n",
       "      <td>14126001_0</td>\n",
       "    </tr>\n",
       "    <tr>\n",
       "      <th>2</th>\n",
       "      <td>3.4</td>\n",
       "      <td>14137001_0</td>\n",
       "    </tr>\n",
       "    <tr>\n",
       "      <th>3</th>\n",
       "      <td>4.0</td>\n",
       "      <td>14216001_0</td>\n",
       "    </tr>\n",
       "    <tr>\n",
       "      <th>4</th>\n",
       "      <td>13.3</td>\n",
       "      <td>14296001_0</td>\n",
       "    </tr>\n",
       "  </tbody>\n",
       "</table>\n",
       "</div>"
      ],
      "text/plain": [
       "   Ground_truth          Id\n",
       "0           3.4  14066001_0\n",
       "1           0.5  14126001_0\n",
       "2           3.4  14137001_0\n",
       "3           4.0  14216001_0\n",
       "4          13.3  14296001_0"
      ]
     },
     "metadata": {},
     "output_type": "display_data"
    },
    {
     "name": "stdout",
     "output_type": "stream",
     "text": [
      "Missing Data : 0 \n",
      " Shape is : (162107, 2)\n"
     ]
    }
   ],
   "source": [
    "ytrain.drop(['date', 'number_sta'], axis=1, inplace=True)\n",
    "display(ytrain.head())\n",
    "print('Missing Data :', ytrain.isna().sum().sum(), '\\n', 'Shape is :', ytrain.shape)"
   ]
  },
  {
   "cell_type": "markdown",
   "metadata": {},
   "source": [
    "**Mean on 24 hours (except 'precip')**"
   ]
  },
  {
   "cell_type": "code",
   "execution_count": 13,
   "metadata": {},
   "outputs": [
    {
     "data": {
      "text/html": [
       "<div>\n",
       "<style scoped>\n",
       "    .dataframe tbody tr th:only-of-type {\n",
       "        vertical-align: middle;\n",
       "    }\n",
       "\n",
       "    .dataframe tbody tr th {\n",
       "        vertical-align: top;\n",
       "    }\n",
       "\n",
       "    .dataframe thead th {\n",
       "        text-align: right;\n",
       "    }\n",
       "</style>\n",
       "<table border=\"1\" class=\"dataframe\">\n",
       "  <thead>\n",
       "    <tr style=\"text-align: right;\">\n",
       "      <th></th>\n",
       "      <th>StationDay</th>\n",
       "      <th>ff</th>\n",
       "      <th>t</th>\n",
       "      <th>td</th>\n",
       "      <th>hu</th>\n",
       "      <th>dd</th>\n",
       "      <th>precip</th>\n",
       "    </tr>\n",
       "  </thead>\n",
       "  <tbody>\n",
       "    <tr>\n",
       "      <th>0</th>\n",
       "      <td>14066001_0</td>\n",
       "      <td>3.913750</td>\n",
       "      <td>280.333750</td>\n",
       "      <td>278.514583</td>\n",
       "      <td>88.591667</td>\n",
       "      <td>146.500000</td>\n",
       "      <td>0.2</td>\n",
       "    </tr>\n",
       "    <tr>\n",
       "      <th>1</th>\n",
       "      <td>14066001_1</td>\n",
       "      <td>8.041250</td>\n",
       "      <td>282.936667</td>\n",
       "      <td>279.997500</td>\n",
       "      <td>82.300000</td>\n",
       "      <td>205.625000</td>\n",
       "      <td>3.4</td>\n",
       "    </tr>\n",
       "    <tr>\n",
       "      <th>2</th>\n",
       "      <td>14066001_10</td>\n",
       "      <td>5.408750</td>\n",
       "      <td>279.557917</td>\n",
       "      <td>277.497917</td>\n",
       "      <td>86.750000</td>\n",
       "      <td>209.541667</td>\n",
       "      <td>6.0</td>\n",
       "    </tr>\n",
       "    <tr>\n",
       "      <th>3</th>\n",
       "      <td>14066001_100</td>\n",
       "      <td>4.296250</td>\n",
       "      <td>282.112917</td>\n",
       "      <td>277.944583</td>\n",
       "      <td>76.408333</td>\n",
       "      <td>134.958333</td>\n",
       "      <td>11.6</td>\n",
       "    </tr>\n",
       "    <tr>\n",
       "      <th>4</th>\n",
       "      <td>14066001_101</td>\n",
       "      <td>1.754583</td>\n",
       "      <td>282.805000</td>\n",
       "      <td>281.003333</td>\n",
       "      <td>88.745833</td>\n",
       "      <td>167.208333</td>\n",
       "      <td>5.6</td>\n",
       "    </tr>\n",
       "  </tbody>\n",
       "</table>\n",
       "</div>"
      ],
      "text/plain": [
       "     StationDay        ff           t          td         hu          dd  \\\n",
       "0    14066001_0  3.913750  280.333750  278.514583  88.591667  146.500000   \n",
       "1    14066001_1  8.041250  282.936667  279.997500  82.300000  205.625000   \n",
       "2   14066001_10  5.408750  279.557917  277.497917  86.750000  209.541667   \n",
       "3  14066001_100  4.296250  282.112917  277.944583  76.408333  134.958333   \n",
       "4  14066001_101  1.754583  282.805000  281.003333  88.745833  167.208333   \n",
       "\n",
       "   precip  \n",
       "0     0.2  \n",
       "1     3.4  \n",
       "2     6.0  \n",
       "3    11.6  \n",
       "4     5.6  "
      ]
     },
     "metadata": {},
     "output_type": "display_data"
    },
    {
     "name": "stdout",
     "output_type": "stream",
     "text": [
      "Missing Data : 58296 \n",
      " Shape is : (96009, 7)\n"
     ]
    }
   ],
   "source": [
    "xtrainS = xtrainS.groupby(\"StationDay\", as_index=False).agg(pd.Series.sum, min_count = 24)\n",
    "xtrainS[['dd', 'hu', 'td', 't', 'ff']] = xtrainS[['dd', 'hu', 'td', 't', 'ff']].divide(24)\n",
    "display(xtrainS.head())\n",
    "print('Missing Data :', xtrainS.isna().sum().sum(), '\\n', 'Shape is :', xtrainS.shape)"
   ]
  },
  {
   "cell_type": "markdown",
   "metadata": {},
   "source": [
    "**Remove NaNs**"
   ]
  },
  {
   "cell_type": "code",
   "execution_count": 14,
   "metadata": {},
   "outputs": [
    {
     "data": {
      "text/html": [
       "<div>\n",
       "<style scoped>\n",
       "    .dataframe tbody tr th:only-of-type {\n",
       "        vertical-align: middle;\n",
       "    }\n",
       "\n",
       "    .dataframe tbody tr th {\n",
       "        vertical-align: top;\n",
       "    }\n",
       "\n",
       "    .dataframe thead th {\n",
       "        text-align: right;\n",
       "    }\n",
       "</style>\n",
       "<table border=\"1\" class=\"dataframe\">\n",
       "  <thead>\n",
       "    <tr style=\"text-align: right;\">\n",
       "      <th></th>\n",
       "      <th>StationDay</th>\n",
       "      <th>ff</th>\n",
       "      <th>t</th>\n",
       "      <th>td</th>\n",
       "      <th>hu</th>\n",
       "      <th>dd</th>\n",
       "      <th>precip</th>\n",
       "    </tr>\n",
       "  </thead>\n",
       "  <tbody>\n",
       "    <tr>\n",
       "      <th>0</th>\n",
       "      <td>14066001_0</td>\n",
       "      <td>3.913750</td>\n",
       "      <td>280.333750</td>\n",
       "      <td>278.514583</td>\n",
       "      <td>88.591667</td>\n",
       "      <td>146.500000</td>\n",
       "      <td>0.2</td>\n",
       "    </tr>\n",
       "    <tr>\n",
       "      <th>1</th>\n",
       "      <td>14066001_1</td>\n",
       "      <td>8.041250</td>\n",
       "      <td>282.936667</td>\n",
       "      <td>279.997500</td>\n",
       "      <td>82.300000</td>\n",
       "      <td>205.625000</td>\n",
       "      <td>3.4</td>\n",
       "    </tr>\n",
       "    <tr>\n",
       "      <th>2</th>\n",
       "      <td>14066001_10</td>\n",
       "      <td>5.408750</td>\n",
       "      <td>279.557917</td>\n",
       "      <td>277.497917</td>\n",
       "      <td>86.750000</td>\n",
       "      <td>209.541667</td>\n",
       "      <td>6.0</td>\n",
       "    </tr>\n",
       "    <tr>\n",
       "      <th>3</th>\n",
       "      <td>14066001_100</td>\n",
       "      <td>4.296250</td>\n",
       "      <td>282.112917</td>\n",
       "      <td>277.944583</td>\n",
       "      <td>76.408333</td>\n",
       "      <td>134.958333</td>\n",
       "      <td>11.6</td>\n",
       "    </tr>\n",
       "    <tr>\n",
       "      <th>4</th>\n",
       "      <td>14066001_101</td>\n",
       "      <td>1.754583</td>\n",
       "      <td>282.805000</td>\n",
       "      <td>281.003333</td>\n",
       "      <td>88.745833</td>\n",
       "      <td>167.208333</td>\n",
       "      <td>5.6</td>\n",
       "    </tr>\n",
       "  </tbody>\n",
       "</table>\n",
       "</div>"
      ],
      "text/plain": [
       "     StationDay        ff           t          td         hu          dd  \\\n",
       "0    14066001_0  3.913750  280.333750  278.514583  88.591667  146.500000   \n",
       "1    14066001_1  8.041250  282.936667  279.997500  82.300000  205.625000   \n",
       "2   14066001_10  5.408750  279.557917  277.497917  86.750000  209.541667   \n",
       "3  14066001_100  4.296250  282.112917  277.944583  76.408333  134.958333   \n",
       "4  14066001_101  1.754583  282.805000  281.003333  88.745833  167.208333   \n",
       "\n",
       "   precip  \n",
       "0     0.2  \n",
       "1     3.4  \n",
       "2     6.0  \n",
       "3    11.6  \n",
       "4     5.6  "
      ]
     },
     "metadata": {},
     "output_type": "display_data"
    },
    {
     "name": "stdout",
     "output_type": "stream",
     "text": [
      "Missing Data : 0 \n",
      " Shape is : (86293, 7)\n"
     ]
    }
   ],
   "source": [
    "xtrainS.dropna(inplace=True)\n",
    "display(xtrainS.head())\n",
    "print('Missing Data :', xtrainS.isna().sum().sum(), '\\n', 'Shape is :', xtrainS.shape)"
   ]
  },
  {
   "cell_type": "markdown",
   "metadata": {},
   "source": [
    "**Keep the same rows in X_train and Y_train**"
   ]
  },
  {
   "cell_type": "code",
   "execution_count": 15,
   "metadata": {},
   "outputs": [
    {
     "data": {
      "text/html": [
       "<div>\n",
       "<style scoped>\n",
       "    .dataframe tbody tr th:only-of-type {\n",
       "        vertical-align: middle;\n",
       "    }\n",
       "\n",
       "    .dataframe tbody tr th {\n",
       "        vertical-align: top;\n",
       "    }\n",
       "\n",
       "    .dataframe thead th {\n",
       "        text-align: right;\n",
       "    }\n",
       "</style>\n",
       "<table border=\"1\" class=\"dataframe\">\n",
       "  <thead>\n",
       "    <tr style=\"text-align: right;\">\n",
       "      <th></th>\n",
       "      <th>StationDay</th>\n",
       "      <th>ff</th>\n",
       "      <th>t</th>\n",
       "      <th>td</th>\n",
       "      <th>hu</th>\n",
       "      <th>dd</th>\n",
       "      <th>precip</th>\n",
       "    </tr>\n",
       "  </thead>\n",
       "  <tbody>\n",
       "    <tr>\n",
       "      <th>0</th>\n",
       "      <td>14066001_0</td>\n",
       "      <td>3.913750</td>\n",
       "      <td>280.333750</td>\n",
       "      <td>278.514583</td>\n",
       "      <td>88.591667</td>\n",
       "      <td>146.500000</td>\n",
       "      <td>0.2</td>\n",
       "    </tr>\n",
       "    <tr>\n",
       "      <th>1</th>\n",
       "      <td>14066001_1</td>\n",
       "      <td>8.041250</td>\n",
       "      <td>282.936667</td>\n",
       "      <td>279.997500</td>\n",
       "      <td>82.300000</td>\n",
       "      <td>205.625000</td>\n",
       "      <td>3.4</td>\n",
       "    </tr>\n",
       "    <tr>\n",
       "      <th>2</th>\n",
       "      <td>14066001_10</td>\n",
       "      <td>5.408750</td>\n",
       "      <td>279.557917</td>\n",
       "      <td>277.497917</td>\n",
       "      <td>86.750000</td>\n",
       "      <td>209.541667</td>\n",
       "      <td>6.0</td>\n",
       "    </tr>\n",
       "    <tr>\n",
       "      <th>3</th>\n",
       "      <td>14066001_100</td>\n",
       "      <td>4.296250</td>\n",
       "      <td>282.112917</td>\n",
       "      <td>277.944583</td>\n",
       "      <td>76.408333</td>\n",
       "      <td>134.958333</td>\n",
       "      <td>11.6</td>\n",
       "    </tr>\n",
       "    <tr>\n",
       "      <th>4</th>\n",
       "      <td>14066001_101</td>\n",
       "      <td>1.754583</td>\n",
       "      <td>282.805000</td>\n",
       "      <td>281.003333</td>\n",
       "      <td>88.745833</td>\n",
       "      <td>167.208333</td>\n",
       "      <td>5.6</td>\n",
       "    </tr>\n",
       "  </tbody>\n",
       "</table>\n",
       "</div>"
      ],
      "text/plain": [
       "     StationDay        ff           t          td         hu          dd  \\\n",
       "0    14066001_0  3.913750  280.333750  278.514583  88.591667  146.500000   \n",
       "1    14066001_1  8.041250  282.936667  279.997500  82.300000  205.625000   \n",
       "2   14066001_10  5.408750  279.557917  277.497917  86.750000  209.541667   \n",
       "3  14066001_100  4.296250  282.112917  277.944583  76.408333  134.958333   \n",
       "4  14066001_101  1.754583  282.805000  281.003333  88.745833  167.208333   \n",
       "\n",
       "   precip  \n",
       "0     0.2  \n",
       "1     3.4  \n",
       "2     6.0  \n",
       "3    11.6  \n",
       "4     5.6  "
      ]
     },
     "metadata": {},
     "output_type": "display_data"
    },
    {
     "name": "stdout",
     "output_type": "stream",
     "text": [
      "Missing Data : 0 \n",
      " Shape is : (82120, 7)\n"
     ]
    }
   ],
   "source": [
    "xtrainS = xtrainS.loc[xtrainS['StationDay'].isin(ytrain[\"Id\"])]\n",
    "display(xtrainS.head())\n",
    "print('Missing Data :', xtrainS.isna().sum().sum(), '\\n', 'Shape is :', xtrainS.shape)"
   ]
  },
  {
   "cell_type": "code",
   "execution_count": 16,
   "metadata": {},
   "outputs": [
    {
     "data": {
      "text/html": [
       "<div>\n",
       "<style scoped>\n",
       "    .dataframe tbody tr th:only-of-type {\n",
       "        vertical-align: middle;\n",
       "    }\n",
       "\n",
       "    .dataframe tbody tr th {\n",
       "        vertical-align: top;\n",
       "    }\n",
       "\n",
       "    .dataframe thead th {\n",
       "        text-align: right;\n",
       "    }\n",
       "</style>\n",
       "<table border=\"1\" class=\"dataframe\">\n",
       "  <thead>\n",
       "    <tr style=\"text-align: right;\">\n",
       "      <th></th>\n",
       "      <th>Ground_truth</th>\n",
       "      <th>Id</th>\n",
       "    </tr>\n",
       "  </thead>\n",
       "  <tbody>\n",
       "    <tr>\n",
       "      <th>0</th>\n",
       "      <td>3.4</td>\n",
       "      <td>14066001_0</td>\n",
       "    </tr>\n",
       "    <tr>\n",
       "      <th>3</th>\n",
       "      <td>4.0</td>\n",
       "      <td>14216001_0</td>\n",
       "    </tr>\n",
       "    <tr>\n",
       "      <th>7</th>\n",
       "      <td>10.0</td>\n",
       "      <td>14372001_0</td>\n",
       "    </tr>\n",
       "    <tr>\n",
       "      <th>11</th>\n",
       "      <td>3.6</td>\n",
       "      <td>14578001_0</td>\n",
       "    </tr>\n",
       "    <tr>\n",
       "      <th>14</th>\n",
       "      <td>10.3</td>\n",
       "      <td>14762004_0</td>\n",
       "    </tr>\n",
       "  </tbody>\n",
       "</table>\n",
       "</div>"
      ],
      "text/plain": [
       "    Ground_truth          Id\n",
       "0            3.4  14066001_0\n",
       "3            4.0  14216001_0\n",
       "7           10.0  14372001_0\n",
       "11           3.6  14578001_0\n",
       "14          10.3  14762004_0"
      ]
     },
     "metadata": {},
     "output_type": "display_data"
    },
    {
     "name": "stdout",
     "output_type": "stream",
     "text": [
      "Missing Data : 0 \n",
      " Shape is : (82120, 2)\n"
     ]
    }
   ],
   "source": [
    "ytrain = ytrain.loc[ytrain['Id'].isin(xtrainS[\"StationDay\"])]\n",
    "display(ytrain.head())\n",
    "print('Missing Data :', ytrain.isna().sum().sum(), '\\n', 'Shape is :', ytrain.shape)"
   ]
  },
  {
   "cell_type": "markdown",
   "metadata": {},
   "source": [
    "**Reset index**"
   ]
  },
  {
   "cell_type": "code",
   "execution_count": 17,
   "metadata": {},
   "outputs": [
    {
     "data": {
      "text/html": [
       "<div>\n",
       "<style scoped>\n",
       "    .dataframe tbody tr th:only-of-type {\n",
       "        vertical-align: middle;\n",
       "    }\n",
       "\n",
       "    .dataframe tbody tr th {\n",
       "        vertical-align: top;\n",
       "    }\n",
       "\n",
       "    .dataframe thead th {\n",
       "        text-align: right;\n",
       "    }\n",
       "</style>\n",
       "<table border=\"1\" class=\"dataframe\">\n",
       "  <thead>\n",
       "    <tr style=\"text-align: right;\">\n",
       "      <th></th>\n",
       "      <th>StationDay</th>\n",
       "      <th>ff</th>\n",
       "      <th>t</th>\n",
       "      <th>td</th>\n",
       "      <th>hu</th>\n",
       "      <th>dd</th>\n",
       "      <th>precip</th>\n",
       "    </tr>\n",
       "  </thead>\n",
       "  <tbody>\n",
       "    <tr>\n",
       "      <th>0</th>\n",
       "      <td>14066001_0</td>\n",
       "      <td>3.913750</td>\n",
       "      <td>280.333750</td>\n",
       "      <td>278.514583</td>\n",
       "      <td>88.591667</td>\n",
       "      <td>146.500000</td>\n",
       "      <td>0.2</td>\n",
       "    </tr>\n",
       "    <tr>\n",
       "      <th>1</th>\n",
       "      <td>14066001_1</td>\n",
       "      <td>8.041250</td>\n",
       "      <td>282.936667</td>\n",
       "      <td>279.997500</td>\n",
       "      <td>82.300000</td>\n",
       "      <td>205.625000</td>\n",
       "      <td>3.4</td>\n",
       "    </tr>\n",
       "    <tr>\n",
       "      <th>2</th>\n",
       "      <td>14066001_10</td>\n",
       "      <td>5.408750</td>\n",
       "      <td>279.557917</td>\n",
       "      <td>277.497917</td>\n",
       "      <td>86.750000</td>\n",
       "      <td>209.541667</td>\n",
       "      <td>6.0</td>\n",
       "    </tr>\n",
       "    <tr>\n",
       "      <th>3</th>\n",
       "      <td>14066001_100</td>\n",
       "      <td>4.296250</td>\n",
       "      <td>282.112917</td>\n",
       "      <td>277.944583</td>\n",
       "      <td>76.408333</td>\n",
       "      <td>134.958333</td>\n",
       "      <td>11.6</td>\n",
       "    </tr>\n",
       "    <tr>\n",
       "      <th>4</th>\n",
       "      <td>14066001_101</td>\n",
       "      <td>1.754583</td>\n",
       "      <td>282.805000</td>\n",
       "      <td>281.003333</td>\n",
       "      <td>88.745833</td>\n",
       "      <td>167.208333</td>\n",
       "      <td>5.6</td>\n",
       "    </tr>\n",
       "  </tbody>\n",
       "</table>\n",
       "</div>"
      ],
      "text/plain": [
       "     StationDay        ff           t          td         hu          dd  \\\n",
       "0    14066001_0  3.913750  280.333750  278.514583  88.591667  146.500000   \n",
       "1    14066001_1  8.041250  282.936667  279.997500  82.300000  205.625000   \n",
       "2   14066001_10  5.408750  279.557917  277.497917  86.750000  209.541667   \n",
       "3  14066001_100  4.296250  282.112917  277.944583  76.408333  134.958333   \n",
       "4  14066001_101  1.754583  282.805000  281.003333  88.745833  167.208333   \n",
       "\n",
       "   precip  \n",
       "0     0.2  \n",
       "1     3.4  \n",
       "2     6.0  \n",
       "3    11.6  \n",
       "4     5.6  "
      ]
     },
     "metadata": {},
     "output_type": "display_data"
    },
    {
     "name": "stdout",
     "output_type": "stream",
     "text": [
      "Missing Data : 0 \n",
      " Shape is : (82120, 7)\n"
     ]
    }
   ],
   "source": [
    "xtrainS.reset_index(drop=True,inplace=True)\n",
    "display(xtrainS.head())\n",
    "print('Missing Data :', xtrainS.isna().sum().sum(), '\\n', 'Shape is :', xtrainS.shape)"
   ]
  },
  {
   "cell_type": "code",
   "execution_count": 18,
   "metadata": {},
   "outputs": [
    {
     "data": {
      "text/html": [
       "<div>\n",
       "<style scoped>\n",
       "    .dataframe tbody tr th:only-of-type {\n",
       "        vertical-align: middle;\n",
       "    }\n",
       "\n",
       "    .dataframe tbody tr th {\n",
       "        vertical-align: top;\n",
       "    }\n",
       "\n",
       "    .dataframe thead th {\n",
       "        text-align: right;\n",
       "    }\n",
       "</style>\n",
       "<table border=\"1\" class=\"dataframe\">\n",
       "  <thead>\n",
       "    <tr style=\"text-align: right;\">\n",
       "      <th></th>\n",
       "      <th>Ground_truth</th>\n",
       "      <th>Id</th>\n",
       "    </tr>\n",
       "  </thead>\n",
       "  <tbody>\n",
       "    <tr>\n",
       "      <th>0</th>\n",
       "      <td>3.4</td>\n",
       "      <td>14066001_0</td>\n",
       "    </tr>\n",
       "    <tr>\n",
       "      <th>1</th>\n",
       "      <td>4.0</td>\n",
       "      <td>14216001_0</td>\n",
       "    </tr>\n",
       "    <tr>\n",
       "      <th>2</th>\n",
       "      <td>10.0</td>\n",
       "      <td>14372001_0</td>\n",
       "    </tr>\n",
       "    <tr>\n",
       "      <th>3</th>\n",
       "      <td>3.6</td>\n",
       "      <td>14578001_0</td>\n",
       "    </tr>\n",
       "    <tr>\n",
       "      <th>4</th>\n",
       "      <td>10.3</td>\n",
       "      <td>14762004_0</td>\n",
       "    </tr>\n",
       "  </tbody>\n",
       "</table>\n",
       "</div>"
      ],
      "text/plain": [
       "   Ground_truth          Id\n",
       "0           3.4  14066001_0\n",
       "1           4.0  14216001_0\n",
       "2          10.0  14372001_0\n",
       "3           3.6  14578001_0\n",
       "4          10.3  14762004_0"
      ]
     },
     "metadata": {},
     "output_type": "display_data"
    },
    {
     "name": "stdout",
     "output_type": "stream",
     "text": [
      "Missing Data : 0 \n",
      " Shape is : (82120, 2)\n"
     ]
    }
   ],
   "source": [
    "ytrain.reset_index(drop=True,inplace=True)\n",
    "display(ytrain.head())\n",
    "print('Missing Data :', ytrain.isna().sum().sum(), '\\n', 'Shape is :', ytrain.shape)"
   ]
  },
  {
   "cell_type": "markdown",
   "metadata": {},
   "source": [
    "**Create validation sample**"
   ]
  },
  {
   "cell_type": "code",
   "execution_count": 176,
   "metadata": {},
   "outputs": [
    {
     "name": "stdout",
     "output_type": "stream",
     "text": [
      "Original shape :  (82120, 7)\n",
      "Train set shape :  (65696, 7)  / Validation set shape :  (16424, 7)\n"
     ]
    }
   ],
   "source": [
    "#Split train/test \n",
    "xtrainS_validation = xtrainS.sample(frac = 0.20 , axis=0)\n",
    "xtrainS_train  = xtrainS.drop(xtrainS_validation.index)\n",
    "\n",
    "#Vérification \n",
    "print(\"Original shape : \", xtrainS.shape)\n",
    "print(\"Train set shape : \", xtrainS_train.shape, \" / Validation set shape : \" , xtrainS_validation.shape)"
   ]
  },
  {
   "cell_type": "code",
   "execution_count": 177,
   "metadata": {},
   "outputs": [
    {
     "name": "stdout",
     "output_type": "stream",
     "text": [
      "Original shape :  (82120, 2)\n",
      "Train set shape :  (65696, 2)  / Validation set shape :  (16424, 2)\n"
     ]
    }
   ],
   "source": [
    "#Split train/test \n",
    "ytrain_validation = ytrain.loc[ytrain['Id'].isin(xtrainS_validation['StationDay'])]\n",
    "ytrain_train  = ytrain.drop(ytrain_validation.index)\n",
    "\n",
    "#Vérification \n",
    "print(\"Original shape : \", ytrain.shape)\n",
    "print(\"Train set shape : \", ytrain_train.shape, \" / Validation set shape : \" ,ytrain_validation.shape)"
   ]
  },
  {
   "cell_type": "code",
   "execution_count": 178,
   "metadata": {},
   "outputs": [
    {
     "data": {
      "text/html": [
       "<div>\n",
       "<style scoped>\n",
       "    .dataframe tbody tr th:only-of-type {\n",
       "        vertical-align: middle;\n",
       "    }\n",
       "\n",
       "    .dataframe tbody tr th {\n",
       "        vertical-align: top;\n",
       "    }\n",
       "\n",
       "    .dataframe thead th {\n",
       "        text-align: right;\n",
       "    }\n",
       "</style>\n",
       "<table border=\"1\" class=\"dataframe\">\n",
       "  <thead>\n",
       "    <tr style=\"text-align: right;\">\n",
       "      <th></th>\n",
       "      <th>StationDay</th>\n",
       "      <th>ff</th>\n",
       "      <th>t</th>\n",
       "      <th>td</th>\n",
       "      <th>hu</th>\n",
       "      <th>dd</th>\n",
       "      <th>precip</th>\n",
       "    </tr>\n",
       "  </thead>\n",
       "  <tbody>\n",
       "    <tr>\n",
       "      <th>0</th>\n",
       "      <td>14066001_0</td>\n",
       "      <td>3.913750</td>\n",
       "      <td>280.333750</td>\n",
       "      <td>278.514583</td>\n",
       "      <td>88.591667</td>\n",
       "      <td>146.500000</td>\n",
       "      <td>0.2</td>\n",
       "    </tr>\n",
       "    <tr>\n",
       "      <th>1</th>\n",
       "      <td>14066001_1</td>\n",
       "      <td>8.041250</td>\n",
       "      <td>282.936667</td>\n",
       "      <td>279.997500</td>\n",
       "      <td>82.300000</td>\n",
       "      <td>205.625000</td>\n",
       "      <td>3.4</td>\n",
       "    </tr>\n",
       "    <tr>\n",
       "      <th>4</th>\n",
       "      <td>14066001_101</td>\n",
       "      <td>1.754583</td>\n",
       "      <td>282.805000</td>\n",
       "      <td>281.003333</td>\n",
       "      <td>88.745833</td>\n",
       "      <td>167.208333</td>\n",
       "      <td>5.6</td>\n",
       "    </tr>\n",
       "    <tr>\n",
       "      <th>5</th>\n",
       "      <td>14066001_102</td>\n",
       "      <td>2.407083</td>\n",
       "      <td>282.479583</td>\n",
       "      <td>280.120000</td>\n",
       "      <td>85.595833</td>\n",
       "      <td>131.291667</td>\n",
       "      <td>3.2</td>\n",
       "    </tr>\n",
       "    <tr>\n",
       "      <th>6</th>\n",
       "      <td>14066001_103</td>\n",
       "      <td>1.790833</td>\n",
       "      <td>282.803750</td>\n",
       "      <td>280.428750</td>\n",
       "      <td>85.625000</td>\n",
       "      <td>114.791667</td>\n",
       "      <td>0.8</td>\n",
       "    </tr>\n",
       "  </tbody>\n",
       "</table>\n",
       "</div>"
      ],
      "text/plain": [
       "     StationDay        ff           t          td         hu          dd  \\\n",
       "0    14066001_0  3.913750  280.333750  278.514583  88.591667  146.500000   \n",
       "1    14066001_1  8.041250  282.936667  279.997500  82.300000  205.625000   \n",
       "4  14066001_101  1.754583  282.805000  281.003333  88.745833  167.208333   \n",
       "5  14066001_102  2.407083  282.479583  280.120000  85.595833  131.291667   \n",
       "6  14066001_103  1.790833  282.803750  280.428750  85.625000  114.791667   \n",
       "\n",
       "   precip  \n",
       "0     0.2  \n",
       "1     3.4  \n",
       "4     5.6  \n",
       "5     3.2  \n",
       "6     0.8  "
      ]
     },
     "metadata": {},
     "output_type": "display_data"
    },
    {
     "name": "stdout",
     "output_type": "stream",
     "text": [
      "Missing Data : 0 \n",
      " Shape is : (65696, 7)\n"
     ]
    }
   ],
   "source": [
    "display(xtrainS_train.head())\n",
    "print('Missing Data :', xtrainS_train.isna().sum().sum(), '\\n', 'Shape is :', xtrainS_train.shape)"
   ]
  },
  {
   "cell_type": "code",
   "execution_count": 179,
   "metadata": {},
   "outputs": [
    {
     "data": {
      "text/html": [
       "<div>\n",
       "<style scoped>\n",
       "    .dataframe tbody tr th:only-of-type {\n",
       "        vertical-align: middle;\n",
       "    }\n",
       "\n",
       "    .dataframe tbody tr th {\n",
       "        vertical-align: top;\n",
       "    }\n",
       "\n",
       "    .dataframe thead th {\n",
       "        text-align: right;\n",
       "    }\n",
       "</style>\n",
       "<table border=\"1\" class=\"dataframe\">\n",
       "  <thead>\n",
       "    <tr style=\"text-align: right;\">\n",
       "      <th></th>\n",
       "      <th>Ground_truth</th>\n",
       "      <th>Id</th>\n",
       "    </tr>\n",
       "  </thead>\n",
       "  <tbody>\n",
       "    <tr>\n",
       "      <th>0</th>\n",
       "      <td>3.4</td>\n",
       "      <td>14066001_0</td>\n",
       "    </tr>\n",
       "    <tr>\n",
       "      <th>1</th>\n",
       "      <td>4.0</td>\n",
       "      <td>14216001_0</td>\n",
       "    </tr>\n",
       "    <tr>\n",
       "      <th>2</th>\n",
       "      <td>10.0</td>\n",
       "      <td>14372001_0</td>\n",
       "    </tr>\n",
       "    <tr>\n",
       "      <th>3</th>\n",
       "      <td>3.6</td>\n",
       "      <td>14578001_0</td>\n",
       "    </tr>\n",
       "    <tr>\n",
       "      <th>4</th>\n",
       "      <td>10.3</td>\n",
       "      <td>14762004_0</td>\n",
       "    </tr>\n",
       "  </tbody>\n",
       "</table>\n",
       "</div>"
      ],
      "text/plain": [
       "   Ground_truth          Id\n",
       "0           3.4  14066001_0\n",
       "1           4.0  14216001_0\n",
       "2          10.0  14372001_0\n",
       "3           3.6  14578001_0\n",
       "4          10.3  14762004_0"
      ]
     },
     "metadata": {},
     "output_type": "display_data"
    },
    {
     "name": "stdout",
     "output_type": "stream",
     "text": [
      "Missing Data : 0 \n",
      " Shape is : (65696, 2)\n"
     ]
    }
   ],
   "source": [
    "display(ytrain_train.head())\n",
    "print('Missing Data :', ytrain_train.isna().sum().sum(), '\\n', 'Shape is :', ytrain_train.shape)"
   ]
  },
  {
   "cell_type": "code",
   "execution_count": 180,
   "metadata": {},
   "outputs": [
    {
     "data": {
      "text/html": [
       "<div>\n",
       "<style scoped>\n",
       "    .dataframe tbody tr th:only-of-type {\n",
       "        vertical-align: middle;\n",
       "    }\n",
       "\n",
       "    .dataframe tbody tr th {\n",
       "        vertical-align: top;\n",
       "    }\n",
       "\n",
       "    .dataframe thead th {\n",
       "        text-align: right;\n",
       "    }\n",
       "</style>\n",
       "<table border=\"1\" class=\"dataframe\">\n",
       "  <thead>\n",
       "    <tr style=\"text-align: right;\">\n",
       "      <th></th>\n",
       "      <th>StationDay</th>\n",
       "      <th>ff</th>\n",
       "      <th>t</th>\n",
       "      <th>td</th>\n",
       "      <th>hu</th>\n",
       "      <th>dd</th>\n",
       "      <th>precip</th>\n",
       "    </tr>\n",
       "  </thead>\n",
       "  <tbody>\n",
       "    <tr>\n",
       "      <th>6491</th>\n",
       "      <td>22168001_567</td>\n",
       "      <td>5.663333</td>\n",
       "      <td>288.799583</td>\n",
       "      <td>285.915417</td>\n",
       "      <td>83.487500</td>\n",
       "      <td>213.541667</td>\n",
       "      <td>22.6</td>\n",
       "    </tr>\n",
       "    <tr>\n",
       "      <th>25115</th>\n",
       "      <td>35057003_349</td>\n",
       "      <td>1.990417</td>\n",
       "      <td>281.265833</td>\n",
       "      <td>280.663333</td>\n",
       "      <td>96.000000</td>\n",
       "      <td>125.041667</td>\n",
       "      <td>0.0</td>\n",
       "    </tr>\n",
       "    <tr>\n",
       "      <th>64024</th>\n",
       "      <td>72255001_113</td>\n",
       "      <td>4.772083</td>\n",
       "      <td>280.769583</td>\n",
       "      <td>278.063750</td>\n",
       "      <td>83.483333</td>\n",
       "      <td>237.583333</td>\n",
       "      <td>0.2</td>\n",
       "    </tr>\n",
       "    <tr>\n",
       "      <th>65671</th>\n",
       "      <td>76130001_431</td>\n",
       "      <td>3.792917</td>\n",
       "      <td>278.975833</td>\n",
       "      <td>275.382917</td>\n",
       "      <td>78.508333</td>\n",
       "      <td>259.125000</td>\n",
       "      <td>2.8</td>\n",
       "    </tr>\n",
       "    <tr>\n",
       "      <th>33532</th>\n",
       "      <td>37240001_691</td>\n",
       "      <td>4.428333</td>\n",
       "      <td>282.933333</td>\n",
       "      <td>278.460000</td>\n",
       "      <td>75.829167</td>\n",
       "      <td>187.375000</td>\n",
       "      <td>0.0</td>\n",
       "    </tr>\n",
       "  </tbody>\n",
       "</table>\n",
       "</div>"
      ],
      "text/plain": [
       "         StationDay        ff           t          td         hu          dd  \\\n",
       "6491   22168001_567  5.663333  288.799583  285.915417  83.487500  213.541667   \n",
       "25115  35057003_349  1.990417  281.265833  280.663333  96.000000  125.041667   \n",
       "64024  72255001_113  4.772083  280.769583  278.063750  83.483333  237.583333   \n",
       "65671  76130001_431  3.792917  278.975833  275.382917  78.508333  259.125000   \n",
       "33532  37240001_691  4.428333  282.933333  278.460000  75.829167  187.375000   \n",
       "\n",
       "       precip  \n",
       "6491     22.6  \n",
       "25115     0.0  \n",
       "64024     0.2  \n",
       "65671     2.8  \n",
       "33532     0.0  "
      ]
     },
     "metadata": {},
     "output_type": "display_data"
    },
    {
     "name": "stdout",
     "output_type": "stream",
     "text": [
      "Missing Data : 0 \n",
      " Shape is : (16424, 7)\n"
     ]
    }
   ],
   "source": [
    "display(xtrainS_validation.head())\n",
    "print('Missing Data :', xtrainS_validation.isna().sum().sum(), '\\n', 'Shape is :', xtrainS_validation.shape)"
   ]
  },
  {
   "cell_type": "code",
   "execution_count": 181,
   "metadata": {},
   "outputs": [
    {
     "data": {
      "text/html": [
       "<div>\n",
       "<style scoped>\n",
       "    .dataframe tbody tr th:only-of-type {\n",
       "        vertical-align: middle;\n",
       "    }\n",
       "\n",
       "    .dataframe tbody tr th {\n",
       "        vertical-align: top;\n",
       "    }\n",
       "\n",
       "    .dataframe thead th {\n",
       "        text-align: right;\n",
       "    }\n",
       "</style>\n",
       "<table border=\"1\" class=\"dataframe\">\n",
       "  <thead>\n",
       "    <tr style=\"text-align: right;\">\n",
       "      <th></th>\n",
       "      <th>Ground_truth</th>\n",
       "      <th>Id</th>\n",
       "    </tr>\n",
       "  </thead>\n",
       "  <tbody>\n",
       "    <tr>\n",
       "      <th>8</th>\n",
       "      <td>13.9</td>\n",
       "      <td>22168001_0</td>\n",
       "    </tr>\n",
       "    <tr>\n",
       "      <th>12</th>\n",
       "      <td>3.2</td>\n",
       "      <td>22372001_0</td>\n",
       "    </tr>\n",
       "    <tr>\n",
       "      <th>19</th>\n",
       "      <td>15.9</td>\n",
       "      <td>29075001_0</td>\n",
       "    </tr>\n",
       "    <tr>\n",
       "      <th>20</th>\n",
       "      <td>12.2</td>\n",
       "      <td>29120001_0</td>\n",
       "    </tr>\n",
       "    <tr>\n",
       "      <th>27</th>\n",
       "      <td>16.4</td>\n",
       "      <td>29278001_0</td>\n",
       "    </tr>\n",
       "  </tbody>\n",
       "</table>\n",
       "</div>"
      ],
      "text/plain": [
       "    Ground_truth          Id\n",
       "8           13.9  22168001_0\n",
       "12           3.2  22372001_0\n",
       "19          15.9  29075001_0\n",
       "20          12.2  29120001_0\n",
       "27          16.4  29278001_0"
      ]
     },
     "metadata": {},
     "output_type": "display_data"
    },
    {
     "name": "stdout",
     "output_type": "stream",
     "text": [
      "Missing Data : 0 \n",
      " Shape is : (16424, 2)\n"
     ]
    }
   ],
   "source": [
    "display(ytrain_validation.head())\n",
    "print('Missing Data :', ytrain_validation.isna().sum().sum(), '\\n', 'Shape is :', ytrain_validation.shape)"
   ]
  },
  {
   "cell_type": "markdown",
   "metadata": {},
   "source": [
    "**Reset index**"
   ]
  },
  {
   "cell_type": "code",
   "execution_count": 182,
   "metadata": {},
   "outputs": [
    {
     "data": {
      "text/html": [
       "<div>\n",
       "<style scoped>\n",
       "    .dataframe tbody tr th:only-of-type {\n",
       "        vertical-align: middle;\n",
       "    }\n",
       "\n",
       "    .dataframe tbody tr th {\n",
       "        vertical-align: top;\n",
       "    }\n",
       "\n",
       "    .dataframe thead th {\n",
       "        text-align: right;\n",
       "    }\n",
       "</style>\n",
       "<table border=\"1\" class=\"dataframe\">\n",
       "  <thead>\n",
       "    <tr style=\"text-align: right;\">\n",
       "      <th></th>\n",
       "      <th>StationDay</th>\n",
       "      <th>ff</th>\n",
       "      <th>t</th>\n",
       "      <th>td</th>\n",
       "      <th>hu</th>\n",
       "      <th>dd</th>\n",
       "      <th>precip</th>\n",
       "    </tr>\n",
       "  </thead>\n",
       "  <tbody>\n",
       "    <tr>\n",
       "      <th>0</th>\n",
       "      <td>14066001_0</td>\n",
       "      <td>3.913750</td>\n",
       "      <td>280.333750</td>\n",
       "      <td>278.514583</td>\n",
       "      <td>88.591667</td>\n",
       "      <td>146.500000</td>\n",
       "      <td>0.2</td>\n",
       "    </tr>\n",
       "    <tr>\n",
       "      <th>1</th>\n",
       "      <td>14066001_1</td>\n",
       "      <td>8.041250</td>\n",
       "      <td>282.936667</td>\n",
       "      <td>279.997500</td>\n",
       "      <td>82.300000</td>\n",
       "      <td>205.625000</td>\n",
       "      <td>3.4</td>\n",
       "    </tr>\n",
       "    <tr>\n",
       "      <th>2</th>\n",
       "      <td>14066001_101</td>\n",
       "      <td>1.754583</td>\n",
       "      <td>282.805000</td>\n",
       "      <td>281.003333</td>\n",
       "      <td>88.745833</td>\n",
       "      <td>167.208333</td>\n",
       "      <td>5.6</td>\n",
       "    </tr>\n",
       "    <tr>\n",
       "      <th>3</th>\n",
       "      <td>14066001_102</td>\n",
       "      <td>2.407083</td>\n",
       "      <td>282.479583</td>\n",
       "      <td>280.120000</td>\n",
       "      <td>85.595833</td>\n",
       "      <td>131.291667</td>\n",
       "      <td>3.2</td>\n",
       "    </tr>\n",
       "    <tr>\n",
       "      <th>4</th>\n",
       "      <td>14066001_103</td>\n",
       "      <td>1.790833</td>\n",
       "      <td>282.803750</td>\n",
       "      <td>280.428750</td>\n",
       "      <td>85.625000</td>\n",
       "      <td>114.791667</td>\n",
       "      <td>0.8</td>\n",
       "    </tr>\n",
       "  </tbody>\n",
       "</table>\n",
       "</div>"
      ],
      "text/plain": [
       "     StationDay        ff           t          td         hu          dd  \\\n",
       "0    14066001_0  3.913750  280.333750  278.514583  88.591667  146.500000   \n",
       "1    14066001_1  8.041250  282.936667  279.997500  82.300000  205.625000   \n",
       "2  14066001_101  1.754583  282.805000  281.003333  88.745833  167.208333   \n",
       "3  14066001_102  2.407083  282.479583  280.120000  85.595833  131.291667   \n",
       "4  14066001_103  1.790833  282.803750  280.428750  85.625000  114.791667   \n",
       "\n",
       "   precip  \n",
       "0     0.2  \n",
       "1     3.4  \n",
       "2     5.6  \n",
       "3     3.2  \n",
       "4     0.8  "
      ]
     },
     "metadata": {},
     "output_type": "display_data"
    },
    {
     "name": "stdout",
     "output_type": "stream",
     "text": [
      "Missing Data : 0 \n",
      " Shape is : (65696, 7)\n"
     ]
    }
   ],
   "source": [
    "xtrainS_train.reset_index(drop=True,inplace=True)\n",
    "display(xtrainS_train.head())\n",
    "print('Missing Data :', xtrainS_train.isna().sum().sum(), '\\n', 'Shape is :', xtrainS_train.shape)"
   ]
  },
  {
   "cell_type": "code",
   "execution_count": 183,
   "metadata": {},
   "outputs": [
    {
     "data": {
      "text/html": [
       "<div>\n",
       "<style scoped>\n",
       "    .dataframe tbody tr th:only-of-type {\n",
       "        vertical-align: middle;\n",
       "    }\n",
       "\n",
       "    .dataframe tbody tr th {\n",
       "        vertical-align: top;\n",
       "    }\n",
       "\n",
       "    .dataframe thead th {\n",
       "        text-align: right;\n",
       "    }\n",
       "</style>\n",
       "<table border=\"1\" class=\"dataframe\">\n",
       "  <thead>\n",
       "    <tr style=\"text-align: right;\">\n",
       "      <th></th>\n",
       "      <th>Ground_truth</th>\n",
       "      <th>Id</th>\n",
       "    </tr>\n",
       "  </thead>\n",
       "  <tbody>\n",
       "    <tr>\n",
       "      <th>0</th>\n",
       "      <td>3.4</td>\n",
       "      <td>14066001_0</td>\n",
       "    </tr>\n",
       "    <tr>\n",
       "      <th>1</th>\n",
       "      <td>4.0</td>\n",
       "      <td>14216001_0</td>\n",
       "    </tr>\n",
       "    <tr>\n",
       "      <th>2</th>\n",
       "      <td>10.0</td>\n",
       "      <td>14372001_0</td>\n",
       "    </tr>\n",
       "    <tr>\n",
       "      <th>3</th>\n",
       "      <td>3.6</td>\n",
       "      <td>14578001_0</td>\n",
       "    </tr>\n",
       "    <tr>\n",
       "      <th>4</th>\n",
       "      <td>10.3</td>\n",
       "      <td>14762004_0</td>\n",
       "    </tr>\n",
       "  </tbody>\n",
       "</table>\n",
       "</div>"
      ],
      "text/plain": [
       "   Ground_truth          Id\n",
       "0           3.4  14066001_0\n",
       "1           4.0  14216001_0\n",
       "2          10.0  14372001_0\n",
       "3           3.6  14578001_0\n",
       "4          10.3  14762004_0"
      ]
     },
     "metadata": {},
     "output_type": "display_data"
    },
    {
     "name": "stdout",
     "output_type": "stream",
     "text": [
      "Missing Data : 0 \n",
      " Shape is : (65696, 2)\n"
     ]
    }
   ],
   "source": [
    "ytrain_train.reset_index(drop=True,inplace=True)\n",
    "display(ytrain_train.head())\n",
    "print('Missing Data :', ytrain_train.isna().sum().sum(), '\\n', 'Shape is :', ytrain_train.shape)"
   ]
  },
  {
   "cell_type": "code",
   "execution_count": 184,
   "metadata": {},
   "outputs": [
    {
     "data": {
      "text/html": [
       "<div>\n",
       "<style scoped>\n",
       "    .dataframe tbody tr th:only-of-type {\n",
       "        vertical-align: middle;\n",
       "    }\n",
       "\n",
       "    .dataframe tbody tr th {\n",
       "        vertical-align: top;\n",
       "    }\n",
       "\n",
       "    .dataframe thead th {\n",
       "        text-align: right;\n",
       "    }\n",
       "</style>\n",
       "<table border=\"1\" class=\"dataframe\">\n",
       "  <thead>\n",
       "    <tr style=\"text-align: right;\">\n",
       "      <th></th>\n",
       "      <th>StationDay</th>\n",
       "      <th>ff</th>\n",
       "      <th>t</th>\n",
       "      <th>td</th>\n",
       "      <th>hu</th>\n",
       "      <th>dd</th>\n",
       "      <th>precip</th>\n",
       "    </tr>\n",
       "  </thead>\n",
       "  <tbody>\n",
       "    <tr>\n",
       "      <th>0</th>\n",
       "      <td>22168001_567</td>\n",
       "      <td>5.663333</td>\n",
       "      <td>288.799583</td>\n",
       "      <td>285.915417</td>\n",
       "      <td>83.487500</td>\n",
       "      <td>213.541667</td>\n",
       "      <td>22.6</td>\n",
       "    </tr>\n",
       "    <tr>\n",
       "      <th>1</th>\n",
       "      <td>35057003_349</td>\n",
       "      <td>1.990417</td>\n",
       "      <td>281.265833</td>\n",
       "      <td>280.663333</td>\n",
       "      <td>96.000000</td>\n",
       "      <td>125.041667</td>\n",
       "      <td>0.0</td>\n",
       "    </tr>\n",
       "    <tr>\n",
       "      <th>2</th>\n",
       "      <td>72255001_113</td>\n",
       "      <td>4.772083</td>\n",
       "      <td>280.769583</td>\n",
       "      <td>278.063750</td>\n",
       "      <td>83.483333</td>\n",
       "      <td>237.583333</td>\n",
       "      <td>0.2</td>\n",
       "    </tr>\n",
       "    <tr>\n",
       "      <th>3</th>\n",
       "      <td>76130001_431</td>\n",
       "      <td>3.792917</td>\n",
       "      <td>278.975833</td>\n",
       "      <td>275.382917</td>\n",
       "      <td>78.508333</td>\n",
       "      <td>259.125000</td>\n",
       "      <td>2.8</td>\n",
       "    </tr>\n",
       "    <tr>\n",
       "      <th>4</th>\n",
       "      <td>37240001_691</td>\n",
       "      <td>4.428333</td>\n",
       "      <td>282.933333</td>\n",
       "      <td>278.460000</td>\n",
       "      <td>75.829167</td>\n",
       "      <td>187.375000</td>\n",
       "      <td>0.0</td>\n",
       "    </tr>\n",
       "  </tbody>\n",
       "</table>\n",
       "</div>"
      ],
      "text/plain": [
       "     StationDay        ff           t          td         hu          dd  \\\n",
       "0  22168001_567  5.663333  288.799583  285.915417  83.487500  213.541667   \n",
       "1  35057003_349  1.990417  281.265833  280.663333  96.000000  125.041667   \n",
       "2  72255001_113  4.772083  280.769583  278.063750  83.483333  237.583333   \n",
       "3  76130001_431  3.792917  278.975833  275.382917  78.508333  259.125000   \n",
       "4  37240001_691  4.428333  282.933333  278.460000  75.829167  187.375000   \n",
       "\n",
       "   precip  \n",
       "0    22.6  \n",
       "1     0.0  \n",
       "2     0.2  \n",
       "3     2.8  \n",
       "4     0.0  "
      ]
     },
     "metadata": {},
     "output_type": "display_data"
    },
    {
     "name": "stdout",
     "output_type": "stream",
     "text": [
      "Missing Data : 0 \n",
      " Shape is : (16424, 7)\n"
     ]
    }
   ],
   "source": [
    "xtrainS_validation.reset_index(drop=True,inplace=True)\n",
    "display(xtrainS_validation.head())\n",
    "print('Missing Data :', xtrainS_validation.isna().sum().sum(), '\\n', 'Shape is :', xtrainS_validation.shape)"
   ]
  },
  {
   "cell_type": "code",
   "execution_count": 185,
   "metadata": {},
   "outputs": [
    {
     "data": {
      "text/html": [
       "<div>\n",
       "<style scoped>\n",
       "    .dataframe tbody tr th:only-of-type {\n",
       "        vertical-align: middle;\n",
       "    }\n",
       "\n",
       "    .dataframe tbody tr th {\n",
       "        vertical-align: top;\n",
       "    }\n",
       "\n",
       "    .dataframe thead th {\n",
       "        text-align: right;\n",
       "    }\n",
       "</style>\n",
       "<table border=\"1\" class=\"dataframe\">\n",
       "  <thead>\n",
       "    <tr style=\"text-align: right;\">\n",
       "      <th></th>\n",
       "      <th>Ground_truth</th>\n",
       "      <th>Id</th>\n",
       "    </tr>\n",
       "  </thead>\n",
       "  <tbody>\n",
       "    <tr>\n",
       "      <th>0</th>\n",
       "      <td>13.9</td>\n",
       "      <td>22168001_0</td>\n",
       "    </tr>\n",
       "    <tr>\n",
       "      <th>1</th>\n",
       "      <td>3.2</td>\n",
       "      <td>22372001_0</td>\n",
       "    </tr>\n",
       "    <tr>\n",
       "      <th>2</th>\n",
       "      <td>15.9</td>\n",
       "      <td>29075001_0</td>\n",
       "    </tr>\n",
       "    <tr>\n",
       "      <th>3</th>\n",
       "      <td>12.2</td>\n",
       "      <td>29120001_0</td>\n",
       "    </tr>\n",
       "    <tr>\n",
       "      <th>4</th>\n",
       "      <td>16.4</td>\n",
       "      <td>29278001_0</td>\n",
       "    </tr>\n",
       "  </tbody>\n",
       "</table>\n",
       "</div>"
      ],
      "text/plain": [
       "   Ground_truth          Id\n",
       "0          13.9  22168001_0\n",
       "1           3.2  22372001_0\n",
       "2          15.9  29075001_0\n",
       "3          12.2  29120001_0\n",
       "4          16.4  29278001_0"
      ]
     },
     "metadata": {},
     "output_type": "display_data"
    },
    {
     "name": "stdout",
     "output_type": "stream",
     "text": [
      "Missing Data : 0 \n",
      " Shape is : (16424, 2)\n"
     ]
    }
   ],
   "source": [
    "ytrain_validation.reset_index(drop=True,inplace=True)\n",
    "display(ytrain_validation.head())\n",
    "print('Missing Data :', ytrain_validation.isna().sum().sum(), '\\n', 'Shape is :', ytrain_validation.shape)"
   ]
  },
  {
   "cell_type": "markdown",
   "metadata": {},
   "source": [
    "**Sort X_train_train & X_train_validation**"
   ]
  },
  {
   "cell_type": "code",
   "execution_count": 279,
   "metadata": {},
   "outputs": [
    {
     "data": {
      "text/html": [
       "<div>\n",
       "<style scoped>\n",
       "    .dataframe tbody tr th:only-of-type {\n",
       "        vertical-align: middle;\n",
       "    }\n",
       "\n",
       "    .dataframe tbody tr th {\n",
       "        vertical-align: top;\n",
       "    }\n",
       "\n",
       "    .dataframe thead th {\n",
       "        text-align: right;\n",
       "    }\n",
       "</style>\n",
       "<table border=\"1\" class=\"dataframe\">\n",
       "  <thead>\n",
       "    <tr style=\"text-align: right;\">\n",
       "      <th></th>\n",
       "      <th>Id</th>\n",
       "      <th>ff</th>\n",
       "      <th>t</th>\n",
       "      <th>td</th>\n",
       "      <th>hu</th>\n",
       "      <th>dd</th>\n",
       "      <th>precip</th>\n",
       "    </tr>\n",
       "  </thead>\n",
       "  <tbody>\n",
       "    <tr>\n",
       "      <th>0</th>\n",
       "      <td>14066001_0</td>\n",
       "      <td>3.913750</td>\n",
       "      <td>280.333750</td>\n",
       "      <td>278.514583</td>\n",
       "      <td>88.591667</td>\n",
       "      <td>146.500000</td>\n",
       "      <td>0.2</td>\n",
       "    </tr>\n",
       "    <tr>\n",
       "      <th>1</th>\n",
       "      <td>14216001_0</td>\n",
       "      <td>4.759583</td>\n",
       "      <td>280.089583</td>\n",
       "      <td>278.888750</td>\n",
       "      <td>92.187500</td>\n",
       "      <td>158.666667</td>\n",
       "      <td>0.6</td>\n",
       "    </tr>\n",
       "    <tr>\n",
       "      <th>2</th>\n",
       "      <td>14372001_0</td>\n",
       "      <td>5.125833</td>\n",
       "      <td>280.076250</td>\n",
       "      <td>278.564167</td>\n",
       "      <td>90.308333</td>\n",
       "      <td>164.625000</td>\n",
       "      <td>0.2</td>\n",
       "    </tr>\n",
       "    <tr>\n",
       "      <th>3</th>\n",
       "      <td>14578001_0</td>\n",
       "      <td>4.868750</td>\n",
       "      <td>279.287500</td>\n",
       "      <td>278.418333</td>\n",
       "      <td>94.266667</td>\n",
       "      <td>167.625000</td>\n",
       "      <td>0.8</td>\n",
       "    </tr>\n",
       "    <tr>\n",
       "      <th>4</th>\n",
       "      <td>14762004_0</td>\n",
       "      <td>3.821250</td>\n",
       "      <td>281.128750</td>\n",
       "      <td>278.964583</td>\n",
       "      <td>86.545833</td>\n",
       "      <td>131.500000</td>\n",
       "      <td>0.0</td>\n",
       "    </tr>\n",
       "  </tbody>\n",
       "</table>\n",
       "</div>"
      ],
      "text/plain": [
       "           Id        ff           t          td         hu          dd  precip\n",
       "0  14066001_0  3.913750  280.333750  278.514583  88.591667  146.500000     0.2\n",
       "1  14216001_0  4.759583  280.089583  278.888750  92.187500  158.666667     0.6\n",
       "2  14372001_0  5.125833  280.076250  278.564167  90.308333  164.625000     0.2\n",
       "3  14578001_0  4.868750  279.287500  278.418333  94.266667  167.625000     0.8\n",
       "4  14762004_0  3.821250  281.128750  278.964583  86.545833  131.500000     0.0"
      ]
     },
     "metadata": {},
     "output_type": "display_data"
    },
    {
     "name": "stdout",
     "output_type": "stream",
     "text": [
      "Missing Data : 0 \n",
      " Shape is : (82120, 7)\n"
     ]
    }
   ],
   "source": [
    "xtrainS = xtrainS.set_index('StationDay')\n",
    "xtrainS = xtrainS.reindex(index=ytrain['Id'])\n",
    "xtrainS = xtrainS.reset_index()\n",
    "display(xtrainS.head())\n",
    "print('Missing Data :', xtrainS.isna().sum().sum(), '\\n', 'Shape is :', xtrainS.shape)"
   ]
  },
  {
   "cell_type": "code",
   "execution_count": 186,
   "metadata": {},
   "outputs": [
    {
     "data": {
      "text/html": [
       "<div>\n",
       "<style scoped>\n",
       "    .dataframe tbody tr th:only-of-type {\n",
       "        vertical-align: middle;\n",
       "    }\n",
       "\n",
       "    .dataframe tbody tr th {\n",
       "        vertical-align: top;\n",
       "    }\n",
       "\n",
       "    .dataframe thead th {\n",
       "        text-align: right;\n",
       "    }\n",
       "</style>\n",
       "<table border=\"1\" class=\"dataframe\">\n",
       "  <thead>\n",
       "    <tr style=\"text-align: right;\">\n",
       "      <th></th>\n",
       "      <th>Id</th>\n",
       "      <th>ff</th>\n",
       "      <th>t</th>\n",
       "      <th>td</th>\n",
       "      <th>hu</th>\n",
       "      <th>dd</th>\n",
       "      <th>precip</th>\n",
       "    </tr>\n",
       "  </thead>\n",
       "  <tbody>\n",
       "    <tr>\n",
       "      <th>0</th>\n",
       "      <td>14066001_0</td>\n",
       "      <td>3.913750</td>\n",
       "      <td>280.333750</td>\n",
       "      <td>278.514583</td>\n",
       "      <td>88.591667</td>\n",
       "      <td>146.500000</td>\n",
       "      <td>0.2</td>\n",
       "    </tr>\n",
       "    <tr>\n",
       "      <th>1</th>\n",
       "      <td>14216001_0</td>\n",
       "      <td>4.759583</td>\n",
       "      <td>280.089583</td>\n",
       "      <td>278.888750</td>\n",
       "      <td>92.187500</td>\n",
       "      <td>158.666667</td>\n",
       "      <td>0.6</td>\n",
       "    </tr>\n",
       "    <tr>\n",
       "      <th>2</th>\n",
       "      <td>14372001_0</td>\n",
       "      <td>5.125833</td>\n",
       "      <td>280.076250</td>\n",
       "      <td>278.564167</td>\n",
       "      <td>90.308333</td>\n",
       "      <td>164.625000</td>\n",
       "      <td>0.2</td>\n",
       "    </tr>\n",
       "    <tr>\n",
       "      <th>3</th>\n",
       "      <td>14578001_0</td>\n",
       "      <td>4.868750</td>\n",
       "      <td>279.287500</td>\n",
       "      <td>278.418333</td>\n",
       "      <td>94.266667</td>\n",
       "      <td>167.625000</td>\n",
       "      <td>0.8</td>\n",
       "    </tr>\n",
       "    <tr>\n",
       "      <th>4</th>\n",
       "      <td>14762004_0</td>\n",
       "      <td>3.821250</td>\n",
       "      <td>281.128750</td>\n",
       "      <td>278.964583</td>\n",
       "      <td>86.545833</td>\n",
       "      <td>131.500000</td>\n",
       "      <td>0.0</td>\n",
       "    </tr>\n",
       "  </tbody>\n",
       "</table>\n",
       "</div>"
      ],
      "text/plain": [
       "           Id        ff           t          td         hu          dd  precip\n",
       "0  14066001_0  3.913750  280.333750  278.514583  88.591667  146.500000     0.2\n",
       "1  14216001_0  4.759583  280.089583  278.888750  92.187500  158.666667     0.6\n",
       "2  14372001_0  5.125833  280.076250  278.564167  90.308333  164.625000     0.2\n",
       "3  14578001_0  4.868750  279.287500  278.418333  94.266667  167.625000     0.8\n",
       "4  14762004_0  3.821250  281.128750  278.964583  86.545833  131.500000     0.0"
      ]
     },
     "metadata": {},
     "output_type": "display_data"
    },
    {
     "name": "stdout",
     "output_type": "stream",
     "text": [
      "Missing Data : 0 \n",
      " Shape is : (65696, 7)\n"
     ]
    }
   ],
   "source": [
    "xtrainS_train = xtrainS_train.set_index('StationDay')\n",
    "xtrainS_train = xtrainS_train.reindex(index=ytrain_train['Id'])\n",
    "xtrainS_train = xtrainS_train.reset_index()\n",
    "display(xtrainS_train.head())\n",
    "print('Missing Data :', xtrainS_train.isna().sum().sum(), '\\n', 'Shape is :', xtrainS_train.shape)"
   ]
  },
  {
   "cell_type": "code",
   "execution_count": 187,
   "metadata": {},
   "outputs": [
    {
     "data": {
      "text/html": [
       "<div>\n",
       "<style scoped>\n",
       "    .dataframe tbody tr th:only-of-type {\n",
       "        vertical-align: middle;\n",
       "    }\n",
       "\n",
       "    .dataframe tbody tr th {\n",
       "        vertical-align: top;\n",
       "    }\n",
       "\n",
       "    .dataframe thead th {\n",
       "        text-align: right;\n",
       "    }\n",
       "</style>\n",
       "<table border=\"1\" class=\"dataframe\">\n",
       "  <thead>\n",
       "    <tr style=\"text-align: right;\">\n",
       "      <th></th>\n",
       "      <th>Id</th>\n",
       "      <th>ff</th>\n",
       "      <th>t</th>\n",
       "      <th>td</th>\n",
       "      <th>hu</th>\n",
       "      <th>dd</th>\n",
       "      <th>precip</th>\n",
       "    </tr>\n",
       "  </thead>\n",
       "  <tbody>\n",
       "    <tr>\n",
       "      <th>0</th>\n",
       "      <td>22168001_0</td>\n",
       "      <td>5.467500</td>\n",
       "      <td>282.015417</td>\n",
       "      <td>278.807500</td>\n",
       "      <td>80.545833</td>\n",
       "      <td>165.541667</td>\n",
       "      <td>1.4</td>\n",
       "    </tr>\n",
       "    <tr>\n",
       "      <th>1</th>\n",
       "      <td>22372001_0</td>\n",
       "      <td>5.253750</td>\n",
       "      <td>280.725833</td>\n",
       "      <td>278.762083</td>\n",
       "      <td>87.829167</td>\n",
       "      <td>166.666667</td>\n",
       "      <td>0.0</td>\n",
       "    </tr>\n",
       "    <tr>\n",
       "      <th>2</th>\n",
       "      <td>29075001_0</td>\n",
       "      <td>8.738750</td>\n",
       "      <td>282.292917</td>\n",
       "      <td>280.063333</td>\n",
       "      <td>86.262500</td>\n",
       "      <td>151.208333</td>\n",
       "      <td>8.0</td>\n",
       "    </tr>\n",
       "    <tr>\n",
       "      <th>3</th>\n",
       "      <td>29120001_0</td>\n",
       "      <td>8.132917</td>\n",
       "      <td>282.909167</td>\n",
       "      <td>280.579167</td>\n",
       "      <td>85.670833</td>\n",
       "      <td>148.333333</td>\n",
       "      <td>6.6</td>\n",
       "    </tr>\n",
       "    <tr>\n",
       "      <th>4</th>\n",
       "      <td>29278001_0</td>\n",
       "      <td>6.461667</td>\n",
       "      <td>282.079583</td>\n",
       "      <td>280.275000</td>\n",
       "      <td>88.645833</td>\n",
       "      <td>168.250000</td>\n",
       "      <td>13.5</td>\n",
       "    </tr>\n",
       "  </tbody>\n",
       "</table>\n",
       "</div>"
      ],
      "text/plain": [
       "           Id        ff           t          td         hu          dd  precip\n",
       "0  22168001_0  5.467500  282.015417  278.807500  80.545833  165.541667     1.4\n",
       "1  22372001_0  5.253750  280.725833  278.762083  87.829167  166.666667     0.0\n",
       "2  29075001_0  8.738750  282.292917  280.063333  86.262500  151.208333     8.0\n",
       "3  29120001_0  8.132917  282.909167  280.579167  85.670833  148.333333     6.6\n",
       "4  29278001_0  6.461667  282.079583  280.275000  88.645833  168.250000    13.5"
      ]
     },
     "metadata": {},
     "output_type": "display_data"
    },
    {
     "name": "stdout",
     "output_type": "stream",
     "text": [
      "Missing Data : 0 \n",
      " Shape is : (16424, 7)\n"
     ]
    }
   ],
   "source": [
    "xtrainS_validation = xtrainS_validation.set_index('StationDay')\n",
    "xtrainS_validation = xtrainS_validation.reindex(index=ytrain_validation['Id'])\n",
    "xtrainS_validation = xtrainS_validation.reset_index()\n",
    "display(xtrainS_validation.head())\n",
    "print('Missing Data :', xtrainS_validation.isna().sum().sum(), '\\n', 'Shape is :', xtrainS_validation.shape)"
   ]
  },
  {
   "cell_type": "markdown",
   "metadata": {},
   "source": [
    "**Drop useless variables**"
   ]
  },
  {
   "cell_type": "code",
   "execution_count": 281,
   "metadata": {},
   "outputs": [
    {
     "ename": "KeyError",
     "evalue": "\"['Id'] not found in axis\"",
     "output_type": "error",
     "traceback": [
      "\u001b[0;31m---------------------------------------------------------------------------\u001b[0m",
      "\u001b[0;31mKeyError\u001b[0m                                  Traceback (most recent call last)",
      "\u001b[0;32m<ipython-input-281-be9b8ca2e364>\u001b[0m in \u001b[0;36m<module>\u001b[0;34m\u001b[0m\n\u001b[0;32m----> 1\u001b[0;31m \u001b[0mxtrainS\u001b[0m\u001b[0;34m.\u001b[0m\u001b[0mdrop\u001b[0m\u001b[0;34m(\u001b[0m\u001b[0;34m[\u001b[0m\u001b[0;34m'Id'\u001b[0m\u001b[0;34m]\u001b[0m\u001b[0;34m,\u001b[0m \u001b[0maxis\u001b[0m\u001b[0;34m=\u001b[0m\u001b[0;36m1\u001b[0m\u001b[0;34m,\u001b[0m \u001b[0minplace\u001b[0m\u001b[0;34m=\u001b[0m\u001b[0;32mTrue\u001b[0m\u001b[0;34m)\u001b[0m\u001b[0;34m\u001b[0m\u001b[0;34m\u001b[0m\u001b[0m\n\u001b[0m\u001b[1;32m      2\u001b[0m \u001b[0mdisplay\u001b[0m\u001b[0;34m(\u001b[0m\u001b[0mxtrainS\u001b[0m\u001b[0;34m)\u001b[0m\u001b[0;34m\u001b[0m\u001b[0;34m\u001b[0m\u001b[0m\n\u001b[1;32m      3\u001b[0m \u001b[0mprint\u001b[0m\u001b[0;34m(\u001b[0m\u001b[0;34m'Missing Data :'\u001b[0m\u001b[0;34m,\u001b[0m \u001b[0mxtrainS\u001b[0m\u001b[0;34m.\u001b[0m\u001b[0misna\u001b[0m\u001b[0;34m(\u001b[0m\u001b[0;34m)\u001b[0m\u001b[0;34m.\u001b[0m\u001b[0msum\u001b[0m\u001b[0;34m(\u001b[0m\u001b[0;34m)\u001b[0m\u001b[0;34m.\u001b[0m\u001b[0msum\u001b[0m\u001b[0;34m(\u001b[0m\u001b[0;34m)\u001b[0m\u001b[0;34m,\u001b[0m \u001b[0;34m'\\n'\u001b[0m\u001b[0;34m,\u001b[0m \u001b[0;34m'Shape is :'\u001b[0m\u001b[0;34m,\u001b[0m \u001b[0mxtrainS\u001b[0m\u001b[0;34m.\u001b[0m\u001b[0mshape\u001b[0m\u001b[0;34m)\u001b[0m\u001b[0;34m\u001b[0m\u001b[0;34m\u001b[0m\u001b[0m\n",
      "\u001b[0;32m/opt/anaconda3/lib/python3.8/site-packages/pandas/core/frame.py\u001b[0m in \u001b[0;36mdrop\u001b[0;34m(self, labels, axis, index, columns, level, inplace, errors)\u001b[0m\n\u001b[1;32m   4161\u001b[0m                 \u001b[0mweight\u001b[0m  \u001b[0;36m1.0\u001b[0m     \u001b[0;36m0.8\u001b[0m\u001b[0;34m\u001b[0m\u001b[0;34m\u001b[0m\u001b[0m\n\u001b[1;32m   4162\u001b[0m         \"\"\"\n\u001b[0;32m-> 4163\u001b[0;31m         return super().drop(\n\u001b[0m\u001b[1;32m   4164\u001b[0m             \u001b[0mlabels\u001b[0m\u001b[0;34m=\u001b[0m\u001b[0mlabels\u001b[0m\u001b[0;34m,\u001b[0m\u001b[0;34m\u001b[0m\u001b[0;34m\u001b[0m\u001b[0m\n\u001b[1;32m   4165\u001b[0m             \u001b[0maxis\u001b[0m\u001b[0;34m=\u001b[0m\u001b[0maxis\u001b[0m\u001b[0;34m,\u001b[0m\u001b[0;34m\u001b[0m\u001b[0;34m\u001b[0m\u001b[0m\n",
      "\u001b[0;32m/opt/anaconda3/lib/python3.8/site-packages/pandas/core/generic.py\u001b[0m in \u001b[0;36mdrop\u001b[0;34m(self, labels, axis, index, columns, level, inplace, errors)\u001b[0m\n\u001b[1;32m   3885\u001b[0m         \u001b[0;32mfor\u001b[0m \u001b[0maxis\u001b[0m\u001b[0;34m,\u001b[0m \u001b[0mlabels\u001b[0m \u001b[0;32min\u001b[0m \u001b[0maxes\u001b[0m\u001b[0;34m.\u001b[0m\u001b[0mitems\u001b[0m\u001b[0;34m(\u001b[0m\u001b[0;34m)\u001b[0m\u001b[0;34m:\u001b[0m\u001b[0;34m\u001b[0m\u001b[0;34m\u001b[0m\u001b[0m\n\u001b[1;32m   3886\u001b[0m             \u001b[0;32mif\u001b[0m \u001b[0mlabels\u001b[0m \u001b[0;32mis\u001b[0m \u001b[0;32mnot\u001b[0m \u001b[0;32mNone\u001b[0m\u001b[0;34m:\u001b[0m\u001b[0;34m\u001b[0m\u001b[0;34m\u001b[0m\u001b[0m\n\u001b[0;32m-> 3887\u001b[0;31m                 \u001b[0mobj\u001b[0m \u001b[0;34m=\u001b[0m \u001b[0mobj\u001b[0m\u001b[0;34m.\u001b[0m\u001b[0m_drop_axis\u001b[0m\u001b[0;34m(\u001b[0m\u001b[0mlabels\u001b[0m\u001b[0;34m,\u001b[0m \u001b[0maxis\u001b[0m\u001b[0;34m,\u001b[0m \u001b[0mlevel\u001b[0m\u001b[0;34m=\u001b[0m\u001b[0mlevel\u001b[0m\u001b[0;34m,\u001b[0m \u001b[0merrors\u001b[0m\u001b[0;34m=\u001b[0m\u001b[0merrors\u001b[0m\u001b[0;34m)\u001b[0m\u001b[0;34m\u001b[0m\u001b[0;34m\u001b[0m\u001b[0m\n\u001b[0m\u001b[1;32m   3888\u001b[0m \u001b[0;34m\u001b[0m\u001b[0m\n\u001b[1;32m   3889\u001b[0m         \u001b[0;32mif\u001b[0m \u001b[0minplace\u001b[0m\u001b[0;34m:\u001b[0m\u001b[0;34m\u001b[0m\u001b[0;34m\u001b[0m\u001b[0m\n",
      "\u001b[0;32m/opt/anaconda3/lib/python3.8/site-packages/pandas/core/generic.py\u001b[0m in \u001b[0;36m_drop_axis\u001b[0;34m(self, labels, axis, level, errors)\u001b[0m\n\u001b[1;32m   3919\u001b[0m                 \u001b[0mnew_axis\u001b[0m \u001b[0;34m=\u001b[0m \u001b[0maxis\u001b[0m\u001b[0;34m.\u001b[0m\u001b[0mdrop\u001b[0m\u001b[0;34m(\u001b[0m\u001b[0mlabels\u001b[0m\u001b[0;34m,\u001b[0m \u001b[0mlevel\u001b[0m\u001b[0;34m=\u001b[0m\u001b[0mlevel\u001b[0m\u001b[0;34m,\u001b[0m \u001b[0merrors\u001b[0m\u001b[0;34m=\u001b[0m\u001b[0merrors\u001b[0m\u001b[0;34m)\u001b[0m\u001b[0;34m\u001b[0m\u001b[0;34m\u001b[0m\u001b[0m\n\u001b[1;32m   3920\u001b[0m             \u001b[0;32melse\u001b[0m\u001b[0;34m:\u001b[0m\u001b[0;34m\u001b[0m\u001b[0;34m\u001b[0m\u001b[0m\n\u001b[0;32m-> 3921\u001b[0;31m                 \u001b[0mnew_axis\u001b[0m \u001b[0;34m=\u001b[0m \u001b[0maxis\u001b[0m\u001b[0;34m.\u001b[0m\u001b[0mdrop\u001b[0m\u001b[0;34m(\u001b[0m\u001b[0mlabels\u001b[0m\u001b[0;34m,\u001b[0m \u001b[0merrors\u001b[0m\u001b[0;34m=\u001b[0m\u001b[0merrors\u001b[0m\u001b[0;34m)\u001b[0m\u001b[0;34m\u001b[0m\u001b[0;34m\u001b[0m\u001b[0m\n\u001b[0m\u001b[1;32m   3922\u001b[0m             \u001b[0mresult\u001b[0m \u001b[0;34m=\u001b[0m \u001b[0mself\u001b[0m\u001b[0;34m.\u001b[0m\u001b[0mreindex\u001b[0m\u001b[0;34m(\u001b[0m\u001b[0;34m**\u001b[0m\u001b[0;34m{\u001b[0m\u001b[0maxis_name\u001b[0m\u001b[0;34m:\u001b[0m \u001b[0mnew_axis\u001b[0m\u001b[0;34m}\u001b[0m\u001b[0;34m)\u001b[0m\u001b[0;34m\u001b[0m\u001b[0;34m\u001b[0m\u001b[0m\n\u001b[1;32m   3923\u001b[0m \u001b[0;34m\u001b[0m\u001b[0m\n",
      "\u001b[0;32m/opt/anaconda3/lib/python3.8/site-packages/pandas/core/indexes/base.py\u001b[0m in \u001b[0;36mdrop\u001b[0;34m(self, labels, errors)\u001b[0m\n\u001b[1;32m   5280\u001b[0m         \u001b[0;32mif\u001b[0m \u001b[0mmask\u001b[0m\u001b[0;34m.\u001b[0m\u001b[0many\u001b[0m\u001b[0;34m(\u001b[0m\u001b[0;34m)\u001b[0m\u001b[0;34m:\u001b[0m\u001b[0;34m\u001b[0m\u001b[0;34m\u001b[0m\u001b[0m\n\u001b[1;32m   5281\u001b[0m             \u001b[0;32mif\u001b[0m \u001b[0merrors\u001b[0m \u001b[0;34m!=\u001b[0m \u001b[0;34m\"ignore\"\u001b[0m\u001b[0;34m:\u001b[0m\u001b[0;34m\u001b[0m\u001b[0;34m\u001b[0m\u001b[0m\n\u001b[0;32m-> 5282\u001b[0;31m                 \u001b[0;32mraise\u001b[0m \u001b[0mKeyError\u001b[0m\u001b[0;34m(\u001b[0m\u001b[0;34mf\"{labels[mask]} not found in axis\"\u001b[0m\u001b[0;34m)\u001b[0m\u001b[0;34m\u001b[0m\u001b[0;34m\u001b[0m\u001b[0m\n\u001b[0m\u001b[1;32m   5283\u001b[0m             \u001b[0mindexer\u001b[0m \u001b[0;34m=\u001b[0m \u001b[0mindexer\u001b[0m\u001b[0;34m[\u001b[0m\u001b[0;34m~\u001b[0m\u001b[0mmask\u001b[0m\u001b[0;34m]\u001b[0m\u001b[0;34m\u001b[0m\u001b[0;34m\u001b[0m\u001b[0m\n\u001b[1;32m   5284\u001b[0m         \u001b[0;32mreturn\u001b[0m \u001b[0mself\u001b[0m\u001b[0;34m.\u001b[0m\u001b[0mdelete\u001b[0m\u001b[0;34m(\u001b[0m\u001b[0mindexer\u001b[0m\u001b[0;34m)\u001b[0m\u001b[0;34m\u001b[0m\u001b[0;34m\u001b[0m\u001b[0m\n",
      "\u001b[0;31mKeyError\u001b[0m: \"['Id'] not found in axis\""
     ]
    }
   ],
   "source": [
    "xtrainS.drop(['Id'], axis=1, inplace=True)\n",
    "display(xtrainS.head())\n",
    "print('Missing Data :', xtrainS.isna().sum().sum(), '\\n', 'Shape is :', xtrainS.shape)"
   ]
  },
  {
   "cell_type": "code",
   "execution_count": 282,
   "metadata": {},
   "outputs": [
    {
     "data": {
      "text/html": [
       "<div>\n",
       "<style scoped>\n",
       "    .dataframe tbody tr th:only-of-type {\n",
       "        vertical-align: middle;\n",
       "    }\n",
       "\n",
       "    .dataframe tbody tr th {\n",
       "        vertical-align: top;\n",
       "    }\n",
       "\n",
       "    .dataframe thead th {\n",
       "        text-align: right;\n",
       "    }\n",
       "</style>\n",
       "<table border=\"1\" class=\"dataframe\">\n",
       "  <thead>\n",
       "    <tr style=\"text-align: right;\">\n",
       "      <th></th>\n",
       "      <th>Ground_truth</th>\n",
       "    </tr>\n",
       "  </thead>\n",
       "  <tbody>\n",
       "    <tr>\n",
       "      <th>0</th>\n",
       "      <td>3.4</td>\n",
       "    </tr>\n",
       "    <tr>\n",
       "      <th>1</th>\n",
       "      <td>4.0</td>\n",
       "    </tr>\n",
       "    <tr>\n",
       "      <th>2</th>\n",
       "      <td>10.0</td>\n",
       "    </tr>\n",
       "    <tr>\n",
       "      <th>3</th>\n",
       "      <td>3.6</td>\n",
       "    </tr>\n",
       "    <tr>\n",
       "      <th>4</th>\n",
       "      <td>10.3</td>\n",
       "    </tr>\n",
       "    <tr>\n",
       "      <th>...</th>\n",
       "      <td>...</td>\n",
       "    </tr>\n",
       "    <tr>\n",
       "      <th>82115</th>\n",
       "      <td>1.0</td>\n",
       "    </tr>\n",
       "    <tr>\n",
       "      <th>82116</th>\n",
       "      <td>5.0</td>\n",
       "    </tr>\n",
       "    <tr>\n",
       "      <th>82117</th>\n",
       "      <td>3.2</td>\n",
       "    </tr>\n",
       "    <tr>\n",
       "      <th>82118</th>\n",
       "      <td>1.6</td>\n",
       "    </tr>\n",
       "    <tr>\n",
       "      <th>82119</th>\n",
       "      <td>1.2</td>\n",
       "    </tr>\n",
       "  </tbody>\n",
       "</table>\n",
       "<p>82120 rows × 1 columns</p>\n",
       "</div>"
      ],
      "text/plain": [
       "       Ground_truth\n",
       "0               3.4\n",
       "1               4.0\n",
       "2              10.0\n",
       "3               3.6\n",
       "4              10.3\n",
       "...             ...\n",
       "82115           1.0\n",
       "82116           5.0\n",
       "82117           3.2\n",
       "82118           1.6\n",
       "82119           1.2\n",
       "\n",
       "[82120 rows x 1 columns]"
      ]
     },
     "metadata": {},
     "output_type": "display_data"
    },
    {
     "name": "stdout",
     "output_type": "stream",
     "text": [
      "Missing Data : 0 \n",
      " Shape is : (82120, 1)\n"
     ]
    }
   ],
   "source": [
    "ytrain.drop(['Id'], axis=1, inplace=True)\n",
    "display(ytrain.head())\n",
    "print('Missing Data :', ytrain.isna().sum().sum(), '\\n', 'Shape is :', ytrain.shape)"
   ]
  },
  {
   "cell_type": "code",
   "execution_count": 188,
   "metadata": {},
   "outputs": [
    {
     "data": {
      "text/html": [
       "<div>\n",
       "<style scoped>\n",
       "    .dataframe tbody tr th:only-of-type {\n",
       "        vertical-align: middle;\n",
       "    }\n",
       "\n",
       "    .dataframe tbody tr th {\n",
       "        vertical-align: top;\n",
       "    }\n",
       "\n",
       "    .dataframe thead th {\n",
       "        text-align: right;\n",
       "    }\n",
       "</style>\n",
       "<table border=\"1\" class=\"dataframe\">\n",
       "  <thead>\n",
       "    <tr style=\"text-align: right;\">\n",
       "      <th></th>\n",
       "      <th>ff</th>\n",
       "      <th>t</th>\n",
       "      <th>td</th>\n",
       "      <th>hu</th>\n",
       "      <th>dd</th>\n",
       "      <th>precip</th>\n",
       "    </tr>\n",
       "  </thead>\n",
       "  <tbody>\n",
       "    <tr>\n",
       "      <th>0</th>\n",
       "      <td>3.913750</td>\n",
       "      <td>280.333750</td>\n",
       "      <td>278.514583</td>\n",
       "      <td>88.591667</td>\n",
       "      <td>146.500000</td>\n",
       "      <td>0.2</td>\n",
       "    </tr>\n",
       "    <tr>\n",
       "      <th>1</th>\n",
       "      <td>4.759583</td>\n",
       "      <td>280.089583</td>\n",
       "      <td>278.888750</td>\n",
       "      <td>92.187500</td>\n",
       "      <td>158.666667</td>\n",
       "      <td>0.6</td>\n",
       "    </tr>\n",
       "    <tr>\n",
       "      <th>2</th>\n",
       "      <td>5.125833</td>\n",
       "      <td>280.076250</td>\n",
       "      <td>278.564167</td>\n",
       "      <td>90.308333</td>\n",
       "      <td>164.625000</td>\n",
       "      <td>0.2</td>\n",
       "    </tr>\n",
       "    <tr>\n",
       "      <th>3</th>\n",
       "      <td>4.868750</td>\n",
       "      <td>279.287500</td>\n",
       "      <td>278.418333</td>\n",
       "      <td>94.266667</td>\n",
       "      <td>167.625000</td>\n",
       "      <td>0.8</td>\n",
       "    </tr>\n",
       "    <tr>\n",
       "      <th>4</th>\n",
       "      <td>3.821250</td>\n",
       "      <td>281.128750</td>\n",
       "      <td>278.964583</td>\n",
       "      <td>86.545833</td>\n",
       "      <td>131.500000</td>\n",
       "      <td>0.0</td>\n",
       "    </tr>\n",
       "  </tbody>\n",
       "</table>\n",
       "</div>"
      ],
      "text/plain": [
       "         ff           t          td         hu          dd  precip\n",
       "0  3.913750  280.333750  278.514583  88.591667  146.500000     0.2\n",
       "1  4.759583  280.089583  278.888750  92.187500  158.666667     0.6\n",
       "2  5.125833  280.076250  278.564167  90.308333  164.625000     0.2\n",
       "3  4.868750  279.287500  278.418333  94.266667  167.625000     0.8\n",
       "4  3.821250  281.128750  278.964583  86.545833  131.500000     0.0"
      ]
     },
     "metadata": {},
     "output_type": "display_data"
    },
    {
     "name": "stdout",
     "output_type": "stream",
     "text": [
      "Missing Data : 0 \n",
      " Shape is : (65696, 6)\n"
     ]
    }
   ],
   "source": [
    "xtrainS_train.drop(['Id'], axis=1, inplace=True)\n",
    "display(xtrainS_train.head())\n",
    "print('Missing Data :', xtrainS_train.isna().sum().sum(), '\\n', 'Shape is :', xtrainS_train.shape)"
   ]
  },
  {
   "cell_type": "code",
   "execution_count": 189,
   "metadata": {},
   "outputs": [
    {
     "data": {
      "text/html": [
       "<div>\n",
       "<style scoped>\n",
       "    .dataframe tbody tr th:only-of-type {\n",
       "        vertical-align: middle;\n",
       "    }\n",
       "\n",
       "    .dataframe tbody tr th {\n",
       "        vertical-align: top;\n",
       "    }\n",
       "\n",
       "    .dataframe thead th {\n",
       "        text-align: right;\n",
       "    }\n",
       "</style>\n",
       "<table border=\"1\" class=\"dataframe\">\n",
       "  <thead>\n",
       "    <tr style=\"text-align: right;\">\n",
       "      <th></th>\n",
       "      <th>Ground_truth</th>\n",
       "    </tr>\n",
       "  </thead>\n",
       "  <tbody>\n",
       "    <tr>\n",
       "      <th>0</th>\n",
       "      <td>3.4</td>\n",
       "    </tr>\n",
       "    <tr>\n",
       "      <th>1</th>\n",
       "      <td>4.0</td>\n",
       "    </tr>\n",
       "    <tr>\n",
       "      <th>2</th>\n",
       "      <td>10.0</td>\n",
       "    </tr>\n",
       "    <tr>\n",
       "      <th>3</th>\n",
       "      <td>3.6</td>\n",
       "    </tr>\n",
       "    <tr>\n",
       "      <th>4</th>\n",
       "      <td>10.3</td>\n",
       "    </tr>\n",
       "  </tbody>\n",
       "</table>\n",
       "</div>"
      ],
      "text/plain": [
       "   Ground_truth\n",
       "0           3.4\n",
       "1           4.0\n",
       "2          10.0\n",
       "3           3.6\n",
       "4          10.3"
      ]
     },
     "metadata": {},
     "output_type": "display_data"
    },
    {
     "name": "stdout",
     "output_type": "stream",
     "text": [
      "Missing Data : 0 \n",
      " Shape is : (65696, 1)\n"
     ]
    }
   ],
   "source": [
    "ytrain_train.drop(['Id'], axis=1, inplace=True)\n",
    "display(ytrain_train.head())\n",
    "print('Missing Data :', ytrain_train.isna().sum().sum(), '\\n', 'Shape is :', ytrain_train.shape)"
   ]
  },
  {
   "cell_type": "code",
   "execution_count": 190,
   "metadata": {},
   "outputs": [
    {
     "data": {
      "text/html": [
       "<div>\n",
       "<style scoped>\n",
       "    .dataframe tbody tr th:only-of-type {\n",
       "        vertical-align: middle;\n",
       "    }\n",
       "\n",
       "    .dataframe tbody tr th {\n",
       "        vertical-align: top;\n",
       "    }\n",
       "\n",
       "    .dataframe thead th {\n",
       "        text-align: right;\n",
       "    }\n",
       "</style>\n",
       "<table border=\"1\" class=\"dataframe\">\n",
       "  <thead>\n",
       "    <tr style=\"text-align: right;\">\n",
       "      <th></th>\n",
       "      <th>ff</th>\n",
       "      <th>t</th>\n",
       "      <th>td</th>\n",
       "      <th>hu</th>\n",
       "      <th>dd</th>\n",
       "      <th>precip</th>\n",
       "    </tr>\n",
       "  </thead>\n",
       "  <tbody>\n",
       "    <tr>\n",
       "      <th>0</th>\n",
       "      <td>5.467500</td>\n",
       "      <td>282.015417</td>\n",
       "      <td>278.807500</td>\n",
       "      <td>80.545833</td>\n",
       "      <td>165.541667</td>\n",
       "      <td>1.4</td>\n",
       "    </tr>\n",
       "    <tr>\n",
       "      <th>1</th>\n",
       "      <td>5.253750</td>\n",
       "      <td>280.725833</td>\n",
       "      <td>278.762083</td>\n",
       "      <td>87.829167</td>\n",
       "      <td>166.666667</td>\n",
       "      <td>0.0</td>\n",
       "    </tr>\n",
       "    <tr>\n",
       "      <th>2</th>\n",
       "      <td>8.738750</td>\n",
       "      <td>282.292917</td>\n",
       "      <td>280.063333</td>\n",
       "      <td>86.262500</td>\n",
       "      <td>151.208333</td>\n",
       "      <td>8.0</td>\n",
       "    </tr>\n",
       "    <tr>\n",
       "      <th>3</th>\n",
       "      <td>8.132917</td>\n",
       "      <td>282.909167</td>\n",
       "      <td>280.579167</td>\n",
       "      <td>85.670833</td>\n",
       "      <td>148.333333</td>\n",
       "      <td>6.6</td>\n",
       "    </tr>\n",
       "    <tr>\n",
       "      <th>4</th>\n",
       "      <td>6.461667</td>\n",
       "      <td>282.079583</td>\n",
       "      <td>280.275000</td>\n",
       "      <td>88.645833</td>\n",
       "      <td>168.250000</td>\n",
       "      <td>13.5</td>\n",
       "    </tr>\n",
       "  </tbody>\n",
       "</table>\n",
       "</div>"
      ],
      "text/plain": [
       "         ff           t          td         hu          dd  precip\n",
       "0  5.467500  282.015417  278.807500  80.545833  165.541667     1.4\n",
       "1  5.253750  280.725833  278.762083  87.829167  166.666667     0.0\n",
       "2  8.738750  282.292917  280.063333  86.262500  151.208333     8.0\n",
       "3  8.132917  282.909167  280.579167  85.670833  148.333333     6.6\n",
       "4  6.461667  282.079583  280.275000  88.645833  168.250000    13.5"
      ]
     },
     "metadata": {},
     "output_type": "display_data"
    },
    {
     "name": "stdout",
     "output_type": "stream",
     "text": [
      "Missing Data : 0 \n",
      " Shape is : (16424, 6)\n"
     ]
    }
   ],
   "source": [
    "xtrainS_validation.drop(['Id'], axis=1, inplace=True)\n",
    "display(xtrainS_validation.head())\n",
    "print('Missing Data :', xtrainS_validation.isna().sum().sum(), '\\n', 'Shape is :', xtrainS_validation.shape)"
   ]
  },
  {
   "cell_type": "code",
   "execution_count": 191,
   "metadata": {},
   "outputs": [
    {
     "name": "stderr",
     "output_type": "stream",
     "text": [
      "/opt/anaconda3/lib/python3.8/site-packages/pandas/core/frame.py:4163: SettingWithCopyWarning: \n",
      "A value is trying to be set on a copy of a slice from a DataFrame\n",
      "\n",
      "See the caveats in the documentation: https://pandas.pydata.org/pandas-docs/stable/user_guide/indexing.html#returning-a-view-versus-a-copy\n",
      "  return super().drop(\n"
     ]
    },
    {
     "data": {
      "text/html": [
       "<div>\n",
       "<style scoped>\n",
       "    .dataframe tbody tr th:only-of-type {\n",
       "        vertical-align: middle;\n",
       "    }\n",
       "\n",
       "    .dataframe tbody tr th {\n",
       "        vertical-align: top;\n",
       "    }\n",
       "\n",
       "    .dataframe thead th {\n",
       "        text-align: right;\n",
       "    }\n",
       "</style>\n",
       "<table border=\"1\" class=\"dataframe\">\n",
       "  <thead>\n",
       "    <tr style=\"text-align: right;\">\n",
       "      <th></th>\n",
       "      <th>Ground_truth</th>\n",
       "    </tr>\n",
       "  </thead>\n",
       "  <tbody>\n",
       "    <tr>\n",
       "      <th>0</th>\n",
       "      <td>13.9</td>\n",
       "    </tr>\n",
       "    <tr>\n",
       "      <th>1</th>\n",
       "      <td>3.2</td>\n",
       "    </tr>\n",
       "    <tr>\n",
       "      <th>2</th>\n",
       "      <td>15.9</td>\n",
       "    </tr>\n",
       "    <tr>\n",
       "      <th>3</th>\n",
       "      <td>12.2</td>\n",
       "    </tr>\n",
       "    <tr>\n",
       "      <th>4</th>\n",
       "      <td>16.4</td>\n",
       "    </tr>\n",
       "  </tbody>\n",
       "</table>\n",
       "</div>"
      ],
      "text/plain": [
       "   Ground_truth\n",
       "0          13.9\n",
       "1           3.2\n",
       "2          15.9\n",
       "3          12.2\n",
       "4          16.4"
      ]
     },
     "metadata": {},
     "output_type": "display_data"
    },
    {
     "name": "stdout",
     "output_type": "stream",
     "text": [
      "Missing Data : 0 \n",
      " Shape is : (16424, 1)\n"
     ]
    }
   ],
   "source": [
    "ytrain_validation.drop(['Id'], axis=1, inplace=True)\n",
    "display(ytrain_validation.head())\n",
    "print('Missing Data :', ytrain_validation.isna().sum().sum(), '\\n', 'Shape is :', ytrain_validation.shape)"
   ]
  },
  {
   "cell_type": "markdown",
   "metadata": {},
   "source": [
    "### 3.2 Test data"
   ]
  },
  {
   "cell_type": "code",
   "execution_count": 59,
   "metadata": {},
   "outputs": [],
   "source": [
    "def Id_to_int (id):\n",
    "    return int(id.split('_')[0] + id.split('_')[1] + id.split('_')[2])"
   ]
  },
  {
   "cell_type": "markdown",
   "metadata": {},
   "source": [
    "**Create 'IntId' column**"
   ]
  },
  {
   "cell_type": "code",
   "execution_count": 60,
   "metadata": {},
   "outputs": [
    {
     "data": {
      "text/html": [
       "<div>\n",
       "<style scoped>\n",
       "    .dataframe tbody tr th:only-of-type {\n",
       "        vertical-align: middle;\n",
       "    }\n",
       "\n",
       "    .dataframe tbody tr th {\n",
       "        vertical-align: top;\n",
       "    }\n",
       "\n",
       "    .dataframe thead th {\n",
       "        text-align: right;\n",
       "    }\n",
       "</style>\n",
       "<table border=\"1\" class=\"dataframe\">\n",
       "  <thead>\n",
       "    <tr style=\"text-align: right;\">\n",
       "      <th></th>\n",
       "      <th>dd</th>\n",
       "      <th>hu</th>\n",
       "      <th>td</th>\n",
       "      <th>t</th>\n",
       "      <th>ff</th>\n",
       "      <th>precip</th>\n",
       "      <th>month</th>\n",
       "      <th>Id</th>\n",
       "      <th>IntId</th>\n",
       "    </tr>\n",
       "  </thead>\n",
       "  <tbody>\n",
       "    <tr>\n",
       "      <th>0</th>\n",
       "      <td>NaN</td>\n",
       "      <td>NaN</td>\n",
       "      <td>NaN</td>\n",
       "      <td>278.35</td>\n",
       "      <td>NaN</td>\n",
       "      <td>NaN</td>\n",
       "      <td>12</td>\n",
       "      <td>14047002_277_4</td>\n",
       "      <td>140470022774</td>\n",
       "    </tr>\n",
       "    <tr>\n",
       "      <th>1</th>\n",
       "      <td>NaN</td>\n",
       "      <td>NaN</td>\n",
       "      <td>NaN</td>\n",
       "      <td>278.40</td>\n",
       "      <td>NaN</td>\n",
       "      <td>0.0</td>\n",
       "      <td>12</td>\n",
       "      <td>14047002_277_5</td>\n",
       "      <td>140470022775</td>\n",
       "    </tr>\n",
       "    <tr>\n",
       "      <th>2</th>\n",
       "      <td>NaN</td>\n",
       "      <td>NaN</td>\n",
       "      <td>NaN</td>\n",
       "      <td>279.01</td>\n",
       "      <td>NaN</td>\n",
       "      <td>0.0</td>\n",
       "      <td>12</td>\n",
       "      <td>14047002_277_6</td>\n",
       "      <td>140470022776</td>\n",
       "    </tr>\n",
       "    <tr>\n",
       "      <th>3</th>\n",
       "      <td>NaN</td>\n",
       "      <td>NaN</td>\n",
       "      <td>NaN</td>\n",
       "      <td>279.66</td>\n",
       "      <td>NaN</td>\n",
       "      <td>0.0</td>\n",
       "      <td>12</td>\n",
       "      <td>14047002_277_7</td>\n",
       "      <td>140470022777</td>\n",
       "    </tr>\n",
       "    <tr>\n",
       "      <th>4</th>\n",
       "      <td>NaN</td>\n",
       "      <td>NaN</td>\n",
       "      <td>NaN</td>\n",
       "      <td>279.99</td>\n",
       "      <td>NaN</td>\n",
       "      <td>0.0</td>\n",
       "      <td>12</td>\n",
       "      <td>14047002_277_8</td>\n",
       "      <td>140470022778</td>\n",
       "    </tr>\n",
       "  </tbody>\n",
       "</table>\n",
       "</div>"
      ],
      "text/plain": [
       "   dd  hu  td       t  ff  precip  month              Id         IntId\n",
       "0 NaN NaN NaN  278.35 NaN     NaN     12  14047002_277_4  140470022774\n",
       "1 NaN NaN NaN  278.40 NaN     0.0     12  14047002_277_5  140470022775\n",
       "2 NaN NaN NaN  279.01 NaN     0.0     12  14047002_277_6  140470022776\n",
       "3 NaN NaN NaN  279.66 NaN     0.0     12  14047002_277_7  140470022777\n",
       "4 NaN NaN NaN  279.99 NaN     0.0     12  14047002_277_8  140470022778"
      ]
     },
     "metadata": {},
     "output_type": "display_data"
    },
    {
     "name": "stdout",
     "output_type": "stream",
     "text": [
      "Missing Data : 3914287 \n",
      " Shape is : (2304802, 9)\n"
     ]
    }
   ],
   "source": [
    "xtestS = xtestS.assign(IntId=pd.Series(np.zeros(xtestS.shape[0])).values)\n",
    "xtestS.loc[:,\"IntId\"] = xtestS.loc[:,\"Id\"].apply(Id_to_int)\n",
    "display(xtestS.head())\n",
    "print('Missing Data :', xtestS.isna().sum().sum(), '\\n', 'Shape is :', xtestS.shape)"
   ]
  },
  {
   "cell_type": "markdown",
   "metadata": {},
   "source": [
    "**Sort X_test on 'IntId' values**"
   ]
  },
  {
   "cell_type": "code",
   "execution_count": 61,
   "metadata": {},
   "outputs": [
    {
     "data": {
      "text/html": [
       "<div>\n",
       "<style scoped>\n",
       "    .dataframe tbody tr th:only-of-type {\n",
       "        vertical-align: middle;\n",
       "    }\n",
       "\n",
       "    .dataframe tbody tr th {\n",
       "        vertical-align: top;\n",
       "    }\n",
       "\n",
       "    .dataframe thead th {\n",
       "        text-align: right;\n",
       "    }\n",
       "</style>\n",
       "<table border=\"1\" class=\"dataframe\">\n",
       "  <thead>\n",
       "    <tr style=\"text-align: right;\">\n",
       "      <th></th>\n",
       "      <th>dd</th>\n",
       "      <th>hu</th>\n",
       "      <th>td</th>\n",
       "      <th>t</th>\n",
       "      <th>ff</th>\n",
       "      <th>precip</th>\n",
       "      <th>month</th>\n",
       "      <th>Id</th>\n",
       "      <th>IntId</th>\n",
       "    </tr>\n",
       "  </thead>\n",
       "  <tbody>\n",
       "    <tr>\n",
       "      <th>0</th>\n",
       "      <td>224.0</td>\n",
       "      <td>96.1</td>\n",
       "      <td>277.17</td>\n",
       "      <td>277.75</td>\n",
       "      <td>3.46</td>\n",
       "      <td>0.0</td>\n",
       "      <td>2</td>\n",
       "      <td>14066001_0_0</td>\n",
       "      <td>1406600100</td>\n",
       "    </tr>\n",
       "    <tr>\n",
       "      <th>1</th>\n",
       "      <td>216.0</td>\n",
       "      <td>96.7</td>\n",
       "      <td>277.47</td>\n",
       "      <td>277.93</td>\n",
       "      <td>3.65</td>\n",
       "      <td>0.0</td>\n",
       "      <td>2</td>\n",
       "      <td>14066001_0_1</td>\n",
       "      <td>1406600101</td>\n",
       "    </tr>\n",
       "    <tr>\n",
       "      <th>2</th>\n",
       "      <td>222.0</td>\n",
       "      <td>97.1</td>\n",
       "      <td>277.03</td>\n",
       "      <td>277.42</td>\n",
       "      <td>3.63</td>\n",
       "      <td>0.0</td>\n",
       "      <td>2</td>\n",
       "      <td>14066001_0_2</td>\n",
       "      <td>1406600102</td>\n",
       "    </tr>\n",
       "    <tr>\n",
       "      <th>3</th>\n",
       "      <td>220.0</td>\n",
       "      <td>97.9</td>\n",
       "      <td>277.23</td>\n",
       "      <td>277.54</td>\n",
       "      <td>4.17</td>\n",
       "      <td>0.0</td>\n",
       "      <td>2</td>\n",
       "      <td>14066001_0_3</td>\n",
       "      <td>1406600103</td>\n",
       "    </tr>\n",
       "    <tr>\n",
       "      <th>4</th>\n",
       "      <td>215.0</td>\n",
       "      <td>98.0</td>\n",
       "      <td>277.30</td>\n",
       "      <td>277.60</td>\n",
       "      <td>4.03</td>\n",
       "      <td>0.0</td>\n",
       "      <td>2</td>\n",
       "      <td>14066001_0_4</td>\n",
       "      <td>1406600104</td>\n",
       "    </tr>\n",
       "  </tbody>\n",
       "</table>\n",
       "</div>"
      ],
      "text/plain": [
       "      dd    hu      td       t    ff  precip  month            Id       IntId\n",
       "0  224.0  96.1  277.17  277.75  3.46     0.0      2  14066001_0_0  1406600100\n",
       "1  216.0  96.7  277.47  277.93  3.65     0.0      2  14066001_0_1  1406600101\n",
       "2  222.0  97.1  277.03  277.42  3.63     0.0      2  14066001_0_2  1406600102\n",
       "3  220.0  97.9  277.23  277.54  4.17     0.0      2  14066001_0_3  1406600103\n",
       "4  215.0  98.0  277.30  277.60  4.03     0.0      2  14066001_0_4  1406600104"
      ]
     },
     "metadata": {},
     "output_type": "display_data"
    },
    {
     "name": "stdout",
     "output_type": "stream",
     "text": [
      "Missing Data : 3914287 \n",
      " Shape is : (2304802, 9)\n"
     ]
    }
   ],
   "source": [
    "xtestS = xtestS.sort_values('IntId', ignore_index=True)\n",
    "display(xtestS.head())\n",
    "print('Missing Data :', xtestS.isna().sum().sum(), '\\n', 'Shape is :', xtestS.shape)"
   ]
  },
  {
   "cell_type": "markdown",
   "metadata": {},
   "source": [
    "**Fill NaNs**"
   ]
  },
  {
   "cell_type": "code",
   "execution_count": 62,
   "metadata": {},
   "outputs": [
    {
     "data": {
      "text/html": [
       "<div>\n",
       "<style scoped>\n",
       "    .dataframe tbody tr th:only-of-type {\n",
       "        vertical-align: middle;\n",
       "    }\n",
       "\n",
       "    .dataframe tbody tr th {\n",
       "        vertical-align: top;\n",
       "    }\n",
       "\n",
       "    .dataframe thead th {\n",
       "        text-align: right;\n",
       "    }\n",
       "</style>\n",
       "<table border=\"1\" class=\"dataframe\">\n",
       "  <thead>\n",
       "    <tr style=\"text-align: right;\">\n",
       "      <th></th>\n",
       "      <th>dd</th>\n",
       "      <th>hu</th>\n",
       "      <th>td</th>\n",
       "      <th>t</th>\n",
       "      <th>ff</th>\n",
       "      <th>precip</th>\n",
       "      <th>month</th>\n",
       "      <th>Id</th>\n",
       "      <th>IntId</th>\n",
       "    </tr>\n",
       "  </thead>\n",
       "  <tbody>\n",
       "    <tr>\n",
       "      <th>0</th>\n",
       "      <td>224.0</td>\n",
       "      <td>96.1</td>\n",
       "      <td>277.17</td>\n",
       "      <td>277.75</td>\n",
       "      <td>3.46</td>\n",
       "      <td>0.0</td>\n",
       "      <td>2</td>\n",
       "      <td>14066001_0_0</td>\n",
       "      <td>1406600100</td>\n",
       "    </tr>\n",
       "    <tr>\n",
       "      <th>1</th>\n",
       "      <td>216.0</td>\n",
       "      <td>96.7</td>\n",
       "      <td>277.47</td>\n",
       "      <td>277.93</td>\n",
       "      <td>3.65</td>\n",
       "      <td>0.0</td>\n",
       "      <td>2</td>\n",
       "      <td>14066001_0_1</td>\n",
       "      <td>1406600101</td>\n",
       "    </tr>\n",
       "    <tr>\n",
       "      <th>2</th>\n",
       "      <td>222.0</td>\n",
       "      <td>97.1</td>\n",
       "      <td>277.03</td>\n",
       "      <td>277.42</td>\n",
       "      <td>3.63</td>\n",
       "      <td>0.0</td>\n",
       "      <td>2</td>\n",
       "      <td>14066001_0_2</td>\n",
       "      <td>1406600102</td>\n",
       "    </tr>\n",
       "    <tr>\n",
       "      <th>3</th>\n",
       "      <td>220.0</td>\n",
       "      <td>97.9</td>\n",
       "      <td>277.23</td>\n",
       "      <td>277.54</td>\n",
       "      <td>4.17</td>\n",
       "      <td>0.0</td>\n",
       "      <td>2</td>\n",
       "      <td>14066001_0_3</td>\n",
       "      <td>1406600103</td>\n",
       "    </tr>\n",
       "    <tr>\n",
       "      <th>4</th>\n",
       "      <td>215.0</td>\n",
       "      <td>98.0</td>\n",
       "      <td>277.30</td>\n",
       "      <td>277.60</td>\n",
       "      <td>4.03</td>\n",
       "      <td>0.0</td>\n",
       "      <td>2</td>\n",
       "      <td>14066001_0_4</td>\n",
       "      <td>1406600104</td>\n",
       "    </tr>\n",
       "  </tbody>\n",
       "</table>\n",
       "</div>"
      ],
      "text/plain": [
       "      dd    hu      td       t    ff  precip  month            Id       IntId\n",
       "0  224.0  96.1  277.17  277.75  3.46     0.0      2  14066001_0_0  1406600100\n",
       "1  216.0  96.7  277.47  277.93  3.65     0.0      2  14066001_0_1  1406600101\n",
       "2  222.0  97.1  277.03  277.42  3.63     0.0      2  14066001_0_2  1406600102\n",
       "3  220.0  97.9  277.23  277.54  4.17     0.0      2  14066001_0_3  1406600103\n",
       "4  215.0  98.0  277.30  277.60  4.03     0.0      2  14066001_0_4  1406600104"
      ]
     },
     "metadata": {},
     "output_type": "display_data"
    },
    {
     "name": "stdout",
     "output_type": "stream",
     "text": [
      "Missing Data : 0 \n",
      " Shape is : (2304802, 9)\n"
     ]
    }
   ],
   "source": [
    "xtestS = xtestS.fillna(method=\"backfill\")\n",
    "display(xtestS.head())\n",
    "print('Missing Data :', xtestS.isna().sum().sum(), '\\n', 'Shape is :', xtestS.shape)"
   ]
  },
  {
   "cell_type": "markdown",
   "metadata": {},
   "source": [
    "**Create 'StationDay' column**"
   ]
  },
  {
   "cell_type": "code",
   "execution_count": 63,
   "metadata": {},
   "outputs": [
    {
     "data": {
      "text/html": [
       "<div>\n",
       "<style scoped>\n",
       "    .dataframe tbody tr th:only-of-type {\n",
       "        vertical-align: middle;\n",
       "    }\n",
       "\n",
       "    .dataframe tbody tr th {\n",
       "        vertical-align: top;\n",
       "    }\n",
       "\n",
       "    .dataframe thead th {\n",
       "        text-align: right;\n",
       "    }\n",
       "</style>\n",
       "<table border=\"1\" class=\"dataframe\">\n",
       "  <thead>\n",
       "    <tr style=\"text-align: right;\">\n",
       "      <th></th>\n",
       "      <th>dd</th>\n",
       "      <th>hu</th>\n",
       "      <th>td</th>\n",
       "      <th>t</th>\n",
       "      <th>ff</th>\n",
       "      <th>precip</th>\n",
       "      <th>month</th>\n",
       "      <th>Id</th>\n",
       "      <th>IntId</th>\n",
       "      <th>StationDay</th>\n",
       "    </tr>\n",
       "  </thead>\n",
       "  <tbody>\n",
       "    <tr>\n",
       "      <th>0</th>\n",
       "      <td>224.0</td>\n",
       "      <td>96.1</td>\n",
       "      <td>277.17</td>\n",
       "      <td>277.75</td>\n",
       "      <td>3.46</td>\n",
       "      <td>0.0</td>\n",
       "      <td>2</td>\n",
       "      <td>14066001_0_0</td>\n",
       "      <td>1406600100</td>\n",
       "      <td>14066001_0</td>\n",
       "    </tr>\n",
       "    <tr>\n",
       "      <th>1</th>\n",
       "      <td>216.0</td>\n",
       "      <td>96.7</td>\n",
       "      <td>277.47</td>\n",
       "      <td>277.93</td>\n",
       "      <td>3.65</td>\n",
       "      <td>0.0</td>\n",
       "      <td>2</td>\n",
       "      <td>14066001_0_1</td>\n",
       "      <td>1406600101</td>\n",
       "      <td>14066001_0</td>\n",
       "    </tr>\n",
       "    <tr>\n",
       "      <th>2</th>\n",
       "      <td>222.0</td>\n",
       "      <td>97.1</td>\n",
       "      <td>277.03</td>\n",
       "      <td>277.42</td>\n",
       "      <td>3.63</td>\n",
       "      <td>0.0</td>\n",
       "      <td>2</td>\n",
       "      <td>14066001_0_2</td>\n",
       "      <td>1406600102</td>\n",
       "      <td>14066001_0</td>\n",
       "    </tr>\n",
       "    <tr>\n",
       "      <th>3</th>\n",
       "      <td>220.0</td>\n",
       "      <td>97.9</td>\n",
       "      <td>277.23</td>\n",
       "      <td>277.54</td>\n",
       "      <td>4.17</td>\n",
       "      <td>0.0</td>\n",
       "      <td>2</td>\n",
       "      <td>14066001_0_3</td>\n",
       "      <td>1406600103</td>\n",
       "      <td>14066001_0</td>\n",
       "    </tr>\n",
       "    <tr>\n",
       "      <th>4</th>\n",
       "      <td>215.0</td>\n",
       "      <td>98.0</td>\n",
       "      <td>277.30</td>\n",
       "      <td>277.60</td>\n",
       "      <td>4.03</td>\n",
       "      <td>0.0</td>\n",
       "      <td>2</td>\n",
       "      <td>14066001_0_4</td>\n",
       "      <td>1406600104</td>\n",
       "      <td>14066001_0</td>\n",
       "    </tr>\n",
       "  </tbody>\n",
       "</table>\n",
       "</div>"
      ],
      "text/plain": [
       "      dd    hu      td       t    ff  precip  month            Id       IntId  \\\n",
       "0  224.0  96.1  277.17  277.75  3.46     0.0      2  14066001_0_0  1406600100   \n",
       "1  216.0  96.7  277.47  277.93  3.65     0.0      2  14066001_0_1  1406600101   \n",
       "2  222.0  97.1  277.03  277.42  3.63     0.0      2  14066001_0_2  1406600102   \n",
       "3  220.0  97.9  277.23  277.54  4.17     0.0      2  14066001_0_3  1406600103   \n",
       "4  215.0  98.0  277.30  277.60  4.03     0.0      2  14066001_0_4  1406600104   \n",
       "\n",
       "   StationDay  \n",
       "0  14066001_0  \n",
       "1  14066001_0  \n",
       "2  14066001_0  \n",
       "3  14066001_0  \n",
       "4  14066001_0  "
      ]
     },
     "metadata": {},
     "output_type": "display_data"
    },
    {
     "name": "stdout",
     "output_type": "stream",
     "text": [
      "Missing Data : 0 \n",
      " Shape is : (2304802, 10)\n"
     ]
    }
   ],
   "source": [
    "xtestS = xtestS.assign(StationDay=pd.Series(np.zeros(xtestS.shape[0])).values)\n",
    "xtestS.loc[:,\"StationDay\"] = xtestS.loc[:,\"Id\"].apply(Get_StationDay)\n",
    "display(xtestS.head())\n",
    "print('Missing Data :', xtestS.isna().sum().sum(), '\\n', 'Shape is :', xtestS.shape)"
   ]
  },
  {
   "cell_type": "markdown",
   "metadata": {},
   "source": [
    "**Drop useless variables**"
   ]
  },
  {
   "cell_type": "code",
   "execution_count": 64,
   "metadata": {},
   "outputs": [
    {
     "data": {
      "text/html": [
       "<div>\n",
       "<style scoped>\n",
       "    .dataframe tbody tr th:only-of-type {\n",
       "        vertical-align: middle;\n",
       "    }\n",
       "\n",
       "    .dataframe tbody tr th {\n",
       "        vertical-align: top;\n",
       "    }\n",
       "\n",
       "    .dataframe thead th {\n",
       "        text-align: right;\n",
       "    }\n",
       "</style>\n",
       "<table border=\"1\" class=\"dataframe\">\n",
       "  <thead>\n",
       "    <tr style=\"text-align: right;\">\n",
       "      <th></th>\n",
       "      <th>dd</th>\n",
       "      <th>hu</th>\n",
       "      <th>td</th>\n",
       "      <th>t</th>\n",
       "      <th>ff</th>\n",
       "      <th>precip</th>\n",
       "      <th>StationDay</th>\n",
       "    </tr>\n",
       "  </thead>\n",
       "  <tbody>\n",
       "    <tr>\n",
       "      <th>0</th>\n",
       "      <td>224.0</td>\n",
       "      <td>96.1</td>\n",
       "      <td>277.17</td>\n",
       "      <td>277.75</td>\n",
       "      <td>3.46</td>\n",
       "      <td>0.0</td>\n",
       "      <td>14066001_0</td>\n",
       "    </tr>\n",
       "    <tr>\n",
       "      <th>1</th>\n",
       "      <td>216.0</td>\n",
       "      <td>96.7</td>\n",
       "      <td>277.47</td>\n",
       "      <td>277.93</td>\n",
       "      <td>3.65</td>\n",
       "      <td>0.0</td>\n",
       "      <td>14066001_0</td>\n",
       "    </tr>\n",
       "    <tr>\n",
       "      <th>2</th>\n",
       "      <td>222.0</td>\n",
       "      <td>97.1</td>\n",
       "      <td>277.03</td>\n",
       "      <td>277.42</td>\n",
       "      <td>3.63</td>\n",
       "      <td>0.0</td>\n",
       "      <td>14066001_0</td>\n",
       "    </tr>\n",
       "    <tr>\n",
       "      <th>3</th>\n",
       "      <td>220.0</td>\n",
       "      <td>97.9</td>\n",
       "      <td>277.23</td>\n",
       "      <td>277.54</td>\n",
       "      <td>4.17</td>\n",
       "      <td>0.0</td>\n",
       "      <td>14066001_0</td>\n",
       "    </tr>\n",
       "    <tr>\n",
       "      <th>4</th>\n",
       "      <td>215.0</td>\n",
       "      <td>98.0</td>\n",
       "      <td>277.30</td>\n",
       "      <td>277.60</td>\n",
       "      <td>4.03</td>\n",
       "      <td>0.0</td>\n",
       "      <td>14066001_0</td>\n",
       "    </tr>\n",
       "  </tbody>\n",
       "</table>\n",
       "</div>"
      ],
      "text/plain": [
       "      dd    hu      td       t    ff  precip  StationDay\n",
       "0  224.0  96.1  277.17  277.75  3.46     0.0  14066001_0\n",
       "1  216.0  96.7  277.47  277.93  3.65     0.0  14066001_0\n",
       "2  222.0  97.1  277.03  277.42  3.63     0.0  14066001_0\n",
       "3  220.0  97.9  277.23  277.54  4.17     0.0  14066001_0\n",
       "4  215.0  98.0  277.30  277.60  4.03     0.0  14066001_0"
      ]
     },
     "metadata": {},
     "output_type": "display_data"
    },
    {
     "name": "stdout",
     "output_type": "stream",
     "text": [
      "Missing Data : 0 \n",
      " Shape is : (2304802, 7)\n"
     ]
    }
   ],
   "source": [
    "xtestS.drop(['month', 'Id', 'IntId'], axis=1, inplace=True)\n",
    "display(xtestS.head())\n",
    "print('Missing Data :', xtestS.isna().sum().sum(), '\\n', 'Shape is :', xtestS.shape)"
   ]
  },
  {
   "cell_type": "markdown",
   "metadata": {},
   "source": [
    "**Mean on 24 hours (except 'precip')**"
   ]
  },
  {
   "cell_type": "code",
   "execution_count": 65,
   "metadata": {},
   "outputs": [
    {
     "data": {
      "text/html": [
       "<div>\n",
       "<style scoped>\n",
       "    .dataframe tbody tr th:only-of-type {\n",
       "        vertical-align: middle;\n",
       "    }\n",
       "\n",
       "    .dataframe tbody tr th {\n",
       "        vertical-align: top;\n",
       "    }\n",
       "\n",
       "    .dataframe thead th {\n",
       "        text-align: right;\n",
       "    }\n",
       "</style>\n",
       "<table border=\"1\" class=\"dataframe\">\n",
       "  <thead>\n",
       "    <tr style=\"text-align: right;\">\n",
       "      <th></th>\n",
       "      <th>StationDay</th>\n",
       "      <th>dd</th>\n",
       "      <th>hu</th>\n",
       "      <th>td</th>\n",
       "      <th>t</th>\n",
       "      <th>ff</th>\n",
       "      <th>precip</th>\n",
       "    </tr>\n",
       "  </thead>\n",
       "  <tbody>\n",
       "    <tr>\n",
       "      <th>0</th>\n",
       "      <td>14047002_100</td>\n",
       "      <td>183.583333</td>\n",
       "      <td>90.041667</td>\n",
       "      <td>280.165833</td>\n",
       "      <td>282.565000</td>\n",
       "      <td>3.250833</td>\n",
       "      <td>9.9</td>\n",
       "    </tr>\n",
       "    <tr>\n",
       "      <th>1</th>\n",
       "      <td>14047002_223</td>\n",
       "      <td>183.583333</td>\n",
       "      <td>90.041667</td>\n",
       "      <td>280.165833</td>\n",
       "      <td>285.415000</td>\n",
       "      <td>3.250833</td>\n",
       "      <td>0.8</td>\n",
       "    </tr>\n",
       "    <tr>\n",
       "      <th>2</th>\n",
       "      <td>14047002_236</td>\n",
       "      <td>183.583333</td>\n",
       "      <td>90.041667</td>\n",
       "      <td>280.165833</td>\n",
       "      <td>283.064167</td>\n",
       "      <td>3.250833</td>\n",
       "      <td>7.0</td>\n",
       "    </tr>\n",
       "    <tr>\n",
       "      <th>3</th>\n",
       "      <td>14047002_256</td>\n",
       "      <td>183.583333</td>\n",
       "      <td>90.041667</td>\n",
       "      <td>280.165833</td>\n",
       "      <td>283.611250</td>\n",
       "      <td>3.250833</td>\n",
       "      <td>4.0</td>\n",
       "    </tr>\n",
       "    <tr>\n",
       "      <th>4</th>\n",
       "      <td>14047002_277</td>\n",
       "      <td>NaN</td>\n",
       "      <td>NaN</td>\n",
       "      <td>NaN</td>\n",
       "      <td>NaN</td>\n",
       "      <td>NaN</td>\n",
       "      <td>NaN</td>\n",
       "    </tr>\n",
       "  </tbody>\n",
       "</table>\n",
       "</div>"
      ],
      "text/plain": [
       "     StationDay          dd         hu          td           t        ff  \\\n",
       "0  14047002_100  183.583333  90.041667  280.165833  282.565000  3.250833   \n",
       "1  14047002_223  183.583333  90.041667  280.165833  285.415000  3.250833   \n",
       "2  14047002_236  183.583333  90.041667  280.165833  283.064167  3.250833   \n",
       "3  14047002_256  183.583333  90.041667  280.165833  283.611250  3.250833   \n",
       "4  14047002_277         NaN        NaN         NaN         NaN       NaN   \n",
       "\n",
       "   precip  \n",
       "0     9.9  \n",
       "1     0.8  \n",
       "2     7.0  \n",
       "3     4.0  \n",
       "4     NaN  "
      ]
     },
     "metadata": {},
     "output_type": "display_data"
    },
    {
     "name": "stdout",
     "output_type": "stream",
     "text": [
      "Missing Data : 258 \n",
      " Shape is : (96055, 7)\n"
     ]
    }
   ],
   "source": [
    "xtestS = xtestS.groupby(\"StationDay\", as_index=False).agg(pd.Series.sum, min_count = 24)\n",
    "xtestS[['dd', 'hu', 'td', 't', 'ff']] = xtestS[['dd', 'hu', 'td', 't', 'ff']].divide(24)\n",
    "display(xtestS.head())\n",
    "print('Missing Data :', xtestS.isna().sum().sum(), '\\n', 'Shape is :', xtestS.shape)"
   ]
  },
  {
   "cell_type": "markdown",
   "metadata": {},
   "source": [
    "**Remove NaNs**"
   ]
  },
  {
   "cell_type": "code",
   "execution_count": 66,
   "metadata": {},
   "outputs": [
    {
     "data": {
      "text/html": [
       "<div>\n",
       "<style scoped>\n",
       "    .dataframe tbody tr th:only-of-type {\n",
       "        vertical-align: middle;\n",
       "    }\n",
       "\n",
       "    .dataframe tbody tr th {\n",
       "        vertical-align: top;\n",
       "    }\n",
       "\n",
       "    .dataframe thead th {\n",
       "        text-align: right;\n",
       "    }\n",
       "</style>\n",
       "<table border=\"1\" class=\"dataframe\">\n",
       "  <thead>\n",
       "    <tr style=\"text-align: right;\">\n",
       "      <th></th>\n",
       "      <th>StationDay</th>\n",
       "      <th>dd</th>\n",
       "      <th>hu</th>\n",
       "      <th>td</th>\n",
       "      <th>t</th>\n",
       "      <th>ff</th>\n",
       "      <th>precip</th>\n",
       "    </tr>\n",
       "  </thead>\n",
       "  <tbody>\n",
       "    <tr>\n",
       "      <th>0</th>\n",
       "      <td>14047002_100</td>\n",
       "      <td>183.583333</td>\n",
       "      <td>90.041667</td>\n",
       "      <td>280.165833</td>\n",
       "      <td>282.565000</td>\n",
       "      <td>3.250833</td>\n",
       "      <td>9.9</td>\n",
       "    </tr>\n",
       "    <tr>\n",
       "      <th>1</th>\n",
       "      <td>14047002_223</td>\n",
       "      <td>183.583333</td>\n",
       "      <td>90.041667</td>\n",
       "      <td>280.165833</td>\n",
       "      <td>285.415000</td>\n",
       "      <td>3.250833</td>\n",
       "      <td>0.8</td>\n",
       "    </tr>\n",
       "    <tr>\n",
       "      <th>2</th>\n",
       "      <td>14047002_236</td>\n",
       "      <td>183.583333</td>\n",
       "      <td>90.041667</td>\n",
       "      <td>280.165833</td>\n",
       "      <td>283.064167</td>\n",
       "      <td>3.250833</td>\n",
       "      <td>7.0</td>\n",
       "    </tr>\n",
       "    <tr>\n",
       "      <th>3</th>\n",
       "      <td>14047002_256</td>\n",
       "      <td>183.583333</td>\n",
       "      <td>90.041667</td>\n",
       "      <td>280.165833</td>\n",
       "      <td>283.611250</td>\n",
       "      <td>3.250833</td>\n",
       "      <td>4.0</td>\n",
       "    </tr>\n",
       "    <tr>\n",
       "      <th>5</th>\n",
       "      <td>14047002_281</td>\n",
       "      <td>183.583333</td>\n",
       "      <td>90.041667</td>\n",
       "      <td>280.165833</td>\n",
       "      <td>282.633750</td>\n",
       "      <td>3.250833</td>\n",
       "      <td>0.0</td>\n",
       "    </tr>\n",
       "  </tbody>\n",
       "</table>\n",
       "</div>"
      ],
      "text/plain": [
       "     StationDay          dd         hu          td           t        ff  \\\n",
       "0  14047002_100  183.583333  90.041667  280.165833  282.565000  3.250833   \n",
       "1  14047002_223  183.583333  90.041667  280.165833  285.415000  3.250833   \n",
       "2  14047002_236  183.583333  90.041667  280.165833  283.064167  3.250833   \n",
       "3  14047002_256  183.583333  90.041667  280.165833  283.611250  3.250833   \n",
       "5  14047002_281  183.583333  90.041667  280.165833  282.633750  3.250833   \n",
       "\n",
       "   precip  \n",
       "0     9.9  \n",
       "1     0.8  \n",
       "2     7.0  \n",
       "3     4.0  \n",
       "5     0.0  "
      ]
     },
     "metadata": {},
     "output_type": "display_data"
    },
    {
     "name": "stdout",
     "output_type": "stream",
     "text": [
      "Missing Data : 0 \n",
      " Shape is : (96012, 7)\n"
     ]
    }
   ],
   "source": [
    "xtestS.dropna(inplace=True)\n",
    "display(xtestS.head())\n",
    "print('Missing Data :', xtestS.isna().sum().sum(), '\\n', 'Shape is :', xtestS.shape)"
   ]
  },
  {
   "cell_type": "markdown",
   "metadata": {},
   "source": [
    "**Keep the same rows in X_test and Y_test**"
   ]
  },
  {
   "cell_type": "code",
   "execution_count": 67,
   "metadata": {},
   "outputs": [
    {
     "data": {
      "text/html": [
       "<div>\n",
       "<style scoped>\n",
       "    .dataframe tbody tr th:only-of-type {\n",
       "        vertical-align: middle;\n",
       "    }\n",
       "\n",
       "    .dataframe tbody tr th {\n",
       "        vertical-align: top;\n",
       "    }\n",
       "\n",
       "    .dataframe thead th {\n",
       "        text-align: right;\n",
       "    }\n",
       "</style>\n",
       "<table border=\"1\" class=\"dataframe\">\n",
       "  <thead>\n",
       "    <tr style=\"text-align: right;\">\n",
       "      <th></th>\n",
       "      <th>StationDay</th>\n",
       "      <th>dd</th>\n",
       "      <th>hu</th>\n",
       "      <th>td</th>\n",
       "      <th>t</th>\n",
       "      <th>ff</th>\n",
       "      <th>precip</th>\n",
       "    </tr>\n",
       "  </thead>\n",
       "  <tbody>\n",
       "    <tr>\n",
       "      <th>0</th>\n",
       "      <td>14047002_100</td>\n",
       "      <td>183.583333</td>\n",
       "      <td>90.041667</td>\n",
       "      <td>280.165833</td>\n",
       "      <td>282.565000</td>\n",
       "      <td>3.250833</td>\n",
       "      <td>9.9</td>\n",
       "    </tr>\n",
       "    <tr>\n",
       "      <th>1</th>\n",
       "      <td>14047002_223</td>\n",
       "      <td>183.583333</td>\n",
       "      <td>90.041667</td>\n",
       "      <td>280.165833</td>\n",
       "      <td>285.415000</td>\n",
       "      <td>3.250833</td>\n",
       "      <td>0.8</td>\n",
       "    </tr>\n",
       "    <tr>\n",
       "      <th>2</th>\n",
       "      <td>14047002_236</td>\n",
       "      <td>183.583333</td>\n",
       "      <td>90.041667</td>\n",
       "      <td>280.165833</td>\n",
       "      <td>283.064167</td>\n",
       "      <td>3.250833</td>\n",
       "      <td>7.0</td>\n",
       "    </tr>\n",
       "    <tr>\n",
       "      <th>3</th>\n",
       "      <td>14047002_256</td>\n",
       "      <td>183.583333</td>\n",
       "      <td>90.041667</td>\n",
       "      <td>280.165833</td>\n",
       "      <td>283.611250</td>\n",
       "      <td>3.250833</td>\n",
       "      <td>4.0</td>\n",
       "    </tr>\n",
       "    <tr>\n",
       "      <th>5</th>\n",
       "      <td>14047002_281</td>\n",
       "      <td>183.583333</td>\n",
       "      <td>90.041667</td>\n",
       "      <td>280.165833</td>\n",
       "      <td>282.633750</td>\n",
       "      <td>3.250833</td>\n",
       "      <td>0.0</td>\n",
       "    </tr>\n",
       "  </tbody>\n",
       "</table>\n",
       "</div>"
      ],
      "text/plain": [
       "     StationDay          dd         hu          td           t        ff  \\\n",
       "0  14047002_100  183.583333  90.041667  280.165833  282.565000  3.250833   \n",
       "1  14047002_223  183.583333  90.041667  280.165833  285.415000  3.250833   \n",
       "2  14047002_236  183.583333  90.041667  280.165833  283.064167  3.250833   \n",
       "3  14047002_256  183.583333  90.041667  280.165833  283.611250  3.250833   \n",
       "5  14047002_281  183.583333  90.041667  280.165833  282.633750  3.250833   \n",
       "\n",
       "   precip  \n",
       "0     9.9  \n",
       "1     0.8  \n",
       "2     7.0  \n",
       "3     4.0  \n",
       "5     0.0  "
      ]
     },
     "metadata": {},
     "output_type": "display_data"
    },
    {
     "name": "stdout",
     "output_type": "stream",
     "text": [
      "Missing Data : 0 \n",
      " Shape is : (85140, 7)\n"
     ]
    }
   ],
   "source": [
    "xtestS = xtestS.loc[xtestS['StationDay'].isin(bl_obsT[\"Id\"])]\n",
    "display(xtestS.head())\n",
    "print('Missing Data :', xtestS.isna().sum().sum(), '\\n', 'Shape is :', xtestS.shape)"
   ]
  },
  {
   "cell_type": "markdown",
   "metadata": {},
   "source": [
    "**Reset index**"
   ]
  },
  {
   "cell_type": "code",
   "execution_count": 68,
   "metadata": {},
   "outputs": [
    {
     "data": {
      "text/html": [
       "<div>\n",
       "<style scoped>\n",
       "    .dataframe tbody tr th:only-of-type {\n",
       "        vertical-align: middle;\n",
       "    }\n",
       "\n",
       "    .dataframe tbody tr th {\n",
       "        vertical-align: top;\n",
       "    }\n",
       "\n",
       "    .dataframe thead th {\n",
       "        text-align: right;\n",
       "    }\n",
       "</style>\n",
       "<table border=\"1\" class=\"dataframe\">\n",
       "  <thead>\n",
       "    <tr style=\"text-align: right;\">\n",
       "      <th></th>\n",
       "      <th>StationDay</th>\n",
       "      <th>dd</th>\n",
       "      <th>hu</th>\n",
       "      <th>td</th>\n",
       "      <th>t</th>\n",
       "      <th>ff</th>\n",
       "      <th>precip</th>\n",
       "    </tr>\n",
       "  </thead>\n",
       "  <tbody>\n",
       "    <tr>\n",
       "      <th>0</th>\n",
       "      <td>14047002_100</td>\n",
       "      <td>183.583333</td>\n",
       "      <td>90.041667</td>\n",
       "      <td>280.165833</td>\n",
       "      <td>282.565000</td>\n",
       "      <td>3.250833</td>\n",
       "      <td>9.9</td>\n",
       "    </tr>\n",
       "    <tr>\n",
       "      <th>1</th>\n",
       "      <td>14047002_223</td>\n",
       "      <td>183.583333</td>\n",
       "      <td>90.041667</td>\n",
       "      <td>280.165833</td>\n",
       "      <td>285.415000</td>\n",
       "      <td>3.250833</td>\n",
       "      <td>0.8</td>\n",
       "    </tr>\n",
       "    <tr>\n",
       "      <th>2</th>\n",
       "      <td>14047002_236</td>\n",
       "      <td>183.583333</td>\n",
       "      <td>90.041667</td>\n",
       "      <td>280.165833</td>\n",
       "      <td>283.064167</td>\n",
       "      <td>3.250833</td>\n",
       "      <td>7.0</td>\n",
       "    </tr>\n",
       "    <tr>\n",
       "      <th>3</th>\n",
       "      <td>14047002_256</td>\n",
       "      <td>183.583333</td>\n",
       "      <td>90.041667</td>\n",
       "      <td>280.165833</td>\n",
       "      <td>283.611250</td>\n",
       "      <td>3.250833</td>\n",
       "      <td>4.0</td>\n",
       "    </tr>\n",
       "    <tr>\n",
       "      <th>4</th>\n",
       "      <td>14047002_281</td>\n",
       "      <td>183.583333</td>\n",
       "      <td>90.041667</td>\n",
       "      <td>280.165833</td>\n",
       "      <td>282.633750</td>\n",
       "      <td>3.250833</td>\n",
       "      <td>0.0</td>\n",
       "    </tr>\n",
       "  </tbody>\n",
       "</table>\n",
       "</div>"
      ],
      "text/plain": [
       "     StationDay          dd         hu          td           t        ff  \\\n",
       "0  14047002_100  183.583333  90.041667  280.165833  282.565000  3.250833   \n",
       "1  14047002_223  183.583333  90.041667  280.165833  285.415000  3.250833   \n",
       "2  14047002_236  183.583333  90.041667  280.165833  283.064167  3.250833   \n",
       "3  14047002_256  183.583333  90.041667  280.165833  283.611250  3.250833   \n",
       "4  14047002_281  183.583333  90.041667  280.165833  282.633750  3.250833   \n",
       "\n",
       "   precip  \n",
       "0     9.9  \n",
       "1     0.8  \n",
       "2     7.0  \n",
       "3     4.0  \n",
       "4     0.0  "
      ]
     },
     "metadata": {},
     "output_type": "display_data"
    },
    {
     "name": "stdout",
     "output_type": "stream",
     "text": [
      "Missing Data : 0 \n",
      " Shape is : (85140, 7)\n"
     ]
    }
   ],
   "source": [
    "xtestS.reset_index(drop=True,inplace=True)\n",
    "display(xtestS.head())\n",
    "print('Missing Data :', xtestS.isna().sum().sum(), '\\n', 'Shape is :', xtestS.shape)"
   ]
  },
  {
   "cell_type": "markdown",
   "metadata": {},
   "source": [
    "**Sort X_test**"
   ]
  },
  {
   "cell_type": "code",
   "execution_count": 69,
   "metadata": {},
   "outputs": [
    {
     "data": {
      "text/html": [
       "<div>\n",
       "<style scoped>\n",
       "    .dataframe tbody tr th:only-of-type {\n",
       "        vertical-align: middle;\n",
       "    }\n",
       "\n",
       "    .dataframe tbody tr th {\n",
       "        vertical-align: top;\n",
       "    }\n",
       "\n",
       "    .dataframe thead th {\n",
       "        text-align: right;\n",
       "    }\n",
       "</style>\n",
       "<table border=\"1\" class=\"dataframe\">\n",
       "  <thead>\n",
       "    <tr style=\"text-align: right;\">\n",
       "      <th></th>\n",
       "      <th>Id</th>\n",
       "      <th>dd</th>\n",
       "      <th>hu</th>\n",
       "      <th>td</th>\n",
       "      <th>t</th>\n",
       "      <th>ff</th>\n",
       "      <th>precip</th>\n",
       "    </tr>\n",
       "  </thead>\n",
       "  <tbody>\n",
       "    <tr>\n",
       "      <th>0</th>\n",
       "      <td>14066001_149</td>\n",
       "      <td>224.625000</td>\n",
       "      <td>81.720833</td>\n",
       "      <td>279.107917</td>\n",
       "      <td>282.099583</td>\n",
       "      <td>5.237917</td>\n",
       "      <td>1.4</td>\n",
       "    </tr>\n",
       "    <tr>\n",
       "      <th>1</th>\n",
       "      <td>14126001_149</td>\n",
       "      <td>163.166667</td>\n",
       "      <td>92.291667</td>\n",
       "      <td>279.718750</td>\n",
       "      <td>280.895833</td>\n",
       "      <td>4.103333</td>\n",
       "      <td>1.0</td>\n",
       "    </tr>\n",
       "    <tr>\n",
       "      <th>2</th>\n",
       "      <td>14137001_149</td>\n",
       "      <td>218.458333</td>\n",
       "      <td>83.266667</td>\n",
       "      <td>278.469583</td>\n",
       "      <td>281.167917</td>\n",
       "      <td>5.547083</td>\n",
       "      <td>0.4</td>\n",
       "    </tr>\n",
       "    <tr>\n",
       "      <th>3</th>\n",
       "      <td>14216001_149</td>\n",
       "      <td>207.375000</td>\n",
       "      <td>83.345833</td>\n",
       "      <td>278.105417</td>\n",
       "      <td>280.804583</td>\n",
       "      <td>2.667083</td>\n",
       "      <td>0.8</td>\n",
       "    </tr>\n",
       "    <tr>\n",
       "      <th>4</th>\n",
       "      <td>14296001_149</td>\n",
       "      <td>191.250000</td>\n",
       "      <td>63.250000</td>\n",
       "      <td>272.062500</td>\n",
       "      <td>279.570417</td>\n",
       "      <td>3.254167</td>\n",
       "      <td>3.6</td>\n",
       "    </tr>\n",
       "  </tbody>\n",
       "</table>\n",
       "</div>"
      ],
      "text/plain": [
       "             Id          dd         hu          td           t        ff  \\\n",
       "0  14066001_149  224.625000  81.720833  279.107917  282.099583  5.237917   \n",
       "1  14126001_149  163.166667  92.291667  279.718750  280.895833  4.103333   \n",
       "2  14137001_149  218.458333  83.266667  278.469583  281.167917  5.547083   \n",
       "3  14216001_149  207.375000  83.345833  278.105417  280.804583  2.667083   \n",
       "4  14296001_149  191.250000  63.250000  272.062500  279.570417  3.254167   \n",
       "\n",
       "   precip  \n",
       "0     1.4  \n",
       "1     1.0  \n",
       "2     0.4  \n",
       "3     0.8  \n",
       "4     3.6  "
      ]
     },
     "metadata": {},
     "output_type": "display_data"
    },
    {
     "name": "stdout",
     "output_type": "stream",
     "text": [
      "Missing Data : 0 \n",
      " Shape is : (85140, 7)\n"
     ]
    }
   ],
   "source": [
    "xtestS = xtestS.set_index('StationDay')\n",
    "xtestS = xtestS.reindex(index=bl_obsT['Id'])\n",
    "xtestS = xtestS.reset_index()\n",
    "display(xtestS.head())\n",
    "print('Missing Data :', xtestS.isna().sum().sum(), '\\n', 'Shape is :', xtestS.shape)"
   ]
  },
  {
   "cell_type": "markdown",
   "metadata": {},
   "source": [
    "**Drop useless variables**"
   ]
  },
  {
   "cell_type": "code",
   "execution_count": 70,
   "metadata": {},
   "outputs": [
    {
     "data": {
      "text/html": [
       "<div>\n",
       "<style scoped>\n",
       "    .dataframe tbody tr th:only-of-type {\n",
       "        vertical-align: middle;\n",
       "    }\n",
       "\n",
       "    .dataframe tbody tr th {\n",
       "        vertical-align: top;\n",
       "    }\n",
       "\n",
       "    .dataframe thead th {\n",
       "        text-align: right;\n",
       "    }\n",
       "</style>\n",
       "<table border=\"1\" class=\"dataframe\">\n",
       "  <thead>\n",
       "    <tr style=\"text-align: right;\">\n",
       "      <th></th>\n",
       "      <th>dd</th>\n",
       "      <th>hu</th>\n",
       "      <th>td</th>\n",
       "      <th>t</th>\n",
       "      <th>ff</th>\n",
       "      <th>precip</th>\n",
       "    </tr>\n",
       "  </thead>\n",
       "  <tbody>\n",
       "    <tr>\n",
       "      <th>0</th>\n",
       "      <td>224.625000</td>\n",
       "      <td>81.720833</td>\n",
       "      <td>279.107917</td>\n",
       "      <td>282.099583</td>\n",
       "      <td>5.237917</td>\n",
       "      <td>1.4</td>\n",
       "    </tr>\n",
       "    <tr>\n",
       "      <th>1</th>\n",
       "      <td>163.166667</td>\n",
       "      <td>92.291667</td>\n",
       "      <td>279.718750</td>\n",
       "      <td>280.895833</td>\n",
       "      <td>4.103333</td>\n",
       "      <td>1.0</td>\n",
       "    </tr>\n",
       "    <tr>\n",
       "      <th>2</th>\n",
       "      <td>218.458333</td>\n",
       "      <td>83.266667</td>\n",
       "      <td>278.469583</td>\n",
       "      <td>281.167917</td>\n",
       "      <td>5.547083</td>\n",
       "      <td>0.4</td>\n",
       "    </tr>\n",
       "    <tr>\n",
       "      <th>3</th>\n",
       "      <td>207.375000</td>\n",
       "      <td>83.345833</td>\n",
       "      <td>278.105417</td>\n",
       "      <td>280.804583</td>\n",
       "      <td>2.667083</td>\n",
       "      <td>0.8</td>\n",
       "    </tr>\n",
       "    <tr>\n",
       "      <th>4</th>\n",
       "      <td>191.250000</td>\n",
       "      <td>63.250000</td>\n",
       "      <td>272.062500</td>\n",
       "      <td>279.570417</td>\n",
       "      <td>3.254167</td>\n",
       "      <td>3.6</td>\n",
       "    </tr>\n",
       "  </tbody>\n",
       "</table>\n",
       "</div>"
      ],
      "text/plain": [
       "           dd         hu          td           t        ff  precip\n",
       "0  224.625000  81.720833  279.107917  282.099583  5.237917     1.4\n",
       "1  163.166667  92.291667  279.718750  280.895833  4.103333     1.0\n",
       "2  218.458333  83.266667  278.469583  281.167917  5.547083     0.4\n",
       "3  207.375000  83.345833  278.105417  280.804583  2.667083     0.8\n",
       "4  191.250000  63.250000  272.062500  279.570417  3.254167     3.6"
      ]
     },
     "metadata": {},
     "output_type": "display_data"
    },
    {
     "name": "stdout",
     "output_type": "stream",
     "text": [
      "Missing Data : 0 \n",
      " Shape is : (85140, 6)\n"
     ]
    }
   ],
   "source": [
    "xtestS.drop(['Id'], axis=1, inplace=True)\n",
    "display(xtestS.head())\n",
    "print('Missing Data :', xtestS.isna().sum().sum(), '\\n', 'Shape is :', xtestS.shape)"
   ]
  },
  {
   "cell_type": "markdown",
   "metadata": {},
   "source": [
    "**Rearrange columns order**"
   ]
  },
  {
   "cell_type": "code",
   "execution_count": 71,
   "metadata": {},
   "outputs": [
    {
     "data": {
      "text/html": [
       "<div>\n",
       "<style scoped>\n",
       "    .dataframe tbody tr th:only-of-type {\n",
       "        vertical-align: middle;\n",
       "    }\n",
       "\n",
       "    .dataframe tbody tr th {\n",
       "        vertical-align: top;\n",
       "    }\n",
       "\n",
       "    .dataframe thead th {\n",
       "        text-align: right;\n",
       "    }\n",
       "</style>\n",
       "<table border=\"1\" class=\"dataframe\">\n",
       "  <thead>\n",
       "    <tr style=\"text-align: right;\">\n",
       "      <th></th>\n",
       "      <th>ff</th>\n",
       "      <th>t</th>\n",
       "      <th>td</th>\n",
       "      <th>hu</th>\n",
       "      <th>dd</th>\n",
       "      <th>precip</th>\n",
       "    </tr>\n",
       "  </thead>\n",
       "  <tbody>\n",
       "    <tr>\n",
       "      <th>0</th>\n",
       "      <td>5.237917</td>\n",
       "      <td>282.099583</td>\n",
       "      <td>279.107917</td>\n",
       "      <td>81.720833</td>\n",
       "      <td>224.625000</td>\n",
       "      <td>1.4</td>\n",
       "    </tr>\n",
       "    <tr>\n",
       "      <th>1</th>\n",
       "      <td>4.103333</td>\n",
       "      <td>280.895833</td>\n",
       "      <td>279.718750</td>\n",
       "      <td>92.291667</td>\n",
       "      <td>163.166667</td>\n",
       "      <td>1.0</td>\n",
       "    </tr>\n",
       "    <tr>\n",
       "      <th>2</th>\n",
       "      <td>5.547083</td>\n",
       "      <td>281.167917</td>\n",
       "      <td>278.469583</td>\n",
       "      <td>83.266667</td>\n",
       "      <td>218.458333</td>\n",
       "      <td>0.4</td>\n",
       "    </tr>\n",
       "    <tr>\n",
       "      <th>3</th>\n",
       "      <td>2.667083</td>\n",
       "      <td>280.804583</td>\n",
       "      <td>278.105417</td>\n",
       "      <td>83.345833</td>\n",
       "      <td>207.375000</td>\n",
       "      <td>0.8</td>\n",
       "    </tr>\n",
       "    <tr>\n",
       "      <th>4</th>\n",
       "      <td>3.254167</td>\n",
       "      <td>279.570417</td>\n",
       "      <td>272.062500</td>\n",
       "      <td>63.250000</td>\n",
       "      <td>191.250000</td>\n",
       "      <td>3.6</td>\n",
       "    </tr>\n",
       "  </tbody>\n",
       "</table>\n",
       "</div>"
      ],
      "text/plain": [
       "         ff           t          td         hu          dd  precip\n",
       "0  5.237917  282.099583  279.107917  81.720833  224.625000     1.4\n",
       "1  4.103333  280.895833  279.718750  92.291667  163.166667     1.0\n",
       "2  5.547083  281.167917  278.469583  83.266667  218.458333     0.4\n",
       "3  2.667083  280.804583  278.105417  83.345833  207.375000     0.8\n",
       "4  3.254167  279.570417  272.062500  63.250000  191.250000     3.6"
      ]
     },
     "metadata": {},
     "output_type": "display_data"
    },
    {
     "name": "stdout",
     "output_type": "stream",
     "text": [
      "Missing Data : 0 \n",
      " Shape is : (85140, 6)\n"
     ]
    }
   ],
   "source": [
    "xtestS = xtestS[['ff', 't', 'td', 'hu', 'dd', 'precip']]\n",
    "display(xtestS.head())\n",
    "print('Missing Data :', xtestS.isna().sum().sum(), '\\n', 'Shape is :', xtestS.shape)"
   ]
  },
  {
   "cell_type": "markdown",
   "metadata": {},
   "source": [
    "## <font color = 'royalblue'>4 Apprentissage</font>"
   ]
  },
  {
   "cell_type": "markdown",
   "metadata": {},
   "source": [
    "### 4.0 Metrics"
   ]
  },
  {
   "cell_type": "code",
   "execution_count": 192,
   "metadata": {},
   "outputs": [],
   "source": [
    "def MAPE(ypred, ytrue):\n",
    "    aux = abs((ytrue-ypred)/ytrue)\n",
    "    return 100*aux.mean(axis=0)"
   ]
  },
  {
   "cell_type": "markdown",
   "metadata": {},
   "source": [
    "### 4.1 Linear regression"
   ]
  },
  {
   "cell_type": "code",
   "execution_count": 193,
   "metadata": {},
   "outputs": [],
   "source": [
    "method = linear_model.LinearRegression()\n",
    "regLin = method.fit(xtrainS_train, ytrain_train)"
   ]
  },
  {
   "cell_type": "markdown",
   "metadata": {},
   "source": [
    "### 4.2 Optimal tree"
   ]
  },
  {
   "cell_type": "code",
   "execution_count": 194,
   "metadata": {},
   "outputs": [
    {
     "name": "stdout",
     "output_type": "stream",
     "text": [
      "Meilleur score = 0.049806, Meilleur paramètre = {'max_depth': 3}\n",
      "Time running = 12.583479\n"
     ]
    }
   ],
   "source": [
    "# Optimisation de la profondeur de l'arbre\n",
    "param = [{\"max_depth\":list(range(2,10))}]\n",
    "tree = GridSearchCV(DecisionTreeRegressor(), param, cv=10, n_jobs=-1)\n",
    "\n",
    "ts = time.time()\n",
    "treeOpt = tree.fit(xtrainS_train, ytrain_train)\n",
    "# paramètre optimal\n",
    "print(\"Meilleur score = %f, Meilleur paramètre = %s\" % (treeOpt.best_score_,treeOpt.best_params_))\n",
    "te = time.time()\n",
    "\n",
    "print(\"Time running = %f\" % (te-ts))"
   ]
  },
  {
   "cell_type": "markdown",
   "metadata": {},
   "source": [
    "### 4.3 Random forest"
   ]
  },
  {
   "cell_type": "code",
   "execution_count": 202,
   "metadata": {},
   "outputs": [
    {
     "name": "stdout",
     "output_type": "stream",
     "text": [
      "Meilleur score = -0.002482, Meilleur paramètre = {'max_features': 2}\n",
      "Time running = 325.809039\n"
     ]
    }
   ],
   "source": [
    "#Optimisation des paramètres de la forêt\n",
    "param=[{\"max_features\":list(range(2,10,1))}]\n",
    "rf= GridSearchCV(RandomForestRegressor(n_estimators=100), param, cv=5, n_jobs=-1)\n",
    "\n",
    "ts = time.time()\n",
    "rfOpt = rf.fit(xtrainS_train, ytrain_train.values.ravel())\n",
    "# paramètre optimal\n",
    "print(\"Meilleur score = %f, Meilleur paramètre = %s\" % (rfOpt.best_score_,rfOpt.best_params_))\n",
    "te = time.time()\n",
    "\n",
    "print(\"Time running = %f\" % (te-ts))"
   ]
  },
  {
   "cell_type": "markdown",
   "metadata": {},
   "source": [
    "### 4.4 Neural network"
   ]
  },
  {
   "cell_type": "code",
   "execution_count": 203,
   "metadata": {},
   "outputs": [],
   "source": [
    "def normalization(x_train, x_test):\n",
    "    #Calcul de la moyenne et de la variance de l'échantillon train\n",
    "    mean = x_train.mean()\n",
    "    std  = x_train.std()\n",
    "    \n",
    "    #Normalisation\n",
    "    x_train = (x_train - mean) / std\n",
    "    x_test  = (x_test  - mean) / std\n",
    "\n",
    "    #Mise en forme\n",
    "    x_train = np.array(x_train)\n",
    "    x_test = np.array(x_test)\n",
    "    return x_train, x_test"
   ]
  },
  {
   "cell_type": "code",
   "execution_count": 204,
   "metadata": {},
   "outputs": [],
   "source": [
    "def get_model(shape, n_layers, n_neurons): \n",
    "    \n",
    "    #shape : nb de variables explicatives \n",
    "    #n_layers : nb de couches\n",
    "    #n_neurons : neurons/couche\n",
    "   \n",
    "    model = keras.models.Sequential()\n",
    "    model.add(keras.layers.Input(shape))\n",
    "    \n",
    "    for i in range(n_layers): \n",
    "        model.add(keras.layers.Dense(n_neurons, activation='relu'))\n",
    "   \n",
    "    model.add(keras.layers.Dense(1, name='Output'))\n",
    "    model.compile(optimizer = 'adam', \n",
    "                  loss      = 'mse')\n",
    "                  #metrics   = [\"mean_squared_error\"])\n",
    "    return model"
   ]
  },
  {
   "cell_type": "code",
   "execution_count": 298,
   "metadata": {},
   "outputs": [],
   "source": [
    "xtrainS_N, xtestS_N = normalization(xtrainS, xtestS)"
   ]
  },
  {
   "cell_type": "code",
   "execution_count": 299,
   "metadata": {},
   "outputs": [
    {
     "name": "stdout",
     "output_type": "stream",
     "text": [
      "Model: \"sequential_32\"\n",
      "_________________________________________________________________\n",
      "Layer (type)                 Output Shape              Param #   \n",
      "=================================================================\n",
      "dense_532 (Dense)            (None, 32)                224       \n",
      "_________________________________________________________________\n",
      "dense_533 (Dense)            (None, 32)                1056      \n",
      "_________________________________________________________________\n",
      "dense_534 (Dense)            (None, 32)                1056      \n",
      "_________________________________________________________________\n",
      "dense_535 (Dense)            (None, 32)                1056      \n",
      "_________________________________________________________________\n",
      "dense_536 (Dense)            (None, 32)                1056      \n",
      "_________________________________________________________________\n",
      "dense_537 (Dense)            (None, 32)                1056      \n",
      "_________________________________________________________________\n",
      "dense_538 (Dense)            (None, 32)                1056      \n",
      "_________________________________________________________________\n",
      "dense_539 (Dense)            (None, 32)                1056      \n",
      "_________________________________________________________________\n",
      "dense_540 (Dense)            (None, 32)                1056      \n",
      "_________________________________________________________________\n",
      "dense_541 (Dense)            (None, 32)                1056      \n",
      "_________________________________________________________________\n",
      "dense_542 (Dense)            (None, 32)                1056      \n",
      "_________________________________________________________________\n",
      "dense_543 (Dense)            (None, 32)                1056      \n",
      "_________________________________________________________________\n",
      "dense_544 (Dense)            (None, 32)                1056      \n",
      "_________________________________________________________________\n",
      "dense_545 (Dense)            (None, 32)                1056      \n",
      "_________________________________________________________________\n",
      "dense_546 (Dense)            (None, 32)                1056      \n",
      "_________________________________________________________________\n",
      "dense_547 (Dense)            (None, 32)                1056      \n",
      "_________________________________________________________________\n",
      "dense_548 (Dense)            (None, 32)                1056      \n",
      "_________________________________________________________________\n",
      "dense_549 (Dense)            (None, 32)                1056      \n",
      "_________________________________________________________________\n",
      "dense_550 (Dense)            (None, 32)                1056      \n",
      "_________________________________________________________________\n",
      "dense_551 (Dense)            (None, 32)                1056      \n",
      "_________________________________________________________________\n",
      "Output (Dense)               (None, 1)                 33        \n",
      "=================================================================\n",
      "Total params: 20,321\n",
      "Trainable params: 20,321\n",
      "Non-trainable params: 0\n",
      "_________________________________________________________________\n"
     ]
    }
   ],
   "source": [
    "#Paramètres du réseau\n",
    "nb_variables = np.shape(xtrainS_N)[1]\n",
    "n_layers = 20\n",
    "n_neurons = 32\n",
    "\n",
    "#Build the network\n",
    "ANN = get_model(nb_variables, n_layers, n_neurons)\n",
    "\n",
    "#Print the network\n",
    "ANN.summary()"
   ]
  },
  {
   "cell_type": "code",
   "execution_count": 300,
   "metadata": {},
   "outputs": [
    {
     "name": "stdout",
     "output_type": "stream",
     "text": [
      "Epoch 1/10\n",
      "822/822 [==============================] - 5s 5ms/step - loss: 16.7718\n",
      "Epoch 2/10\n",
      "822/822 [==============================] - 2s 3ms/step - loss: 15.6366\n",
      "Epoch 3/10\n",
      "822/822 [==============================] - 2s 3ms/step - loss: 15.4459\n",
      "Epoch 4/10\n",
      "822/822 [==============================] - 2s 3ms/step - loss: 15.7027\n",
      "Epoch 5/10\n",
      "822/822 [==============================] - 3s 3ms/step - loss: 15.5181\n",
      "Epoch 6/10\n",
      "822/822 [==============================] - 3s 4ms/step - loss: 15.1178\n",
      "Epoch 7/10\n",
      "822/822 [==============================] - 3s 4ms/step - loss: 15.6397\n",
      "Epoch 8/10\n",
      "822/822 [==============================] - 2s 3ms/step - loss: 14.9393\n",
      "Epoch 9/10\n",
      "822/822 [==============================] - 3s 3ms/step - loss: 15.1534\n",
      "Epoch 10/10\n",
      "822/822 [==============================] - 2s 3ms/step - loss: 15.1702\n"
     ]
    },
    {
     "data": {
      "image/png": "[encoded data removed]",
      "text/plain": [
       "<Figure size 432x288 with 1 Axes>"
      ]
     },
     "metadata": {
      "needs_background": "light"
     },
     "output_type": "display_data"
    }
   ],
   "source": [
    "#Paramètres d'apprentissage\n",
    "batch_size = 100\n",
    "epochs = 10\n",
    "\n",
    "#Entraînement\n",
    "history = ANN.fit(xtrainS_N, ytrain, batch_size, epochs, verbose=1)\n",
    "\n",
    "#Affichage de l'évolution de la MSE\n",
    "plt.plot(history.history['loss'])\n",
    "plt.xlabel(\"epochs\")\n",
    "plt.ylabel(\"mse\")\n",
    "plt.show()"
   ]
  },
  {
   "cell_type": "markdown",
   "metadata": {},
   "source": [
    "## <font color = 'royalblue'>5 Validation</font>"
   ]
  },
  {
   "cell_type": "code",
   "execution_count": 247,
   "metadata": {},
   "outputs": [],
   "source": [
    "def Create_samples (xtrain, ytrain):\n",
    "    #Split X validation/train \n",
    "    xtrain_v = xtrain.sample(frac=0.20, axis=0)\n",
    "    xtrain_t = xtrain.drop(xtrain_v.index)\n",
    "    \n",
    "    #Split Y validation/train\n",
    "    ytrain_v = ytrain.loc[ytrain['Id'].isin(xtrain_v['StationDay'])]\n",
    "    ytrain_t = ytrain.drop(ytrain_v.index)\n",
    "    \n",
    "    #Reset index\n",
    "    xtrain_t.reset_index(drop=True, inplace=True)\n",
    "    xtrain_v.reset_index(drop=True, inplace=True)\n",
    "    ytrain_t.reset_index(drop=True, inplace=True)\n",
    "    ytrain_v.reset_index(drop=True, inplace=True)\n",
    "    \n",
    "    #Sort X\n",
    "    xtrain_t = xtrain_t.set_index('StationDay')\n",
    "    xtrain_t = xtrain_t.reindex(index=ytrain_t['Id'])\n",
    "    xtrain_t = xtrain_t.reset_index()\n",
    "    \n",
    "    xtrain_v = xtrain_v.set_index('StationDay')\n",
    "    xtrain_v = xtrain_v.reindex(index=ytrain_v['Id'])\n",
    "    xtrain_v = xtrain_v.reset_index()\n",
    "    \n",
    "    #Drop useless variables\n",
    "    xtrain_t.drop(['Id'], axis=1, inplace=True)\n",
    "    xtrain_v.drop(['Id'], axis=1, inplace=True)\n",
    "    ytrain_t.drop(['Id'], axis=1, inplace=True)\n",
    "    ytrain_v.drop(['Id'], axis=1, inplace=True)\n",
    "    \n",
    "    return xtrain_t, xtrain_v, ytrain_t, ytrain_v"
   ]
  },
  {
   "cell_type": "code",
   "execution_count": 195,
   "metadata": {},
   "outputs": [
    {
     "name": "stderr",
     "output_type": "stream",
     "text": [
      "<ipython-input-195-e84e2c0b25d9>:1: SettingWithCopyWarning: \n",
      "A value is trying to be set on a copy of a slice from a DataFrame.\n",
      "Try using .loc[row_indexer,col_indexer] = value instead\n",
      "\n",
      "See the caveats in the documentation: https://pandas.pydata.org/pandas-docs/stable/user_guide/indexing.html#returning-a-view-versus-a-copy\n",
      "  ytrain_validation['Ground_truth'] = ytrain_validation['Ground_truth'] + 1\n"
     ]
    }
   ],
   "source": [
    "ytrain_validation['Ground_truth'] = ytrain_validation['Ground_truth'] + 1"
   ]
  },
  {
   "cell_type": "markdown",
   "metadata": {},
   "source": [
    "### 5.1 Linear regression"
   ]
  },
  {
   "cell_type": "code",
   "execution_count": 196,
   "metadata": {},
   "outputs": [
    {
     "data": {
      "text/html": [
       "<div>\n",
       "<style scoped>\n",
       "    .dataframe tbody tr th:only-of-type {\n",
       "        vertical-align: middle;\n",
       "    }\n",
       "\n",
       "    .dataframe tbody tr th {\n",
       "        vertical-align: top;\n",
       "    }\n",
       "\n",
       "    .dataframe thead th {\n",
       "        text-align: right;\n",
       "    }\n",
       "</style>\n",
       "<table border=\"1\" class=\"dataframe\">\n",
       "  <thead>\n",
       "    <tr style=\"text-align: right;\">\n",
       "      <th></th>\n",
       "      <th>Prediction</th>\n",
       "    </tr>\n",
       "  </thead>\n",
       "  <tbody>\n",
       "    <tr>\n",
       "      <th>0</th>\n",
       "      <td>2.294648</td>\n",
       "    </tr>\n",
       "    <tr>\n",
       "      <th>1</th>\n",
       "      <td>2.010020</td>\n",
       "    </tr>\n",
       "    <tr>\n",
       "      <th>2</th>\n",
       "      <td>4.182097</td>\n",
       "    </tr>\n",
       "    <tr>\n",
       "      <th>3</th>\n",
       "      <td>3.781965</td>\n",
       "    </tr>\n",
       "    <tr>\n",
       "      <th>4</th>\n",
       "      <td>4.828125</td>\n",
       "    </tr>\n",
       "  </tbody>\n",
       "</table>\n",
       "</div>"
      ],
      "text/plain": [
       "   Prediction\n",
       "0    2.294648\n",
       "1    2.010020\n",
       "2    4.182097\n",
       "3    3.781965\n",
       "4    4.828125"
      ]
     },
     "metadata": {},
     "output_type": "display_data"
    },
    {
     "name": "stdout",
     "output_type": "stream",
     "text": [
      "Missing Data : 0 \n",
      " Shape is : (16424, 1)\n"
     ]
    }
   ],
   "source": [
    "validation_reg = regLin.predict(xtrainS_validation)\n",
    "Reg_validation = ytrain_validation.copy()\n",
    "Reg_validation.drop(['Ground_truth'], axis=1, inplace=True)\n",
    "Reg_validation[\"Prediction\"] = validation_reg\n",
    "display(Reg_validation.head())\n",
    "print('Missing Data :', Reg_validation.isna().sum().sum(), '\\n', 'Shape is :', Reg_validation.shape)"
   ]
  },
  {
   "cell_type": "code",
   "execution_count": 197,
   "metadata": {},
   "outputs": [],
   "source": [
    "Reg_validation['Prediction'] = Reg_validation['Prediction'] + 1"
   ]
  },
  {
   "cell_type": "code",
   "execution_count": 198,
   "metadata": {},
   "outputs": [
    {
     "name": "stdout",
     "output_type": "stream",
     "text": [
      "Score (MAPE) de la régression linéaire : 114.81060535046464\n"
     ]
    }
   ],
   "source": [
    "print(\"Score (MAPE) de la régression linéaire :\",\n",
    "      MAPE(Reg_validation['Prediction'], ytrain_validation['Ground_truth']))"
   ]
  },
  {
   "cell_type": "code",
   "execution_count": 273,
   "metadata": {},
   "outputs": [
    {
     "name": "stderr",
     "output_type": "stream",
     "text": [
      "/opt/anaconda3/lib/python3.8/site-packages/pandas/core/frame.py:4163: SettingWithCopyWarning: \n",
      "A value is trying to be set on a copy of a slice from a DataFrame\n",
      "\n",
      "See the caveats in the documentation: https://pandas.pydata.org/pandas-docs/stable/user_guide/indexing.html#returning-a-view-versus-a-copy\n",
      "  return super().drop(\n",
      "<ipython-input-273-d27449f5c51e>:7: SettingWithCopyWarning: \n",
      "A value is trying to be set on a copy of a slice from a DataFrame.\n",
      "Try using .loc[row_indexer,col_indexer] = value instead\n",
      "\n",
      "See the caveats in the documentation: https://pandas.pydata.org/pandas-docs/stable/user_guide/indexing.html#returning-a-view-versus-a-copy\n",
      "  ytrain_v['Ground_truth'] = ytrain_v['Ground_truth'] + 1\n",
      "/opt/anaconda3/lib/python3.8/site-packages/pandas/core/frame.py:4163: SettingWithCopyWarning: \n",
      "A value is trying to be set on a copy of a slice from a DataFrame\n",
      "\n",
      "See the caveats in the documentation: https://pandas.pydata.org/pandas-docs/stable/user_guide/indexing.html#returning-a-view-versus-a-copy\n",
      "  return super().drop(\n",
      "<ipython-input-273-d27449f5c51e>:7: SettingWithCopyWarning: \n",
      "A value is trying to be set on a copy of a slice from a DataFrame.\n",
      "Try using .loc[row_indexer,col_indexer] = value instead\n",
      "\n",
      "See the caveats in the documentation: https://pandas.pydata.org/pandas-docs/stable/user_guide/indexing.html#returning-a-view-versus-a-copy\n",
      "  ytrain_v['Ground_truth'] = ytrain_v['Ground_truth'] + 1\n",
      "/opt/anaconda3/lib/python3.8/site-packages/pandas/core/frame.py:4163: SettingWithCopyWarning: \n",
      "A value is trying to be set on a copy of a slice from a DataFrame\n",
      "\n",
      "See the caveats in the documentation: https://pandas.pydata.org/pandas-docs/stable/user_guide/indexing.html#returning-a-view-versus-a-copy\n",
      "  return super().drop(\n",
      "<ipython-input-273-d27449f5c51e>:7: SettingWithCopyWarning: \n",
      "A value is trying to be set on a copy of a slice from a DataFrame.\n",
      "Try using .loc[row_indexer,col_indexer] = value instead\n",
      "\n",
      "See the caveats in the documentation: https://pandas.pydata.org/pandas-docs/stable/user_guide/indexing.html#returning-a-view-versus-a-copy\n",
      "  ytrain_v['Ground_truth'] = ytrain_v['Ground_truth'] + 1\n",
      "/opt/anaconda3/lib/python3.8/site-packages/pandas/core/frame.py:4163: SettingWithCopyWarning: \n",
      "A value is trying to be set on a copy of a slice from a DataFrame\n",
      "\n",
      "See the caveats in the documentation: https://pandas.pydata.org/pandas-docs/stable/user_guide/indexing.html#returning-a-view-versus-a-copy\n",
      "  return super().drop(\n",
      "<ipython-input-273-d27449f5c51e>:7: SettingWithCopyWarning: \n",
      "A value is trying to be set on a copy of a slice from a DataFrame.\n",
      "Try using .loc[row_indexer,col_indexer] = value instead\n",
      "\n",
      "See the caveats in the documentation: https://pandas.pydata.org/pandas-docs/stable/user_guide/indexing.html#returning-a-view-versus-a-copy\n",
      "  ytrain_v['Ground_truth'] = ytrain_v['Ground_truth'] + 1\n",
      "/opt/anaconda3/lib/python3.8/site-packages/pandas/core/frame.py:4163: SettingWithCopyWarning: \n",
      "A value is trying to be set on a copy of a slice from a DataFrame\n",
      "\n",
      "See the caveats in the documentation: https://pandas.pydata.org/pandas-docs/stable/user_guide/indexing.html#returning-a-view-versus-a-copy\n",
      "  return super().drop(\n",
      "<ipython-input-273-d27449f5c51e>:7: SettingWithCopyWarning: \n",
      "A value is trying to be set on a copy of a slice from a DataFrame.\n",
      "Try using .loc[row_indexer,col_indexer] = value instead\n",
      "\n",
      "See the caveats in the documentation: https://pandas.pydata.org/pandas-docs/stable/user_guide/indexing.html#returning-a-view-versus-a-copy\n",
      "  ytrain_v['Ground_truth'] = ytrain_v['Ground_truth'] + 1\n",
      "/opt/anaconda3/lib/python3.8/site-packages/pandas/core/frame.py:4163: SettingWithCopyWarning: \n",
      "A value is trying to be set on a copy of a slice from a DataFrame\n",
      "\n",
      "See the caveats in the documentation: https://pandas.pydata.org/pandas-docs/stable/user_guide/indexing.html#returning-a-view-versus-a-copy\n",
      "  return super().drop(\n",
      "<ipython-input-273-d27449f5c51e>:7: SettingWithCopyWarning: \n",
      "A value is trying to be set on a copy of a slice from a DataFrame.\n",
      "Try using .loc[row_indexer,col_indexer] = value instead\n",
      "\n",
      "See the caveats in the documentation: https://pandas.pydata.org/pandas-docs/stable/user_guide/indexing.html#returning-a-view-versus-a-copy\n",
      "  ytrain_v['Ground_truth'] = ytrain_v['Ground_truth'] + 1\n",
      "/opt/anaconda3/lib/python3.8/site-packages/pandas/core/frame.py:4163: SettingWithCopyWarning: \n",
      "A value is trying to be set on a copy of a slice from a DataFrame\n",
      "\n",
      "See the caveats in the documentation: https://pandas.pydata.org/pandas-docs/stable/user_guide/indexing.html#returning-a-view-versus-a-copy\n",
      "  return super().drop(\n",
      "<ipython-input-273-d27449f5c51e>:7: SettingWithCopyWarning: \n",
      "A value is trying to be set on a copy of a slice from a DataFrame.\n",
      "Try using .loc[row_indexer,col_indexer] = value instead\n",
      "\n",
      "See the caveats in the documentation: https://pandas.pydata.org/pandas-docs/stable/user_guide/indexing.html#returning-a-view-versus-a-copy\n",
      "  ytrain_v['Ground_truth'] = ytrain_v['Ground_truth'] + 1\n",
      "/opt/anaconda3/lib/python3.8/site-packages/pandas/core/frame.py:4163: SettingWithCopyWarning: \n",
      "A value is trying to be set on a copy of a slice from a DataFrame\n",
      "\n",
      "See the caveats in the documentation: https://pandas.pydata.org/pandas-docs/stable/user_guide/indexing.html#returning-a-view-versus-a-copy\n",
      "  return super().drop(\n",
      "<ipython-input-273-d27449f5c51e>:7: SettingWithCopyWarning: \n",
      "A value is trying to be set on a copy of a slice from a DataFrame.\n",
      "Try using .loc[row_indexer,col_indexer] = value instead\n",
      "\n",
      "See the caveats in the documentation: https://pandas.pydata.org/pandas-docs/stable/user_guide/indexing.html#returning-a-view-versus-a-copy\n",
      "  ytrain_v['Ground_truth'] = ytrain_v['Ground_truth'] + 1\n",
      "/opt/anaconda3/lib/python3.8/site-packages/pandas/core/frame.py:4163: SettingWithCopyWarning: \n",
      "A value is trying to be set on a copy of a slice from a DataFrame\n",
      "\n",
      "See the caveats in the documentation: https://pandas.pydata.org/pandas-docs/stable/user_guide/indexing.html#returning-a-view-versus-a-copy\n",
      "  return super().drop(\n",
      "<ipython-input-273-d27449f5c51e>:7: SettingWithCopyWarning: \n",
      "A value is trying to be set on a copy of a slice from a DataFrame.\n",
      "Try using .loc[row_indexer,col_indexer] = value instead\n",
      "\n",
      "See the caveats in the documentation: https://pandas.pydata.org/pandas-docs/stable/user_guide/indexing.html#returning-a-view-versus-a-copy\n",
      "  ytrain_v['Ground_truth'] = ytrain_v['Ground_truth'] + 1\n",
      "/opt/anaconda3/lib/python3.8/site-packages/pandas/core/frame.py:4163: SettingWithCopyWarning: \n",
      "A value is trying to be set on a copy of a slice from a DataFrame\n",
      "\n",
      "See the caveats in the documentation: https://pandas.pydata.org/pandas-docs/stable/user_guide/indexing.html#returning-a-view-versus-a-copy\n",
      "  return super().drop(\n",
      "<ipython-input-273-d27449f5c51e>:7: SettingWithCopyWarning: \n",
      "A value is trying to be set on a copy of a slice from a DataFrame.\n",
      "Try using .loc[row_indexer,col_indexer] = value instead\n",
      "\n",
      "See the caveats in the documentation: https://pandas.pydata.org/pandas-docs/stable/user_guide/indexing.html#returning-a-view-versus-a-copy\n",
      "  ytrain_v['Ground_truth'] = ytrain_v['Ground_truth'] + 1\n",
      "/opt/anaconda3/lib/python3.8/site-packages/pandas/core/frame.py:4163: SettingWithCopyWarning: \n",
      "A value is trying to be set on a copy of a slice from a DataFrame\n",
      "\n",
      "See the caveats in the documentation: https://pandas.pydata.org/pandas-docs/stable/user_guide/indexing.html#returning-a-view-versus-a-copy\n",
      "  return super().drop(\n",
      "<ipython-input-273-d27449f5c51e>:7: SettingWithCopyWarning: \n",
      "A value is trying to be set on a copy of a slice from a DataFrame.\n",
      "Try using .loc[row_indexer,col_indexer] = value instead\n",
      "\n",
      "See the caveats in the documentation: https://pandas.pydata.org/pandas-docs/stable/user_guide/indexing.html#returning-a-view-versus-a-copy\n",
      "  ytrain_v['Ground_truth'] = ytrain_v['Ground_truth'] + 1\n",
      "/opt/anaconda3/lib/python3.8/site-packages/pandas/core/frame.py:4163: SettingWithCopyWarning: \n",
      "A value is trying to be set on a copy of a slice from a DataFrame\n",
      "\n",
      "See the caveats in the documentation: https://pandas.pydata.org/pandas-docs/stable/user_guide/indexing.html#returning-a-view-versus-a-copy\n",
      "  return super().drop(\n",
      "<ipython-input-273-d27449f5c51e>:7: SettingWithCopyWarning: \n",
      "A value is trying to be set on a copy of a slice from a DataFrame.\n",
      "Try using .loc[row_indexer,col_indexer] = value instead\n",
      "\n",
      "See the caveats in the documentation: https://pandas.pydata.org/pandas-docs/stable/user_guide/indexing.html#returning-a-view-versus-a-copy\n",
      "  ytrain_v['Ground_truth'] = ytrain_v['Ground_truth'] + 1\n"
     ]
    },
    {
     "name": "stderr",
     "output_type": "stream",
     "text": [
      "/opt/anaconda3/lib/python3.8/site-packages/pandas/core/frame.py:4163: SettingWithCopyWarning: \n",
      "A value is trying to be set on a copy of a slice from a DataFrame\n",
      "\n",
      "See the caveats in the documentation: https://pandas.pydata.org/pandas-docs/stable/user_guide/indexing.html#returning-a-view-versus-a-copy\n",
      "  return super().drop(\n",
      "<ipython-input-273-d27449f5c51e>:7: SettingWithCopyWarning: \n",
      "A value is trying to be set on a copy of a slice from a DataFrame.\n",
      "Try using .loc[row_indexer,col_indexer] = value instead\n",
      "\n",
      "See the caveats in the documentation: https://pandas.pydata.org/pandas-docs/stable/user_guide/indexing.html#returning-a-view-versus-a-copy\n",
      "  ytrain_v['Ground_truth'] = ytrain_v['Ground_truth'] + 1\n",
      "/opt/anaconda3/lib/python3.8/site-packages/pandas/core/frame.py:4163: SettingWithCopyWarning: \n",
      "A value is trying to be set on a copy of a slice from a DataFrame\n",
      "\n",
      "See the caveats in the documentation: https://pandas.pydata.org/pandas-docs/stable/user_guide/indexing.html#returning-a-view-versus-a-copy\n",
      "  return super().drop(\n",
      "<ipython-input-273-d27449f5c51e>:7: SettingWithCopyWarning: \n",
      "A value is trying to be set on a copy of a slice from a DataFrame.\n",
      "Try using .loc[row_indexer,col_indexer] = value instead\n",
      "\n",
      "See the caveats in the documentation: https://pandas.pydata.org/pandas-docs/stable/user_guide/indexing.html#returning-a-view-versus-a-copy\n",
      "  ytrain_v['Ground_truth'] = ytrain_v['Ground_truth'] + 1\n",
      "/opt/anaconda3/lib/python3.8/site-packages/pandas/core/frame.py:4163: SettingWithCopyWarning: \n",
      "A value is trying to be set on a copy of a slice from a DataFrame\n",
      "\n",
      "See the caveats in the documentation: https://pandas.pydata.org/pandas-docs/stable/user_guide/indexing.html#returning-a-view-versus-a-copy\n",
      "  return super().drop(\n",
      "<ipython-input-273-d27449f5c51e>:7: SettingWithCopyWarning: \n",
      "A value is trying to be set on a copy of a slice from a DataFrame.\n",
      "Try using .loc[row_indexer,col_indexer] = value instead\n",
      "\n",
      "See the caveats in the documentation: https://pandas.pydata.org/pandas-docs/stable/user_guide/indexing.html#returning-a-view-versus-a-copy\n",
      "  ytrain_v['Ground_truth'] = ytrain_v['Ground_truth'] + 1\n",
      "/opt/anaconda3/lib/python3.8/site-packages/pandas/core/frame.py:4163: SettingWithCopyWarning: \n",
      "A value is trying to be set on a copy of a slice from a DataFrame\n",
      "\n",
      "See the caveats in the documentation: https://pandas.pydata.org/pandas-docs/stable/user_guide/indexing.html#returning-a-view-versus-a-copy\n",
      "  return super().drop(\n",
      "<ipython-input-273-d27449f5c51e>:7: SettingWithCopyWarning: \n",
      "A value is trying to be set on a copy of a slice from a DataFrame.\n",
      "Try using .loc[row_indexer,col_indexer] = value instead\n",
      "\n",
      "See the caveats in the documentation: https://pandas.pydata.org/pandas-docs/stable/user_guide/indexing.html#returning-a-view-versus-a-copy\n",
      "  ytrain_v['Ground_truth'] = ytrain_v['Ground_truth'] + 1\n",
      "/opt/anaconda3/lib/python3.8/site-packages/pandas/core/frame.py:4163: SettingWithCopyWarning: \n",
      "A value is trying to be set on a copy of a slice from a DataFrame\n",
      "\n",
      "See the caveats in the documentation: https://pandas.pydata.org/pandas-docs/stable/user_guide/indexing.html#returning-a-view-versus-a-copy\n",
      "  return super().drop(\n",
      "<ipython-input-273-d27449f5c51e>:7: SettingWithCopyWarning: \n",
      "A value is trying to be set on a copy of a slice from a DataFrame.\n",
      "Try using .loc[row_indexer,col_indexer] = value instead\n",
      "\n",
      "See the caveats in the documentation: https://pandas.pydata.org/pandas-docs/stable/user_guide/indexing.html#returning-a-view-versus-a-copy\n",
      "  ytrain_v['Ground_truth'] = ytrain_v['Ground_truth'] + 1\n",
      "/opt/anaconda3/lib/python3.8/site-packages/pandas/core/frame.py:4163: SettingWithCopyWarning: \n",
      "A value is trying to be set on a copy of a slice from a DataFrame\n",
      "\n",
      "See the caveats in the documentation: https://pandas.pydata.org/pandas-docs/stable/user_guide/indexing.html#returning-a-view-versus-a-copy\n",
      "  return super().drop(\n",
      "<ipython-input-273-d27449f5c51e>:7: SettingWithCopyWarning: \n",
      "A value is trying to be set on a copy of a slice from a DataFrame.\n",
      "Try using .loc[row_indexer,col_indexer] = value instead\n",
      "\n",
      "See the caveats in the documentation: https://pandas.pydata.org/pandas-docs/stable/user_guide/indexing.html#returning-a-view-versus-a-copy\n",
      "  ytrain_v['Ground_truth'] = ytrain_v['Ground_truth'] + 1\n",
      "/opt/anaconda3/lib/python3.8/site-packages/pandas/core/frame.py:4163: SettingWithCopyWarning: \n",
      "A value is trying to be set on a copy of a slice from a DataFrame\n",
      "\n",
      "See the caveats in the documentation: https://pandas.pydata.org/pandas-docs/stable/user_guide/indexing.html#returning-a-view-versus-a-copy\n",
      "  return super().drop(\n",
      "<ipython-input-273-d27449f5c51e>:7: SettingWithCopyWarning: \n",
      "A value is trying to be set on a copy of a slice from a DataFrame.\n",
      "Try using .loc[row_indexer,col_indexer] = value instead\n",
      "\n",
      "See the caveats in the documentation: https://pandas.pydata.org/pandas-docs/stable/user_guide/indexing.html#returning-a-view-versus-a-copy\n",
      "  ytrain_v['Ground_truth'] = ytrain_v['Ground_truth'] + 1\n",
      "/opt/anaconda3/lib/python3.8/site-packages/pandas/core/frame.py:4163: SettingWithCopyWarning: \n",
      "A value is trying to be set on a copy of a slice from a DataFrame\n",
      "\n",
      "See the caveats in the documentation: https://pandas.pydata.org/pandas-docs/stable/user_guide/indexing.html#returning-a-view-versus-a-copy\n",
      "  return super().drop(\n",
      "<ipython-input-273-d27449f5c51e>:7: SettingWithCopyWarning: \n",
      "A value is trying to be set on a copy of a slice from a DataFrame.\n",
      "Try using .loc[row_indexer,col_indexer] = value instead\n",
      "\n",
      "See the caveats in the documentation: https://pandas.pydata.org/pandas-docs/stable/user_guide/indexing.html#returning-a-view-versus-a-copy\n",
      "  ytrain_v['Ground_truth'] = ytrain_v['Ground_truth'] + 1\n"
     ]
    }
   ],
   "source": [
    "B = 20\n",
    "MAPE_ = np.zeros(B)\n",
    "method = linear_model.LinearRegression()\n",
    "\n",
    "for b in range(B):\n",
    "    xtrain_t, xtrain_v, ytrain_t, ytrain_v = Create_samples(xtrainS, ytrain)\n",
    "    ytrain_v['Ground_truth'] = ytrain_v['Ground_truth'] + 1\n",
    "    \n",
    "    #regLin = method.fit(xtrain_t, ytrain_t)\n",
    "    param = [{\"max_depth\":list(range(2,10))}]\n",
    "    tree = GridSearchCV(DecisionTreeRegressor(), param, cv=10, n_jobs=-1)\n",
    "    treeOpt = tree.fit(xtrain_t, ytrain_t)\n",
    "\n",
    "    \n",
    "    #validation = regLin.predict(xtrain_v)\n",
    "    validation = treeOpt.predict(xtrain_v)\n",
    "    Reg_validation = ytrain_v.copy()\n",
    "    Reg_validation.drop(['Ground_truth'], axis=1, inplace=True)\n",
    "    Reg_validation[\"Prediction\"] = validation\n",
    "    \n",
    "    Reg_validation['Prediction'] = Reg_validation['Prediction'] + 1\n",
    "    \n",
    "    MAPE_[b] = MAPE(Reg_validation['Prediction'], ytrain_v['Ground_truth'])"
   ]
  },
  {
   "cell_type": "code",
   "execution_count": 274,
   "metadata": {},
   "outputs": [
    {
     "name": "stdout",
     "output_type": "stream",
     "text": [
      "110.18029450446883\n"
     ]
    },
    {
     "data": {
      "image/png": "[encoded data removed]",
      "text/plain": [
       "<Figure size 432x288 with 1 Axes>"
      ]
     },
     "metadata": {
      "needs_background": "light"
     },
     "output_type": "display_data"
    }
   ],
   "source": [
    "print(np.mean(MAPE_))\n",
    "plt.boxplot(MAPE_)\n",
    "plt.show()"
   ]
  },
  {
   "cell_type": "markdown",
   "metadata": {},
   "source": [
    "### 5.2 Optimal tree"
   ]
  },
  {
   "cell_type": "code",
   "execution_count": 199,
   "metadata": {},
   "outputs": [
    {
     "data": {
      "text/html": [
       "<div>\n",
       "<style scoped>\n",
       "    .dataframe tbody tr th:only-of-type {\n",
       "        vertical-align: middle;\n",
       "    }\n",
       "\n",
       "    .dataframe tbody tr th {\n",
       "        vertical-align: top;\n",
       "    }\n",
       "\n",
       "    .dataframe thead th {\n",
       "        text-align: right;\n",
       "    }\n",
       "</style>\n",
       "<table border=\"1\" class=\"dataframe\">\n",
       "  <thead>\n",
       "    <tr style=\"text-align: right;\">\n",
       "      <th></th>\n",
       "      <th>Prediction</th>\n",
       "    </tr>\n",
       "  </thead>\n",
       "  <tbody>\n",
       "    <tr>\n",
       "      <th>0</th>\n",
       "      <td>3.416961</td>\n",
       "    </tr>\n",
       "    <tr>\n",
       "      <th>1</th>\n",
       "      <td>2.064183</td>\n",
       "    </tr>\n",
       "    <tr>\n",
       "      <th>2</th>\n",
       "      <td>5.493245</td>\n",
       "    </tr>\n",
       "    <tr>\n",
       "      <th>3</th>\n",
       "      <td>5.493245</td>\n",
       "    </tr>\n",
       "    <tr>\n",
       "      <th>4</th>\n",
       "      <td>5.493245</td>\n",
       "    </tr>\n",
       "  </tbody>\n",
       "</table>\n",
       "</div>"
      ],
      "text/plain": [
       "   Prediction\n",
       "0    3.416961\n",
       "1    2.064183\n",
       "2    5.493245\n",
       "3    5.493245\n",
       "4    5.493245"
      ]
     },
     "metadata": {},
     "output_type": "display_data"
    },
    {
     "name": "stdout",
     "output_type": "stream",
     "text": [
      "Missing Data : 0 \n",
      " Shape is : (16424, 1)\n"
     ]
    }
   ],
   "source": [
    "validation_tree = treeOpt.predict(xtrainS_validation)\n",
    "Tree_validation = ytrain_validation.copy()\n",
    "Tree_validation.drop(['Ground_truth'], axis=1, inplace=True)\n",
    "Tree_validation[\"Prediction\"] = validation_tree\n",
    "display(Tree_validation.head())\n",
    "print('Missing Data :', Tree_validation.isna().sum().sum(), '\\n', 'Shape is :', Tree_validation.shape)"
   ]
  },
  {
   "cell_type": "code",
   "execution_count": 200,
   "metadata": {},
   "outputs": [],
   "source": [
    "Tree_validation['Prediction'] = Tree_validation['Prediction'] + 1"
   ]
  },
  {
   "cell_type": "code",
   "execution_count": 201,
   "metadata": {},
   "outputs": [
    {
     "name": "stdout",
     "output_type": "stream",
     "text": [
      "Score (MAPE) de l'arbre binaire de décision : 110.71426604694281\n"
     ]
    }
   ],
   "source": [
    "print(\"Score (MAPE) de l'arbre binaire de décision :\",\n",
    "      MAPE(Tree_validation['Prediction'], ytrain_validation['Ground_truth']))"
   ]
  },
  {
   "cell_type": "markdown",
   "metadata": {},
   "source": [
    "### 5.3 Random forest"
   ]
  },
  {
   "cell_type": "code",
   "execution_count": 208,
   "metadata": {},
   "outputs": [
    {
     "data": {
      "text/html": [
       "<div>\n",
       "<style scoped>\n",
       "    .dataframe tbody tr th:only-of-type {\n",
       "        vertical-align: middle;\n",
       "    }\n",
       "\n",
       "    .dataframe tbody tr th {\n",
       "        vertical-align: top;\n",
       "    }\n",
       "\n",
       "    .dataframe thead th {\n",
       "        text-align: right;\n",
       "    }\n",
       "</style>\n",
       "<table border=\"1\" class=\"dataframe\">\n",
       "  <thead>\n",
       "    <tr style=\"text-align: right;\">\n",
       "      <th></th>\n",
       "      <th>Prediction</th>\n",
       "    </tr>\n",
       "  </thead>\n",
       "  <tbody>\n",
       "    <tr>\n",
       "      <th>0</th>\n",
       "      <td>4.826</td>\n",
       "    </tr>\n",
       "    <tr>\n",
       "      <th>1</th>\n",
       "      <td>2.861</td>\n",
       "    </tr>\n",
       "    <tr>\n",
       "      <th>2</th>\n",
       "      <td>8.026</td>\n",
       "    </tr>\n",
       "    <tr>\n",
       "      <th>3</th>\n",
       "      <td>5.174</td>\n",
       "    </tr>\n",
       "    <tr>\n",
       "      <th>4</th>\n",
       "      <td>5.501</td>\n",
       "    </tr>\n",
       "  </tbody>\n",
       "</table>\n",
       "</div>"
      ],
      "text/plain": [
       "   Prediction\n",
       "0       4.826\n",
       "1       2.861\n",
       "2       8.026\n",
       "3       5.174\n",
       "4       5.501"
      ]
     },
     "metadata": {},
     "output_type": "display_data"
    },
    {
     "name": "stdout",
     "output_type": "stream",
     "text": [
      "Missing Data : 0 \n",
      " Shape is : (16424, 1)\n"
     ]
    }
   ],
   "source": [
    "validation_forest = rfOpt.predict(xtrainS_validation)\n",
    "Forest_validation = ytrain_validation.copy()\n",
    "Forest_validation.drop(['Ground_truth'], axis=1, inplace=True)\n",
    "Forest_validation[\"Prediction\"] = validation_forest\n",
    "display(Forest_validation.head())\n",
    "print('Missing Data :', Forest_validation.isna().sum().sum(), '\\n', 'Shape is :', Forest_validation.shape)"
   ]
  },
  {
   "cell_type": "code",
   "execution_count": 209,
   "metadata": {},
   "outputs": [],
   "source": [
    "Forest_validation['Prediction'] = Forest_validation['Prediction'] + 1"
   ]
  },
  {
   "cell_type": "code",
   "execution_count": 210,
   "metadata": {},
   "outputs": [
    {
     "name": "stdout",
     "output_type": "stream",
     "text": [
      "Score (MAPE) de l'arbre binaire de décision : 102.63655008387327\n"
     ]
    }
   ],
   "source": [
    "print(\"Score (MAPE) de l'arbre binaire de décision :\",\n",
    "      MAPE(Forest_validation['Prediction'], ytrain_validation['Ground_truth']))"
   ]
  },
  {
   "cell_type": "markdown",
   "metadata": {},
   "source": [
    "### 5.4 Neural network"
   ]
  },
  {
   "cell_type": "code",
   "execution_count": 242,
   "metadata": {},
   "outputs": [
    {
     "data": {
      "text/html": [
       "<div>\n",
       "<style scoped>\n",
       "    .dataframe tbody tr th:only-of-type {\n",
       "        vertical-align: middle;\n",
       "    }\n",
       "\n",
       "    .dataframe tbody tr th {\n",
       "        vertical-align: top;\n",
       "    }\n",
       "\n",
       "    .dataframe thead th {\n",
       "        text-align: right;\n",
       "    }\n",
       "</style>\n",
       "<table border=\"1\" class=\"dataframe\">\n",
       "  <thead>\n",
       "    <tr style=\"text-align: right;\">\n",
       "      <th></th>\n",
       "      <th>Prediction</th>\n",
       "    </tr>\n",
       "  </thead>\n",
       "  <tbody>\n",
       "    <tr>\n",
       "      <th>0</th>\n",
       "      <td>3.409560</td>\n",
       "    </tr>\n",
       "    <tr>\n",
       "      <th>1</th>\n",
       "      <td>3.814986</td>\n",
       "    </tr>\n",
       "    <tr>\n",
       "      <th>2</th>\n",
       "      <td>4.564878</td>\n",
       "    </tr>\n",
       "    <tr>\n",
       "      <th>3</th>\n",
       "      <td>4.584133</td>\n",
       "    </tr>\n",
       "    <tr>\n",
       "      <th>4</th>\n",
       "      <td>6.003231</td>\n",
       "    </tr>\n",
       "  </tbody>\n",
       "</table>\n",
       "</div>"
      ],
      "text/plain": [
       "   Prediction\n",
       "0    3.409560\n",
       "1    3.814986\n",
       "2    4.564878\n",
       "3    4.584133\n",
       "4    6.003231"
      ]
     },
     "metadata": {},
     "output_type": "display_data"
    },
    {
     "name": "stdout",
     "output_type": "stream",
     "text": [
      "Missing Data : 0 \n",
      " Shape is : (16424, 1)\n"
     ]
    }
   ],
   "source": [
    "validation_network = ANN.predict(xtrainS_validation_N)\n",
    "Network_validation = ytrain_validation.copy()\n",
    "Network_validation['Ground_truth'] = validation_network\n",
    "Network_validation.rename(columns={'Ground_truth':'Prediction'}, inplace=True)\n",
    "display(Network_validation.head())\n",
    "print('Missing Data :', Network_validation.isna().sum().sum(), '\\n', 'Shape is :', Network_validation.shape)"
   ]
  },
  {
   "cell_type": "code",
   "execution_count": 243,
   "metadata": {},
   "outputs": [],
   "source": [
    "Network_validation['Prediction'] = Network_validation['Prediction'] + 1"
   ]
  },
  {
   "cell_type": "code",
   "execution_count": 244,
   "metadata": {},
   "outputs": [
    {
     "name": "stdout",
     "output_type": "stream",
     "text": [
      "Score (MAPE) de l'arbre binaire de décision : 105.755096282435\n"
     ]
    }
   ],
   "source": [
    "print(\"Score (MAPE) de l'arbre binaire de décision :\",\n",
    "      MAPE(Network_validation['Prediction'], ytrain_validation['Ground_truth']))"
   ]
  },
  {
   "cell_type": "code",
   "execution_count": 277,
   "metadata": {},
   "outputs": [
    {
     "name": "stdout",
     "output_type": "stream",
     "text": [
      "0\n"
     ]
    },
    {
     "name": "stderr",
     "output_type": "stream",
     "text": [
      "/opt/anaconda3/lib/python3.8/site-packages/pandas/core/frame.py:4163: SettingWithCopyWarning: \n",
      "A value is trying to be set on a copy of a slice from a DataFrame\n",
      "\n",
      "See the caveats in the documentation: https://pandas.pydata.org/pandas-docs/stable/user_guide/indexing.html#returning-a-view-versus-a-copy\n",
      "  return super().drop(\n",
      "<ipython-input-277-9132cf5f7d3a>:16: SettingWithCopyWarning: \n",
      "A value is trying to be set on a copy of a slice from a DataFrame.\n",
      "Try using .loc[row_indexer,col_indexer] = value instead\n",
      "\n",
      "See the caveats in the documentation: https://pandas.pydata.org/pandas-docs/stable/user_guide/indexing.html#returning-a-view-versus-a-copy\n",
      "  ytrain_v['Ground_truth'] = ytrain_v['Ground_truth'] + 1\n"
     ]
    },
    {
     "name": "stdout",
     "output_type": "stream",
     "text": [
      "1\n"
     ]
    },
    {
     "name": "stderr",
     "output_type": "stream",
     "text": [
      "/opt/anaconda3/lib/python3.8/site-packages/pandas/core/frame.py:4163: SettingWithCopyWarning: \n",
      "A value is trying to be set on a copy of a slice from a DataFrame\n",
      "\n",
      "See the caveats in the documentation: https://pandas.pydata.org/pandas-docs/stable/user_guide/indexing.html#returning-a-view-versus-a-copy\n",
      "  return super().drop(\n",
      "<ipython-input-277-9132cf5f7d3a>:16: SettingWithCopyWarning: \n",
      "A value is trying to be set on a copy of a slice from a DataFrame.\n",
      "Try using .loc[row_indexer,col_indexer] = value instead\n",
      "\n",
      "See the caveats in the documentation: https://pandas.pydata.org/pandas-docs/stable/user_guide/indexing.html#returning-a-view-versus-a-copy\n",
      "  ytrain_v['Ground_truth'] = ytrain_v['Ground_truth'] + 1\n"
     ]
    },
    {
     "name": "stdout",
     "output_type": "stream",
     "text": [
      "2\n"
     ]
    },
    {
     "name": "stderr",
     "output_type": "stream",
     "text": [
      "/opt/anaconda3/lib/python3.8/site-packages/pandas/core/frame.py:4163: SettingWithCopyWarning: \n",
      "A value is trying to be set on a copy of a slice from a DataFrame\n",
      "\n",
      "See the caveats in the documentation: https://pandas.pydata.org/pandas-docs/stable/user_guide/indexing.html#returning-a-view-versus-a-copy\n",
      "  return super().drop(\n",
      "<ipython-input-277-9132cf5f7d3a>:16: SettingWithCopyWarning: \n",
      "A value is trying to be set on a copy of a slice from a DataFrame.\n",
      "Try using .loc[row_indexer,col_indexer] = value instead\n",
      "\n",
      "See the caveats in the documentation: https://pandas.pydata.org/pandas-docs/stable/user_guide/indexing.html#returning-a-view-versus-a-copy\n",
      "  ytrain_v['Ground_truth'] = ytrain_v['Ground_truth'] + 1\n"
     ]
    },
    {
     "name": "stdout",
     "output_type": "stream",
     "text": [
      "3\n"
     ]
    },
    {
     "name": "stderr",
     "output_type": "stream",
     "text": [
      "/opt/anaconda3/lib/python3.8/site-packages/pandas/core/frame.py:4163: SettingWithCopyWarning: \n",
      "A value is trying to be set on a copy of a slice from a DataFrame\n",
      "\n",
      "See the caveats in the documentation: https://pandas.pydata.org/pandas-docs/stable/user_guide/indexing.html#returning-a-view-versus-a-copy\n",
      "  return super().drop(\n",
      "<ipython-input-277-9132cf5f7d3a>:16: SettingWithCopyWarning: \n",
      "A value is trying to be set on a copy of a slice from a DataFrame.\n",
      "Try using .loc[row_indexer,col_indexer] = value instead\n",
      "\n",
      "See the caveats in the documentation: https://pandas.pydata.org/pandas-docs/stable/user_guide/indexing.html#returning-a-view-versus-a-copy\n",
      "  ytrain_v['Ground_truth'] = ytrain_v['Ground_truth'] + 1\n"
     ]
    },
    {
     "name": "stdout",
     "output_type": "stream",
     "text": [
      "4\n"
     ]
    },
    {
     "name": "stderr",
     "output_type": "stream",
     "text": [
      "/opt/anaconda3/lib/python3.8/site-packages/pandas/core/frame.py:4163: SettingWithCopyWarning: \n",
      "A value is trying to be set on a copy of a slice from a DataFrame\n",
      "\n",
      "See the caveats in the documentation: https://pandas.pydata.org/pandas-docs/stable/user_guide/indexing.html#returning-a-view-versus-a-copy\n",
      "  return super().drop(\n",
      "<ipython-input-277-9132cf5f7d3a>:16: SettingWithCopyWarning: \n",
      "A value is trying to be set on a copy of a slice from a DataFrame.\n",
      "Try using .loc[row_indexer,col_indexer] = value instead\n",
      "\n",
      "See the caveats in the documentation: https://pandas.pydata.org/pandas-docs/stable/user_guide/indexing.html#returning-a-view-versus-a-copy\n",
      "  ytrain_v['Ground_truth'] = ytrain_v['Ground_truth'] + 1\n"
     ]
    },
    {
     "name": "stdout",
     "output_type": "stream",
     "text": [
      "5\n"
     ]
    },
    {
     "name": "stderr",
     "output_type": "stream",
     "text": [
      "/opt/anaconda3/lib/python3.8/site-packages/pandas/core/frame.py:4163: SettingWithCopyWarning: \n",
      "A value is trying to be set on a copy of a slice from a DataFrame\n",
      "\n",
      "See the caveats in the documentation: https://pandas.pydata.org/pandas-docs/stable/user_guide/indexing.html#returning-a-view-versus-a-copy\n",
      "  return super().drop(\n",
      "<ipython-input-277-9132cf5f7d3a>:16: SettingWithCopyWarning: \n",
      "A value is trying to be set on a copy of a slice from a DataFrame.\n",
      "Try using .loc[row_indexer,col_indexer] = value instead\n",
      "\n",
      "See the caveats in the documentation: https://pandas.pydata.org/pandas-docs/stable/user_guide/indexing.html#returning-a-view-versus-a-copy\n",
      "  ytrain_v['Ground_truth'] = ytrain_v['Ground_truth'] + 1\n"
     ]
    },
    {
     "name": "stdout",
     "output_type": "stream",
     "text": [
      "6\n"
     ]
    },
    {
     "name": "stderr",
     "output_type": "stream",
     "text": [
      "/opt/anaconda3/lib/python3.8/site-packages/pandas/core/frame.py:4163: SettingWithCopyWarning: \n",
      "A value is trying to be set on a copy of a slice from a DataFrame\n",
      "\n",
      "See the caveats in the documentation: https://pandas.pydata.org/pandas-docs/stable/user_guide/indexing.html#returning-a-view-versus-a-copy\n",
      "  return super().drop(\n",
      "<ipython-input-277-9132cf5f7d3a>:16: SettingWithCopyWarning: \n",
      "A value is trying to be set on a copy of a slice from a DataFrame.\n",
      "Try using .loc[row_indexer,col_indexer] = value instead\n",
      "\n",
      "See the caveats in the documentation: https://pandas.pydata.org/pandas-docs/stable/user_guide/indexing.html#returning-a-view-versus-a-copy\n",
      "  ytrain_v['Ground_truth'] = ytrain_v['Ground_truth'] + 1\n"
     ]
    },
    {
     "name": "stdout",
     "output_type": "stream",
     "text": [
      "7\n"
     ]
    },
    {
     "name": "stderr",
     "output_type": "stream",
     "text": [
      "/opt/anaconda3/lib/python3.8/site-packages/pandas/core/frame.py:4163: SettingWithCopyWarning: \n",
      "A value is trying to be set on a copy of a slice from a DataFrame\n",
      "\n",
      "See the caveats in the documentation: https://pandas.pydata.org/pandas-docs/stable/user_guide/indexing.html#returning-a-view-versus-a-copy\n",
      "  return super().drop(\n",
      "<ipython-input-277-9132cf5f7d3a>:16: SettingWithCopyWarning: \n",
      "A value is trying to be set on a copy of a slice from a DataFrame.\n",
      "Try using .loc[row_indexer,col_indexer] = value instead\n",
      "\n",
      "See the caveats in the documentation: https://pandas.pydata.org/pandas-docs/stable/user_guide/indexing.html#returning-a-view-versus-a-copy\n",
      "  ytrain_v['Ground_truth'] = ytrain_v['Ground_truth'] + 1\n"
     ]
    },
    {
     "name": "stdout",
     "output_type": "stream",
     "text": [
      "8\n"
     ]
    },
    {
     "name": "stderr",
     "output_type": "stream",
     "text": [
      "/opt/anaconda3/lib/python3.8/site-packages/pandas/core/frame.py:4163: SettingWithCopyWarning: \n",
      "A value is trying to be set on a copy of a slice from a DataFrame\n",
      "\n",
      "See the caveats in the documentation: https://pandas.pydata.org/pandas-docs/stable/user_guide/indexing.html#returning-a-view-versus-a-copy\n",
      "  return super().drop(\n",
      "<ipython-input-277-9132cf5f7d3a>:16: SettingWithCopyWarning: \n",
      "A value is trying to be set on a copy of a slice from a DataFrame.\n",
      "Try using .loc[row_indexer,col_indexer] = value instead\n",
      "\n",
      "See the caveats in the documentation: https://pandas.pydata.org/pandas-docs/stable/user_guide/indexing.html#returning-a-view-versus-a-copy\n",
      "  ytrain_v['Ground_truth'] = ytrain_v['Ground_truth'] + 1\n"
     ]
    },
    {
     "name": "stdout",
     "output_type": "stream",
     "text": [
      "9\n"
     ]
    },
    {
     "name": "stderr",
     "output_type": "stream",
     "text": [
      "/opt/anaconda3/lib/python3.8/site-packages/pandas/core/frame.py:4163: SettingWithCopyWarning: \n",
      "A value is trying to be set on a copy of a slice from a DataFrame\n",
      "\n",
      "See the caveats in the documentation: https://pandas.pydata.org/pandas-docs/stable/user_guide/indexing.html#returning-a-view-versus-a-copy\n",
      "  return super().drop(\n",
      "<ipython-input-277-9132cf5f7d3a>:16: SettingWithCopyWarning: \n",
      "A value is trying to be set on a copy of a slice from a DataFrame.\n",
      "Try using .loc[row_indexer,col_indexer] = value instead\n",
      "\n",
      "See the caveats in the documentation: https://pandas.pydata.org/pandas-docs/stable/user_guide/indexing.html#returning-a-view-versus-a-copy\n",
      "  ytrain_v['Ground_truth'] = ytrain_v['Ground_truth'] + 1\n"
     ]
    },
    {
     "name": "stdout",
     "output_type": "stream",
     "text": [
      "10\n"
     ]
    },
    {
     "name": "stderr",
     "output_type": "stream",
     "text": [
      "/opt/anaconda3/lib/python3.8/site-packages/pandas/core/frame.py:4163: SettingWithCopyWarning: \n",
      "A value is trying to be set on a copy of a slice from a DataFrame\n",
      "\n",
      "See the caveats in the documentation: https://pandas.pydata.org/pandas-docs/stable/user_guide/indexing.html#returning-a-view-versus-a-copy\n",
      "  return super().drop(\n",
      "<ipython-input-277-9132cf5f7d3a>:16: SettingWithCopyWarning: \n",
      "A value is trying to be set on a copy of a slice from a DataFrame.\n",
      "Try using .loc[row_indexer,col_indexer] = value instead\n",
      "\n",
      "See the caveats in the documentation: https://pandas.pydata.org/pandas-docs/stable/user_guide/indexing.html#returning-a-view-versus-a-copy\n",
      "  ytrain_v['Ground_truth'] = ytrain_v['Ground_truth'] + 1\n"
     ]
    },
    {
     "name": "stdout",
     "output_type": "stream",
     "text": [
      "11\n"
     ]
    },
    {
     "name": "stderr",
     "output_type": "stream",
     "text": [
      "/opt/anaconda3/lib/python3.8/site-packages/pandas/core/frame.py:4163: SettingWithCopyWarning: \n",
      "A value is trying to be set on a copy of a slice from a DataFrame\n",
      "\n",
      "See the caveats in the documentation: https://pandas.pydata.org/pandas-docs/stable/user_guide/indexing.html#returning-a-view-versus-a-copy\n",
      "  return super().drop(\n",
      "<ipython-input-277-9132cf5f7d3a>:16: SettingWithCopyWarning: \n",
      "A value is trying to be set on a copy of a slice from a DataFrame.\n",
      "Try using .loc[row_indexer,col_indexer] = value instead\n",
      "\n",
      "See the caveats in the documentation: https://pandas.pydata.org/pandas-docs/stable/user_guide/indexing.html#returning-a-view-versus-a-copy\n",
      "  ytrain_v['Ground_truth'] = ytrain_v['Ground_truth'] + 1\n"
     ]
    },
    {
     "name": "stdout",
     "output_type": "stream",
     "text": [
      "12\n"
     ]
    },
    {
     "name": "stderr",
     "output_type": "stream",
     "text": [
      "/opt/anaconda3/lib/python3.8/site-packages/pandas/core/frame.py:4163: SettingWithCopyWarning: \n",
      "A value is trying to be set on a copy of a slice from a DataFrame\n",
      "\n",
      "See the caveats in the documentation: https://pandas.pydata.org/pandas-docs/stable/user_guide/indexing.html#returning-a-view-versus-a-copy\n",
      "  return super().drop(\n",
      "<ipython-input-277-9132cf5f7d3a>:16: SettingWithCopyWarning: \n",
      "A value is trying to be set on a copy of a slice from a DataFrame.\n",
      "Try using .loc[row_indexer,col_indexer] = value instead\n",
      "\n",
      "See the caveats in the documentation: https://pandas.pydata.org/pandas-docs/stable/user_guide/indexing.html#returning-a-view-versus-a-copy\n",
      "  ytrain_v['Ground_truth'] = ytrain_v['Ground_truth'] + 1\n"
     ]
    },
    {
     "name": "stdout",
     "output_type": "stream",
     "text": [
      "13\n"
     ]
    },
    {
     "name": "stderr",
     "output_type": "stream",
     "text": [
      "/opt/anaconda3/lib/python3.8/site-packages/pandas/core/frame.py:4163: SettingWithCopyWarning: \n",
      "A value is trying to be set on a copy of a slice from a DataFrame\n",
      "\n",
      "See the caveats in the documentation: https://pandas.pydata.org/pandas-docs/stable/user_guide/indexing.html#returning-a-view-versus-a-copy\n",
      "  return super().drop(\n",
      "<ipython-input-277-9132cf5f7d3a>:16: SettingWithCopyWarning: \n",
      "A value is trying to be set on a copy of a slice from a DataFrame.\n",
      "Try using .loc[row_indexer,col_indexer] = value instead\n",
      "\n",
      "See the caveats in the documentation: https://pandas.pydata.org/pandas-docs/stable/user_guide/indexing.html#returning-a-view-versus-a-copy\n",
      "  ytrain_v['Ground_truth'] = ytrain_v['Ground_truth'] + 1\n"
     ]
    },
    {
     "name": "stdout",
     "output_type": "stream",
     "text": [
      "14\n"
     ]
    },
    {
     "name": "stderr",
     "output_type": "stream",
     "text": [
      "/opt/anaconda3/lib/python3.8/site-packages/pandas/core/frame.py:4163: SettingWithCopyWarning: \n",
      "A value is trying to be set on a copy of a slice from a DataFrame\n",
      "\n",
      "See the caveats in the documentation: https://pandas.pydata.org/pandas-docs/stable/user_guide/indexing.html#returning-a-view-versus-a-copy\n",
      "  return super().drop(\n",
      "<ipython-input-277-9132cf5f7d3a>:16: SettingWithCopyWarning: \n",
      "A value is trying to be set on a copy of a slice from a DataFrame.\n",
      "Try using .loc[row_indexer,col_indexer] = value instead\n",
      "\n",
      "See the caveats in the documentation: https://pandas.pydata.org/pandas-docs/stable/user_guide/indexing.html#returning-a-view-versus-a-copy\n",
      "  ytrain_v['Ground_truth'] = ytrain_v['Ground_truth'] + 1\n"
     ]
    },
    {
     "name": "stdout",
     "output_type": "stream",
     "text": [
      "15\n"
     ]
    },
    {
     "name": "stderr",
     "output_type": "stream",
     "text": [
      "/opt/anaconda3/lib/python3.8/site-packages/pandas/core/frame.py:4163: SettingWithCopyWarning: \n",
      "A value is trying to be set on a copy of a slice from a DataFrame\n",
      "\n",
      "See the caveats in the documentation: https://pandas.pydata.org/pandas-docs/stable/user_guide/indexing.html#returning-a-view-versus-a-copy\n",
      "  return super().drop(\n",
      "<ipython-input-277-9132cf5f7d3a>:16: SettingWithCopyWarning: \n",
      "A value is trying to be set on a copy of a slice from a DataFrame.\n",
      "Try using .loc[row_indexer,col_indexer] = value instead\n",
      "\n",
      "See the caveats in the documentation: https://pandas.pydata.org/pandas-docs/stable/user_guide/indexing.html#returning-a-view-versus-a-copy\n",
      "  ytrain_v['Ground_truth'] = ytrain_v['Ground_truth'] + 1\n"
     ]
    },
    {
     "name": "stdout",
     "output_type": "stream",
     "text": [
      "16\n"
     ]
    },
    {
     "name": "stderr",
     "output_type": "stream",
     "text": [
      "/opt/anaconda3/lib/python3.8/site-packages/pandas/core/frame.py:4163: SettingWithCopyWarning: \n",
      "A value is trying to be set on a copy of a slice from a DataFrame\n",
      "\n",
      "See the caveats in the documentation: https://pandas.pydata.org/pandas-docs/stable/user_guide/indexing.html#returning-a-view-versus-a-copy\n",
      "  return super().drop(\n",
      "<ipython-input-277-9132cf5f7d3a>:16: SettingWithCopyWarning: \n",
      "A value is trying to be set on a copy of a slice from a DataFrame.\n",
      "Try using .loc[row_indexer,col_indexer] = value instead\n",
      "\n",
      "See the caveats in the documentation: https://pandas.pydata.org/pandas-docs/stable/user_guide/indexing.html#returning-a-view-versus-a-copy\n",
      "  ytrain_v['Ground_truth'] = ytrain_v['Ground_truth'] + 1\n"
     ]
    },
    {
     "name": "stdout",
     "output_type": "stream",
     "text": [
      "17\n"
     ]
    },
    {
     "name": "stderr",
     "output_type": "stream",
     "text": [
      "/opt/anaconda3/lib/python3.8/site-packages/pandas/core/frame.py:4163: SettingWithCopyWarning: \n",
      "A value is trying to be set on a copy of a slice from a DataFrame\n",
      "\n",
      "See the caveats in the documentation: https://pandas.pydata.org/pandas-docs/stable/user_guide/indexing.html#returning-a-view-versus-a-copy\n",
      "  return super().drop(\n",
      "<ipython-input-277-9132cf5f7d3a>:16: SettingWithCopyWarning: \n",
      "A value is trying to be set on a copy of a slice from a DataFrame.\n",
      "Try using .loc[row_indexer,col_indexer] = value instead\n",
      "\n",
      "See the caveats in the documentation: https://pandas.pydata.org/pandas-docs/stable/user_guide/indexing.html#returning-a-view-versus-a-copy\n",
      "  ytrain_v['Ground_truth'] = ytrain_v['Ground_truth'] + 1\n"
     ]
    },
    {
     "name": "stdout",
     "output_type": "stream",
     "text": [
      "18\n"
     ]
    },
    {
     "name": "stderr",
     "output_type": "stream",
     "text": [
      "/opt/anaconda3/lib/python3.8/site-packages/pandas/core/frame.py:4163: SettingWithCopyWarning: \n",
      "A value is trying to be set on a copy of a slice from a DataFrame\n",
      "\n",
      "See the caveats in the documentation: https://pandas.pydata.org/pandas-docs/stable/user_guide/indexing.html#returning-a-view-versus-a-copy\n",
      "  return super().drop(\n",
      "<ipython-input-277-9132cf5f7d3a>:16: SettingWithCopyWarning: \n",
      "A value is trying to be set on a copy of a slice from a DataFrame.\n",
      "Try using .loc[row_indexer,col_indexer] = value instead\n",
      "\n",
      "See the caveats in the documentation: https://pandas.pydata.org/pandas-docs/stable/user_guide/indexing.html#returning-a-view-versus-a-copy\n",
      "  ytrain_v['Ground_truth'] = ytrain_v['Ground_truth'] + 1\n"
     ]
    },
    {
     "name": "stdout",
     "output_type": "stream",
     "text": [
      "19\n"
     ]
    },
    {
     "name": "stderr",
     "output_type": "stream",
     "text": [
      "/opt/anaconda3/lib/python3.8/site-packages/pandas/core/frame.py:4163: SettingWithCopyWarning: \n",
      "A value is trying to be set on a copy of a slice from a DataFrame\n",
      "\n",
      "See the caveats in the documentation: https://pandas.pydata.org/pandas-docs/stable/user_guide/indexing.html#returning-a-view-versus-a-copy\n",
      "  return super().drop(\n",
      "<ipython-input-277-9132cf5f7d3a>:16: SettingWithCopyWarning: \n",
      "A value is trying to be set on a copy of a slice from a DataFrame.\n",
      "Try using .loc[row_indexer,col_indexer] = value instead\n",
      "\n",
      "See the caveats in the documentation: https://pandas.pydata.org/pandas-docs/stable/user_guide/indexing.html#returning-a-view-versus-a-copy\n",
      "  ytrain_v['Ground_truth'] = ytrain_v['Ground_truth'] + 1\n"
     ]
    }
   ],
   "source": [
    "B = 20\n",
    "MAPE_ = np.zeros(B)\n",
    "\n",
    "#Paramètres du réseau\n",
    "n_layers = 20\n",
    "n_neurons = 32\n",
    "\n",
    "#Paramètres d'apprentissage\n",
    "batch_size = 100\n",
    "epochs = 10\n",
    "\n",
    "for b in range(B):\n",
    "    print(b)\n",
    "    xtrain_t, xtrain_v, ytrain_t, ytrain_v = Create_samples(xtrainS, ytrain)\n",
    "    xtrain_t_N, xtrain_v_N = normalization(xtrain_t, xtrain_v)\n",
    "    ytrain_v['Ground_truth'] = ytrain_v['Ground_truth'] + 1\n",
    "    \n",
    "    nb_variables = np.shape(xtrain_t_N)[1]\n",
    "    ANN = get_model(nb_variables, n_layers, n_neurons)\n",
    "    \n",
    "    #Entraînement\n",
    "    history = ANN.fit(xtrain_t_N, ytrain_t, batch_size, epochs, verbose=0)\n",
    "    \n",
    "    validation = ANN.predict(xtrain_v_N)\n",
    "    Network_validation = ytrain_v.copy()\n",
    "    Network_validation['Ground_truth'] = validation\n",
    "    Network_validation.rename(columns={'Ground_truth':'Prediction'}, inplace=True)\n",
    "\n",
    "    Network_validation['Prediction'] = Network_validation['Prediction'] + 1\n",
    "    \n",
    "    MAPE_[b] = MAPE(Network_validation['Prediction'], ytrain_v['Ground_truth'])"
   ]
  },
  {
   "cell_type": "code",
   "execution_count": 278,
   "metadata": {},
   "outputs": [
    {
     "name": "stdout",
     "output_type": "stream",
     "text": [
      "107.04619554172055\n"
     ]
    },
    {
     "data": {
      "image/png": "[encoded data removed]",
      "text/plain": [
       "<Figure size 432x288 with 1 Axes>"
      ]
     },
     "metadata": {
      "needs_background": "light"
     },
     "output_type": "display_data"
    }
   ],
   "source": [
    "print(np.mean(MAPE_))\n",
    "plt.boxplot(MAPE_)\n",
    "plt.show()"
   ]
  },
  {
   "cell_type": "markdown",
   "metadata": {},
   "source": [
    "## <font color = 'royalblue'>6 Prédiction</font>"
   ]
  },
  {
   "cell_type": "markdown",
   "metadata": {},
   "source": [
    "### 6.1 Linear regression"
   ]
  },
  {
   "cell_type": "code",
   "execution_count": 268,
   "metadata": {},
   "outputs": [
    {
     "name": "stderr",
     "output_type": "stream",
     "text": [
      "/opt/anaconda3/lib/python3.8/site-packages/pandas/core/frame.py:4163: SettingWithCopyWarning: \n",
      "A value is trying to be set on a copy of a slice from a DataFrame\n",
      "\n",
      "See the caveats in the documentation: https://pandas.pydata.org/pandas-docs/stable/user_guide/indexing.html#returning-a-view-versus-a-copy\n",
      "  return super().drop(\n"
     ]
    }
   ],
   "source": [
    "xtrain_t, xtrain_v, ytrain_t, ytrain_v = Create_samples(xtrainS, ytrain)"
   ]
  },
  {
   "cell_type": "code",
   "execution_count": 269,
   "metadata": {},
   "outputs": [],
   "source": [
    "method = linear_model.LinearRegression()\n",
    "regLin = method.fit(xtrain_t, ytrain_t)"
   ]
  },
  {
   "cell_type": "code",
   "execution_count": 270,
   "metadata": {},
   "outputs": [
    {
     "data": {
      "text/html": [
       "<div>\n",
       "<style scoped>\n",
       "    .dataframe tbody tr th:only-of-type {\n",
       "        vertical-align: middle;\n",
       "    }\n",
       "\n",
       "    .dataframe tbody tr th {\n",
       "        vertical-align: top;\n",
       "    }\n",
       "\n",
       "    .dataframe thead th {\n",
       "        text-align: right;\n",
       "    }\n",
       "</style>\n",
       "<table border=\"1\" class=\"dataframe\">\n",
       "  <thead>\n",
       "    <tr style=\"text-align: right;\">\n",
       "      <th></th>\n",
       "      <th>Id</th>\n",
       "      <th>Prediction</th>\n",
       "    </tr>\n",
       "  </thead>\n",
       "  <tbody>\n",
       "    <tr>\n",
       "      <th>0</th>\n",
       "      <td>14066001_149</td>\n",
       "      <td>2.381875</td>\n",
       "    </tr>\n",
       "    <tr>\n",
       "      <th>1</th>\n",
       "      <td>14126001_149</td>\n",
       "      <td>1.982664</td>\n",
       "    </tr>\n",
       "    <tr>\n",
       "      <th>2</th>\n",
       "      <td>14137001_149</td>\n",
       "      <td>2.259256</td>\n",
       "    </tr>\n",
       "    <tr>\n",
       "      <th>3</th>\n",
       "      <td>14216001_149</td>\n",
       "      <td>1.722385</td>\n",
       "    </tr>\n",
       "    <tr>\n",
       "      <th>4</th>\n",
       "      <td>14296001_149</td>\n",
       "      <td>2.049397</td>\n",
       "    </tr>\n",
       "  </tbody>\n",
       "</table>\n",
       "</div>"
      ],
      "text/plain": [
       "             Id  Prediction\n",
       "0  14066001_149    2.381875\n",
       "1  14126001_149    1.982664\n",
       "2  14137001_149    2.259256\n",
       "3  14216001_149    1.722385\n",
       "4  14296001_149    2.049397"
      ]
     },
     "metadata": {},
     "output_type": "display_data"
    }
   ],
   "source": [
    "predictions_reg = regLin.predict(xtestS)\n",
    "Reg_predictions = bl_obsT.copy()\n",
    "Reg_predictions[\"Prediction\"] = predictions_reg\n",
    "display(Reg_predictions.head())"
   ]
  },
  {
   "cell_type": "markdown",
   "metadata": {},
   "source": [
    "### 6.2 Optimal tree"
   ]
  },
  {
   "cell_type": "code",
   "execution_count": 61,
   "metadata": {},
   "outputs": [
    {
     "data": {
      "text/html": [
       "<div>\n",
       "<style scoped>\n",
       "    .dataframe tbody tr th:only-of-type {\n",
       "        vertical-align: middle;\n",
       "    }\n",
       "\n",
       "    .dataframe tbody tr th {\n",
       "        vertical-align: top;\n",
       "    }\n",
       "\n",
       "    .dataframe thead th {\n",
       "        text-align: right;\n",
       "    }\n",
       "</style>\n",
       "<table border=\"1\" class=\"dataframe\">\n",
       "  <thead>\n",
       "    <tr style=\"text-align: right;\">\n",
       "      <th></th>\n",
       "      <th>Id</th>\n",
       "      <th>Prediction</th>\n",
       "    </tr>\n",
       "  </thead>\n",
       "  <tbody>\n",
       "    <tr>\n",
       "      <th>0</th>\n",
       "      <td>14066001_149</td>\n",
       "      <td>3.465697</td>\n",
       "    </tr>\n",
       "    <tr>\n",
       "      <th>1</th>\n",
       "      <td>14126001_149</td>\n",
       "      <td>3.465697</td>\n",
       "    </tr>\n",
       "    <tr>\n",
       "      <th>2</th>\n",
       "      <td>14137001_149</td>\n",
       "      <td>2.064466</td>\n",
       "    </tr>\n",
       "    <tr>\n",
       "      <th>3</th>\n",
       "      <td>14216001_149</td>\n",
       "      <td>1.269558</td>\n",
       "    </tr>\n",
       "    <tr>\n",
       "      <th>4</th>\n",
       "      <td>14296001_149</td>\n",
       "      <td>3.465697</td>\n",
       "    </tr>\n",
       "  </tbody>\n",
       "</table>\n",
       "</div>"
      ],
      "text/plain": [
       "             Id  Prediction\n",
       "0  14066001_149    3.465697\n",
       "1  14126001_149    3.465697\n",
       "2  14137001_149    2.064466\n",
       "3  14216001_149    1.269558\n",
       "4  14296001_149    3.465697"
      ]
     },
     "metadata": {},
     "output_type": "display_data"
    }
   ],
   "source": [
    "predictions_tree = treeOpt.predict(xtestS)\n",
    "Tree_predictions = bl_obsT.copy()\n",
    "Tree_predictions[\"Prediction\"] = predictions_tree\n",
    "display(Tree_predictions.head())"
   ]
  },
  {
   "cell_type": "markdown",
   "metadata": {},
   "source": [
    "### 6.3 Random forest"
   ]
  },
  {
   "cell_type": "code",
   "execution_count": null,
   "metadata": {},
   "outputs": [],
   "source": [
    "predictions_forest = rfOpt.predict(xtestS)\n",
    "Forest_predictions = bl_obsT.copy()\n",
    "Forest_predictions[\"Prediction\"] = predictions_forest\n",
    "display(Forest_predictions.head())"
   ]
  },
  {
   "cell_type": "markdown",
   "metadata": {},
   "source": [
    "### 6.4 Neural network"
   ]
  },
  {
   "cell_type": "code",
   "execution_count": 304,
   "metadata": {},
   "outputs": [
    {
     "data": {
      "text/html": [
       "<div>\n",
       "<style scoped>\n",
       "    .dataframe tbody tr th:only-of-type {\n",
       "        vertical-align: middle;\n",
       "    }\n",
       "\n",
       "    .dataframe tbody tr th {\n",
       "        vertical-align: top;\n",
       "    }\n",
       "\n",
       "    .dataframe thead th {\n",
       "        text-align: right;\n",
       "    }\n",
       "</style>\n",
       "<table border=\"1\" class=\"dataframe\">\n",
       "  <thead>\n",
       "    <tr style=\"text-align: right;\">\n",
       "      <th></th>\n",
       "      <th>Id</th>\n",
       "      <th>Prediction</th>\n",
       "    </tr>\n",
       "  </thead>\n",
       "  <tbody>\n",
       "    <tr>\n",
       "      <th>0</th>\n",
       "      <td>14066001_149</td>\n",
       "      <td>4.733438</td>\n",
       "    </tr>\n",
       "    <tr>\n",
       "      <th>1</th>\n",
       "      <td>14126001_149</td>\n",
       "      <td>2.777220</td>\n",
       "    </tr>\n",
       "    <tr>\n",
       "      <th>2</th>\n",
       "      <td>14137001_149</td>\n",
       "      <td>5.007422</td>\n",
       "    </tr>\n",
       "    <tr>\n",
       "      <th>3</th>\n",
       "      <td>14216001_149</td>\n",
       "      <td>3.151839</td>\n",
       "    </tr>\n",
       "    <tr>\n",
       "      <th>4</th>\n",
       "      <td>14296001_149</td>\n",
       "      <td>1.288736</td>\n",
       "    </tr>\n",
       "  </tbody>\n",
       "</table>\n",
       "</div>"
      ],
      "text/plain": [
       "             Id  Prediction\n",
       "0  14066001_149    4.733438\n",
       "1  14126001_149    2.777220\n",
       "2  14137001_149    5.007422\n",
       "3  14216001_149    3.151839\n",
       "4  14296001_149    1.288736"
      ]
     },
     "metadata": {},
     "output_type": "display_data"
    }
   ],
   "source": [
    "predictions_network = ANN.predict(xtestS_N)\n",
    "Network_predictions = bl_obsT.copy()\n",
    "Network_predictions[\"Prediction\"] = predictions_network\n",
    "display(Network_predictions.head())"
   ]
  },
  {
   "cell_type": "markdown",
   "metadata": {},
   "source": [
    "## <font color = 'royalblue'>7 Post-processing</font>"
   ]
  },
  {
   "cell_type": "markdown",
   "metadata": {},
   "source": [
    "### 6.0 Linear regression"
   ]
  },
  {
   "cell_type": "code",
   "execution_count": 271,
   "metadata": {},
   "outputs": [
    {
     "data": {
      "text/html": [
       "<div>\n",
       "<style scoped>\n",
       "    .dataframe tbody tr th:only-of-type {\n",
       "        vertical-align: middle;\n",
       "    }\n",
       "\n",
       "    .dataframe tbody tr th {\n",
       "        vertical-align: top;\n",
       "    }\n",
       "\n",
       "    .dataframe thead th {\n",
       "        text-align: right;\n",
       "    }\n",
       "</style>\n",
       "<table border=\"1\" class=\"dataframe\">\n",
       "  <thead>\n",
       "    <tr style=\"text-align: right;\">\n",
       "      <th></th>\n",
       "      <th>Id</th>\n",
       "      <th>Prediction</th>\n",
       "    </tr>\n",
       "  </thead>\n",
       "  <tbody>\n",
       "    <tr>\n",
       "      <th>0</th>\n",
       "      <td>14066001_149</td>\n",
       "      <td>3.381875</td>\n",
       "    </tr>\n",
       "    <tr>\n",
       "      <th>1</th>\n",
       "      <td>14126001_149</td>\n",
       "      <td>2.982664</td>\n",
       "    </tr>\n",
       "    <tr>\n",
       "      <th>2</th>\n",
       "      <td>14137001_149</td>\n",
       "      <td>3.259256</td>\n",
       "    </tr>\n",
       "    <tr>\n",
       "      <th>3</th>\n",
       "      <td>14216001_149</td>\n",
       "      <td>2.722385</td>\n",
       "    </tr>\n",
       "    <tr>\n",
       "      <th>4</th>\n",
       "      <td>14296001_149</td>\n",
       "      <td>3.049397</td>\n",
       "    </tr>\n",
       "  </tbody>\n",
       "</table>\n",
       "</div>"
      ],
      "text/plain": [
       "             Id  Prediction\n",
       "0  14066001_149    3.381875\n",
       "1  14126001_149    2.982664\n",
       "2  14137001_149    3.259256\n",
       "3  14216001_149    2.722385\n",
       "4  14296001_149    3.049397"
      ]
     },
     "metadata": {},
     "output_type": "display_data"
    },
    {
     "name": "stdout",
     "output_type": "stream",
     "text": [
      "Missing Data : 0 \n",
      " Shape is : (85140, 2)\n"
     ]
    }
   ],
   "source": [
    "Reg_predictions[\"Prediction\"] = Reg_predictions[\"Prediction\"] + 1\n",
    "display(Reg_predictions.head())\n",
    "print('Missing Data :', Reg_predictions.isna().sum().sum(), '\\n', 'Shape is :', Reg_predictions.shape)"
   ]
  },
  {
   "cell_type": "markdown",
   "metadata": {},
   "source": [
    "### 6.1 Optimal tree"
   ]
  },
  {
   "cell_type": "code",
   "execution_count": null,
   "metadata": {},
   "outputs": [],
   "source": [
    "Tree_predictions[\"Prediction\"] = Tree_predictions[\"Prediction\"] + 1\n",
    "display(Tree_predictions.head())\n",
    "print('Missing Data :', Tree_predictions.isna().sum().sum(), '\\n', 'Shape is :', Tree_predictions.shape)"
   ]
  },
  {
   "cell_type": "markdown",
   "metadata": {},
   "source": [
    "### 6.2 Random forest"
   ]
  },
  {
   "cell_type": "code",
   "execution_count": null,
   "metadata": {},
   "outputs": [],
   "source": [
    "Forest_predictions[\"Prediction\"] = Forest_predictions[\"Prediction\"] + 1\n",
    "display(Forest_predictions.head())\n",
    "print('Missing Data :', Forest_predictions.isna().sum().sum(), '\\n', 'Shape is :', Forest_predictions.shape)"
   ]
  },
  {
   "cell_type": "markdown",
   "metadata": {},
   "source": [
    "### 6.3 Neural network"
   ]
  },
  {
   "cell_type": "code",
   "execution_count": 305,
   "metadata": {},
   "outputs": [
    {
     "data": {
      "text/html": [
       "<div>\n",
       "<style scoped>\n",
       "    .dataframe tbody tr th:only-of-type {\n",
       "        vertical-align: middle;\n",
       "    }\n",
       "\n",
       "    .dataframe tbody tr th {\n",
       "        vertical-align: top;\n",
       "    }\n",
       "\n",
       "    .dataframe thead th {\n",
       "        text-align: right;\n",
       "    }\n",
       "</style>\n",
       "<table border=\"1\" class=\"dataframe\">\n",
       "  <thead>\n",
       "    <tr style=\"text-align: right;\">\n",
       "      <th></th>\n",
       "      <th>Id</th>\n",
       "      <th>Prediction</th>\n",
       "    </tr>\n",
       "  </thead>\n",
       "  <tbody>\n",
       "    <tr>\n",
       "      <th>0</th>\n",
       "      <td>14066001_149</td>\n",
       "      <td>5.733438</td>\n",
       "    </tr>\n",
       "    <tr>\n",
       "      <th>1</th>\n",
       "      <td>14126001_149</td>\n",
       "      <td>3.777220</td>\n",
       "    </tr>\n",
       "    <tr>\n",
       "      <th>2</th>\n",
       "      <td>14137001_149</td>\n",
       "      <td>6.007422</td>\n",
       "    </tr>\n",
       "    <tr>\n",
       "      <th>3</th>\n",
       "      <td>14216001_149</td>\n",
       "      <td>4.151839</td>\n",
       "    </tr>\n",
       "    <tr>\n",
       "      <th>4</th>\n",
       "      <td>14296001_149</td>\n",
       "      <td>2.288736</td>\n",
       "    </tr>\n",
       "  </tbody>\n",
       "</table>\n",
       "</div>"
      ],
      "text/plain": [
       "             Id  Prediction\n",
       "0  14066001_149    5.733438\n",
       "1  14126001_149    3.777220\n",
       "2  14137001_149    6.007422\n",
       "3  14216001_149    4.151839\n",
       "4  14296001_149    2.288736"
      ]
     },
     "metadata": {},
     "output_type": "display_data"
    },
    {
     "name": "stdout",
     "output_type": "stream",
     "text": [
      "Missing Data : 0 \n",
      " Shape is : (85140, 2)\n"
     ]
    }
   ],
   "source": [
    "Network_predictions[\"Prediction\"] = Network_predictions[\"Prediction\"] + 1\n",
    "display(Network_predictions.head())\n",
    "print('Missing Data :', Network_predictions.isna().sum().sum(), '\\n', 'Shape is :', Network_predictions.shape)"
   ]
  },
  {
   "cell_type": "markdown",
   "metadata": {},
   "source": [
    "## <font color = 'royalblue'>7 Exportation</font>\n",
    "\n"
   ]
  },
  {
   "cell_type": "code",
   "execution_count": 306,
   "metadata": {},
   "outputs": [],
   "source": [
    "output_file = \"Submissions_9_ANN-20x32.csv\"\n",
    "Network_predictions.to_csv('/Users/qdouzery/Desktop/Defi-IA-2022_DGM/Submissions/' + output_file, index=False)"
   ]
  },
  {
   "cell_type": "markdown",
   "metadata": {},
   "source": [
    "## 8 Autres"
   ]
  },
  {
   "cell_type": "code",
   "execution_count": null,
   "metadata": {},
   "outputs": [],
   "source": [
    "# Variables explicatives : on gère \"mode\" et \"key\"\n",
    "spotifyDum=pd.get_dummies(spotify[['mode','key']])\n",
    "del spotifyDum['mode_0']\n",
    "del spotifyDum['key_A']\n",
    "spotifyDum.head()"
   ]
  },
  {
   "cell_type": "code",
   "execution_count": null,
   "metadata": {},
   "outputs": [],
   "source": [
    "#Normalisation des données\n",
    "Xtr = StandardScaler().fit_transform(X_train)\n",
    "Xte = ((X_test - X_train.mean())/X_train.std()).to_numpy()"
   ]
  },
  {
   "cell_type": "code",
   "execution_count": null,
   "metadata": {},
   "outputs": [],
   "source": [
    "##Gérer les outliers"
   ]
  },
  {
   "cell_type": "code",
   "execution_count": null,
   "metadata": {},
   "outputs": [],
   "source": [
    "#Optimisation des paramètres du réseau\n",
    "param_grid=[{\"hidden_layer_sizes\":list([(5,),(6,),(7,),(8,)])}]\n",
    "nnet= GridSearchCV(MLPRegressor(max_iter=5000), param_grid, cv=10, n_jobs=-1)\n",
    "\n",
    "ts=time.time()\n",
    "nnetOpt=nnet.fit(xtrainS_N, ytrain.values.ravel())\n",
    "# paramètre optimal\n",
    "print(\"Meilleur score = %f, Meilleur paramètre = %s\" % (nnetOpt.best_score_,nnetOpt.best_params_))\n",
    "te=time.time()\n",
    "\n",
    "print(\"Time running = %f\" % (te-ts))"
   ]
  }
 ],
 "metadata": {
  "kernelspec": {
   "display_name": "Python 3",
   "language": "python",
   "name": "python3"
  },
  "language_info": {
   "codemirror_mode": {
    "name": "ipython",
    "version": 3
   },
   "file_extension": ".py",
   "mimetype": "text/x-python",
   "name": "python",
   "nbconvert_exporter": "python",
   "pygments_lexer": "ipython3",
   "version": "3.8.5"
  }
 },
 "nbformat": 4,
 "nbformat_minor": 4
}
